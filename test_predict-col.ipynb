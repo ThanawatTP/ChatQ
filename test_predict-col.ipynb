{
 "cells": [
  {
   "cell_type": "code",
   "execution_count": 1,
   "metadata": {},
   "outputs": [
    {
     "name": "stderr",
     "output_type": "stream",
     "text": [
      "[nltk_data] Downloading package words to\n",
      "[nltk_data]     /Users/thanawatthongpia/nltk_data...\n",
      "[nltk_data]   Package words is already up-to-date!\n",
      "[nltk_data] Downloading package punkt to\n",
      "[nltk_data]     /Users/thanawatthongpia/nltk_data...\n",
      "[nltk_data]   Package punkt is already up-to-date!\n",
      "[nltk_data] Downloading package wordnet to\n",
      "[nltk_data]     /Users/thanawatthongpia/nltk_data...\n",
      "[nltk_data]   Package wordnet is already up-to-date!\n"
     ]
    },
    {
     "name": "stdout",
     "output_type": "stream",
     "text": [
      "run\n"
     ]
    }
   ],
   "source": [
    "# import nltk\n",
    "# nltk.download('stopwords')\n",
    "# nltk.download('punkt')\n",
    "# nltk.download('words')\n",
    "\n",
    "\n",
    "from nltk.stem import WordNetLemmatizer\n",
    "from nltk.tokenize import word_tokenize\n",
    "from tuning_model_class import w2v_tuning\n",
    "from transformers import  ElectraTokenizerFast\n",
    "from nltk.corpus import wordnet, stopwords, words\n",
    "import json\n",
    "import pandas as pd"
   ]
  },
  {
   "cell_type": "code",
   "execution_count": 2,
   "metadata": {},
   "outputs": [],
   "source": [
    "vocabulary = words.words()"
   ]
  },
  {
   "cell_type": "code",
   "execution_count": 3,
   "metadata": {},
   "outputs": [
    {
     "name": "stdout",
     "output_type": "stream",
     "text": [
      "load pre-train model\n"
     ]
    }
   ],
   "source": [
    "w2vmodel = w2v_tuning()\n",
    "w2vmodel.set_vector_path(\"w2v.42B.300d.txt\",'GloVe.wordvectors')\n",
    "w2vmodel.CreateW2V_Model()"
   ]
  },
  {
   "cell_type": "code",
   "execution_count": 4,
   "metadata": {},
   "outputs": [
    {
     "data": {
      "text/plain": [
       "[('events', 0.8563973903656006),\n",
       " ('venue', 0.6610988974571228),\n",
       " ('weekend', 0.6492050290107727),\n",
       " ('celebration', 0.6340488195419312),\n",
       " ('show', 0.620791494846344)]"
      ]
     },
     "execution_count": 4,
     "metadata": {},
     "output_type": "execute_result"
    }
   ],
   "source": [
    "w2vmodel.model.wv.most_similar('event',topn=5)"
   ]
  },
  {
   "cell_type": "code",
   "execution_count": 5,
   "metadata": {},
   "outputs": [],
   "source": [
    "# db_schema = ['zipcode','state','company','product','date']\n",
    "db_schema = ['id','name','age','song','show','order']"
   ]
  },
  {
   "cell_type": "code",
   "execution_count": 6,
   "metadata": {},
   "outputs": [],
   "source": [
    "target_word = 'How many singer in ABC concert?'\n",
    "# target_word = 'Who play LOVE in ABC tour?'\n",
    "target_word = 'Which name of singer that play in event?'"
   ]
  },
  {
   "cell_type": "code",
   "execution_count": 7,
   "metadata": {},
   "outputs": [],
   "source": [
    "def preprocess_question(text:str):\n",
    "    tokens = word_tokenize(text.lower())\n",
    "    stop_words = set(stopwords.words('english'))\n",
    "    filtered_tokens = [WordNetLemmatizer().lemmatize(word, wordnet.NOUN) for word in tokens if (word not in stop_words and word.isalnum())]\n",
    "    return filtered_tokens"
   ]
  },
  {
   "cell_type": "code",
   "execution_count": 8,
   "metadata": {},
   "outputs": [],
   "source": [
    "def tokenize_column(col_list:list):\n",
    "    tokenizer = ElectraTokenizerFast.from_pretrained(\"google/electra-large-discriminator\")\n",
    "    token_col = [tokenizer.tokenize(col_name) for col_name in col_list]\n",
    "    return token_col"
   ]
  },
  {
   "cell_type": "code",
   "execution_count": 9,
   "metadata": {},
   "outputs": [
    {
     "name": "stdout",
     "output_type": "stream",
     "text": [
      "'name' similar 'name 1.00'\n",
      "'singer' similar 'song 0.63'\n",
      "'play' similar 'song 0.52'\n",
      "'event' similar 'show 0.62'\n"
     ]
    }
   ],
   "source": [
    "for word in preprocess_question(target_word):\n",
    "    similarities = {}\n",
    "    for w in db_schema:\n",
    "        similarities[w] = w2vmodel.model.wv.similarity(word,w)\n",
    "\n",
    "    sorted_similarities = sorted(similarities.items(), key=lambda x: x[1], reverse=True)\n",
    "    print(f\"'{word}' similar '{sorted_similarities[0][0]} {sorted_similarities[0][1]:.2f}'\")"
   ]
  },
  {
   "cell_type": "code",
   "execution_count": 10,
   "metadata": {},
   "outputs": [],
   "source": [
    "# can can redirect to fullcolumn name (with key)"
   ]
  },
  {
   "cell_type": "code",
   "execution_count": null,
   "metadata": {},
   "outputs": [],
   "source": []
  },
  {
   "cell_type": "code",
   "execution_count": 11,
   "metadata": {},
   "outputs": [],
   "source": [
    "db_id = \"concert_singer\"\n",
    "questions = []\n",
    "\n",
    "with open(\"spider/dev.json\", 'r') as json_file:\n",
    "    data = json.load(json_file)\n",
    "\n",
    "for element in data:\n",
    "    if element['db_id'] == db_id:\n",
    "        questions.append(element['question'])"
   ]
  },
  {
   "cell_type": "code",
   "execution_count": 12,
   "metadata": {},
   "outputs": [
    {
     "name": "stdout",
     "output_type": "stream",
     "text": [
      "Table: stadium\n",
      "Columns: ['Stadium_ID', 'Location', 'Name', 'Capacity', 'Highest', 'Lowest', 'Average']\n",
      "\n",
      "\n",
      "Table: singer\n",
      "Columns: ['Singer_ID', 'Name', 'Country', 'Song_Name', 'Song_release_year', 'Age', 'Is_male']\n",
      "\n",
      "\n",
      "Table: concert\n",
      "Columns: ['concert_ID', 'concert_Name', 'Theme', 'Stadium_ID', 'Year']\n",
      "\n",
      "\n",
      "Table: singer_in_concert\n",
      "Columns: ['concert_ID', 'Singer_ID']\n",
      "\n",
      "\n"
     ]
    }
   ],
   "source": [
    "import sqlite3\n",
    "\n",
    "# Specify the full path to the SQLite database file\n",
    "db_file_path = 'db/concert_singer/concert_singer.sqlite'\n",
    "db_dict = {}\n",
    "col_to_tables = {}\n",
    "\n",
    "# Connect to the database\n",
    "connection = sqlite3.connect(db_file_path)\n",
    "\n",
    "# Create a cursor object\n",
    "cursor = connection.cursor()\n",
    "\n",
    "# Query the SQLite master table to get the list of table names\n",
    "cursor.execute(\"SELECT name FROM sqlite_master WHERE type='table';\")\n",
    "\n",
    "# Fetch all table names\n",
    "table_names = cursor.fetchall()\n",
    "\n",
    "# Iterate through the table names\n",
    "for table in table_names:\n",
    "    table_name = table[0]\n",
    "    print(f\"Table: {table_name}\")\n",
    "\n",
    "    # Query the PRAGMA statement to get column information for the current table\n",
    "    cursor.execute(f\"PRAGMA table_info({table_name})\")\n",
    "\n",
    "    # Fetch column information\n",
    "    column_info = cursor.fetchall()\n",
    "\n",
    "    # Extract and print column names for the current table\n",
    "    column_names = [col[1] for col in column_info]\n",
    "    print(\"Columns:\", column_names)\n",
    "    # print(\"Tokenize columns:\", tokenize_column(column_names))\n",
    "    db_dict[table_name] = column_names\n",
    "    \n",
    "    for col in column_names:\n",
    "        col_to_tables[col] = table_name\n",
    "\n",
    "    print(\"\\n\")\n",
    "\n",
    "# Close the cursor and the connection\n",
    "cursor.close()\n",
    "connection.close()\n"
   ]
  },
  {
   "cell_type": "code",
   "execution_count": 13,
   "metadata": {},
   "outputs": [
    {
     "data": {
      "text/plain": [
       "{'stadium': ['Stadium_ID',\n",
       "  'Location',\n",
       "  'Name',\n",
       "  'Capacity',\n",
       "  'Highest',\n",
       "  'Lowest',\n",
       "  'Average'],\n",
       " 'singer': ['Singer_ID',\n",
       "  'Name',\n",
       "  'Country',\n",
       "  'Song_Name',\n",
       "  'Song_release_year',\n",
       "  'Age',\n",
       "  'Is_male'],\n",
       " 'concert': ['concert_ID', 'concert_Name', 'Theme', 'Stadium_ID', 'Year'],\n",
       " 'singer_in_concert': ['concert_ID', 'Singer_ID']}"
      ]
     },
     "execution_count": 13,
     "metadata": {},
     "output_type": "execute_result"
    }
   ],
   "source": [
    "db_dict"
   ]
  },
  {
   "cell_type": "code",
   "execution_count": 14,
   "metadata": {},
   "outputs": [
    {
     "data": {
      "text/plain": [
       "{'Stadium_ID': 'concert',\n",
       " 'Location': 'stadium',\n",
       " 'Name': 'singer',\n",
       " 'Capacity': 'stadium',\n",
       " 'Highest': 'stadium',\n",
       " 'Lowest': 'stadium',\n",
       " 'Average': 'stadium',\n",
       " 'Singer_ID': 'singer_in_concert',\n",
       " 'Country': 'singer',\n",
       " 'Song_Name': 'singer',\n",
       " 'Song_release_year': 'singer',\n",
       " 'Age': 'singer',\n",
       " 'Is_male': 'singer',\n",
       " 'concert_ID': 'singer_in_concert',\n",
       " 'concert_Name': 'concert',\n",
       " 'Theme': 'concert',\n",
       " 'Year': 'concert'}"
      ]
     },
     "execution_count": 14,
     "metadata": {},
     "output_type": "execute_result"
    }
   ],
   "source": [
    "col_to_tables"
   ]
  },
  {
   "cell_type": "code",
   "execution_count": 15,
   "metadata": {},
   "outputs": [
    {
     "data": {
      "text/plain": [
       "['How many singers do we have?',\n",
       " 'What is the total number of singers?',\n",
       " 'Show name, country, age for all singers ordered by age from the oldest to the youngest.',\n",
       " 'What are the names, countries, and ages for every singer in descending order of age?',\n",
       " 'What is the average, minimum, and maximum age of all singers from France?',\n",
       " 'What is the average, minimum, and maximum age for all French singers?',\n",
       " 'Show the name and the release year of the song by the youngest singer.',\n",
       " 'What are the names and release years for all the songs of the youngest singer?',\n",
       " 'What are all distinct countries where singers above age 20 are from?',\n",
       " 'What are  the different countries with singers above age 20?']"
      ]
     },
     "execution_count": 15,
     "metadata": {},
     "output_type": "execute_result"
    }
   ],
   "source": [
    "questions[:10]"
   ]
  },
  {
   "cell_type": "code",
   "execution_count": 24,
   "metadata": {},
   "outputs": [],
   "source": [
    "def compare_word_col(df, question:str):\n",
    "    print(question)\n",
    "    q_tokens = preprocess_question(question)\n",
    "    for qtoken in q_tokens:\n",
    "        is_value_exist = df['Q_token'].isin([q_tokens])\n",
    "\n",
    "        if not is_value_exist.any():    #word is not exist\n",
    "            list_score = [qtoken]\n",
    "            tokenizer = ElectraTokenizerFast.from_pretrained(\"google/electra-large-discriminator\")\n",
    "            for col_name in list(df.columns):\n",
    "                if col_name == \"Q_token\":\n",
    "                    continue\n",
    "                score = 0\n",
    "                for ctoken in tokenizer.tokenize(col_name):\n",
    "                    similar_score = w2vmodel.model.wv.similarity(ctoken,qtoken)\n",
    "                    if score < similar_score:\n",
    "                        score = similar_score\n",
    "                \n",
    "                list_score.append(score)\n",
    "                \n",
    "            df.loc[len(df.index)] = list_score\n",
    "            # Reset the index to reindex the DataFrame\n",
    "            df.reset_index(drop=True, inplace=True)\n",
    "\n",
    "\n",
    "    return df"
   ]
  },
  {
   "cell_type": "code",
   "execution_count": 25,
   "metadata": {},
   "outputs": [],
   "source": [
    "q = questions[2]"
   ]
  },
  {
   "cell_type": "code",
   "execution_count": 26,
   "metadata": {},
   "outputs": [
    {
     "name": "stdout",
     "output_type": "stream",
     "text": [
      "Show name, country, age for all singers ordered by age from the oldest to the youngest.\n"
     ]
    },
    {
     "data": {
      "text/html": [
       "<div>\n",
       "<style scoped>\n",
       "    .dataframe tbody tr th:only-of-type {\n",
       "        vertical-align: middle;\n",
       "    }\n",
       "\n",
       "    .dataframe tbody tr th {\n",
       "        vertical-align: top;\n",
       "    }\n",
       "\n",
       "    .dataframe thead th {\n",
       "        text-align: right;\n",
       "    }\n",
       "</style>\n",
       "<table border=\"1\" class=\"dataframe\">\n",
       "  <thead>\n",
       "    <tr style=\"text-align: right;\">\n",
       "      <th></th>\n",
       "      <th>Q_token</th>\n",
       "      <th>Stadium_ID</th>\n",
       "      <th>Location</th>\n",
       "      <th>Name</th>\n",
       "      <th>Capacity</th>\n",
       "      <th>Highest</th>\n",
       "      <th>Lowest</th>\n",
       "      <th>Average</th>\n",
       "      <th>Singer_ID</th>\n",
       "      <th>Country</th>\n",
       "      <th>Song_Name</th>\n",
       "      <th>Song_release_year</th>\n",
       "      <th>Age</th>\n",
       "      <th>Is_male</th>\n",
       "      <th>concert_ID</th>\n",
       "      <th>concert_Name</th>\n",
       "      <th>Theme</th>\n",
       "      <th>Year</th>\n",
       "    </tr>\n",
       "  </thead>\n",
       "  <tbody>\n",
       "    <tr>\n",
       "      <th>0</th>\n",
       "      <td>show</td>\n",
       "      <td>0.373618</td>\n",
       "      <td>0.443447</td>\n",
       "      <td>0.492112</td>\n",
       "      <td>0.334041</td>\n",
       "      <td>0.389803</td>\n",
       "      <td>0.344605</td>\n",
       "      <td>0.420043</td>\n",
       "      <td>0.419113</td>\n",
       "      <td>0.515722</td>\n",
       "      <td>0.511845</td>\n",
       "      <td>0.557945</td>\n",
       "      <td>0.456634</td>\n",
       "      <td>0.554980</td>\n",
       "      <td>0.548339</td>\n",
       "      <td>0.548339</td>\n",
       "      <td>0.474122</td>\n",
       "      <td>0.557945</td>\n",
       "    </tr>\n",
       "    <tr>\n",
       "      <th>1</th>\n",
       "      <td>name</td>\n",
       "      <td>0.560074</td>\n",
       "      <td>0.480724</td>\n",
       "      <td>1.000000</td>\n",
       "      <td>0.246973</td>\n",
       "      <td>0.387462</td>\n",
       "      <td>0.360577</td>\n",
       "      <td>0.309350</td>\n",
       "      <td>0.560074</td>\n",
       "      <td>0.521477</td>\n",
       "      <td>1.000000</td>\n",
       "      <td>0.510228</td>\n",
       "      <td>0.452403</td>\n",
       "      <td>0.597360</td>\n",
       "      <td>0.560074</td>\n",
       "      <td>1.000000</td>\n",
       "      <td>0.410550</td>\n",
       "      <td>0.472953</td>\n",
       "    </tr>\n",
       "    <tr>\n",
       "      <th>2</th>\n",
       "      <td>country</td>\n",
       "      <td>0.357572</td>\n",
       "      <td>0.478024</td>\n",
       "      <td>0.521477</td>\n",
       "      <td>0.375181</td>\n",
       "      <td>0.469530</td>\n",
       "      <td>0.394418</td>\n",
       "      <td>0.447314</td>\n",
       "      <td>0.421359</td>\n",
       "      <td>1.000000</td>\n",
       "      <td>0.521477</td>\n",
       "      <td>0.536313</td>\n",
       "      <td>0.477531</td>\n",
       "      <td>0.568293</td>\n",
       "      <td>0.413599</td>\n",
       "      <td>0.521477</td>\n",
       "      <td>0.379418</td>\n",
       "      <td>0.536313</td>\n",
       "    </tr>\n",
       "    <tr>\n",
       "      <th>3</th>\n",
       "      <td>age</td>\n",
       "      <td>0.314808</td>\n",
       "      <td>0.421601</td>\n",
       "      <td>0.452403</td>\n",
       "      <td>0.324092</td>\n",
       "      <td>0.386794</td>\n",
       "      <td>0.335882</td>\n",
       "      <td>0.480473</td>\n",
       "      <td>0.350259</td>\n",
       "      <td>0.477531</td>\n",
       "      <td>0.452403</td>\n",
       "      <td>0.565740</td>\n",
       "      <td>1.000000</td>\n",
       "      <td>0.518194</td>\n",
       "      <td>0.314808</td>\n",
       "      <td>0.452403</td>\n",
       "      <td>0.342263</td>\n",
       "      <td>0.565740</td>\n",
       "    </tr>\n",
       "    <tr>\n",
       "      <th>4</th>\n",
       "      <td>singer</td>\n",
       "      <td>0.227184</td>\n",
       "      <td>0.229849</td>\n",
       "      <td>0.415831</td>\n",
       "      <td>0.173727</td>\n",
       "      <td>0.209600</td>\n",
       "      <td>0.120408</td>\n",
       "      <td>0.225402</td>\n",
       "      <td>1.000000</td>\n",
       "      <td>0.421359</td>\n",
       "      <td>0.633667</td>\n",
       "      <td>0.633667</td>\n",
       "      <td>0.350259</td>\n",
       "      <td>0.410767</td>\n",
       "      <td>0.545982</td>\n",
       "      <td>0.545982</td>\n",
       "      <td>0.273864</td>\n",
       "      <td>0.375702</td>\n",
       "    </tr>\n",
       "    <tr>\n",
       "      <th>5</th>\n",
       "      <td>ordered</td>\n",
       "      <td>0.278735</td>\n",
       "      <td>0.320522</td>\n",
       "      <td>0.406627</td>\n",
       "      <td>0.296467</td>\n",
       "      <td>0.343543</td>\n",
       "      <td>0.337085</td>\n",
       "      <td>0.274363</td>\n",
       "      <td>0.278735</td>\n",
       "      <td>0.345140</td>\n",
       "      <td>0.406627</td>\n",
       "      <td>0.381383</td>\n",
       "      <td>0.265299</td>\n",
       "      <td>0.395428</td>\n",
       "      <td>0.278735</td>\n",
       "      <td>0.406627</td>\n",
       "      <td>0.248111</td>\n",
       "      <td>0.381383</td>\n",
       "    </tr>\n",
       "    <tr>\n",
       "      <th>6</th>\n",
       "      <td>age</td>\n",
       "      <td>0.314808</td>\n",
       "      <td>0.421601</td>\n",
       "      <td>0.452403</td>\n",
       "      <td>0.324092</td>\n",
       "      <td>0.386794</td>\n",
       "      <td>0.335882</td>\n",
       "      <td>0.480473</td>\n",
       "      <td>0.350259</td>\n",
       "      <td>0.477531</td>\n",
       "      <td>0.452403</td>\n",
       "      <td>0.565740</td>\n",
       "      <td>1.000000</td>\n",
       "      <td>0.518194</td>\n",
       "      <td>0.314808</td>\n",
       "      <td>0.452403</td>\n",
       "      <td>0.342263</td>\n",
       "      <td>0.565740</td>\n",
       "    </tr>\n",
       "    <tr>\n",
       "      <th>7</th>\n",
       "      <td>oldest</td>\n",
       "      <td>0.234088</td>\n",
       "      <td>0.295451</td>\n",
       "      <td>0.430327</td>\n",
       "      <td>0.165492</td>\n",
       "      <td>0.471611</td>\n",
       "      <td>0.377596</td>\n",
       "      <td>0.311461</td>\n",
       "      <td>0.281027</td>\n",
       "      <td>0.410047</td>\n",
       "      <td>0.430327</td>\n",
       "      <td>0.416070</td>\n",
       "      <td>0.441728</td>\n",
       "      <td>0.437932</td>\n",
       "      <td>0.265620</td>\n",
       "      <td>0.430327</td>\n",
       "      <td>0.228997</td>\n",
       "      <td>0.416070</td>\n",
       "    </tr>\n",
       "    <tr>\n",
       "      <th>8</th>\n",
       "      <td>youngest</td>\n",
       "      <td>0.165733</td>\n",
       "      <td>0.142460</td>\n",
       "      <td>0.320154</td>\n",
       "      <td>0.161410</td>\n",
       "      <td>0.370296</td>\n",
       "      <td>0.273995</td>\n",
       "      <td>0.308409</td>\n",
       "      <td>0.379569</td>\n",
       "      <td>0.301772</td>\n",
       "      <td>0.320154</td>\n",
       "      <td>0.439744</td>\n",
       "      <td>0.468076</td>\n",
       "      <td>0.362846</td>\n",
       "      <td>0.244578</td>\n",
       "      <td>0.320154</td>\n",
       "      <td>0.182353</td>\n",
       "      <td>0.439744</td>\n",
       "    </tr>\n",
       "  </tbody>\n",
       "</table>\n",
       "</div>"
      ],
      "text/plain": [
       "    Q_token  Stadium_ID  Location      Name  Capacity   Highest    Lowest  \\\n",
       "0      show    0.373618  0.443447  0.492112  0.334041  0.389803  0.344605   \n",
       "1      name    0.560074  0.480724  1.000000  0.246973  0.387462  0.360577   \n",
       "2   country    0.357572  0.478024  0.521477  0.375181  0.469530  0.394418   \n",
       "3       age    0.314808  0.421601  0.452403  0.324092  0.386794  0.335882   \n",
       "4    singer    0.227184  0.229849  0.415831  0.173727  0.209600  0.120408   \n",
       "5   ordered    0.278735  0.320522  0.406627  0.296467  0.343543  0.337085   \n",
       "6       age    0.314808  0.421601  0.452403  0.324092  0.386794  0.335882   \n",
       "7    oldest    0.234088  0.295451  0.430327  0.165492  0.471611  0.377596   \n",
       "8  youngest    0.165733  0.142460  0.320154  0.161410  0.370296  0.273995   \n",
       "\n",
       "    Average  Singer_ID   Country  Song_Name  Song_release_year       Age  \\\n",
       "0  0.420043   0.419113  0.515722   0.511845           0.557945  0.456634   \n",
       "1  0.309350   0.560074  0.521477   1.000000           0.510228  0.452403   \n",
       "2  0.447314   0.421359  1.000000   0.521477           0.536313  0.477531   \n",
       "3  0.480473   0.350259  0.477531   0.452403           0.565740  1.000000   \n",
       "4  0.225402   1.000000  0.421359   0.633667           0.633667  0.350259   \n",
       "5  0.274363   0.278735  0.345140   0.406627           0.381383  0.265299   \n",
       "6  0.480473   0.350259  0.477531   0.452403           0.565740  1.000000   \n",
       "7  0.311461   0.281027  0.410047   0.430327           0.416070  0.441728   \n",
       "8  0.308409   0.379569  0.301772   0.320154           0.439744  0.468076   \n",
       "\n",
       "    Is_male  concert_ID  concert_Name     Theme      Year  \n",
       "0  0.554980    0.548339      0.548339  0.474122  0.557945  \n",
       "1  0.597360    0.560074      1.000000  0.410550  0.472953  \n",
       "2  0.568293    0.413599      0.521477  0.379418  0.536313  \n",
       "3  0.518194    0.314808      0.452403  0.342263  0.565740  \n",
       "4  0.410767    0.545982      0.545982  0.273864  0.375702  \n",
       "5  0.395428    0.278735      0.406627  0.248111  0.381383  \n",
       "6  0.518194    0.314808      0.452403  0.342263  0.565740  \n",
       "7  0.437932    0.265620      0.430327  0.228997  0.416070  \n",
       "8  0.362846    0.244578      0.320154  0.182353  0.439744  "
      ]
     },
     "execution_count": 26,
     "metadata": {},
     "output_type": "execute_result"
    }
   ],
   "source": [
    "cols = ['Q_token'] + list(col_to_tables.keys())\n",
    "df = pd.DataFrame(columns=cols)\n",
    "\n",
    "score_df = compare_word_col(df,q)\n",
    "score_df"
   ]
  },
  {
   "cell_type": "code",
   "execution_count": 28,
   "metadata": {},
   "outputs": [],
   "source": [
    "score_df.drop(columns=['Highest','Lowest','Average','Is_male','Stadium_ID'],inplace=True)\n",
    "score_df.to_csv(\"column-based-score.csv\",index=False)"
   ]
  },
  {
   "cell_type": "code",
   "execution_count": 19,
   "metadata": {},
   "outputs": [
    {
     "name": "stdout",
     "output_type": "stream",
     "text": [
      "Question:  How many singers do we have?\n",
      "How many singers do we have?\n",
      "Exact match {'Singer_ID': 1.0}\n",
      "Partial match {'Is_male': 0.614467203617096, 'Song_Name': 0.6336669921875, 'Song_release_year': 0.6336669921875}\n",
      "\n",
      "\n",
      "Question:  What is the total number of singers?\n",
      "What is the total number of singers?\n",
      "Exact match {'Singer_ID': 1.0}\n",
      "Partial match {'Average': 0.6665894985198975, 'Song_Name': 0.6336669921875, 'Song_release_year': 0.6336669921875}\n",
      "\n",
      "\n",
      "Question:  Show name, country, age for all singers ordered by age from the oldest to the youngest.\n",
      "Show name, country, age for all singers ordered by age from the oldest to the youngest.\n",
      "Exact match {'Name': 1.0, 'Song_Name': 1.0, 'concert_Name': 1.0, 'Country': 1.0, 'Age': 1.0, 'Singer_ID': 1.0}\n",
      "Partial match {'Song_Name': 0.6336669921875, 'Song_release_year': 0.6336669921875}\n",
      "\n",
      "\n"
     ]
    }
   ],
   "source": [
    "n = 5\n",
    "threshold = 0.6\n",
    "\n",
    "for q in questions[:3]:\n",
    "    print(\"Question: \",q)\n",
    "    ex_match = {}\n",
    "    pt_match = {}\n",
    "    q_tokens = preprocess_question(q)\n",
    "    cols = ['Q_token'] + list(col_to_tables.keys())\n",
    "    df = pd.DataFrame(columns=cols)\n",
    "    score_df = compare_word_col(df,q)\n",
    "    numeric_score_df = score_df.iloc[:, 1:]\n",
    "    top_columns = numeric_score_df.apply(lambda row: row.nlargest(n).index.tolist(), axis=1)\n",
    "    top_values = numeric_score_df.apply(lambda row: row.nlargest(n).tolist(), axis=1)\n",
    "    nlq_token = score_df['Q_token'].tolist()\n",
    "\n",
    "    for i,w in enumerate(nlq_token):\n",
    "        for col,val in zip(top_columns[i],top_values[i]):\n",
    "            if val == 1:\n",
    "                ex_match[col] = val\n",
    "            elif val > threshold:\n",
    "                # print(f\"'{w}' similar '{col}' from '{col_to_tables[col]} Table' with [{val:.2f}]\")\n",
    "                pt_match[col] = val\n",
    "    print(\"Exact match\",ex_match)\n",
    "    print(\"Partial match\",pt_match)\n",
    "    print(\"\\n\")"
   ]
  },
  {
   "cell_type": "code",
   "execution_count": 20,
   "metadata": {},
   "outputs": [],
   "source": [
    "def map_column_table(nlq,db_dict,score_df,threshold=0.6,topn=5):\n",
    "\n",
    "    # print(\"Question: \",nlq)\n",
    "    ex_match = {}\n",
    "    pt_match = {}\n",
    "    numeric_score_df = score_df.iloc[:, 1:]\n",
    "    top_columns = numeric_score_df.apply(lambda row: row.nlargest(topn).index.tolist(), axis=1)\n",
    "    top_values = numeric_score_df.apply(lambda row: row.nlargest(topn).tolist(), axis=1)\n",
    "    nlq_token = score_df['Q_token'].tolist()\n",
    "\n",
    "    for i,w in enumerate(nlq_token):\n",
    "        for col,val in zip(top_columns[i],top_values[i]):\n",
    "            if val == 1:\n",
    "                ex_match[col] = val\n",
    "            elif val > threshold:\n",
    "                pt_match[col] = val\n",
    "    print(\"Exact match:\",ex_match)\n",
    "    print(\"Partial match:\",pt_match)\n",
    "    print(\"\\n\")\n",
    "    match_col = set(list(ex_match.keys()) + list(pt_match.keys()))\n",
    "    return list(match_col)"
   ]
  },
  {
   "cell_type": "code",
   "execution_count": 21,
   "metadata": {},
   "outputs": [
    {
     "name": "stdout",
     "output_type": "stream",
     "text": [
      "Question: How many singers do we have?\n",
      "Question tokens: ['many', 'singer']\n",
      "How many singers do we have?\n",
      "Exact match: {'Singer_ID': 1.0}\n",
      "Partial match: {'Is_male': 0.614467203617096, 'Song_Name': 0.6336669921875, 'Song_release_year': 0.6336669921875}\n",
      "\n",
      "\n"
     ]
    }
   ],
   "source": [
    "cols = ['Q_token'] + list(col_to_tables.keys())\n",
    "df = pd.DataFrame(columns=cols)\n",
    "\n",
    "q = questions[0]\n",
    "print(\"Question:\", q)\n",
    "\n",
    "q_tokens = preprocess_question(q)\n",
    "print(\"Question tokens:\", q_tokens)\n",
    "\n",
    "score_df = compare_word_col(df,q)\n",
    "match_col = map_column_table(q,db_dict,score_df)"
   ]
  },
  {
   "cell_type": "code",
   "execution_count": 22,
   "metadata": {},
   "outputs": [],
   "source": [
    "import pandas as pd\n",
    "import numpy as np\n",
    "import sqlparse"
   ]
  }
 ],
 "metadata": {
  "kernelspec": {
   "display_name": "base",
   "language": "python",
   "name": "python3"
  },
  "language_info": {
   "codemirror_mode": {
    "name": "ipython",
    "version": 3
   },
   "file_extension": ".py",
   "mimetype": "text/x-python",
   "name": "python",
   "nbconvert_exporter": "python",
   "pygments_lexer": "ipython3",
   "version": "3.10.9"
  },
  "orig_nbformat": 4
 },
 "nbformat": 4,
 "nbformat_minor": 2
}

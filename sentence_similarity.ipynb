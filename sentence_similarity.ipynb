{
 "cells": [
  {
   "cell_type": "code",
   "execution_count": 30,
   "metadata": {},
   "outputs": [],
   "source": [
    "import sqlparse\n",
    "\n",
    "def extract_columns_and_conditions_per_line(sql_query):\n",
    "    def get_column_names(token):\n",
    "        if isinstance(token, sqlparse.sql.IdentifierList):\n",
    "            return [str(ident) for ident in token.get_identifiers()]\n",
    "        return [str(token)]\n",
    "    \n",
    "    def process_condition(token):\n",
    "        column_names_condition = []\n",
    "        for tok in token.tokens:\n",
    "            if isinstance(tok, sqlparse.sql.IdentifierList):\n",
    "                column_names_condition.extend(get_column_names(tok))\n",
    "            elif isinstance(tok, sqlparse.sql.Identifier):\n",
    "                column_names_condition.extend(get_column_names(tok))\n",
    "        return column_names_condition\n",
    "\n",
    "    def process_line(line):\n",
    "        column_names = []\n",
    "        parsed_line = sqlparse.parse(line)[0]\n",
    "        for token in parsed_line.tokens:\n",
    "            if isinstance(token, sqlparse.sql.Where):\n",
    "                column_names.extend(process_condition(token))\n",
    "            elif isinstance(token, sqlparse.sql.IdentifierList) and 'SELECT' in line.upper():\n",
    "                column_names.extend(get_column_names(token))\n",
    "            elif isinstance(token, sqlparse.sql.Identifier):\n",
    "                column_names.extend(get_column_names(token))\n",
    "            \n",
    "        return column_names\n",
    "\n",
    "    lines = sql_query.splitlines()\n",
    "    result = []\n",
    "    for line in lines:\n",
    "        column_names= process_line(line)\n",
    "        result += column_names\n",
    "    return result\n",
    "\n",
    "def queries(d):\n",
    "  if type(d) != sqlparse.sql.Token:\n",
    "     paren = isinstance(d, sqlparse.sql.Parenthesis)\n",
    "     v = [queries(i) for i in (d if not paren else d[1:-1])]\n",
    "     subseq, qrs = ''.join(str(i[0]) for i in v), [x for _, y in v for x in y]\n",
    "     if [*d][paren].value == 'SELECT':\n",
    "        return '<>', [subseq]+qrs\n",
    "     return subseq, qrs\n",
    "  return d, []"
   ]
  },
  {
   "cell_type": "code",
   "execution_count": 44,
   "metadata": {},
   "outputs": [],
   "source": [
    "def select_sql_column(query):\n",
    "    _, subqueries = queries(sqlparse.parse(query)[0])\n",
    "    choose_col = set()\n",
    "    print\n",
    "    for query in subqueries:\n",
    "        results = set(extract_columns_and_conditions_per_line(query))\n",
    "        choose_col.update(results)\n",
    "    return list(choose_col)"
   ]
  },
  {
   "cell_type": "code",
   "execution_count": 31,
   "metadata": {},
   "outputs": [],
   "source": [
    "import pandas as pd\n",
    "import numpy as np\n",
    "from sentence_transformers import SentenceTransformer, util\n",
    "\n",
    "desc_col = {}\n",
    "\n",
    "description_df = pd.read_excel('src/New_query_Description.xlsx',header=1)\n",
    "description_df = description_df[['Column','Description']].dropna()\n",
    "x = 0\n",
    "for i, row in description_df.iterrows():\n",
    "    desc_col[x] = row['Column']\n",
    "    x += 1"
   ]
  },
  {
   "cell_type": "code",
   "execution_count": 32,
   "metadata": {},
   "outputs": [],
   "source": [
    "descriptions = description_df['Description'].tolist()"
   ]
  },
  {
   "cell_type": "code",
   "execution_count": 33,
   "metadata": {},
   "outputs": [],
   "source": [
    "pointx_cols = pd.read_csv('src/pointx_fbs_rpt_dly.csv').columns.to_list()\n",
    "assert len(pointx_cols) == len(desc_col), \"Length of columns in Pointx table and Descriptions are not equal\""
   ]
  },
  {
   "cell_type": "code",
   "execution_count": 41,
   "metadata": {},
   "outputs": [],
   "source": [
    "compare_df = pd.read_csv('src/compare_result.csv')\n",
    "questions = compare_df['Question'].to_list()\n",
    "sql_queries = compare_df['SQL'].to_list()"
   ]
  },
  {
   "cell_type": "code",
   "execution_count": 42,
   "metadata": {},
   "outputs": [],
   "source": [
    "model = SentenceTransformer('all-MiniLM-L6-v2')\n",
    "\n",
    "def get_col_max_score(question,description_df=description_df,model=model):\n",
    "    q_emb = model.encode(question)\n",
    "    scores = [float(util.cos_sim(q_emb, model.encode(des))) for des in description_df['Description'].to_list()]\n",
    "    print(np.mean(scores),np.max(scores))\n",
    "    print(\"COLUMN:\",description_df.iloc[np.argmax(scores)]['Column'])\n",
    "    print(\"DESC:\",description_df.iloc[np.argmax(scores)]['Description'],'\\n')\n",
    "    \n",
    "    return int(np.argmax(scores))"
   ]
  },
  {
   "cell_type": "code",
   "execution_count": 45,
   "metadata": {},
   "outputs": [
    {
     "name": "stdout",
     "output_type": "stream",
     "text": [
      "How many daily active users each day?\n",
      "SELECT event_date, COUNT(DISTINCT user_pseudo_id)\n",
      "FROM (\n",
      "    SELECT event_date, ga_session_id, user_pseudo_id\n",
      "    FROM team_tds.tds_intern.pointx_fbs_txn_rpt_dly\n",
      "    GROUP BY event_date, ga_session_id, user_pseudo_id\n",
      "    HAVING SUM(engagement_time_msec) > 10*1000\n",
      ")\n",
      "GROUP BY event_date\n",
      "ORDER BY event_date ASC\n"
     ]
    },
    {
     "ename": "IndexError",
     "evalue": "tuple index out of range",
     "output_type": "error",
     "traceback": [
      "\u001b[0;31m---------------------------------------------------------------------------\u001b[0m",
      "\u001b[0;31mIndexError\u001b[0m                                Traceback (most recent call last)",
      "Cell \u001b[0;32mIn[45], line 3\u001b[0m\n\u001b[1;32m      1\u001b[0m \u001b[39mfor\u001b[39;00m i, q \u001b[39min\u001b[39;00m \u001b[39menumerate\u001b[39m(questions[:\u001b[39m10\u001b[39m]):\n\u001b[1;32m      2\u001b[0m     \u001b[39mprint\u001b[39m(q)\n\u001b[0;32m----> 3\u001b[0m     \u001b[39mprint\u001b[39m(\u001b[39m'\u001b[39m\u001b[39mLABEL COLUMNS:\u001b[39m\u001b[39m'\u001b[39m,select_sql_column(sql_queries[i]))\n\u001b[1;32m      4\u001b[0m     get_col_max_score(q)\n",
      "Cell \u001b[0;32mIn[44], line 6\u001b[0m, in \u001b[0;36mselect_sql_column\u001b[0;34m(query)\u001b[0m\n\u001b[1;32m      4\u001b[0m choose_col \u001b[39m=\u001b[39m \u001b[39mset\u001b[39m()\n\u001b[1;32m      5\u001b[0m \u001b[39mfor\u001b[39;00m query \u001b[39min\u001b[39;00m subqueries:\n\u001b[0;32m----> 6\u001b[0m     results \u001b[39m=\u001b[39m \u001b[39mset\u001b[39m(extract_columns_and_conditions_per_line(query))\n\u001b[1;32m      7\u001b[0m     choose_col\u001b[39m.\u001b[39mupdate(results)\n\u001b[1;32m      8\u001b[0m \u001b[39mreturn\u001b[39;00m \u001b[39mlist\u001b[39m(choose_col)\n",
      "Cell \u001b[0;32mIn[30], line 34\u001b[0m, in \u001b[0;36mextract_columns_and_conditions_per_line\u001b[0;34m(sql_query)\u001b[0m\n\u001b[1;32m     32\u001b[0m result \u001b[39m=\u001b[39m []\n\u001b[1;32m     33\u001b[0m \u001b[39mfor\u001b[39;00m line \u001b[39min\u001b[39;00m lines:\n\u001b[0;32m---> 34\u001b[0m     column_names\u001b[39m=\u001b[39m process_line(line)\n\u001b[1;32m     35\u001b[0m     result \u001b[39m+\u001b[39m\u001b[39m=\u001b[39m column_names\n\u001b[1;32m     36\u001b[0m \u001b[39mreturn\u001b[39;00m result\n",
      "Cell \u001b[0;32mIn[30], line 20\u001b[0m, in \u001b[0;36mextract_columns_and_conditions_per_line.<locals>.process_line\u001b[0;34m(line)\u001b[0m\n\u001b[1;32m     18\u001b[0m \u001b[39mdef\u001b[39;00m \u001b[39mprocess_line\u001b[39m(line):\n\u001b[1;32m     19\u001b[0m     column_names \u001b[39m=\u001b[39m []\n\u001b[0;32m---> 20\u001b[0m     parsed_line \u001b[39m=\u001b[39m sqlparse\u001b[39m.\u001b[39;49mparse(line)[\u001b[39m0\u001b[39;49m]\n\u001b[1;32m     21\u001b[0m     \u001b[39mfor\u001b[39;00m token \u001b[39min\u001b[39;00m parsed_line\u001b[39m.\u001b[39mtokens:\n\u001b[1;32m     22\u001b[0m         \u001b[39mif\u001b[39;00m \u001b[39misinstance\u001b[39m(token, sqlparse\u001b[39m.\u001b[39msql\u001b[39m.\u001b[39mWhere):\n",
      "\u001b[0;31mIndexError\u001b[0m: tuple index out of range"
     ]
    }
   ],
   "source": [
    "for i, q in enumerate(questions[:10]):\n",
    "    print(q)\n",
    "    print('LABEL COLUMNS:',select_sql_column(sql_queries[i]))\n",
    "    get_col_max_score(q)"
   ]
  },
  {
   "cell_type": "code",
   "execution_count": 25,
   "metadata": {},
   "outputs": [],
   "source": [
    "import sqlparse\n",
    "\n",
    "def extract_columns_and_conditions_per_line(sql_query):\n",
    "    def get_column_names(token):\n",
    "        if isinstance(token, sqlparse.sql.IdentifierList):\n",
    "            return [str(ident) for ident in token.get_identifiers()]\n",
    "        return [str(token)]\n",
    "    \n",
    "    def process_condition(token):\n",
    "        column_names_condition = []\n",
    "        for tok in token.tokens:\n",
    "            if isinstance(tok, sqlparse.sql.IdentifierList):\n",
    "                column_names_condition.extend(get_column_names(tok))\n",
    "            elif isinstance(tok, sqlparse.sql.Identifier):\n",
    "                column_names_condition.extend(get_column_names(tok))\n",
    "        return column_names_condition\n",
    "\n",
    "    def process_line(line):\n",
    "        column_names = []\n",
    "        parsed_line = sqlparse.parse(line)[0]\n",
    "        for token in parsed_line.tokens:\n",
    "            if isinstance(token, sqlparse.sql.Where):\n",
    "                column_names.extend(process_condition(token))\n",
    "            elif isinstance(token, sqlparse.sql.IdentifierList) and 'SELECT' in line.upper():\n",
    "                column_names.extend(get_column_names(token))\n",
    "            elif isinstance(token, sqlparse.sql.Identifier):\n",
    "                column_names.extend(get_column_names(token))\n",
    "            \n",
    "        return column_names\n",
    "\n",
    "    lines = sql_query.splitlines()\n",
    "    result = []\n",
    "    for line in lines:\n",
    "        column_names= process_line(line)\n",
    "        result += column_names\n",
    "    return result\n",
    "\n",
    "def queries(d):\n",
    "  if type(d) != sqlparse.sql.Token:\n",
    "     paren = isinstance(d, sqlparse.sql.Parenthesis)\n",
    "     v = [queries(i) for i in (d if not paren else d[1:-1])]\n",
    "     subseq, qrs = ''.join(str(i[0]) for i in v), [x for _, y in v for x in y]\n",
    "     if [*d][paren].value == 'SELECT':\n",
    "        return '<>', [subseq]+qrs\n",
    "     return subseq, qrs\n",
    "  return d, []\n",
    "\n",
    "\n",
    "# Example SQL query with multiple lines\n",
    "s = \"\"\"SELECT name, email\n",
    "     FROM user\n",
    "     WHERE email IS NOT NULL\n",
    "     AND id IN (SELECT cID FROM customer WHERE points > 5)\n",
    "\"\"\"\n"
   ]
  },
  {
   "cell_type": "code",
   "execution_count": 29,
   "metadata": {},
   "outputs": [
    {
     "data": {
      "text/plain": [
       "{'cID', 'customer', 'email', 'id', 'name'}"
      ]
     },
     "execution_count": 29,
     "metadata": {},
     "output_type": "execute_result"
    }
   ],
   "source": []
  },
  {
   "cell_type": "code",
   "execution_count": 20,
   "metadata": {},
   "outputs": [
    {
     "data": {
      "text/plain": [
       "['SELECT name, email\\n     FROM <subquery>\\n     WHERE id IN <subquery>\\n',\n",
       " 'SELECT * FROM user WHERE email IS NOT NULL',\n",
       " 'SELECT cID FROM customer WHERE points > 5']"
      ]
     },
     "execution_count": 20,
     "metadata": {},
     "output_type": "execute_result"
    }
   ],
   "source": [
    "import sqlparse\n",
    "def queries(d):\n",
    "  if type(d) != sqlparse.sql.Token:\n",
    "     paren = isinstance(d, sqlparse.sql.Parenthesis)\n",
    "     v = [queries(i) for i in (d if not paren else d[1:-1])]\n",
    "     subseq, qrs = ''.join(str(i[0]) for i in v), [x for _, y in v for x in y]\n",
    "     if [*d][paren].value == 'SELECT':\n",
    "        return '<subquery>', [subseq]+qrs\n",
    "     return subseq, qrs\n",
    "  return d, []\n",
    "\n",
    "s=\"\"\"SELECT name, email\n",
    "     FROM (SELECT * FROM user WHERE email IS NOT NULL)\n",
    "     WHERE id IN (SELECT cID FROM customer WHERE points > 5)\n",
    "\"\"\"\n",
    "\n",
    "_, subqueries = queries(sqlparse.parse(s)[0])\n",
    "\n",
    "subqueries"
   ]
  },
  {
   "cell_type": "code",
   "execution_count": 19,
   "metadata": {},
   "outputs": [
    {
     "name": "stdout",
     "output_type": "stream",
     "text": [
      "[{'ColumnNamesCondition': ['name', 'email']}, {'ColumnNamesCondition': ['subquery']}, {'ColumnNamesCondition': ['id', 'subquery']}]\n",
      "[{'ColumnNamesCondition': ['email']}]\n",
      "[{'ColumnNamesCondition': ['cID', 'customer']}]\n"
     ]
    }
   ],
   "source": [
    "for q in subqueries:\n",
    "    result = extract_columns_and_conditions_per_line(q)\n",
    "    print(result)"
   ]
  },
  {
   "cell_type": "code",
   "execution_count": 271,
   "metadata": {},
   "outputs": [
    {
     "name": "stdout",
     "output_type": "stream",
     "text": [
      "Cosine-Similarity: tensor([[0.8958]])\n"
     ]
    }
   ],
   "source": []
  },
  {
   "cell_type": "code",
   "execution_count": null,
   "metadata": {},
   "outputs": [],
   "source": []
  }
 ],
 "metadata": {
  "kernelspec": {
   "display_name": "base",
   "language": "python",
   "name": "python3"
  },
  "language_info": {
   "codemirror_mode": {
    "name": "ipython",
    "version": 3
   },
   "file_extension": ".py",
   "mimetype": "text/x-python",
   "name": "python",
   "nbconvert_exporter": "python",
   "pygments_lexer": "ipython3",
   "version": "3.10.9"
  },
  "orig_nbformat": 4
 },
 "nbformat": 4,
 "nbformat_minor": 2
}

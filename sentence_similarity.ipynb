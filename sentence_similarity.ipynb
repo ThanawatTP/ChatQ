{
 "cells": [
  {
   "cell_type": "code",
   "execution_count": 297,
   "metadata": {},
   "outputs": [],
   "source": [
    "import pandas as pd\n",
    "import numpy as np\n",
    "from sentence_transformers import SentenceTransformer, util\n",
    "\n",
    "desc_col = {}\n",
    "\n",
    "description_df = pd.read_excel('src/New_query_Description.xlsx',header=1)\n",
    "description_df = description_df[['Column','Description']].dropna()\n",
    "x = 0\n",
    "for i, row in description_df.iterrows():\n",
    "    desc_col[x] = row['Column']\n",
    "    x += 1"
   ]
  },
  {
   "cell_type": "code",
   "execution_count": 298,
   "metadata": {},
   "outputs": [],
   "source": [
    "descriptions = description_df['Description'].tolist()"
   ]
  },
  {
   "cell_type": "code",
   "execution_count": 299,
   "metadata": {},
   "outputs": [],
   "source": [
    "pointx_cols = pd.read_csv('src/pointx_fbs_rpt_dly.csv').columns.to_list()\n",
    "assert len(pointx_cols) == len(desc_col), \"Length of columns in Pointx table and Descriptions are not equal\""
   ]
  },
  {
   "cell_type": "code",
   "execution_count": 300,
   "metadata": {},
   "outputs": [],
   "source": [
    "compare_df = pd.read_csv('src/compare_result.csv')\n",
    "questions = compare_df['Question'].to_list()\n",
    "sql_queries = compare_df['SQL'].to_list()"
   ]
  },
  {
   "cell_type": "code",
   "execution_count": 302,
   "metadata": {},
   "outputs": [],
   "source": [
    "model = SentenceTransformer('all-MiniLM-L6-v2')\n",
    "\n",
    "def get_col_max_score(question,description_df=description_df,model=model):\n",
    "    q_emb = model.encode(question)\n",
    "    scores = [float(util.cos_sim(q_emb, model.encode(des))) for des in description_df['Description'].to_list()]\n",
    "    return int(np.argmax(scores))"
   ]
  },
  {
   "cell_type": "code",
   "execution_count": 304,
   "metadata": {},
   "outputs": [
    {
     "name": "stdout",
     "output_type": "stream",
     "text": [
      "How many daily active users each day?\n",
      "deal_type \n",
      "\n",
      "How many monthly active users each month?\n",
      "privacy_info_ads_storage \n",
      "\n",
      "What is the average number of daily active users last 7 days?\n",
      "user_ltv_revenue \n",
      "\n",
      "What is the mean number of daily active users from last 30 days?\n",
      "user_ltv_revenue \n",
      "\n",
      "When was the last time each user was active?\n",
      "user_properties_ga_session_number_set_timestamp_micros \n",
      "\n"
     ]
    }
   ],
   "source": [
    "for q in questions[:5]:\n",
    "    print(q)\n",
    "    print(desc_col[get_col_max_score(q)],'\\n')"
   ]
  },
  {
   "cell_type": "code",
   "execution_count": 150,
   "metadata": {},
   "outputs": [
    {
     "name": "stdout",
     "output_type": "stream",
     "text": [
      "['', 'SELECT cID FROM customer WHERE points > 5)']\n",
      "Line 1:\n",
      "Column Names (CONDITION): ['name', 'email']\n",
      "\n",
      "Line 2:\n",
      "Column Names (CONDITION): []\n",
      "\n",
      "Line 3:\n",
      "Column Names (CONDITION): ['email']\n",
      "\n",
      "Line 4:\n",
      "Column Names (CONDITION): ['id']\n",
      "\n"
     ]
    }
   ],
   "source": [
    "import sqlparse\n",
    "\n",
    "def extract_columns_and_conditions_per_line(sql_query):\n",
    "    def get_column_names(token):\n",
    "        if isinstance(token, sqlparse.sql.IdentifierList):\n",
    "            return [str(ident) for ident in token.get_identifiers()]\n",
    "        return [str(token)]\n",
    "    \n",
    "    def process_condition(token):\n",
    "        column_names_condition = []\n",
    "        for tok in token.tokens:\n",
    "            if isinstance(tok, sqlparse.sql.IdentifierList):\n",
    "                column_names_condition.extend(get_column_names(tok))\n",
    "            elif isinstance(tok, sqlparse.sql.Identifier):\n",
    "                column_names_condition.extend(get_column_names(tok))\n",
    "        return column_names_condition\n",
    "\n",
    "    def process_line(line):\n",
    "        column_names_condition = []\n",
    "        parsed_line = sqlparse.parse(line)[0]\n",
    "        for token in parsed_line.tokens:\n",
    "            if isinstance(token, sqlparse.sql.Parenthesis):\n",
    "                # column_names_condition.extend(extract_columns_and_conditions_per_line(token))\n",
    "                print(str(token).split(''))\n",
    "            if isinstance(token, sqlparse.sql.Where):\n",
    "                column_names_condition.extend(process_condition(token))\n",
    "            elif isinstance(token, sqlparse.sql.IdentifierList) and 'SELECT' in line.upper():\n",
    "                column_names_condition.extend(get_column_names(token))\n",
    "            elif isinstance(token, sqlparse.sql.Identifier):\n",
    "                column_names_condition.extend(get_column_names(token))\n",
    "            \n",
    "        return column_names_condition\n",
    "\n",
    "    lines = sql_query.splitlines()\n",
    "    result = []\n",
    "    for line in lines:\n",
    "        column_names_condition = process_line(line)\n",
    "        result.append({\n",
    "            \"ColumnNamesCondition\": column_names_condition\n",
    "        })\n",
    "    return result\n",
    "\n",
    "# Example SQL query with multiple lines\n",
    "s = \"\"\"SELECT name, email\n",
    "     FROM user\n",
    "     WHERE email IS NOT NULL\n",
    "     AND id IN (SELECT cID FROM customer WHERE points > 5)\n",
    "\"\"\"\n",
    "\n",
    "# Call the function to extract column names and conditions for each line\n",
    "results = extract_columns_and_conditions_per_line(s)\n",
    "for idx, result in enumerate(results, start=1):\n",
    "    print(f\"Line {idx}:\")\n",
    "    print(\"Column Names (CONDITION):\", result[\"ColumnNamesCondition\"])\n",
    "    print()\n"
   ]
  },
  {
   "cell_type": "code",
   "execution_count": 180,
   "metadata": {},
   "outputs": [
    {
     "data": {
      "text/plain": [
       "['SELECT name, email\\n     FROM <subquery>\\n     WHERE id IN <subquery>\\n',\n",
       " 'SELECT * FROM user WHERE email IS NOT NULL',\n",
       " 'SELECT cID FROM customer WHERE points > 5']"
      ]
     },
     "execution_count": 180,
     "metadata": {},
     "output_type": "execute_result"
    }
   ],
   "source": [
    "import sqlparse\n",
    "def queries(d):\n",
    "  if type(d) != sqlparse.sql.Token:\n",
    "     paren = isinstance(d, sqlparse.sql.Parenthesis)\n",
    "    #  print(d if not paren else d[1:-1])\n",
    "     v = [queries(i) for i in (d if not paren else d[1:-1])]\n",
    "     subseq, qrs = ''.join(str(i[0]) for i in v), [x for _, y in v for x in y]\n",
    "     if [*d][paren].value == 'SELECT':\n",
    "        return '<subquery>', [subseq]+qrs\n",
    "     return subseq, qrs\n",
    "  return d, []\n",
    "\n",
    "s=\"\"\"SELECT name, email\n",
    "     FROM (SELECT * FROM user WHERE email IS NOT NULL)\n",
    "     WHERE id IN (SELECT cID FROM customer WHERE points > 5)\n",
    "\"\"\"\n",
    "_, subqueries = queries(sqlparse.parse(s)[0])\n",
    "subqueries"
   ]
  },
  {
   "cell_type": "code",
   "execution_count": 176,
   "metadata": {},
   "outputs": [
    {
     "data": {
      "text/plain": [
       "'<subquery>'"
      ]
     },
     "execution_count": 176,
     "metadata": {},
     "output_type": "execute_result"
    }
   ],
   "source": [
    "_"
   ]
  },
  {
   "cell_type": "code",
   "execution_count": 271,
   "metadata": {},
   "outputs": [
    {
     "name": "stdout",
     "output_type": "stream",
     "text": [
      "Cosine-Similarity: tensor([[0.8958]])\n"
     ]
    }
   ],
   "source": []
  },
  {
   "cell_type": "code",
   "execution_count": null,
   "metadata": {},
   "outputs": [],
   "source": []
  }
 ],
 "metadata": {
  "kernelspec": {
   "display_name": "base",
   "language": "python",
   "name": "python3"
  },
  "language_info": {
   "codemirror_mode": {
    "name": "ipython",
    "version": 3
   },
   "file_extension": ".py",
   "mimetype": "text/x-python",
   "name": "python",
   "nbconvert_exporter": "python",
   "pygments_lexer": "ipython3",
   "version": "3.10.9"
  },
  "orig_nbformat": 4
 },
 "nbformat": 4,
 "nbformat_minor": 2
}

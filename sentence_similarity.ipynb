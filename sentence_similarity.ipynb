{
 "cells": [
  {
   "cell_type": "code",
   "execution_count": 1,
   "metadata": {},
   "outputs": [],
   "source": [
    "import pandas as pd\n",
    "import numpy as np\n",
    "import sqlparse\n",
    "from sentence_transformers import SentenceTransformer, util\n",
    "\n",
    "desc_col = {}\n",
    "\n",
    "description_df = pd.read_excel('src/New_query_Description.xlsx',header=1)\n",
    "description_df = description_df[['Column','Description']].dropna()\n",
    "x = 0\n",
    "for i, row in description_df.iterrows():\n",
    "    desc_col[x] = row['Column']\n",
    "    x += 1"
   ]
  },
  {
   "cell_type": "code",
   "execution_count": 49,
   "metadata": {},
   "outputs": [],
   "source": [
    "def get_col(sql):\n",
    "    col = []\n",
    "    ignore = ['team_tds.tds_intern.pointx_fbs_txn_rpt_dly','sum','avg','mean','count']\n",
    "    for token in sql.tokens:\n",
    "        # print(type(token),token)\n",
    "        if str(token).lower() in ignore:\n",
    "            continue\n",
    "        if isinstance(token, sqlparse.sql.Identifier):\n",
    "            col.append(str(token))\n",
    "        elif isinstance(token, sqlparse.sql.IdentifierList) or isinstance(token, sqlparse.sql.Where) or isinstance(token, sqlparse.sql.Having) or isinstance(token, sqlparse.sql.Comparison) or isinstance(token, sqlparse.sql.Function) or isinstance(token, sqlparse.sql.Parenthesis):\n",
    "            col += get_col(token)\n",
    "    return col"
   ]
  },
  {
   "cell_type": "code",
   "execution_count": 50,
   "metadata": {},
   "outputs": [],
   "source": [
    "descriptions = description_df['Description'].tolist()"
   ]
  },
  {
   "cell_type": "code",
   "execution_count": 51,
   "metadata": {},
   "outputs": [],
   "source": [
    "pointx_cols = pd.read_csv('src/pointx_fbs_rpt_dly.csv').columns.to_list()\n",
    "assert len(pointx_cols) == len(desc_col), \"Length of columns in Pointx table and Descriptions are not equal\""
   ]
  },
  {
   "cell_type": "code",
   "execution_count": 52,
   "metadata": {},
   "outputs": [],
   "source": [
    "compare_df = pd.read_csv('src/compare_result.csv')\n",
    "questions = compare_df['Question'].to_list()\n",
    "sql_queries = compare_df['SQL'].to_list()"
   ]
  },
  {
   "cell_type": "code",
   "execution_count": 53,
   "metadata": {},
   "outputs": [],
   "source": [
    "model = SentenceTransformer('all-MiniLM-L6-v2')\n",
    "\n",
    "def get_col_max_score(question,description_df=description_df,model=model):\n",
    "    q_emb = model.encode(question)\n",
    "    scores = [float(util.cos_sim(q_emb, model.encode(des))) for des in description_df['Description'].to_list()]\n",
    "    print(\"COLUMN:\",description_df.iloc[np.argmax(scores)]['Column'])\n",
    "    print(\"DESC:\",description_df.iloc[np.argmax(scores)]['Description'])\n",
    "    print(\"SCORE:\",np.max(scores))\n",
    "    print()\n",
    "    \n",
    "    return int(np.argmax(scores))"
   ]
  },
  {
   "cell_type": "code",
   "execution_count": 58,
   "metadata": {},
   "outputs": [
    {
     "name": "stdout",
     "output_type": "stream",
     "text": [
      "How many daily active users each day?\n",
      "LABEL COLUMNS: ['engagement_time_msec', 'event_date', 'user_pseudo_id', 'ga_session_id', 'event_date ASC']\n",
      "COLUMN: deal_type\n",
      "DESC: Deal of the day type\n",
      "SCORE: 0.39395755529403687\n",
      "\n",
      "How many monthly active users each month?\n",
      "LABEL COLUMNS: ['engagement_time_msec', 'event_month', 'user_pseudo_id', 'ga_session_id', 'event_month ASC']\n",
      "COLUMN: privacy_info_ads_storage\n",
      "DESC: Whether ad targeting is enabled for a user.\n",
      "SCORE: 0.3766669034957886\n",
      "\n",
      "What is the average number of daily active users last 7 days?\n",
      "LABEL COLUMNS: ['engagement_time_msec', 'GETDATE', 'event_date', 'user_pseudo_id', 'DATEADD', 'ga_session_id', 'cnt', 'COUNT(DISTINCT user_pseudo_id) as cnt']\n",
      "COLUMN: user_ltv_revenue\n",
      "DESC: The Lifetime Value (revenue) of the user. This field is not populated in intraday tables.\n",
      "SCORE: 0.42309463024139404\n",
      "\n",
      "What is the mean number of daily active users from last 30 days?\n",
      "LABEL COLUMNS: ['engagement_time_msec', 'GETDATE', 'event_date', 'user_pseudo_id', 'DATEADD', 'ga_session_id', 'cnt', 'COUNT(DISTINCT user_pseudo_id) as cnt']\n",
      "COLUMN: user_ltv_revenue\n",
      "DESC: The Lifetime Value (revenue) of the user. This field is not populated in intraday tables.\n",
      "SCORE: 0.43073785305023193\n",
      "\n",
      "When was the last time each user was active?\n",
      "LABEL COLUMNS: ['engagement_time_msec', 'MAX(event_timestamp) as last_active', 'last_active', 'event_date', 'MAX', 'user_pseudo_id', 'ga_session_id']\n",
      "COLUMN: user_properties_ga_session_number_set_timestamp_micros\n",
      "DESC: Timestamp of sessions that a user has started up to the current session (e.g., a user's third or fifth session on your site).\n",
      "SCORE: 0.5892327427864075\n",
      "\n",
      "How many users have engagement_time_msec more than 10 seconds?\n",
      "LABEL COLUMNS: ['engagement_time_msec', 'user_pseudo_id', 'ga_session_id']\n",
      "COLUMN: engagement_time_msec\n",
      "DESC: Engagement time millisecond\n",
      "SCORE: 0.7040517330169678\n",
      "\n",
      "What is the mean number of daily active users on weekdays?\n",
      "LABEL COLUMNS: ['engagement_time_msec', 'DAYOFWEEK', 'event_date', 'user_pseudo_id', 'ga_session_id', 'cnt', 'COUNT(DISTINCT user_pseudo_id) as cnt']\n",
      "COLUMN: deal_type\n",
      "DESC: Deal of the day type\n",
      "SCORE: 0.4499199688434601\n",
      "\n",
      "What is the mean number of daily active users on weekends?\n",
      "LABEL COLUMNS: ['engagement_time_msec', 'DAYOFWEEK', 'event_date', 'user_pseudo_id', 'ga_session_id', 'cnt', 'COUNT(DISTINCT user_pseudo_id) as cnt']\n",
      "COLUMN: user_ltv_revenue\n",
      "DESC: The Lifetime Value (revenue) of the user. This field is not populated in intraday tables.\n",
      "SCORE: 0.4293842315673828\n",
      "\n",
      "How many times each user opens the app each week?\n",
      "LABEL COLUMNS: ['\"session_start\"', 'event_timestamp', 'user_pseudo_id', 'EXTRACT', 'event_name']\n",
      "COLUMN: user_properties_first_open_time\n",
      "DESC: Timestamp of user's first open\n",
      "SCORE: 0.4559001326560974\n",
      "\n",
      "What is the average number of app opens each week?\n",
      "LABEL COLUMNS: ['\"session_start\"', 'event_name', 'event_timestamp', 'EXTRACT(WEEK FROM event_timestamp) AS week', 'user_pseudo_id', 'cnt', 'EXTRACT', 'EXTRACT(YEAR FROM event_timestamp) AS year', 'COUNT(event_name) as cnt']\n",
      "COLUMN: previous_first_open_count\n",
      "DESC: Previous first open count\n",
      "SCORE: 0.37668073177337646\n",
      "\n"
     ]
    }
   ],
   "source": [
    "for i, q in enumerate(questions[:10]):\n",
    "    print(q)\n",
    "    sql_parse = sqlparse.parse(sql_queries[i])[0]\n",
    "    # print(sql_parse)\n",
    "    print('LABEL COLUMNS:',list(set(get_col(sql_parse))))\n",
    "    get_col_max_score(q)"
   ]
  },
  {
   "cell_type": "code",
   "execution_count": 57,
   "metadata": {},
   "outputs": [
    {
     "name": "stdout",
     "output_type": "stream",
     "text": [
      "<class 'sqlparse.sql.Token'> SELECT\n",
      "<class 'sqlparse.sql.Token'>  \n",
      "<class 'sqlparse.sql.Function'> AVG(cnt)\n",
      "<class 'sqlparse.sql.Token'>  \n",
      "<class 'sqlparse.sql.Token'> FROM\n",
      "<class 'sqlparse.sql.Token'> \n",
      "\n",
      "<class 'sqlparse.sql.Token'>  \n",
      "<class 'sqlparse.sql.Token'>  \n",
      "<class 'sqlparse.sql.Parenthesis'> (SELECT event_date, COUNT(DISTINCT user_pseudo_id) as cnt\n",
      "  FROM (\n",
      "      SELECT event_date, ga_session_id, user_pseudo_id\n",
      "      FROM team_tds.tds_intern.pointx_fbs_txn_rpt_dly\n",
      "      GROUP BY event_date, ga_session_id, user_pseudo_id\n",
      "      HAVING SUM(engagement_time_msec) > 10*1000\n",
      "  )\n",
      "  GROUP BY event_date\n",
      "  ORDER BY event_date ASC)\n",
      "<class 'sqlparse.sql.Token'> \n",
      "\n",
      "<class 'sqlparse.sql.Where'> WHERE DAYOFWEEK(event_date) IN (1, 7)\n"
     ]
    }
   ],
   "source": [
    "for token in sqlparse.parse(s)[0].tokens:\n",
    "    print(type(token),token)\n",
    "    if isinstance(token,sqlparse.sql.IdentifierList):\n",
    "        print(token.tokens)"
   ]
  },
  {
   "cell_type": "code",
   "execution_count": 56,
   "metadata": {},
   "outputs": [],
   "source": [
    "s = \"\"\"SELECT AVG(cnt) FROM\n",
    "  (SELECT event_date, COUNT(DISTINCT user_pseudo_id) as cnt\n",
    "  FROM (\n",
    "      SELECT event_date, ga_session_id, user_pseudo_id\n",
    "      FROM team_tds.tds_intern.pointx_fbs_txn_rpt_dly\n",
    "      GROUP BY event_date, ga_session_id, user_pseudo_id\n",
    "      HAVING SUM(engagement_time_msec) > 10*1000\n",
    "  )\n",
    "  GROUP BY event_date\n",
    "  ORDER BY event_date ASC)\n",
    "WHERE DAYOFWEEK(event_date) IN (1, 7)\"\"\""
   ]
  },
  {
   "cell_type": "code",
   "execution_count": null,
   "metadata": {},
   "outputs": [],
   "source": []
  }
 ],
 "metadata": {
  "kernelspec": {
   "display_name": "base",
   "language": "python",
   "name": "python3"
  },
  "language_info": {
   "codemirror_mode": {
    "name": "ipython",
    "version": 3
   },
   "file_extension": ".py",
   "mimetype": "text/x-python",
   "name": "python",
   "nbconvert_exporter": "python",
   "pygments_lexer": "ipython3",
   "version": "3.10.9"
  },
  "orig_nbformat": 4
 },
 "nbformat": 4,
 "nbformat_minor": 2
}

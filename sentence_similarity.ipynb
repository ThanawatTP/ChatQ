{
 "cells": [
  {
   "cell_type": "code",
   "execution_count": 2,
   "metadata": {},
   "outputs": [
    {
     "data": {
      "application/vnd.jupyter.widget-view+json": {
       "model_id": "7260f49e432e401fb2ae994aa1684d98",
       "version_major": 2,
       "version_minor": 0
      },
      "text/plain": [
       "Downloading (…)lve/main/config.json:   0%|          | 0.00/612 [00:00<?, ?B/s]"
      ]
     },
     "metadata": {},
     "output_type": "display_data"
    },
    {
     "data": {
      "application/vnd.jupyter.widget-view+json": {
       "model_id": "96928286b19e4f59bee5f32f2c936820",
       "version_major": 2,
       "version_minor": 0
      },
      "text/plain": [
       "Downloading pytorch_model.bin:   0%|          | 0.00/90.9M [00:00<?, ?B/s]"
      ]
     },
     "metadata": {},
     "output_type": "display_data"
    },
    {
     "name": "stderr",
     "output_type": "stream",
     "text": [
      "Some weights of BertForSequenceClassification were not initialized from the model checkpoint at sentence-transformers/all-MiniLM-L6-v2 and are newly initialized: ['classifier.weight', 'classifier.bias']\n",
      "You should probably TRAIN this model on a down-stream task to be able to use it for predictions and inference.\n"
     ]
    },
    {
     "data": {
      "application/vnd.jupyter.widget-view+json": {
       "model_id": "8925365fd1ec442b82d5177732e69c4d",
       "version_major": 2,
       "version_minor": 0
      },
      "text/plain": [
       "Downloading (…)okenizer_config.json:   0%|          | 0.00/350 [00:00<?, ?B/s]"
      ]
     },
     "metadata": {},
     "output_type": "display_data"
    },
    {
     "data": {
      "application/vnd.jupyter.widget-view+json": {
       "model_id": "4821ab408b51462595de54620fffe388",
       "version_major": 2,
       "version_minor": 0
      },
      "text/plain": [
       "Downloading (…)solve/main/vocab.txt:   0%|          | 0.00/232k [00:00<?, ?B/s]"
      ]
     },
     "metadata": {},
     "output_type": "display_data"
    },
    {
     "data": {
      "application/vnd.jupyter.widget-view+json": {
       "model_id": "f6770c1a8ced4123b7eb7c6e0af49c85",
       "version_major": 2,
       "version_minor": 0
      },
      "text/plain": [
       "Downloading (…)/main/tokenizer.json:   0%|          | 0.00/466k [00:00<?, ?B/s]"
      ]
     },
     "metadata": {},
     "output_type": "display_data"
    },
    {
     "data": {
      "application/vnd.jupyter.widget-view+json": {
       "model_id": "5c047822f58b417fb120bfd9ab781c97",
       "version_major": 2,
       "version_minor": 0
      },
      "text/plain": [
       "Downloading (…)cial_tokens_map.json:   0%|          | 0.00/112 [00:00<?, ?B/s]"
      ]
     },
     "metadata": {},
     "output_type": "display_data"
    }
   ],
   "source": [
    "from sentence_transformers import CrossEncoder\n",
    "model = CrossEncoder('sentence-transformers/all-MiniLM-L6-v2', max_length=512)\n",
    "#For Example\n",
    "scores = model.predict([('How many people live in Berlin?', 'Berlin had a population of 3,520,031 registered inhabitants in an area of 891.82 square kilometers.'), \n",
    "                        ('How many people live in Berlin?', 'Berlin is well known for its museums.')])"
   ]
  },
  {
   "cell_type": "code",
   "execution_count": 5,
   "metadata": {},
   "outputs": [
    {
     "data": {
      "text/plain": [
       "array([0.5051551 , 0.50396323], dtype=float32)"
      ]
     },
     "execution_count": 5,
     "metadata": {},
     "output_type": "execute_result"
    }
   ],
   "source": [
    "scores"
   ]
  },
  {
   "cell_type": "code",
   "execution_count": 59,
   "metadata": {},
   "outputs": [],
   "source": [
    "import sqlparse\n",
    "\n",
    "def get_column(sql_query):\n",
    "    parsed_query = sqlparse.parse(sql_query)\n",
    "    columns = []\n",
    "    # Loop through the tokens in the parsed query\n",
    "    for stmt in parsed_query:\n",
    "        for token in stmt.tokens:\n",
    "            if isinstance(token, sqlparse.sql.IdentifierList):\n",
    "                for identifier in token.get_identifiers():\n",
    "                    columns.append(identifier.get_real_name())\n",
    "    return columns"
   ]
  },
  {
   "cell_type": "code",
   "execution_count": 60,
   "metadata": {},
   "outputs": [],
   "source": [
    "import pandas as pd\n",
    "\n",
    "desc_col = {}\n",
    "\n",
    "description_df = pd.read_excel('src/New_query_Description.xlsx',header=1)\n",
    "description_df = description_df[['Column','Description']]\n",
    "for i, row in description_df.iterrows():\n",
    "    if type(row['Column']) == float:\n",
    "        continue\n",
    "    desc_col[i] = row['Column']"
   ]
  },
  {
   "cell_type": "code",
   "execution_count": 61,
   "metadata": {},
   "outputs": [],
   "source": [
    "pointx_cols = pd.read_csv('src/pointx_fbs_rpt_dly.csv').columns.to_list()\n",
    "assert len(pointx_cols) == len(desc_col), \"Length of columns in Pointx table and Descriptions are not equal\""
   ]
  },
  {
   "cell_type": "code",
   "execution_count": 63,
   "metadata": {},
   "outputs": [],
   "source": [
    "compare_df = pd.read_csv('src/compare_result.csv')\n",
    "questions = compare_df['Question'].to_list()\n",
    "sql_queries = compare_df['SQL'].to_list()"
   ]
  },
  {
   "cell_type": "code",
   "execution_count": 66,
   "metadata": {},
   "outputs": [
    {
     "name": "stdout",
     "output_type": "stream",
     "text": [
      "SELECT event_date, COUNT(DISTINCT user_pseudo_id)\n",
      "FROM (\n",
      "    SELECT event_date, ga_session_id, user_pseudo_id\n",
      "    FROM team_tds.tds_intern.pointx_fbs_txn_rpt_dly\n",
      "    GROUP BY event_date, ga_session_id, user_pseudo_id\n",
      "    HAVING SUM(engagement_time_msec) > 10*1000\n",
      ")\n",
      "GROUP BY event_date\n",
      "ORDER BY event_date ASC\n",
      "['event_date', 'COUNT']\n",
      "SELECT event_month, COUNT(DISTINCT user_pseudo_id)\n",
      "FROM (\n",
      "    SELECT event_month, ga_session_id, user_pseudo_id\n",
      "    FROM team_tds.tds_intern.pointx_fbs_txn_rpt_dly\n",
      "    GROUP BY event_month, ga_session_id, user_pseudo_id\n",
      "    HAVING SUM(engagement_time_msec) > 10*1000\n",
      ")\n",
      "GROUP BY event_month\n",
      "ORDER BY event_month ASC\n",
      "['event_month', 'COUNT']\n",
      "SELECT AVG(cnt) FROM\n",
      "  (SELECT event_date, COUNT(DISTINCT user_pseudo_id) as cnt\n",
      "  FROM (\n",
      "      SELECT event_date, ga_session_id, user_pseudo_id\n",
      "      FROM team_tds.tds_intern.pointx_fbs_txn_rpt_dly\n",
      "      GROUP BY event_date, ga_session_id, user_pseudo_id\n",
      "      HAVING SUM(engagement_time_msec) > 10*1000\n",
      "  )\n",
      "  GROUP BY event_date\n",
      "  ORDER BY event_date ASC)\n",
      "WHERE event_date >= DATEADD(DAY, -7, GETDATE())\n",
      "[]\n"
     ]
    }
   ],
   "source": [
    "for sql in sql_queries[:3]:\n",
    "    print(sql)\n",
    "    print(get_column(sql))"
   ]
  },
  {
   "cell_type": "code",
   "execution_count": 70,
   "metadata": {},
   "outputs": [
    {
     "name": "stdout",
     "output_type": "stream",
     "text": [
      "\n",
      "\n",
      "SELECT\n",
      " \n",
      "column1, column2\n",
      "\n",
      "\n",
      "FROM\n",
      " \n",
      "(\n",
      "    SELECT sub_column1, sub_column2\n",
      "    FROM your_table\n",
      "    WHERE sub_condition\n",
      ") AS subquery\n",
      "\n",
      "\n",
      "WHERE condition\n",
      "\n",
      "['column1', 'column2']\n"
     ]
    }
   ],
   "source": [
    "import sqlparse\n",
    "\n",
    "# Your SQL query with a subquery\n",
    "sql_query = \"\"\"\n",
    "SELECT column1, column2\n",
    "FROM (\n",
    "    SELECT sub_column1, sub_column2\n",
    "    FROM your_table\n",
    "    WHERE sub_condition\n",
    ") AS subquery\n",
    "WHERE condition\n",
    "\"\"\"\n",
    "\n",
    "# Parse the SQL query using sqlparse\n",
    "parsed_query = sqlparse.parse(sql_query)\n",
    "\n",
    "# Get the column names from the parsed query\n",
    "columns = []\n",
    "\n",
    "# Loop through the tokens in the parsed query\n",
    "for stmt in parsed_query:\n",
    "    for token in stmt.tokens:\n",
    "        print(token)\n",
    "        if isinstance(token, sqlparse.sql.IdentifierList):\n",
    "            for identifier in token.get_identifiers():\n",
    "                columns.append(identifier.get_real_name())\n",
    "\n",
    "print(columns)\n"
   ]
  },
  {
   "cell_type": "code",
   "execution_count": 68,
   "metadata": {},
   "outputs": [
    {
     "data": {
      "text/plain": [
       "(<Statement ' SELEC...' at 0x2A1DB9CB0>,)"
      ]
     },
     "execution_count": 68,
     "metadata": {},
     "output_type": "execute_result"
    }
   ],
   "source": [
    "parsed_query"
   ]
  },
  {
   "cell_type": "code",
   "execution_count": 89,
   "metadata": {},
   "outputs": [
    {
     "name": "stdout",
     "output_type": "stream",
     "text": [
      "False name [(<Name 'name' at 0x2A1D76C20>, [])]\n",
      "False email [(<Name 'email' at 0x2A1DDB4C0>, [])]\n",
      "False name, email [('name', []), (<Punctuation ',' at 0x2A1D75AE0>, []), (<Whitespace ' ' at 0x2A1DB0340>, []), ('email', [])]\n",
      "False email [(<Name 'email' at 0x2A1DDBCA0>, [])]\n",
      "False WHERE email IS NOT NULL [(<Keyword 'WHERE' at 0x2A1DDBBE0>, []), (<Whitespace ' ' at 0x2A1DDBC40>, []), ('email', []), (<Whitespace ' ' at 0x2A1DDBD00>, []), (<Keyword 'IS' at 0x2A1DDBD60>, []), (<Whitespace ' ' at 0x2A1DDBDC0>, []), (<Keyword 'NOT NU...' at 0x2A1DDBE20>, [])]\n",
      "True (SELECT * FROM user WHERE email IS NOT NULL) [(<DML 'SELECT' at 0x2A1DDB8E0>, []), (<Whitespace ' ' at 0x2A1DDB940>, []), (<Wildcard '*' at 0x2A1DDB9A0>, []), (<Whitespace ' ' at 0x2A1DDBA00>, []), (<Keyword 'FROM' at 0x2A1DDBA60>, []), (<Whitespace ' ' at 0x2A1DDBAC0>, []), (<Keyword 'user' at 0x2A1DDBB20>, []), (<Whitespace ' ' at 0x2A1DDBB80>, []), ('WHERE email IS NOT NULL', [])]\n",
      "False id [(<Name 'id' at 0x2A1DE8220>, [])]\n",
      "False cID [(<Name 'cID' at 0x2A1DE84C0>, [])]\n",
      "False customer [(<Name 'custom...' at 0x2A1DE8640>, [])]\n",
      "False points [(<Name 'points' at 0x2A1DE87C0>, [])]\n",
      "False points > 5 [('points', []), (<Whitespace ' ' at 0x2A1DE8820>, []), (<Comparison '>' at 0x2A1DE8880>, []), (<Whitespace ' ' at 0x2A1DE88E0>, []), (<Integer '5' at 0x2A1DE8940>, [])]\n",
      "False WHERE points > 5 [(<Keyword 'WHERE' at 0x2A1DE8700>, []), (<Whitespace ' ' at 0x2A1DE8760>, []), ('points > 5', [])]\n",
      "True (SELECT cID FROM customer WHERE points > 5) [(<DML 'SELECT' at 0x2A1DE8400>, []), (<Whitespace ' ' at 0x2A1DE8460>, []), ('cID', []), (<Whitespace ' ' at 0x2A1DE8520>, []), (<Keyword 'FROM' at 0x2A1DE8580>, []), (<Whitespace ' ' at 0x2A1DE85E0>, []), ('customer', []), (<Whitespace ' ' at 0x2A1DE86A0>, []), ('WHERE points > 5', [])]\n",
      "False WHERE id IN (SELECT cID FROM customer WHERE points > 5)\n",
      " [(<Keyword 'WHERE' at 0x2A1DE8160>, []), (<Whitespace ' ' at 0x2A1DE81C0>, []), ('id', []), (<Whitespace ' ' at 0x2A1DE8280>, []), (<Keyword 'IN' at 0x2A1DE82E0>, []), (<Whitespace ' ' at 0x2A1DE8340>, []), ('<subquery>', ['SELECT cID FROM customer WHERE points > 5']), (<Newline ' ' at 0x2A1D88C40>, [])]\n",
      "False SELECT name, email\n",
      "     FROM (SELECT * FROM user WHERE email IS NOT NULL)\n",
      "     WHERE id IN (SELECT cID FROM customer WHERE points > 5)\n",
      " [(<DML 'SELECT' at 0x2A1D76EC0>, []), (<Whitespace ' ' at 0x2A1D76FE0>, []), ('name, email', []), (<Newline ' ' at 0x2A1DDB3A0>, []), (<Whitespace ' ' at 0x2A1DDB400>, []), (<Whitespace ' ' at 0x2A1DDB640>, []), (<Whitespace ' ' at 0x2A1DDB6A0>, []), (<Whitespace ' ' at 0x2A1DDB700>, []), (<Whitespace ' ' at 0x2A1DDB760>, []), (<Keyword 'FROM' at 0x2A1DDB7C0>, []), (<Whitespace ' ' at 0x2A1DDB820>, []), ('<subquery>', ['SELECT * FROM user WHERE email IS NOT NULL']), (<Newline ' ' at 0x2A1DDBEE0>, []), (<Whitespace ' ' at 0x2A1DDBF40>, []), (<Whitespace ' ' at 0x2A1DDBFA0>, []), (<Whitespace ' ' at 0x2A1DE8040>, []), (<Whitespace ' ' at 0x2A1DE80A0>, []), (<Whitespace ' ' at 0x2A1DE8100>, []), ('WHERE id IN <subquery>\\n', ['SELECT cID FROM customer WHERE points > 5'])]\n"
     ]
    }
   ],
   "source": [
    "import sqlparse\n",
    "def queries(d):\n",
    "  if type(d) != sqlparse.sql.Token:\n",
    "     paren = isinstance(d, sqlparse.sql.Parenthesis)\n",
    "     v = [queries(i) for i in (d if not paren else d[1:-1])]\n",
    "     print(paren,d,v)\n",
    "     subseq, qrs = ''.join(str(i[0]) for i in v), [x for _, y in v for x in y]\n",
    "     if [*d][paren].value == 'SELECT':\n",
    "        return '<subquery>', [subseq]+qrs\n",
    "     return subseq, qrs\n",
    "  return d, []\n",
    "\n",
    "s=\"\"\"SELECT name, email\n",
    "     FROM (SELECT * FROM user WHERE email IS NOT NULL)\n",
    "     WHERE id IN (SELECT cID FROM customer WHERE points > 5)\n",
    "\"\"\"\n",
    "_, subqueries = queries(sqlparse.parse(s)[0])"
   ]
  },
  {
   "cell_type": "code",
   "execution_count": 82,
   "metadata": {},
   "outputs": [
    {
     "data": {
      "text/plain": [
       "['SELECT name, email\\n     FROM <subquery>\\n     WHERE id IN <subquery>\\n',\n",
       " 'SELECT * FROM user WHERE email IS NOT NULL',\n",
       " 'SELECT cID FROM customer WHERE points > 5']"
      ]
     },
     "execution_count": 82,
     "metadata": {},
     "output_type": "execute_result"
    }
   ],
   "source": [
    "subqueries"
   ]
  },
  {
   "cell_type": "code",
   "execution_count": 79,
   "metadata": {},
   "outputs": [
    {
     "data": {
      "text/plain": [
       "sqlparse.sql.Statement"
      ]
     },
     "execution_count": 79,
     "metadata": {},
     "output_type": "execute_result"
    }
   ],
   "source": [
    "type(sqlparse.parse(s)[0])"
   ]
  },
  {
   "cell_type": "code",
   "execution_count": null,
   "metadata": {},
   "outputs": [],
   "source": []
  }
 ],
 "metadata": {
  "kernelspec": {
   "display_name": "base",
   "language": "python",
   "name": "python3"
  },
  "language_info": {
   "codemirror_mode": {
    "name": "ipython",
    "version": 3
   },
   "file_extension": ".py",
   "mimetype": "text/x-python",
   "name": "python",
   "nbconvert_exporter": "python",
   "pygments_lexer": "ipython3",
   "version": "3.10.9"
  },
  "orig_nbformat": 4
 },
 "nbformat": 4,
 "nbformat_minor": 2
}

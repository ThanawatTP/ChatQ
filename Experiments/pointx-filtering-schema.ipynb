{
 "cells": [
  {
   "cell_type": "code",
   "execution_count": 1,
   "metadata": {},
   "outputs": [],
   "source": [
    "from SchemaLinking import SchemaLinking\n",
    "import pandas as pd\n",
    "import os, json, re"
   ]
  },
  {
   "cell_type": "code",
   "execution_count": 2,
   "metadata": {},
   "outputs": [
    {
     "name": "stdout",
     "output_type": "stream",
     "text": [
      "(124, 3)\n"
     ]
    },
    {
     "data": {
      "text/html": [
       "<div>\n",
       "<style scoped>\n",
       "    .dataframe tbody tr th:only-of-type {\n",
       "        vertical-align: middle;\n",
       "    }\n",
       "\n",
       "    .dataframe tbody tr th {\n",
       "        vertical-align: top;\n",
       "    }\n",
       "\n",
       "    .dataframe thead th {\n",
       "        text-align: right;\n",
       "    }\n",
       "</style>\n",
       "<table border=\"1\" class=\"dataframe\">\n",
       "  <thead>\n",
       "    <tr style=\"text-align: right;\">\n",
       "      <th></th>\n",
       "      <th>Table</th>\n",
       "      <th>Question</th>\n",
       "      <th>Actual SQL</th>\n",
       "    </tr>\n",
       "  </thead>\n",
       "  <tbody>\n",
       "    <tr>\n",
       "      <th>0</th>\n",
       "      <td>pointx_keymatrix_dly</td>\n",
       "      <td>What is the total amout of all financial trans...</td>\n",
       "      <td>SELECT month_id, SUM(ntx_pointx_financial) FRO...</td>\n",
       "    </tr>\n",
       "    <tr>\n",
       "      <th>1</th>\n",
       "      <td>pointx_keymatrix_dly</td>\n",
       "      <td>What is the total amount of points generated b...</td>\n",
       "      <td>SELECT SUM(amt_point_topup) FROM pointx_keymat...</td>\n",
       "    </tr>\n",
       "    <tr>\n",
       "      <th>2</th>\n",
       "      <td>pointx_keymatrix_dly</td>\n",
       "      <td>What is the total amount of points generated b...</td>\n",
       "      <td>SELECT month_id, SUM(amt_point_pay) FROM point...</td>\n",
       "    </tr>\n",
       "    <tr>\n",
       "      <th>3</th>\n",
       "      <td>pointx_keymatrix_dly</td>\n",
       "      <td>What is the average rate of released points fo...</td>\n",
       "      <td>SELECT AVG(rate_point_per_baht_pay) FROM point...</td>\n",
       "    </tr>\n",
       "    <tr>\n",
       "      <th>4</th>\n",
       "      <td>pointx_keymatrix_dly</td>\n",
       "      <td>Can you determine the average number of custom...</td>\n",
       "      <td>SELECT month_id, AVG(ncust_visit) FROM pointx_...</td>\n",
       "    </tr>\n",
       "  </tbody>\n",
       "</table>\n",
       "</div>"
      ],
      "text/plain": [
       "                  Table                                           Question  \\\n",
       "0  pointx_keymatrix_dly  What is the total amout of all financial trans...   \n",
       "1  pointx_keymatrix_dly  What is the total amount of points generated b...   \n",
       "2  pointx_keymatrix_dly  What is the total amount of points generated b...   \n",
       "3  pointx_keymatrix_dly  What is the average rate of released points fo...   \n",
       "4  pointx_keymatrix_dly  Can you determine the average number of custom...   \n",
       "\n",
       "                                          Actual SQL  \n",
       "0  SELECT month_id, SUM(ntx_pointx_financial) FRO...  \n",
       "1  SELECT SUM(amt_point_topup) FROM pointx_keymat...  \n",
       "2  SELECT month_id, SUM(amt_point_pay) FROM point...  \n",
       "3  SELECT AVG(rate_point_per_baht_pay) FROM point...  \n",
       "4  SELECT month_id, AVG(ncust_visit) FROM pointx_...  "
      ]
     },
     "execution_count": 2,
     "metadata": {},
     "output_type": "execute_result"
    }
   ],
   "source": [
    "q_pair_df = pd.read_csv(\"../src/pointx/PointX_questionpair.csv\")[['Table', 'Question', 'Actual SQL']]\n",
    "print(q_pair_df.shape)\n",
    "q_pair_df.head()"
   ]
  },
  {
   "cell_type": "code",
   "execution_count": 5,
   "metadata": {},
   "outputs": [],
   "source": [
    "with open(f\"../src/src_dev/pointx/embedded_data.json\", \"r\") as f:\n",
    "    domain = json.load(f)\n",
    "\n",
    "schema_link = SchemaLinking(domain)\n",
    "question = \"Display the user id and revenue of user who has the highest total transactions id\"\n",
    "tables = ['pointx_fbs_rpt_dly']"
   ]
  },
  {
   "cell_type": "code",
   "execution_count": 14,
   "metadata": {},
   "outputs": [],
   "source": [
    "def table_col_of_sql(sql_query:str ,schema_link=schema_link) -> dict:\n",
    "        \"\"\"\n",
    "        Extract tables and their corresponding columns from the given SQL query.\n",
    "\n",
    "        Parameters:\n",
    "        sql_query (str): The SQL query from which tables and columns need to be extracted.\n",
    "\n",
    "        Returns:\n",
    "        dict: A dictionary containing tables as keys and lists of columns as values.\n",
    "\n",
    "        Example:\n",
    "        SchemaLinking.table_col_of_sql(\"SELECT column1, column2 FROM table1 WHERE column3 = 'value'\")\n",
    "        {'table1': ['column1', 'column2', 'column3']}\n",
    "        \"\"\"\n",
    "        \n",
    "        selected_schema = {}\n",
    "        query_split = re.split(schema_link.split_pattern, sql_query)\n",
    "        for table in schema_link.schema_datatypes.keys():\n",
    "            if table in query_split:\n",
    "                selected_col = []\n",
    "                for col in schema_link.schema_datatypes[table]['COLUMNS'].keys():\n",
    "                    if col in query_split: selected_col.append(col)\n",
    "                selected_schema[table] = selected_col\n",
    "\n",
    "        return selected_schema"
   ]
  },
  {
   "cell_type": "code",
   "execution_count": 21,
   "metadata": {},
   "outputs": [],
   "source": [
    "def safe_divide(numerator, denominator):\n",
    "    try:\n",
    "        result = round(numerator / denominator,2)\n",
    "    except :\n",
    "        result = \"ZeroDivisionError\"\n",
    "    return result\n",
    "\n",
    "def classification_accuracy(actual_cols:list, selected_cols:list):\n",
    "\n",
    "    actual_cols = set(col.lower() for col in actual_cols)\n",
    "    selected_cols = set(col.lower() for col in selected_cols)\n",
    "    col_TP = len(actual_cols & selected_cols)\n",
    "    col_FP = len(selected_cols - actual_cols)\n",
    "    col_FN = len(actual_cols - selected_cols)\n",
    "\n",
    "    precision = safe_divide(col_TP, col_TP + col_FP)\n",
    "    recall = safe_divide(col_TP, col_TP + col_FN)\n",
    "    f1_score = safe_divide(2 * precision * recall, precision + recall)\n",
    "    \n",
    "    return precision, recall, f1_score"
   ]
  },
  {
   "cell_type": "code",
   "execution_count": 15,
   "metadata": {},
   "outputs": [
    {
     "data": {
      "text/plain": [
       "{'pointx_keymatrix_dly': ['month_id', 'ntx_pointx_financial']}"
      ]
     },
     "execution_count": 15,
     "metadata": {},
     "output_type": "execute_result"
    }
   ],
   "source": [
    "table_col_of_sql(q_pair_df.iloc[0, 2])"
   ]
  },
  {
   "cell_type": "code",
   "execution_count": 8,
   "metadata": {},
   "outputs": [
    {
     "name": "stdout",
     "output_type": "stream",
     "text": [
      "String matching ['id', 'id']\n"
     ]
    },
    {
     "data": {
      "text/plain": [
       "['user_id',\n",
       " 'user_ltv_revenue',\n",
       " 'user_ltv_currency',\n",
       " 'traffic_source_medium',\n",
       " 'ecommerce',\n",
       " 'ecoupon_rank',\n",
       " 'id',\n",
       " 'merchant_id',\n",
       " 'order_id',\n",
       " 'place_id',\n",
       " 'product_id',\n",
       " 'total_amount',\n",
       " 'transaction_id',\n",
       " 'transaction_status']"
      ]
     },
     "execution_count": 8,
     "metadata": {},
     "output_type": "execute_result"
    }
   ],
   "source": [
    "list(schema_link.filter_schema(question, tables, max_n=10)[tables[0]].keys())"
   ]
  },
  {
   "cell_type": "code",
   "execution_count": 9,
   "metadata": {},
   "outputs": [
    {
     "name": "stdout",
     "output_type": "stream",
     "text": [
      "Column string match  ----> id\n",
      "Column string match  ----> id\n"
     ]
    },
    {
     "data": {
      "text/plain": [
       "['id',\n",
       " 'transaction_id',\n",
       " 'user_ltv_revenue',\n",
       " 'merchant_id',\n",
       " 'total_amount',\n",
       " 'transaction_status',\n",
       " 'user_ltv_currency',\n",
       " 'order_id',\n",
       " 'ecommerce',\n",
       " 'traffic_source_medium']"
      ]
     },
     "execution_count": 9,
     "metadata": {},
     "output_type": "execute_result"
    }
   ],
   "source": [
    "list(schema_link.old_filter_schema(question, tables, max_n=10)[tables[0]].keys())"
   ]
  },
  {
   "cell_type": "code",
   "execution_count": 35,
   "metadata": {},
   "outputs": [],
   "source": [
    "def schema_link_exp(max_n:int):\n",
    "    df_data = {\n",
    "        \"Question\" : [],\n",
    "        f\"Old {max_n} Selected cols\" : [],\n",
    "        f\"Old {max_n} # correct\" : [],\n",
    "        f\"Old {max_n} recall\" : [],\n",
    "        f\"Old {max_n} precision\" : [],\n",
    "        f\"Old {max_n} F1\" : [],\n",
    "        f\"New {max_n} Selected cols\" : [],\n",
    "        f\"New {max_n} # correct\" : [],\n",
    "        f\"New {max_n} recall\" : [],\n",
    "        f\"New {max_n} precision\" : [],\n",
    "        f\"New {max_n} F1\" : []\n",
    "    }\n",
    "    \n",
    "    for i, row in q_pair_df.iterrows():\n",
    "        \n",
    "        table = row['Table']\n",
    "        question = row['Question']\n",
    "        actual_cols = table_col_of_sql(row['Actual SQL'])[table]\n",
    "\n",
    "        old_selected_cols = list(schema_link.old_filter_schema(question, [table], max_n=max_n)[table].keys())\n",
    "        new_selected_cols = list(schema_link.filter_schema(question, [table], max_n=max_n)[table].keys())\n",
    "\n",
    "        precision, recall, f1 = classification_accuracy(actual_cols, old_selected_cols)\n",
    "\n",
    "        df_data['Question'].append(question)\n",
    "\n",
    "        df_data[f'Old {max_n} Selected cols'].append(old_selected_cols)\n",
    "        df_data[f'Old {max_n} # correct'].append(len(set(actual_cols).intersection(set(old_selected_cols))))\n",
    "        df_data[f'Old {max_n} recall'].append(recall)\n",
    "        df_data[f'Old {max_n} precision'].append(precision)\n",
    "        df_data[f'Old {max_n} F1'].append(f1)\n",
    "\n",
    "        precision, recall, f1 = classification_accuracy(actual_cols, new_selected_cols)\n",
    "\n",
    "        df_data[f'New {max_n} Selected cols'].append(new_selected_cols)\n",
    "        df_data[f'New {max_n} # correct'].append(len(set(actual_cols).intersection(set(new_selected_cols))))\n",
    "        df_data[f'New {max_n} recall'].append(recall)\n",
    "        df_data[f'New {max_n} precision'].append(precision)\n",
    "        df_data[f'New {max_n} F1'].append(f1)\n",
    "\n",
    "    result_df = pd.DataFrame(df_data)\n",
    "    return result_df"
   ]
  },
  {
   "cell_type": "code",
   "execution_count": 51,
   "metadata": {},
   "outputs": [
    {
     "name": "stdout",
     "output_type": "stream",
     "text": [
      "Column string match  ----> points\n",
      "String matching ['points']\n",
      "Column string match  ----> points\n",
      "String matching ['points']\n",
      "Column string match  ----> points\n",
      "String matching ['points']\n",
      "Column string match  ----> points\n",
      "String matching ['points']\n",
      "Column string match  ----> points\n",
      "String matching ['points']\n",
      "Column string match  ----> points\n",
      "String matching ['points']\n",
      "Column string match  ----> points\n",
      "String matching ['points']\n",
      "Column string match  ----> points\n",
      "String matching ['points']\n",
      "Column string match  ----> Platform\n",
      "String matching ['Platform']\n",
      "Column string match  ----> points\n",
      "String matching ['points']\n",
      "Column string match  ----> points\n",
      "String matching ['points']\n",
      "Column string match  ----> points\n",
      "String matching ['points']\n",
      "Column string match  ----> engagement_time_msec\n",
      "String matching ['engagement_time_msec']\n",
      "Column string match  ----> id\n",
      "Column string match  ----> id\n",
      "String matching ['id', 'id']\n",
      "Column string match  ----> platform\n",
      "String matching ['platform']\n",
      "Column string match  ----> quantity\n",
      "String matching ['quantity']\n"
     ]
    },
    {
     "data": {
      "text/html": [
       "<div>\n",
       "<style scoped>\n",
       "    .dataframe tbody tr th:only-of-type {\n",
       "        vertical-align: middle;\n",
       "    }\n",
       "\n",
       "    .dataframe tbody tr th {\n",
       "        vertical-align: top;\n",
       "    }\n",
       "\n",
       "    .dataframe thead th {\n",
       "        text-align: right;\n",
       "    }\n",
       "</style>\n",
       "<table border=\"1\" class=\"dataframe\">\n",
       "  <thead>\n",
       "    <tr style=\"text-align: right;\">\n",
       "      <th></th>\n",
       "      <th>Question</th>\n",
       "      <th>Actual cols</th>\n",
       "      <th># Actual cols</th>\n",
       "      <th>Old 200 Selected cols</th>\n",
       "      <th>Old 200 # correct</th>\n",
       "      <th>Old 200 recall</th>\n",
       "      <th>Old 200 precision</th>\n",
       "      <th>Old 200 F1</th>\n",
       "      <th>New 200 Selected cols</th>\n",
       "      <th>New 200 # correct</th>\n",
       "      <th>New 200 recall</th>\n",
       "      <th>New 200 precision</th>\n",
       "      <th>New 200 F1</th>\n",
       "    </tr>\n",
       "  </thead>\n",
       "  <tbody>\n",
       "    <tr>\n",
       "      <th>0</th>\n",
       "      <td>What is the total amout of all financial trans...</td>\n",
       "      <td>[month_id, ntx_pointx_financial]</td>\n",
       "      <td>2</td>\n",
       "      <td>[month_id, ntx_pointx_financial, ntx_pointx_fi...</td>\n",
       "      <td>2</td>\n",
       "      <td>1.0</td>\n",
       "      <td>0.01</td>\n",
       "      <td>0.02</td>\n",
       "      <td>[month_id, ntx_pointx_financial, ntx_pointx_fi...</td>\n",
       "      <td>2</td>\n",
       "      <td>1.0</td>\n",
       "      <td>0.02</td>\n",
       "      <td>0.04</td>\n",
       "    </tr>\n",
       "    <tr>\n",
       "      <th>1</th>\n",
       "      <td>What is the total amount of points generated b...</td>\n",
       "      <td>[month_id, amt_point_topup]</td>\n",
       "      <td>2</td>\n",
       "      <td>[month_id, ntx_pointx_financial, ntx_pointx_fi...</td>\n",
       "      <td>2</td>\n",
       "      <td>1.0</td>\n",
       "      <td>0.01</td>\n",
       "      <td>0.02</td>\n",
       "      <td>[month_id, ntx_pointx_financial, ncust_user, n...</td>\n",
       "      <td>2</td>\n",
       "      <td>1.0</td>\n",
       "      <td>0.02</td>\n",
       "      <td>0.04</td>\n",
       "    </tr>\n",
       "    <tr>\n",
       "      <th>2</th>\n",
       "      <td>What is the total amount of points generated b...</td>\n",
       "      <td>[month_id, amt_point_pay]</td>\n",
       "      <td>2</td>\n",
       "      <td>[month_id, ntx_pointx_financial, ntx_pointx_fi...</td>\n",
       "      <td>2</td>\n",
       "      <td>1.0</td>\n",
       "      <td>0.01</td>\n",
       "      <td>0.02</td>\n",
       "      <td>[month_id, ntx_pointx_financial_out, ncust_use...</td>\n",
       "      <td>2</td>\n",
       "      <td>1.0</td>\n",
       "      <td>0.02</td>\n",
       "      <td>0.04</td>\n",
       "    </tr>\n",
       "    <tr>\n",
       "      <th>3</th>\n",
       "      <td>What is the average rate of released points fo...</td>\n",
       "      <td>[rate_point_per_baht_pay]</td>\n",
       "      <td>1</td>\n",
       "      <td>[month_id, ntx_pointx_financial, ntx_pointx_fi...</td>\n",
       "      <td>1</td>\n",
       "      <td>1.0</td>\n",
       "      <td>0.01</td>\n",
       "      <td>0.02</td>\n",
       "      <td>[month_id, ntx_pointx_financial_out, ncust_use...</td>\n",
       "      <td>1</td>\n",
       "      <td>1.0</td>\n",
       "      <td>0.01</td>\n",
       "      <td>0.02</td>\n",
       "    </tr>\n",
       "    <tr>\n",
       "      <th>4</th>\n",
       "      <td>Can you determine the average number of custom...</td>\n",
       "      <td>[month_id, ncust_visit]</td>\n",
       "      <td>2</td>\n",
       "      <td>[month_id, ntx_pointx_financial, ntx_pointx_fi...</td>\n",
       "      <td>2</td>\n",
       "      <td>1.0</td>\n",
       "      <td>0.01</td>\n",
       "      <td>0.02</td>\n",
       "      <td>[month_id, ncust_user, ncust_pointx, ncust_vis...</td>\n",
       "      <td>2</td>\n",
       "      <td>1.0</td>\n",
       "      <td>0.02</td>\n",
       "      <td>0.04</td>\n",
       "    </tr>\n",
       "  </tbody>\n",
       "</table>\n",
       "</div>"
      ],
      "text/plain": [
       "                                            Question  \\\n",
       "0  What is the total amout of all financial trans...   \n",
       "1  What is the total amount of points generated b...   \n",
       "2  What is the total amount of points generated b...   \n",
       "3  What is the average rate of released points fo...   \n",
       "4  Can you determine the average number of custom...   \n",
       "\n",
       "                        Actual cols  # Actual cols  \\\n",
       "0  [month_id, ntx_pointx_financial]              2   \n",
       "1       [month_id, amt_point_topup]              2   \n",
       "2         [month_id, amt_point_pay]              2   \n",
       "3         [rate_point_per_baht_pay]              1   \n",
       "4           [month_id, ncust_visit]              2   \n",
       "\n",
       "                               Old 200 Selected cols  Old 200 # correct  \\\n",
       "0  [month_id, ntx_pointx_financial, ntx_pointx_fi...                  2   \n",
       "1  [month_id, ntx_pointx_financial, ntx_pointx_fi...                  2   \n",
       "2  [month_id, ntx_pointx_financial, ntx_pointx_fi...                  2   \n",
       "3  [month_id, ntx_pointx_financial, ntx_pointx_fi...                  1   \n",
       "4  [month_id, ntx_pointx_financial, ntx_pointx_fi...                  2   \n",
       "\n",
       "   Old 200 recall  Old 200 precision  Old 200 F1  \\\n",
       "0             1.0               0.01        0.02   \n",
       "1             1.0               0.01        0.02   \n",
       "2             1.0               0.01        0.02   \n",
       "3             1.0               0.01        0.02   \n",
       "4             1.0               0.01        0.02   \n",
       "\n",
       "                               New 200 Selected cols  New 200 # correct  \\\n",
       "0  [month_id, ntx_pointx_financial, ntx_pointx_fi...                  2   \n",
       "1  [month_id, ntx_pointx_financial, ncust_user, n...                  2   \n",
       "2  [month_id, ntx_pointx_financial_out, ncust_use...                  2   \n",
       "3  [month_id, ntx_pointx_financial_out, ncust_use...                  1   \n",
       "4  [month_id, ncust_user, ncust_pointx, ncust_vis...                  2   \n",
       "\n",
       "   New 200 recall  New 200 precision  New 200 F1  \n",
       "0             1.0               0.02        0.04  \n",
       "1             1.0               0.02        0.04  \n",
       "2             1.0               0.02        0.04  \n",
       "3             1.0               0.01        0.02  \n",
       "4             1.0               0.02        0.04  "
      ]
     },
     "execution_count": 51,
     "metadata": {},
     "output_type": "execute_result"
    }
   ],
   "source": [
    "list_max_n = [200]\n",
    "\n",
    "full_df = pd.DataFrame(q_pair_df['Question'])\n",
    "full_df['Actual cols'] = q_pair_df['Actual Cols'] = q_pair_df.apply(lambda row: table_col_of_sql(row['Actual SQL'])[row['Table']], axis=1)\n",
    "full_df['# Actual cols']= full_df['Actual cols'].apply(len)\n",
    "\n",
    "for n in list_max_n:\n",
    "    result_df = schema_link_exp(n)\n",
    "    full_df = pd.merge(full_df, result_df, on='Question', how='outer')\n",
    "\n",
    "full_df.to_excel(\"results/schemalink_pointx_exp.xlsx\", index=False)\n",
    "\n",
    "full_df.head()"
   ]
  },
  {
   "cell_type": "code",
   "execution_count": 55,
   "metadata": {},
   "outputs": [
    {
     "data": {
      "text/plain": [
       "0.03096774193548387"
      ]
     },
     "execution_count": 55,
     "metadata": {},
     "output_type": "execute_result"
    }
   ],
   "source": [
    "full_df['New 200 F1'].mean()"
   ]
  },
  {
   "cell_type": "code",
   "execution_count": 56,
   "metadata": {},
   "outputs": [
    {
     "data": {
      "text/plain": [
       "0.03919354838709677"
      ]
     },
     "execution_count": 56,
     "metadata": {},
     "output_type": "execute_result"
    }
   ],
   "source": [
    "full_df['Old 200 F1'].mean()"
   ]
  },
  {
   "cell_type": "code",
   "execution_count": null,
   "metadata": {},
   "outputs": [],
   "source": []
  }
 ],
 "metadata": {
  "kernelspec": {
   "display_name": "base",
   "language": "python",
   "name": "python3"
  },
  "language_info": {
   "codemirror_mode": {
    "name": "ipython",
    "version": 3
   },
   "file_extension": ".py",
   "mimetype": "text/x-python",
   "name": "python",
   "nbconvert_exporter": "python",
   "pygments_lexer": "ipython3",
   "version": "3.10.9"
  }
 },
 "nbformat": 4,
 "nbformat_minor": 2
}

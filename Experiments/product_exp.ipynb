{
 "cells": [
  {
   "cell_type": "code",
   "execution_count": 8,
   "metadata": {},
   "outputs": [],
   "source": [
    "import os\n",
    "from dotenv import load_dotenv\n",
    "\n",
    "# Load environment variables from .env file in the root path\n",
    "load_dotenv('../.env')\n",
    "\n",
    "# Now you can access the environment variables using os.environ\n",
    "GOOGLE_API_KEY = os.environ.get('GOOGLE_API_KEY')"
   ]
  },
  {
   "cell_type": "code",
   "execution_count": 9,
   "metadata": {},
   "outputs": [],
   "source": [
    "import pathlib\n",
    "import textwrap\n",
    "\n",
    "import google.generativeai as genai\n",
    "\n",
    "from IPython.display import display\n",
    "from IPython.display import Markdown\n",
    "\n",
    "\n",
    "def to_markdown(text):\n",
    "  text = text.replace('•', '  *')\n",
    "  return Markdown(textwrap.indent(text, '> ', predicate=lambda _: True))"
   ]
  },
  {
   "cell_type": "code",
   "execution_count": 12,
   "metadata": {},
   "outputs": [
    {
     "name": "stdout",
     "output_type": "stream",
     "text": [
      "models/gemini-pro\n",
      "models/gemini-pro-vision\n"
     ]
    }
   ],
   "source": [
    "genai.configure(api_key=GOOGLE_API_KEY)\n",
    "for m in genai.list_models():\n",
    "  if 'generateContent' in m.supported_generation_methods:\n",
    "    print(m.name)"
   ]
  },
  {
   "cell_type": "code",
   "execution_count": 13,
   "metadata": {},
   "outputs": [],
   "source": [
    "model = genai.GenerativeModel('gemini-pro')"
   ]
  },
  {
   "cell_type": "code",
   "execution_count": 16,
   "metadata": {},
   "outputs": [
    {
     "name": "stdout",
     "output_type": "stream",
     "text": [
      "CPU times: user 5.47 ms, sys: 4.75 ms, total: 10.2 ms\n",
      "Wall time: 6.64 s\n"
     ]
    },
    {
     "data": {
      "text/markdown": [
       "> The meaning of life is a philosophical question that has been pondered by humans for centuries. There is no one definitive answer, as the meaning of life is subjective and personal to each individual. Some people may find meaning in their relationships with others, while others may find it in their work or hobbies. Ultimately, the meaning of life is something that each person must discover for themselves.\n",
       "> \n",
       "> Here are some of the most common answers to the question \"What is the meaning of life?\":\n",
       "> \n",
       "> * **To be happy.** Many people believe that the meaning of life is to be happy. This can be achieved through a variety of means, such as spending time with loved ones, pursuing one's passions, or helping others.\n",
       "> * **To make a difference.** Some people believe that the meaning of life is to make a difference in the world. This can be done through volunteer work, activism, or simply by being a kind and compassionate person.\n",
       "> * **To learn and grow.** Others believe that the meaning of life is to learn and grow as a person. This can be done through education, travel, or simply by taking on new challenges.\n",
       "> * **To find God or spiritual enlightenment.** Some people believe that the meaning of life is to find God or spiritual enlightenment. This can be done through prayer, meditation, or simply by living a good life.\n",
       "> \n",
       "> Ultimately, the meaning of life is a personal question that each individual must answer for themselves. There is no right or wrong answer, and what is meaningful to one person may not be meaningful to another. The important thing is to find something that gives you purpose and makes you feel happy and fulfilled.\n",
       "> \n",
       "> Here are some additional thoughts on the meaning of life:\n",
       "> \n",
       "> * The meaning of life is not something that is found, but something that is created. It is not a destination, but a journey.\n",
       "> * The meaning of life is not something that is given to us, but something that we choose. It is not something that is fixed, but something that is constantly evolving.\n",
       "> * The meaning of life is not something that can be found once and for all. It is something that we must continually search for and redefine throughout our lives."
      ],
      "text/plain": [
       "<IPython.core.display.Markdown object>"
      ]
     },
     "execution_count": 16,
     "metadata": {},
     "output_type": "execute_result"
    }
   ],
   "source": [
    "%%time\n",
    "response = model.generate_content(\"What is the meaning of life?\")\n",
    "to_markdown(response.text)"
   ]
  },
  {
   "cell_type": "code",
   "execution_count": 17,
   "metadata": {},
   "outputs": [
    {
     "data": {
      "text/plain": [
       "safety_ratings {\n",
       "  category: HARM_CATEGORY_SEXUALLY_EXPLICIT\n",
       "  probability: NEGLIGIBLE\n",
       "}\n",
       "safety_ratings {\n",
       "  category: HARM_CATEGORY_HATE_SPEECH\n",
       "  probability: NEGLIGIBLE\n",
       "}\n",
       "safety_ratings {\n",
       "  category: HARM_CATEGORY_HARASSMENT\n",
       "  probability: NEGLIGIBLE\n",
       "}\n",
       "safety_ratings {\n",
       "  category: HARM_CATEGORY_DANGEROUS_CONTENT\n",
       "  probability: NEGLIGIBLE\n",
       "}"
      ]
     },
     "execution_count": 17,
     "metadata": {},
     "output_type": "execute_result"
    }
   ],
   "source": [
    "response.prompt_feedback"
   ]
  },
  {
   "cell_type": "code",
   "execution_count": 18,
   "metadata": {},
   "outputs": [
    {
     "data": {
      "text/plain": [
       "[index: 0\n",
       "content {\n",
       "  parts {\n",
       "    text: \"The meaning of life is a philosophical question that has been pondered by humans for centuries. There is no one definitive answer, as the meaning of life is subjective and personal to each individual. Some people may find meaning in their relationships with others, while others may find it in their work or hobbies. Ultimately, the meaning of life is something that each person must discover for themselves.\\n\\nHere are some of the most common answers to the question \\\"What is the meaning of life?\\\":\\n\\n* **To be happy.** Many people believe that the meaning of life is to be happy. This can be achieved through a variety of means, such as spending time with loved ones, pursuing one\\'s passions, or helping others.\\n* **To make a difference.** Some people believe that the meaning of life is to make a difference in the world. This can be done through volunteer work, activism, or simply by being a kind and compassionate person.\\n* **To learn and grow.** Others believe that the meaning of life is to learn and grow as a person. This can be done through education, travel, or simply by taking on new challenges.\\n* **To find God or spiritual enlightenment.** Some people believe that the meaning of life is to find God or spiritual enlightenment. This can be done through prayer, meditation, or simply by living a good life.\\n\\nUltimately, the meaning of life is a personal question that each individual must answer for themselves. There is no right or wrong answer, and what is meaningful to one person may not be meaningful to another. The important thing is to find something that gives you purpose and makes you feel happy and fulfilled.\\n\\nHere are some additional thoughts on the meaning of life:\\n\\n* The meaning of life is not something that is found, but something that is created. It is not a destination, but a journey.\\n* The meaning of life is not something that is given to us, but something that we choose. It is not something that is fixed, but something that is constantly evolving.\\n* The meaning of life is not something that can be found once and for all. It is something that we must continually search for and redefine throughout our lives.\"\n",
       "  }\n",
       "  role: \"model\"\n",
       "}\n",
       "finish_reason: STOP\n",
       "safety_ratings {\n",
       "  category: HARM_CATEGORY_SEXUALLY_EXPLICIT\n",
       "  probability: NEGLIGIBLE\n",
       "}\n",
       "safety_ratings {\n",
       "  category: HARM_CATEGORY_HATE_SPEECH\n",
       "  probability: NEGLIGIBLE\n",
       "}\n",
       "safety_ratings {\n",
       "  category: HARM_CATEGORY_HARASSMENT\n",
       "  probability: NEGLIGIBLE\n",
       "}\n",
       "safety_ratings {\n",
       "  category: HARM_CATEGORY_DANGEROUS_CONTENT\n",
       "  probability: NEGLIGIBLE\n",
       "}\n",
       "]"
      ]
     },
     "execution_count": 18,
     "metadata": {},
     "output_type": "execute_result"
    }
   ],
   "source": [
    "response.candidates"
   ]
  },
  {
   "cell_type": "code",
   "execution_count": 19,
   "metadata": {},
   "outputs": [
    {
     "name": "stdout",
     "output_type": "stream",
     "text": [
      "The meaning of life is a deep and philosophical question that has been pondered by humans\n",
      "________________________________________________________________________________\n",
      " for centuries. There is no single, universally accepted answer to this question, as the meaning of life is subjective and can vary from person to person. Some common\n",
      "________________________________________________________________________________\n",
      " perspectives on the meaning of life include:\n",
      "\n",
      "1. **Purpose and Fulfillment:** For many people, finding meaning in life involves having a sense of purpose and fulfillment. This can come from pursuing personal goals, making a positive impact on the world, or contributing to something larger than oneself.\n",
      "\n",
      "2. **Relationships and Connections\n",
      "________________________________________________________________________________\n",
      ":** Strong and meaningful relationships with loved ones, friends, and community members can provide a sense of purpose and belonging, which can contribute to a sense of meaning in life.\n",
      "\n",
      "3. **Challenge and Growth:** Some individuals find meaning through challenges and experiences that push them to grow and develop as persons. Overcoming obstacles, learning new skills, and expanding one's horizons can provide a sense of accomplishment and fulfillment.\n",
      "\n",
      "4. **Contribution to Society:** Many people find meaning in life by contributing to society in a positive way. This can involve volunteering, working in a helping profession, or simply being a kind and compassionate person who makes others\n",
      "________________________________________________________________________________\n",
      "' lives better.\n",
      "\n",
      "5. **Pursuit of Knowledge and Understanding:** For some, the meaning of life lies in the pursuit of knowledge and understanding. This can involve studying various subjects, exploring different cultures, or engaging in intellectual pursuits that satisfy their curiosity and expand their worldview.\n",
      "\n",
      "6. **Experiencing Beauty and Wonder:** Appreciating the beauty and wonder of the natural world and life's simple pleasures can provide a sense of awe and gratitude, contributing to a sense of meaning and purpose.\n",
      "\n",
      "7. **Spiritual and Religious Beliefs:** For many individuals, spiritual or religious beliefs provide a framework for understanding the meaning of life. Religious or spiritual practices, such as prayer, meditation, or rituals, can provide a sense of connection to a higher power or purpose.\n",
      "\n",
      "Ultimately, the meaning of life is a personal and subjective quest that each individual must explore and discover for themselves. It is often a lifelong pursuit that involves self-reflection, introspection, and ongoing learning and growth.\n",
      "________________________________________________________________________________\n",
      "CPU times: user 27.5 ms, sys: 9.85 ms, total: 37.4 ms\n",
      "Wall time: 8.23 s\n"
     ]
    }
   ],
   "source": [
    "%%time\n",
    "response = model.generate_content(\"What is the meaning of life?\", stream=True)\n",
    "for chunk in response:\n",
    "  print(chunk.text)\n",
    "  print(\"_\"*80)"
   ]
  },
  {
   "cell_type": "code",
   "execution_count": 20,
   "metadata": {},
   "outputs": [
    {
     "data": {
      "text/plain": [
       "safety_ratings {\n",
       "  category: HARM_CATEGORY_SEXUALLY_EXPLICIT\n",
       "  probability: NEGLIGIBLE\n",
       "}\n",
       "safety_ratings {\n",
       "  category: HARM_CATEGORY_HATE_SPEECH\n",
       "  probability: NEGLIGIBLE\n",
       "}\n",
       "safety_ratings {\n",
       "  category: HARM_CATEGORY_HARASSMENT\n",
       "  probability: NEGLIGIBLE\n",
       "}\n",
       "safety_ratings {\n",
       "  category: HARM_CATEGORY_DANGEROUS_CONTENT\n",
       "  probability: NEGLIGIBLE\n",
       "}"
      ]
     },
     "execution_count": 20,
     "metadata": {},
     "output_type": "execute_result"
    }
   ],
   "source": [
    "response = model.generate_content(\"What is the meaning of life?\", stream=True)\n",
    "response.prompt_feedback"
   ]
  },
  {
   "cell_type": "code",
   "execution_count": 21,
   "metadata": {},
   "outputs": [
    {
     "name": "stdout",
     "output_type": "stream",
     "text": [
      "IncompleteIterationError: Please let the response complete iteration before accessing the final accumulated\n",
      "attributes (or call `response.resolve()`)\n"
     ]
    }
   ],
   "source": [
    "try:\n",
    "  response.text\n",
    "except Exception as e:\n",
    "  print(f'{type(e).__name__}: {e}')"
   ]
  },
  {
   "cell_type": "code",
   "execution_count": null,
   "metadata": {},
   "outputs": [],
   "source": []
  }
 ],
 "metadata": {
  "kernelspec": {
   "display_name": "base",
   "language": "python",
   "name": "python3"
  },
  "language_info": {
   "codemirror_mode": {
    "name": "ipython",
    "version": 3
   },
   "file_extension": ".py",
   "mimetype": "text/x-python",
   "name": "python",
   "nbconvert_exporter": "python",
   "pygments_lexer": "ipython3",
   "version": "3.10.9"
  }
 },
 "nbformat": 4,
 "nbformat_minor": 2
}

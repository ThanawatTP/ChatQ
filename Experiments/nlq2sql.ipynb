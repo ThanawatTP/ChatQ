{
 "cells": [
  {
   "cell_type": "code",
   "execution_count": 61,
   "metadata": {},
   "outputs": [
    {
     "name": "stdout",
     "output_type": "stream",
     "text": [
      "pointx_cust_mly_datatype.json pointx_cust_mly_description.json\n",
      "74 74\n",
      "set()\n",
      "set()\n",
      "\n",
      "pointx_fbs_rpt_dly_datatype.json pointx_fbs_rpt_dly_description.json\n",
      "182 182\n",
      "set()\n",
      "set()\n",
      "\n",
      "pointx_keymatrix_dly_datatype.json pointx_keymatrix_dly_description.json\n",
      "168 168\n",
      "set()\n",
      "set()\n",
      "\n"
     ]
    }
   ],
   "source": [
    "import json, os, copy\n",
    "\n",
    "datatype_path = \"../filtering_schema/src/schemas/column-datatypes\"\n",
    "description_path = \"../filtering_schema/src/schemas/column-descriptions\"\n",
    "\n",
    "def read_json(file_path):\n",
    "    with open(file_path, 'r') as f:\n",
    "        return json.load(f)\n",
    "    \n",
    "for file1_path, file2_path in zip(sorted(os.listdir(datatype_path)), sorted(os.listdir(description_path))):\n",
    "    datatype_json = read_json(os.path.join(datatype_path, file1_path))\n",
    "    description_json = read_json(os.path.join(description_path, file2_path))\n",
    "    cols_1 = set(datatype_json['COLUMNS'].keys())\n",
    "    cols_2 = set(description_json['columns'].keys())\n",
    "    print(file1_path, file2_path)\n",
    "    print(len(cols_1), len(cols_2))\n",
    "    print(cols_1.difference(cols_2))\n",
    "    print(cols_2.difference(cols_1))\n",
    "\n",
    "    if not len(cols_1) == len(cols_2):\n",
    "        intersec_col = cols_1.intersection(cols_2)\n",
    "        filtered_datatype_json = copy.deepcopy(datatype_json)\n",
    "        filtered_description_json = copy.deepcopy(description_json)\n",
    "        filtered_datatype_json['COLUMNS'] = {key: datatype_json['COLUMNS'][key] for key in intersec_col}\n",
    "        filtered_description_json['columns'] = {key: description_json['columns'][key] for key in intersec_col}\n",
    "        cols_1 = set(filtered_datatype_json['COLUMNS'].keys())\n",
    "        cols_2 = set(filtered_description_json['columns'].keys())\n",
    "        print(len(cols_1), len(cols_2))\n",
    "        print(cols_1.difference(cols_2))\n",
    "        print(cols_2.difference(cols_1))\n",
    "        new_file1_path = os.path.join(datatype_path, file1_path)\n",
    "        new_file2_path = os.path.join(description_path, file2_path)\n",
    "        with open(new_file1_path, 'w') as f1:\n",
    "            json.dump(filtered_datatype_json, f1, indent=4)\n",
    "        with open(new_file2_path, 'w') as f2:\n",
    "            json.dump(filtered_description_json, f2, indent=4)\n",
    "    print()\n"
   ]
  },
  {
   "cell_type": "code",
   "execution_count": null,
   "metadata": {},
   "outputs": [],
   "source": []
  }
 ],
 "metadata": {
  "kernelspec": {
   "display_name": "base",
   "language": "python",
   "name": "python3"
  },
  "language_info": {
   "codemirror_mode": {
    "name": "ipython",
    "version": 3
   },
   "file_extension": ".py",
   "mimetype": "text/x-python",
   "name": "python",
   "nbconvert_exporter": "python",
   "pygments_lexer": "ipython3",
   "version": "3.10.9"
  }
 },
 "nbformat": 4,
 "nbformat_minor": 2
}

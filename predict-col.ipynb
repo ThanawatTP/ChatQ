{
 "cells": [
  {
   "cell_type": "code",
   "execution_count": null,
   "metadata": {},
   "outputs": [],
   "source": [
    "# import nltk\n",
    "# nltk.download('stopwords')\n",
    "# nltk.download('punkt')\n",
    "# nltk.download('words')\n",
    "\n",
    "\n",
    "from nltk.stem import WordNetLemmatizer\n",
    "from nltk.tokenize import word_tokenize\n",
    "from tuning_model_class import w2v_tuning\n",
    "from transformers import  ElectraTokenizerFast\n",
    "from nltk.corpus import wordnet, stopwords, words\n",
    "import json\n",
    "import pandas as pd"
   ]
  },
  {
   "cell_type": "code",
   "execution_count": null,
   "metadata": {},
   "outputs": [],
   "source": [
    "vocabulary = words.words()"
   ]
  },
  {
   "cell_type": "code",
   "execution_count": null,
   "metadata": {},
   "outputs": [],
   "source": [
    "w2vmodel = w2v_tuning()\n",
    "w2vmodel.set_vector_path(\"w2v.42B.300d.txt\",'GloVe.wordvectors')\n",
    "w2vmodel.CreateW2V_Model()"
   ]
  },
  {
   "cell_type": "code",
   "execution_count": null,
   "metadata": {},
   "outputs": [],
   "source": [
    "w2vmodel.model.wv.most_similar('event',topn=5)"
   ]
  },
  {
   "cell_type": "code",
   "execution_count": null,
   "metadata": {},
   "outputs": [],
   "source": [
    "# db_schema = ['zipcode','state','company','product','date']\n",
    "db_schema = ['id','name','age','song','show','order']"
   ]
  },
  {
   "cell_type": "code",
   "execution_count": null,
   "metadata": {},
   "outputs": [],
   "source": [
    "target_word = 'How many singer in ABC concert?'\n",
    "# target_word = 'Who play LOVE in ABC tour?'\n",
    "target_word = 'Which name of singer that play in event?'"
   ]
  },
  {
   "cell_type": "code",
   "execution_count": null,
   "metadata": {},
   "outputs": [],
   "source": [
    "def preprocess_question(text:str):\n",
    "    tokens = word_tokenize(text.lower())\n",
    "    stop_words = set(stopwords.words('english'))\n",
    "    filtered_tokens = [WordNetLemmatizer().lemmatize(word, wordnet.NOUN) for word in tokens if (word not in stop_words and word.isalnum())]\n",
    "    return filtered_tokens"
   ]
  },
  {
   "cell_type": "code",
   "execution_count": null,
   "metadata": {},
   "outputs": [],
   "source": [
    "def tokenize_column(col_list:list):\n",
    "    tokenizer = ElectraTokenizerFast.from_pretrained(\"google/electra-large-discriminator\")\n",
    "    token_col = [tokenizer.tokenize(col_name) for col_name in col_list]\n",
    "    return token_col"
   ]
  },
  {
   "cell_type": "code",
   "execution_count": null,
   "metadata": {},
   "outputs": [],
   "source": [
    "for word in preprocess_question(target_word):\n",
    "    similarities = {}\n",
    "    for w in db_schema:\n",
    "        similarities[w] = w2vmodel.model.wv.similarity(word,w)\n",
    "\n",
    "    sorted_similarities = sorted(similarities.items(), key=lambda x: x[1], reverse=True)\n",
    "    print(f\"'{word}' similar '{sorted_similarities[0][0]} {sorted_similarities[0][1]:.2f}'\")"
   ]
  },
  {
   "cell_type": "code",
   "execution_count": null,
   "metadata": {},
   "outputs": [],
   "source": [
    "# can can redirect to fullcolumn name (with key)"
   ]
  },
  {
   "cell_type": "code",
   "execution_count": null,
   "metadata": {},
   "outputs": [],
   "source": []
  },
  {
   "cell_type": "code",
   "execution_count": null,
   "metadata": {},
   "outputs": [],
   "source": [
    "db_id = \"concert_singer\"\n",
    "questions = []\n",
    "\n",
    "with open(\"spider/dev.json\", 'r') as json_file:\n",
    "    data = json.load(json_file)\n",
    "\n",
    "for element in data:\n",
    "    if element['db_id'] == db_id:\n",
    "        questions.append(element['question'])"
   ]
  },
  {
   "cell_type": "code",
   "execution_count": null,
   "metadata": {},
   "outputs": [],
   "source": [
    "import sqlite3\n",
    "\n",
    "# Specify the full path to the SQLite database file\n",
    "db_file_path = 'data/concert_singer/concert_singer.sqlite'\n",
    "db_dict = {}\n",
    "col_to_tables = {}\n",
    "\n",
    "# Connect to the database\n",
    "connection = sqlite3.connect(db_file_path)\n",
    "\n",
    "# Create a cursor object\n",
    "cursor = connection.cursor()\n",
    "\n",
    "# Query the SQLite master table to get the list of table names\n",
    "cursor.execute(\"SELECT name FROM sqlite_master WHERE type='table';\")\n",
    "\n",
    "# Fetch all table names\n",
    "table_names = cursor.fetchall()\n",
    "\n",
    "# Iterate through the table names\n",
    "for table in table_names:\n",
    "    table_name = table[0]\n",
    "    print(f\"Table: {table_name}\")\n",
    "\n",
    "    # Query the PRAGMA statement to get column information for the current table\n",
    "    cursor.execute(f\"PRAGMA table_info({table_name})\")\n",
    "\n",
    "    # Fetch column information\n",
    "    column_info = cursor.fetchall()\n",
    "\n",
    "    # Extract and print column names for the current table\n",
    "    column_names = [col[1] for col in column_info]\n",
    "    print(\"Columns:\", column_names)\n",
    "    # print(\"Tokenize columns:\", tokenize_column(column_names))\n",
    "    db_dict[table_name] = column_names\n",
    "    \n",
    "    for col in column_names:\n",
    "        col_to_tables[col] = table_name\n",
    "\n",
    "    print(\"\\n\")\n",
    "\n",
    "# Close the cursor and the connection\n",
    "cursor.close()\n",
    "connection.close()\n"
   ]
  },
  {
   "cell_type": "code",
   "execution_count": null,
   "metadata": {},
   "outputs": [],
   "source": [
    "db_dict"
   ]
  },
  {
   "cell_type": "code",
   "execution_count": null,
   "metadata": {},
   "outputs": [],
   "source": [
    "col_to_tables"
   ]
  },
  {
   "cell_type": "code",
   "execution_count": null,
   "metadata": {},
   "outputs": [],
   "source": [
    "questions[:10]"
   ]
  },
  {
   "cell_type": "code",
   "execution_count": null,
   "metadata": {},
   "outputs": [],
   "source": [
    "for q in questions[:10]:\n",
    "    q_tokens = preprocess_question(q)\n",
    "    print(q_tokens)"
   ]
  },
  {
   "cell_type": "code",
   "execution_count": 135,
   "metadata": {},
   "outputs": [],
   "source": [
    "def compare_word_col(df, question:str):\n",
    "    \n",
    "    q_tokens = preprocess_question(question)\n",
    "    for qtoken in q_tokens:\n",
    "        is_value_exist = df['Q_token'].isin([q_tokens])\n",
    "\n",
    "        if not is_value_exist.any():    #word is not exist\n",
    "            list_score = [qtoken]\n",
    "            tokenizer = ElectraTokenizerFast.from_pretrained(\"google/electra-large-discriminator\")\n",
    "            for col_name in list(df.columns):\n",
    "                if col_name == \"Q_token\":\n",
    "                    continue\n",
    "                score = 0\n",
    "                for ctoken in tokenizer.tokenize(col_name):\n",
    "                    similar_score = w2vmodel.model.wv.similarity(ctoken,qtoken)\n",
    "                    if score < similar_score:\n",
    "                        score = similar_score\n",
    "                \n",
    "                list_score.append(score)\n",
    "                \n",
    "\n",
    "            df.loc[len(df.index)] = list_score\n",
    "            # Reset the index to reindex the DataFrame\n",
    "            df.reset_index(drop=True, inplace=True)\n",
    "\n",
    "\n",
    "    return df"
   ]
  },
  {
   "cell_type": "code",
   "execution_count": 136,
   "metadata": {},
   "outputs": [
    {
     "data": {
      "text/html": [
       "<div>\n",
       "<style scoped>\n",
       "    .dataframe tbody tr th:only-of-type {\n",
       "        vertical-align: middle;\n",
       "    }\n",
       "\n",
       "    .dataframe tbody tr th {\n",
       "        vertical-align: top;\n",
       "    }\n",
       "\n",
       "    .dataframe thead th {\n",
       "        text-align: right;\n",
       "    }\n",
       "</style>\n",
       "<table border=\"1\" class=\"dataframe\">\n",
       "  <thead>\n",
       "    <tr style=\"text-align: right;\">\n",
       "      <th></th>\n",
       "      <th>Q_token</th>\n",
       "      <th>Stadium_ID</th>\n",
       "      <th>Location</th>\n",
       "      <th>Name</th>\n",
       "      <th>Capacity</th>\n",
       "      <th>Highest</th>\n",
       "      <th>Lowest</th>\n",
       "      <th>Average</th>\n",
       "      <th>Singer_ID</th>\n",
       "      <th>Country</th>\n",
       "      <th>Song_Name</th>\n",
       "      <th>Song_release_year</th>\n",
       "      <th>Age</th>\n",
       "      <th>Is_male</th>\n",
       "      <th>concert_ID</th>\n",
       "      <th>concert_Name</th>\n",
       "      <th>Theme</th>\n",
       "      <th>Year</th>\n",
       "    </tr>\n",
       "  </thead>\n",
       "  <tbody>\n",
       "    <tr>\n",
       "      <th>0</th>\n",
       "      <td>many</td>\n",
       "      <td>0.353882</td>\n",
       "      <td>0.421393</td>\n",
       "      <td>0.516184</td>\n",
       "      <td>0.409436</td>\n",
       "      <td>0.467571</td>\n",
       "      <td>0.381741</td>\n",
       "      <td>0.432902</td>\n",
       "      <td>0.353882</td>\n",
       "      <td>0.586557</td>\n",
       "      <td>0.516184</td>\n",
       "      <td>0.591357</td>\n",
       "      <td>0.506382</td>\n",
       "      <td>0.614467</td>\n",
       "      <td>0.378397</td>\n",
       "      <td>0.516184</td>\n",
       "      <td>0.416133</td>\n",
       "      <td>0.591357</td>\n",
       "    </tr>\n",
       "    <tr>\n",
       "      <th>1</th>\n",
       "      <td>singer</td>\n",
       "      <td>0.227184</td>\n",
       "      <td>0.229849</td>\n",
       "      <td>0.415831</td>\n",
       "      <td>0.173727</td>\n",
       "      <td>0.209600</td>\n",
       "      <td>0.120408</td>\n",
       "      <td>0.225402</td>\n",
       "      <td>1.000000</td>\n",
       "      <td>0.421359</td>\n",
       "      <td>0.633667</td>\n",
       "      <td>0.633667</td>\n",
       "      <td>0.350259</td>\n",
       "      <td>0.410767</td>\n",
       "      <td>0.545982</td>\n",
       "      <td>0.545982</td>\n",
       "      <td>0.273864</td>\n",
       "      <td>0.375702</td>\n",
       "    </tr>\n",
       "  </tbody>\n",
       "</table>\n",
       "</div>"
      ],
      "text/plain": [
       "  Q_token  Stadium_ID  Location      Name  Capacity   Highest    Lowest  \\\n",
       "0    many    0.353882  0.421393  0.516184  0.409436  0.467571  0.381741   \n",
       "1  singer    0.227184  0.229849  0.415831  0.173727  0.209600  0.120408   \n",
       "\n",
       "    Average  Singer_ID   Country  Song_Name  Song_release_year       Age  \\\n",
       "0  0.432902   0.353882  0.586557   0.516184           0.591357  0.506382   \n",
       "1  0.225402   1.000000  0.421359   0.633667           0.633667  0.350259   \n",
       "\n",
       "    Is_male  concert_ID  concert_Name     Theme      Year  \n",
       "0  0.614467    0.378397      0.516184  0.416133  0.591357  \n",
       "1  0.410767    0.545982      0.545982  0.273864  0.375702  "
      ]
     },
     "execution_count": 136,
     "metadata": {},
     "output_type": "execute_result"
    }
   ],
   "source": [
    "cols = ['Q_token'] + list(col_to_tables.keys())\n",
    "df = pd.DataFrame(columns=cols)\n",
    "\n",
    "compare_word_col(df,q)"
   ]
  },
  {
   "cell_type": "code",
   "execution_count": null,
   "metadata": {},
   "outputs": [],
   "source": [
    "def map_column_table(db_dict,col_to_table,column_name):\n",
    "    \n",
    "    return"
   ]
  },
  {
   "cell_type": "code",
   "execution_count": 137,
   "metadata": {},
   "outputs": [
    {
     "name": "stdout",
     "output_type": "stream",
     "text": [
      "Question: How many singers do we have?\n",
      "Question tokens: ['many', 'singer']\n"
     ]
    }
   ],
   "source": [
    "cols = ['Q_token'] + list(col_to_tables.keys())\n",
    "df = pd.DataFrame(columns=cols)\n",
    "\n",
    "q = questions[0]\n",
    "print(\"Question:\", q)\n",
    "\n",
    "q_tokens = preprocess_question(q)\n",
    "print(\"Question tokens:\", q_tokens)\n",
    "\n"
   ]
  },
  {
   "cell_type": "code",
   "execution_count": null,
   "metadata": {},
   "outputs": [],
   "source": []
  }
 ],
 "metadata": {
  "kernelspec": {
   "display_name": "base",
   "language": "python",
   "name": "python3"
  },
  "language_info": {
   "codemirror_mode": {
    "name": "ipython",
    "version": 3
   },
   "file_extension": ".py",
   "mimetype": "text/x-python",
   "name": "python",
   "nbconvert_exporter": "python",
   "pygments_lexer": "ipython3",
   "version": "3.10.9"
  },
  "orig_nbformat": 4
 },
 "nbformat": 4,
 "nbformat_minor": 2
}

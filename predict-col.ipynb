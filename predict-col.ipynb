{
 "cells": [
  {
   "cell_type": "code",
   "execution_count": 1,
   "metadata": {},
   "outputs": [
    {
     "name": "stderr",
     "output_type": "stream",
     "text": [
      "[nltk_data] Downloading package words to\n",
      "[nltk_data]     /Users/thanawatthongpia/nltk_data...\n",
      "[nltk_data]   Package words is already up-to-date!\n",
      "[nltk_data] Downloading package punkt to\n",
      "[nltk_data]     /Users/thanawatthongpia/nltk_data...\n",
      "[nltk_data]   Package punkt is already up-to-date!\n",
      "[nltk_data] Downloading package wordnet to\n",
      "[nltk_data]     /Users/thanawatthongpia/nltk_data...\n",
      "[nltk_data]   Package wordnet is already up-to-date!\n"
     ]
    },
    {
     "name": "stdout",
     "output_type": "stream",
     "text": [
      "run\n"
     ]
    }
   ],
   "source": [
    "# import nltk\n",
    "# nltk.download('stopwords')\n",
    "# nltk.download('punkt')\n",
    "# nltk.download('words')\n",
    "\n",
    "\n",
    "from nltk.stem import WordNetLemmatizer\n",
    "from nltk.tokenize import word_tokenize\n",
    "from tuning_model_class import w2v_tuning\n",
    "from transformers import  ElectraTokenizerFast\n",
    "from nltk.corpus import wordnet, stopwords, words\n",
    "import json\n",
    "import pandas as pd"
   ]
  },
  {
   "cell_type": "code",
   "execution_count": 2,
   "metadata": {},
   "outputs": [],
   "source": [
    "vocabulary = words.words()"
   ]
  },
  {
   "cell_type": "code",
   "execution_count": 5,
   "metadata": {},
   "outputs": [
    {
     "name": "stdout",
     "output_type": "stream",
     "text": [
      "load pre-train model\n"
     ]
    }
   ],
   "source": [
    "w2vmodel = w2v_tuning()\n",
    "w2vmodel.set_vector_path(\"w2v.42B.300d.txt\",'GloVe.wordvectors')\n",
    "w2vmodel.CreateW2V_Model()"
   ]
  },
  {
   "cell_type": "code",
   "execution_count": 6,
   "metadata": {},
   "outputs": [
    {
     "data": {
      "text/plain": [
       "[('events', 0.8563973903656006),\n",
       " ('venue', 0.6610988974571228),\n",
       " ('weekend', 0.6492050290107727),\n",
       " ('celebration', 0.6340488195419312),\n",
       " ('show', 0.620791494846344)]"
      ]
     },
     "execution_count": 6,
     "metadata": {},
     "output_type": "execute_result"
    }
   ],
   "source": [
    "w2vmodel.model.wv.most_similar('event',topn=5)"
   ]
  },
  {
   "cell_type": "code",
   "execution_count": 7,
   "metadata": {},
   "outputs": [],
   "source": [
    "# db_schema = ['zipcode','state','company','product','date']\n",
    "db_schema = ['id','name','age','song','show','order']"
   ]
  },
  {
   "cell_type": "code",
   "execution_count": 8,
   "metadata": {},
   "outputs": [],
   "source": [
    "target_word = 'How many singer in ABC concert?'\n",
    "# target_word = 'Who play LOVE in ABC tour?'\n",
    "target_word = 'Which name of singer that play in event?'"
   ]
  },
  {
   "cell_type": "code",
   "execution_count": 3,
   "metadata": {},
   "outputs": [],
   "source": [
    "def preprocess_question(text:str):\n",
    "    tokens = word_tokenize(text.lower())\n",
    "    stop_words = set(stopwords.words('english'))\n",
    "    filtered_tokens = [WordNetLemmatizer().lemmatize(word, wordnet.NOUN) for word in tokens if (word not in stop_words and word.isalnum())]\n",
    "    return filtered_tokens"
   ]
  },
  {
   "cell_type": "code",
   "execution_count": 4,
   "metadata": {},
   "outputs": [],
   "source": [
    "def tokenize_column(col_list:list):\n",
    "    tokenizer = ElectraTokenizerFast.from_pretrained(\"google/electra-large-discriminator\")\n",
    "    token_col = [tokenizer.tokenize(col_name) for col_name in col_list]\n",
    "    return token_col"
   ]
  },
  {
   "cell_type": "code",
   "execution_count": 9,
   "metadata": {},
   "outputs": [
    {
     "name": "stdout",
     "output_type": "stream",
     "text": [
      "'name' similar 'name 1.00'\n",
      "'singer' similar 'song 0.63'\n",
      "'play' similar 'song 0.52'\n",
      "'event' similar 'show 0.62'\n"
     ]
    }
   ],
   "source": [
    "for word in preprocess_question(target_word):\n",
    "    similarities = {}\n",
    "    for w in db_schema:\n",
    "        similarities[w] = w2vmodel.model.wv.similarity(word,w)\n",
    "\n",
    "    sorted_similarities = sorted(similarities.items(), key=lambda x: x[1], reverse=True)\n",
    "    print(f\"'{word}' similar '{sorted_similarities[0][0]} {sorted_similarities[0][1]:.2f}'\")"
   ]
  },
  {
   "cell_type": "code",
   "execution_count": null,
   "metadata": {},
   "outputs": [],
   "source": [
    "# can can redirect to fullcolumn name (with key)"
   ]
  },
  {
   "cell_type": "code",
   "execution_count": null,
   "metadata": {},
   "outputs": [],
   "source": []
  },
  {
   "cell_type": "code",
   "execution_count": 10,
   "metadata": {},
   "outputs": [],
   "source": [
    "db_id = \"concert_singer\"\n",
    "questions = []\n",
    "\n",
    "with open(\"spider/dev.json\", 'r') as json_file:\n",
    "    data = json.load(json_file)\n",
    "\n",
    "for element in data:\n",
    "    if element['db_id'] == db_id:\n",
    "        questions.append(element['question'])"
   ]
  },
  {
   "cell_type": "code",
   "execution_count": 11,
   "metadata": {},
   "outputs": [
    {
     "name": "stdout",
     "output_type": "stream",
     "text": [
      "Table: stadium\n",
      "Columns: ['Stadium_ID', 'Location', 'Name', 'Capacity', 'Highest', 'Lowest', 'Average']\n",
      "\n",
      "\n",
      "Table: singer\n",
      "Columns: ['Singer_ID', 'Name', 'Country', 'Song_Name', 'Song_release_year', 'Age', 'Is_male']\n",
      "\n",
      "\n",
      "Table: concert\n",
      "Columns: ['concert_ID', 'concert_Name', 'Theme', 'Stadium_ID', 'Year']\n",
      "\n",
      "\n",
      "Table: singer_in_concert\n",
      "Columns: ['concert_ID', 'Singer_ID']\n",
      "\n",
      "\n"
     ]
    }
   ],
   "source": [
    "import sqlite3\n",
    "\n",
    "# Specify the full path to the SQLite database file\n",
    "db_file_path = 'db/concert_singer/concert_singer.sqlite'\n",
    "db_dict = {}\n",
    "col_to_tables = {}\n",
    "\n",
    "# Connect to the database\n",
    "connection = sqlite3.connect(db_file_path)\n",
    "\n",
    "# Create a cursor object\n",
    "cursor = connection.cursor()\n",
    "\n",
    "# Query the SQLite master table to get the list of table names\n",
    "cursor.execute(\"SELECT name FROM sqlite_master WHERE type='table';\")\n",
    "\n",
    "# Fetch all table names\n",
    "table_names = cursor.fetchall()\n",
    "\n",
    "# Iterate through the table names\n",
    "for table in table_names:\n",
    "    table_name = table[0]\n",
    "    print(f\"Table: {table_name}\")\n",
    "\n",
    "    # Query the PRAGMA statement to get column information for the current table\n",
    "    cursor.execute(f\"PRAGMA table_info({table_name})\")\n",
    "\n",
    "    # Fetch column information\n",
    "    column_info = cursor.fetchall()\n",
    "\n",
    "    # Extract and print column names for the current table\n",
    "    column_names = [col[1] for col in column_info]\n",
    "    print(\"Columns:\", column_names)\n",
    "    # print(\"Tokenize columns:\", tokenize_column(column_names))\n",
    "    db_dict[table_name] = column_names\n",
    "    \n",
    "    for col in column_names:\n",
    "        col_to_tables[col] = table_name\n",
    "\n",
    "    print(\"\\n\")\n",
    "\n",
    "# Close the cursor and the connection\n",
    "cursor.close()\n",
    "connection.close()\n"
   ]
  },
  {
   "cell_type": "code",
   "execution_count": 12,
   "metadata": {},
   "outputs": [
    {
     "data": {
      "text/plain": [
       "{'stadium': ['Stadium_ID',\n",
       "  'Location',\n",
       "  'Name',\n",
       "  'Capacity',\n",
       "  'Highest',\n",
       "  'Lowest',\n",
       "  'Average'],\n",
       " 'singer': ['Singer_ID',\n",
       "  'Name',\n",
       "  'Country',\n",
       "  'Song_Name',\n",
       "  'Song_release_year',\n",
       "  'Age',\n",
       "  'Is_male'],\n",
       " 'concert': ['concert_ID', 'concert_Name', 'Theme', 'Stadium_ID', 'Year'],\n",
       " 'singer_in_concert': ['concert_ID', 'Singer_ID']}"
      ]
     },
     "execution_count": 12,
     "metadata": {},
     "output_type": "execute_result"
    }
   ],
   "source": [
    "db_dict"
   ]
  },
  {
   "cell_type": "code",
   "execution_count": 13,
   "metadata": {},
   "outputs": [
    {
     "data": {
      "text/plain": [
       "{'Stadium_ID': 'concert',\n",
       " 'Location': 'stadium',\n",
       " 'Name': 'singer',\n",
       " 'Capacity': 'stadium',\n",
       " 'Highest': 'stadium',\n",
       " 'Lowest': 'stadium',\n",
       " 'Average': 'stadium',\n",
       " 'Singer_ID': 'singer_in_concert',\n",
       " 'Country': 'singer',\n",
       " 'Song_Name': 'singer',\n",
       " 'Song_release_year': 'singer',\n",
       " 'Age': 'singer',\n",
       " 'Is_male': 'singer',\n",
       " 'concert_ID': 'singer_in_concert',\n",
       " 'concert_Name': 'concert',\n",
       " 'Theme': 'concert',\n",
       " 'Year': 'concert'}"
      ]
     },
     "execution_count": 13,
     "metadata": {},
     "output_type": "execute_result"
    }
   ],
   "source": [
    "col_to_tables"
   ]
  },
  {
   "cell_type": "code",
   "execution_count": 14,
   "metadata": {},
   "outputs": [
    {
     "data": {
      "text/plain": [
       "['How many singers do we have?',\n",
       " 'What is the total number of singers?',\n",
       " 'Show name, country, age for all singers ordered by age from the oldest to the youngest.',\n",
       " 'What are the names, countries, and ages for every singer in descending order of age?',\n",
       " 'What is the average, minimum, and maximum age of all singers from France?',\n",
       " 'What is the average, minimum, and maximum age for all French singers?',\n",
       " 'Show the name and the release year of the song by the youngest singer.',\n",
       " 'What are the names and release years for all the songs of the youngest singer?',\n",
       " 'What are all distinct countries where singers above age 20 are from?',\n",
       " 'What are  the different countries with singers above age 20?']"
      ]
     },
     "execution_count": 14,
     "metadata": {},
     "output_type": "execute_result"
    }
   ],
   "source": [
    "questions[:10]"
   ]
  },
  {
   "cell_type": "code",
   "execution_count": 44,
   "metadata": {},
   "outputs": [],
   "source": [
    "def compare_word_col(df, question:str):\n",
    "    \n",
    "    q_tokens = preprocess_question(question)\n",
    "    for qtoken in q_tokens:\n",
    "        is_value_exist = df['Q_token'].isin([q_tokens])\n",
    "\n",
    "        if not is_value_exist.any():    #word is not exist\n",
    "            list_score = [qtoken]\n",
    "            tokenizer = ElectraTokenizerFast.from_pretrained(\"google/electra-large-discriminator\")\n",
    "            for col_name in list(df.columns):\n",
    "                if col_name == \"Q_token\":\n",
    "                    continue\n",
    "                score = 0\n",
    "                for ctoken in tokenizer.tokenize(col_name):\n",
    "                    similar_score = w2vmodel.model.wv.similarity(ctoken,qtoken)\n",
    "                    if score < similar_score:\n",
    "                        score = similar_score\n",
    "                \n",
    "                list_score.append(score)\n",
    "                \n",
    "\n",
    "            df.loc[len(df.index)] = list_score\n",
    "            # Reset the index to reindex the DataFrame\n",
    "            df.reset_index(drop=True, inplace=True)\n",
    "\n",
    "\n",
    "    return df"
   ]
  },
  {
   "cell_type": "code",
   "execution_count": 45,
   "metadata": {},
   "outputs": [
    {
     "data": {
      "text/html": [
       "<div>\n",
       "<style scoped>\n",
       "    .dataframe tbody tr th:only-of-type {\n",
       "        vertical-align: middle;\n",
       "    }\n",
       "\n",
       "    .dataframe tbody tr th {\n",
       "        vertical-align: top;\n",
       "    }\n",
       "\n",
       "    .dataframe thead th {\n",
       "        text-align: right;\n",
       "    }\n",
       "</style>\n",
       "<table border=\"1\" class=\"dataframe\">\n",
       "  <thead>\n",
       "    <tr style=\"text-align: right;\">\n",
       "      <th></th>\n",
       "      <th>Q_token</th>\n",
       "      <th>Stadium_ID</th>\n",
       "      <th>Location</th>\n",
       "      <th>Name</th>\n",
       "      <th>Capacity</th>\n",
       "      <th>Highest</th>\n",
       "      <th>Lowest</th>\n",
       "      <th>Average</th>\n",
       "      <th>Singer_ID</th>\n",
       "      <th>Country</th>\n",
       "      <th>Song_Name</th>\n",
       "      <th>Song_release_year</th>\n",
       "      <th>Age</th>\n",
       "      <th>Is_male</th>\n",
       "      <th>concert_ID</th>\n",
       "      <th>concert_Name</th>\n",
       "      <th>Theme</th>\n",
       "      <th>Year</th>\n",
       "    </tr>\n",
       "  </thead>\n",
       "  <tbody>\n",
       "    <tr>\n",
       "      <th>0</th>\n",
       "      <td>average</td>\n",
       "      <td>0.259954</td>\n",
       "      <td>0.368489</td>\n",
       "      <td>0.309350</td>\n",
       "      <td>0.445303</td>\n",
       "      <td>0.582857</td>\n",
       "      <td>0.580766</td>\n",
       "      <td>1.000000</td>\n",
       "      <td>0.259954</td>\n",
       "      <td>0.447314</td>\n",
       "      <td>0.309350</td>\n",
       "      <td>0.582450</td>\n",
       "      <td>0.480473</td>\n",
       "      <td>0.471833</td>\n",
       "      <td>0.259954</td>\n",
       "      <td>0.309350</td>\n",
       "      <td>0.213796</td>\n",
       "      <td>0.582450</td>\n",
       "    </tr>\n",
       "    <tr>\n",
       "      <th>1</th>\n",
       "      <td>minimum</td>\n",
       "      <td>0.324951</td>\n",
       "      <td>0.347556</td>\n",
       "      <td>0.321239</td>\n",
       "      <td>0.507298</td>\n",
       "      <td>0.542771</td>\n",
       "      <td>0.546494</td>\n",
       "      <td>0.629308</td>\n",
       "      <td>0.324951</td>\n",
       "      <td>0.330326</td>\n",
       "      <td>0.321239</td>\n",
       "      <td>0.484709</td>\n",
       "      <td>0.442823</td>\n",
       "      <td>0.425425</td>\n",
       "      <td>0.324951</td>\n",
       "      <td>0.321239</td>\n",
       "      <td>0.280576</td>\n",
       "      <td>0.484709</td>\n",
       "    </tr>\n",
       "    <tr>\n",
       "      <th>2</th>\n",
       "      <td>maximum</td>\n",
       "      <td>0.297724</td>\n",
       "      <td>0.359781</td>\n",
       "      <td>0.318655</td>\n",
       "      <td>0.621605</td>\n",
       "      <td>0.571991</td>\n",
       "      <td>0.514929</td>\n",
       "      <td>0.573869</td>\n",
       "      <td>0.297724</td>\n",
       "      <td>0.298384</td>\n",
       "      <td>0.318655</td>\n",
       "      <td>0.434341</td>\n",
       "      <td>0.418689</td>\n",
       "      <td>0.447453</td>\n",
       "      <td>0.297724</td>\n",
       "      <td>0.318655</td>\n",
       "      <td>0.250972</td>\n",
       "      <td>0.434341</td>\n",
       "    </tr>\n",
       "    <tr>\n",
       "      <th>3</th>\n",
       "      <td>age</td>\n",
       "      <td>0.314808</td>\n",
       "      <td>0.421601</td>\n",
       "      <td>0.452403</td>\n",
       "      <td>0.324092</td>\n",
       "      <td>0.386794</td>\n",
       "      <td>0.335882</td>\n",
       "      <td>0.480473</td>\n",
       "      <td>0.350259</td>\n",
       "      <td>0.477531</td>\n",
       "      <td>0.452403</td>\n",
       "      <td>0.565740</td>\n",
       "      <td>1.000000</td>\n",
       "      <td>0.518194</td>\n",
       "      <td>0.314808</td>\n",
       "      <td>0.452403</td>\n",
       "      <td>0.342263</td>\n",
       "      <td>0.565740</td>\n",
       "    </tr>\n",
       "    <tr>\n",
       "      <th>4</th>\n",
       "      <td>singer</td>\n",
       "      <td>0.227184</td>\n",
       "      <td>0.229849</td>\n",
       "      <td>0.415831</td>\n",
       "      <td>0.173727</td>\n",
       "      <td>0.209600</td>\n",
       "      <td>0.120408</td>\n",
       "      <td>0.225402</td>\n",
       "      <td>1.000000</td>\n",
       "      <td>0.421359</td>\n",
       "      <td>0.633667</td>\n",
       "      <td>0.633667</td>\n",
       "      <td>0.350259</td>\n",
       "      <td>0.410767</td>\n",
       "      <td>0.545982</td>\n",
       "      <td>0.545982</td>\n",
       "      <td>0.273864</td>\n",
       "      <td>0.375702</td>\n",
       "    </tr>\n",
       "    <tr>\n",
       "      <th>5</th>\n",
       "      <td>france</td>\n",
       "      <td>0.269233</td>\n",
       "      <td>0.432113</td>\n",
       "      <td>0.304058</td>\n",
       "      <td>0.209303</td>\n",
       "      <td>0.306740</td>\n",
       "      <td>0.281372</td>\n",
       "      <td>0.266392</td>\n",
       "      <td>0.269233</td>\n",
       "      <td>0.505156</td>\n",
       "      <td>0.304058</td>\n",
       "      <td>0.372878</td>\n",
       "      <td>0.361276</td>\n",
       "      <td>0.360865</td>\n",
       "      <td>0.302260</td>\n",
       "      <td>0.304058</td>\n",
       "      <td>0.215936</td>\n",
       "      <td>0.372878</td>\n",
       "    </tr>\n",
       "  </tbody>\n",
       "</table>\n",
       "</div>"
      ],
      "text/plain": [
       "   Q_token  Stadium_ID  Location      Name  Capacity   Highest    Lowest  \\\n",
       "0  average    0.259954  0.368489  0.309350  0.445303  0.582857  0.580766   \n",
       "1  minimum    0.324951  0.347556  0.321239  0.507298  0.542771  0.546494   \n",
       "2  maximum    0.297724  0.359781  0.318655  0.621605  0.571991  0.514929   \n",
       "3      age    0.314808  0.421601  0.452403  0.324092  0.386794  0.335882   \n",
       "4   singer    0.227184  0.229849  0.415831  0.173727  0.209600  0.120408   \n",
       "5   france    0.269233  0.432113  0.304058  0.209303  0.306740  0.281372   \n",
       "\n",
       "    Average  Singer_ID   Country  Song_Name  Song_release_year       Age  \\\n",
       "0  1.000000   0.259954  0.447314   0.309350           0.582450  0.480473   \n",
       "1  0.629308   0.324951  0.330326   0.321239           0.484709  0.442823   \n",
       "2  0.573869   0.297724  0.298384   0.318655           0.434341  0.418689   \n",
       "3  0.480473   0.350259  0.477531   0.452403           0.565740  1.000000   \n",
       "4  0.225402   1.000000  0.421359   0.633667           0.633667  0.350259   \n",
       "5  0.266392   0.269233  0.505156   0.304058           0.372878  0.361276   \n",
       "\n",
       "    Is_male  concert_ID  concert_Name     Theme      Year  \n",
       "0  0.471833    0.259954      0.309350  0.213796  0.582450  \n",
       "1  0.425425    0.324951      0.321239  0.280576  0.484709  \n",
       "2  0.447453    0.297724      0.318655  0.250972  0.434341  \n",
       "3  0.518194    0.314808      0.452403  0.342263  0.565740  \n",
       "4  0.410767    0.545982      0.545982  0.273864  0.375702  \n",
       "5  0.360865    0.302260      0.304058  0.215936  0.372878  "
      ]
     },
     "execution_count": 45,
     "metadata": {},
     "output_type": "execute_result"
    }
   ],
   "source": [
    "cols = ['Q_token'] + list(col_to_tables.keys())\n",
    "df = pd.DataFrame(columns=cols)\n",
    "\n",
    "score_df = compare_word_col(df,q)\n",
    "score_df"
   ]
  },
  {
   "cell_type": "code",
   "execution_count": 60,
   "metadata": {},
   "outputs": [
    {
     "name": "stdout",
     "output_type": "stream",
     "text": [
      "Question:  How many singers do we have?\n",
      "Exact match {'Singer_ID': 1.0}\n",
      "Partial match {'Is_male': 0.614467203617096, 'Song_Name': 0.6336669921875, 'Song_release_year': 0.6336669921875}\n",
      "\n",
      "\n",
      "Question:  What is the total number of singers?\n",
      "Exact match {'Singer_ID': 1.0}\n",
      "Partial match {'Average': 0.6665894985198975, 'Song_Name': 0.6336669921875, 'Song_release_year': 0.6336669921875}\n",
      "\n",
      "\n"
     ]
    }
   ],
   "source": [
    "n = 5\n",
    "threshold = 0.6\n",
    "\n",
    "for q in questions[:2]:\n",
    "    print(\"Question: \",q)\n",
    "    ex_match = {}\n",
    "    pt_match = {}\n",
    "    q_tokens = preprocess_question(q)\n",
    "    cols = ['Q_token'] + list(col_to_tables.keys())\n",
    "    df = pd.DataFrame(columns=cols)\n",
    "    score_df = compare_word_col(df,q)\n",
    "    numeric_score_df = score_df.iloc[:, 1:]\n",
    "    top_columns = numeric_score_df.apply(lambda row: row.nlargest(n).index.tolist(), axis=1)\n",
    "    top_values = numeric_score_df.apply(lambda row: row.nlargest(n).tolist(), axis=1)\n",
    "    nlq_token = score_df['Q_token'].tolist()\n",
    "\n",
    "    for i,w in enumerate(nlq_token):\n",
    "        for col,val in zip(top_columns[i],top_values[i]):\n",
    "            if val == 1:\n",
    "                ex_match[col] = val\n",
    "            elif val > threshold:\n",
    "                # print(f\"'{w}' similar '{col}' from '{col_to_tables[col]} Table' with [{val:.2f}]\")\n",
    "                pt_match[col] = val\n",
    "    print(\"Exact match\",ex_match)\n",
    "    print(\"Partial match\",pt_match)\n",
    "    print(\"\\n\")"
   ]
  },
  {
   "cell_type": "code",
   "execution_count": 66,
   "metadata": {},
   "outputs": [],
   "source": [
    "def map_column_table(nlq,db_dict,score_df,threshold=0.6,topn=5):\n",
    "\n",
    "    # print(\"Question: \",nlq)\n",
    "    ex_match = {}\n",
    "    pt_match = {}\n",
    "    numeric_score_df = score_df.iloc[:, 1:]\n",
    "    top_columns = numeric_score_df.apply(lambda row: row.nlargest(topn).index.tolist(), axis=1)\n",
    "    top_values = numeric_score_df.apply(lambda row: row.nlargest(topn).tolist(), axis=1)\n",
    "    nlq_token = score_df['Q_token'].tolist()\n",
    "\n",
    "    for i,w in enumerate(nlq_token):\n",
    "        for col,val in zip(top_columns[i],top_values[i]):\n",
    "            if val == 1:\n",
    "                ex_match[col] = val\n",
    "            elif val > threshold:\n",
    "                pt_match[col] = val\n",
    "    print(\"Exact match:\",ex_match)\n",
    "    print(\"Partial match:\",pt_match)\n",
    "    print(\"\\n\")\n",
    "    match_col = set(list(ex_match.keys()) + list(pt_match.keys()))\n",
    "    return list(match_col)"
   ]
  },
  {
   "cell_type": "code",
   "execution_count": 67,
   "metadata": {},
   "outputs": [
    {
     "name": "stdout",
     "output_type": "stream",
     "text": [
      "Question: How many singers do we have?\n",
      "Question tokens: ['many', 'singer']\n",
      "Exact match: {'Singer_ID': 1.0}\n",
      "Partial match: {'Is_male': 0.614467203617096, 'Song_Name': 0.6336669921875, 'Song_release_year': 0.6336669921875}\n",
      "\n",
      "\n"
     ]
    }
   ],
   "source": [
    "cols = ['Q_token'] + list(col_to_tables.keys())\n",
    "df = pd.DataFrame(columns=cols)\n",
    "\n",
    "q = questions[0]\n",
    "print(\"Question:\", q)\n",
    "\n",
    "q_tokens = preprocess_question(q)\n",
    "print(\"Question tokens:\", q_tokens)\n",
    "\n",
    "score_df = compare_word_col(df,q)\n",
    "match_col = map_column_table(q,db_dict,score_df)"
   ]
  },
  {
   "cell_type": "code",
   "execution_count": null,
   "metadata": {},
   "outputs": [],
   "source": []
  }
 ],
 "metadata": {
  "kernelspec": {
   "display_name": "base",
   "language": "python",
   "name": "python3"
  },
  "language_info": {
   "codemirror_mode": {
    "name": "ipython",
    "version": 3
   },
   "file_extension": ".py",
   "mimetype": "text/x-python",
   "name": "python",
   "nbconvert_exporter": "python",
   "pygments_lexer": "ipython3",
   "version": "3.10.9"
  },
  "orig_nbformat": 4
 },
 "nbformat": 4,
 "nbformat_minor": 2
}

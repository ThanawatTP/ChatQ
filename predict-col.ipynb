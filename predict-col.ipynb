{
 "cells": [
  {
   "cell_type": "code",
   "execution_count": 80,
   "metadata": {},
   "outputs": [],
   "source": [
    "# import nltk\n",
    "# nltk.download('stopwords')\n",
    "# nltk.download('punkt')\n",
    "# nltk.download('words')\n",
    "\n",
    "\n",
    "from nltk.stem import WordNetLemmatizer\n",
    "from nltk.tokenize import word_tokenize\n",
    "from tuning_model_class import w2v_tuning\n",
    "from transformers import  ElectraTokenizerFast\n",
    "from nltk.corpus import wordnet, stopwords, words\n",
    "import json\n",
    "import pandas as pd"
   ]
  },
  {
   "cell_type": "code",
   "execution_count": 62,
   "metadata": {},
   "outputs": [],
   "source": [
    "vocabulary = words.words()"
   ]
  },
  {
   "cell_type": "code",
   "execution_count": 63,
   "metadata": {},
   "outputs": [
    {
     "name": "stdout",
     "output_type": "stream",
     "text": [
      "huggingface/tokenizers: The current process just got forked, after parallelism has already been used. Disabling parallelism to avoid deadlocks...\n",
      "To disable this warning, you can either:\n",
      "\t- Avoid using `tokenizers` before the fork if possible\n",
      "\t- Explicitly set the environment variable TOKENIZERS_PARALLELISM=(true | false)\n",
      "huggingface/tokenizers: The current process just got forked, after parallelism has already been used. Disabling parallelism to avoid deadlocks...\n",
      "To disable this warning, you can either:\n",
      "\t- Avoid using `tokenizers` before the fork if possible\n",
      "\t- Explicitly set the environment variable TOKENIZERS_PARALLELISM=(true | false)\n",
      "huggingface/tokenizers: The current process just got forked, after parallelism has already been used. Disabling parallelism to avoid deadlocks...\n",
      "To disable this warning, you can either:\n",
      "\t- Avoid using `tokenizers` before the fork if possible\n",
      "\t- Explicitly set the environment variable TOKENIZERS_PARALLELISM=(true | false)\n",
      "load pre-train model\n"
     ]
    }
   ],
   "source": [
    "w2vmodel = w2v_tuning()\n",
    "w2vmodel.set_vector_path(\"w2v.42B.300d.txt\",'GloVe.wordvectors')\n",
    "w2vmodel.CreateW2V_Model()"
   ]
  },
  {
   "cell_type": "code",
   "execution_count": 64,
   "metadata": {},
   "outputs": [
    {
     "data": {
      "text/plain": [
       "[('events', 0.8563973903656006),\n",
       " ('venue', 0.6610988974571228),\n",
       " ('weekend', 0.6492050290107727),\n",
       " ('celebration', 0.6340488195419312),\n",
       " ('show', 0.620791494846344)]"
      ]
     },
     "execution_count": 64,
     "metadata": {},
     "output_type": "execute_result"
    }
   ],
   "source": [
    "w2vmodel.model.wv.most_similar('event',topn=5)"
   ]
  },
  {
   "cell_type": "code",
   "execution_count": 65,
   "metadata": {},
   "outputs": [],
   "source": [
    "# db_schema = ['zipcode','state','company','product','date']\n",
    "db_schema = ['id','name','age','song','show','order']"
   ]
  },
  {
   "cell_type": "code",
   "execution_count": 66,
   "metadata": {},
   "outputs": [],
   "source": [
    "target_word = 'How many singer in ABC concert?'\n",
    "# target_word = 'Who play LOVE in ABC tour?'\n",
    "target_word = 'Which name of singer that play in event?'"
   ]
  },
  {
   "cell_type": "code",
   "execution_count": 67,
   "metadata": {},
   "outputs": [],
   "source": [
    "def preprocess_question(text:str):\n",
    "    tokens = word_tokenize(text.lower())\n",
    "    stop_words = set(stopwords.words('english'))\n",
    "    filtered_tokens = [WordNetLemmatizer().lemmatize(word, wordnet.NOUN) for word in tokens if (word not in stop_words and word.isalnum())]\n",
    "    return filtered_tokens"
   ]
  },
  {
   "cell_type": "code",
   "execution_count": 68,
   "metadata": {},
   "outputs": [],
   "source": [
    "def tokenize_column(col_list:list):\n",
    "    tokenizer = ElectraTokenizerFast.from_pretrained(\"google/electra-large-discriminator\")\n",
    "    token_col = [tokenizer.tokenize(col_name) for col_name in col_list]\n",
    "    return token_col"
   ]
  },
  {
   "cell_type": "code",
   "execution_count": 69,
   "metadata": {},
   "outputs": [
    {
     "name": "stdout",
     "output_type": "stream",
     "text": [
      "'name' similar 'name 1.00'\n",
      "'singer' similar 'song 0.63'\n",
      "'play' similar 'song 0.52'\n",
      "'event' similar 'show 0.62'\n"
     ]
    }
   ],
   "source": [
    "for word in preprocess_question(target_word):\n",
    "    similarities = {}\n",
    "    for w in db_schema:\n",
    "        similarities[w] = w2vmodel.model.wv.similarity(word,w)\n",
    "\n",
    "    sorted_similarities = sorted(similarities.items(), key=lambda x: x[1], reverse=True)\n",
    "    print(f\"'{word}' similar '{sorted_similarities[0][0]} {sorted_similarities[0][1]:.2f}'\")"
   ]
  },
  {
   "cell_type": "code",
   "execution_count": 70,
   "metadata": {},
   "outputs": [],
   "source": [
    "# can can redirect to fullcolumn name (with key)"
   ]
  },
  {
   "cell_type": "code",
   "execution_count": null,
   "metadata": {},
   "outputs": [],
   "source": []
  },
  {
   "cell_type": "code",
   "execution_count": 71,
   "metadata": {},
   "outputs": [],
   "source": [
    "db_id = \"concert_singer\"\n",
    "questions = []\n",
    "\n",
    "with open(\"spider/dev.json\", 'r') as json_file:\n",
    "    data = json.load(json_file)\n",
    "\n",
    "for element in data:\n",
    "    if element['db_id'] == db_id:\n",
    "        questions.append(element['question'])"
   ]
  },
  {
   "cell_type": "code",
   "execution_count": 72,
   "metadata": {},
   "outputs": [
    {
     "name": "stdout",
     "output_type": "stream",
     "text": [
      "Table: stadium\n",
      "Columns: ['Stadium_ID', 'Location', 'Name', 'Capacity', 'Highest', 'Lowest', 'Average']\n",
      "\n",
      "\n",
      "Table: singer\n",
      "Columns: ['Singer_ID', 'Name', 'Country', 'Song_Name', 'Song_release_year', 'Age', 'Is_male']\n",
      "\n",
      "\n",
      "Table: concert\n",
      "Columns: ['concert_ID', 'concert_Name', 'Theme', 'Stadium_ID', 'Year']\n",
      "\n",
      "\n",
      "Table: singer_in_concert\n",
      "Columns: ['concert_ID', 'Singer_ID']\n",
      "\n",
      "\n"
     ]
    }
   ],
   "source": [
    "import sqlite3\n",
    "\n",
    "# Specify the full path to the SQLite database file\n",
    "db_file_path = 'data/concert_singer/concert_singer.sqlite'\n",
    "db_dict = {}\n",
    "col_to_tables = {}\n",
    "\n",
    "# Connect to the database\n",
    "connection = sqlite3.connect(db_file_path)\n",
    "\n",
    "# Create a cursor object\n",
    "cursor = connection.cursor()\n",
    "\n",
    "# Query the SQLite master table to get the list of table names\n",
    "cursor.execute(\"SELECT name FROM sqlite_master WHERE type='table';\")\n",
    "\n",
    "# Fetch all table names\n",
    "table_names = cursor.fetchall()\n",
    "\n",
    "# Iterate through the table names\n",
    "for table in table_names:\n",
    "    table_name = table[0]\n",
    "    print(f\"Table: {table_name}\")\n",
    "\n",
    "    # Query the PRAGMA statement to get column information for the current table\n",
    "    cursor.execute(f\"PRAGMA table_info({table_name})\")\n",
    "\n",
    "    # Fetch column information\n",
    "    column_info = cursor.fetchall()\n",
    "\n",
    "    # Extract and print column names for the current table\n",
    "    column_names = [col[1] for col in column_info]\n",
    "    print(\"Columns:\", column_names)\n",
    "    # print(\"Tokenize columns:\", tokenize_column(column_names))\n",
    "    db_dict[table_name] = column_names\n",
    "    \n",
    "    for col in column_names:\n",
    "        col_to_tables[col] = table_name\n",
    "\n",
    "    print(\"\\n\")\n",
    "\n",
    "# Close the cursor and the connection\n",
    "cursor.close()\n",
    "connection.close()\n"
   ]
  },
  {
   "cell_type": "code",
   "execution_count": 73,
   "metadata": {},
   "outputs": [
    {
     "data": {
      "text/plain": [
       "{'stadium': ['Stadium_ID',\n",
       "  'Location',\n",
       "  'Name',\n",
       "  'Capacity',\n",
       "  'Highest',\n",
       "  'Lowest',\n",
       "  'Average'],\n",
       " 'singer': ['Singer_ID',\n",
       "  'Name',\n",
       "  'Country',\n",
       "  'Song_Name',\n",
       "  'Song_release_year',\n",
       "  'Age',\n",
       "  'Is_male'],\n",
       " 'concert': ['concert_ID', 'concert_Name', 'Theme', 'Stadium_ID', 'Year'],\n",
       " 'singer_in_concert': ['concert_ID', 'Singer_ID']}"
      ]
     },
     "execution_count": 73,
     "metadata": {},
     "output_type": "execute_result"
    }
   ],
   "source": [
    "db_dict"
   ]
  },
  {
   "cell_type": "code",
   "execution_count": 74,
   "metadata": {},
   "outputs": [
    {
     "data": {
      "text/plain": [
       "{'Stadium_ID': 'concert',\n",
       " 'Location': 'stadium',\n",
       " 'Name': 'singer',\n",
       " 'Capacity': 'stadium',\n",
       " 'Highest': 'stadium',\n",
       " 'Lowest': 'stadium',\n",
       " 'Average': 'stadium',\n",
       " 'Singer_ID': 'singer_in_concert',\n",
       " 'Country': 'singer',\n",
       " 'Song_Name': 'singer',\n",
       " 'Song_release_year': 'singer',\n",
       " 'Age': 'singer',\n",
       " 'Is_male': 'singer',\n",
       " 'concert_ID': 'singer_in_concert',\n",
       " 'concert_Name': 'concert',\n",
       " 'Theme': 'concert',\n",
       " 'Year': 'concert'}"
      ]
     },
     "execution_count": 74,
     "metadata": {},
     "output_type": "execute_result"
    }
   ],
   "source": [
    "col_to_tables"
   ]
  },
  {
   "cell_type": "code",
   "execution_count": 75,
   "metadata": {},
   "outputs": [
    {
     "data": {
      "text/plain": [
       "['How many singers do we have?',\n",
       " 'What is the total number of singers?',\n",
       " 'Show name, country, age for all singers ordered by age from the oldest to the youngest.',\n",
       " 'What are the names, countries, and ages for every singer in descending order of age?',\n",
       " 'What is the average, minimum, and maximum age of all singers from France?',\n",
       " 'What is the average, minimum, and maximum age for all French singers?',\n",
       " 'Show the name and the release year of the song by the youngest singer.',\n",
       " 'What are the names and release years for all the songs of the youngest singer?',\n",
       " 'What are all distinct countries where singers above age 20 are from?',\n",
       " 'What are  the different countries with singers above age 20?']"
      ]
     },
     "execution_count": 75,
     "metadata": {},
     "output_type": "execute_result"
    }
   ],
   "source": [
    "questions[:10]"
   ]
  },
  {
   "cell_type": "code",
   "execution_count": 76,
   "metadata": {},
   "outputs": [
    {
     "name": "stdout",
     "output_type": "stream",
     "text": [
      "['many', 'singer']\n",
      "['total', 'number', 'singer']\n",
      "['show', 'name', 'country', 'age', 'singer', 'ordered', 'age', 'oldest', 'youngest']\n",
      "['name', 'country', 'age', 'every', 'singer', 'descending', 'order', 'age']\n",
      "['average', 'minimum', 'maximum', 'age', 'singer', 'france']\n",
      "['average', 'minimum', 'maximum', 'age', 'french', 'singer']\n",
      "['show', 'name', 'release', 'year', 'song', 'youngest', 'singer']\n",
      "['name', 'release', 'year', 'song', 'youngest', 'singer']\n",
      "['distinct', 'country', 'singer', 'age', '20']\n",
      "['different', 'country', 'singer', 'age', '20']\n"
     ]
    }
   ],
   "source": [
    "for q in questions[:10]:\n",
    "    q_tokens = preprocess_question(q)\n",
    "    print(q_tokens)"
   ]
  },
  {
   "cell_type": "code",
   "execution_count": null,
   "metadata": {},
   "outputs": [],
   "source": [
    "def compare_word_col(df, new_qword=False):\n",
    "    \n",
    "    return"
   ]
  },
  {
   "cell_type": "code",
   "execution_count": null,
   "metadata": {},
   "outputs": [],
   "source": [
    "def map_column_table(db_dict,col_to_table,column_name):\n",
    "    return"
   ]
  },
  {
   "cell_type": "code",
   "execution_count": 79,
   "metadata": {},
   "outputs": [
    {
     "name": "stdout",
     "output_type": "stream",
     "text": [
      "Question: How many singers do we have?\n",
      "Question tokens: ['many', 'singer']\n"
     ]
    }
   ],
   "source": [
    "q = questions[0]\n",
    "print(\"Question:\", q)\n",
    "\n",
    "q_tokens = preprocess_question(q)\n",
    "print(\"Question tokens:\", q_tokens)\n",
    "\n"
   ]
  },
  {
   "cell_type": "code",
   "execution_count": null,
   "metadata": {},
   "outputs": [],
   "source": []
  }
 ],
 "metadata": {
  "kernelspec": {
   "display_name": "base",
   "language": "python",
   "name": "python3"
  },
  "language_info": {
   "codemirror_mode": {
    "name": "ipython",
    "version": 3
   },
   "file_extension": ".py",
   "mimetype": "text/x-python",
   "name": "python",
   "nbconvert_exporter": "python",
   "pygments_lexer": "ipython3",
   "version": "3.10.9"
  },
  "orig_nbformat": 4
 },
 "nbformat": 4,
 "nbformat_minor": 2
}

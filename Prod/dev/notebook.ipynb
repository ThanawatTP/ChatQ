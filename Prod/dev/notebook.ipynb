{
 "cells": [
  {
   "cell_type": "code",
   "execution_count": 4,
   "metadata": {},
   "outputs": [],
   "source": [
    "import os, json, re\n",
    "from torch import Tensor\n",
    "import torch\n",
    "# from api import encode"
   ]
  },
  {
   "cell_type": "code",
   "execution_count": 9,
   "metadata": {},
   "outputs": [],
   "source": [
    "def cos_sim(a: Tensor, b: Tensor):\n",
    "    \"\"\"\n",
    "    Computes the cosine similarity cos_sim(a[i], b[j]) for all i and j.\n",
    "    :return: Matrix with res[i][j]  = cos_sim(a[i], b[j])\n",
    "    \"\"\"\n",
    "    if not isinstance(a, torch.Tensor):\n",
    "        a = torch.tensor(a)\n",
    "\n",
    "    if not isinstance(b, torch.Tensor):\n",
    "        b = torch.tensor(b)\n",
    "\n",
    "    if len(a.shape) == 1:\n",
    "        a = a.unsqueeze(0)\n",
    "\n",
    "    if len(b.shape) == 1:\n",
    "        b = b.unsqueeze(0)\n",
    "\n",
    "    a_norm = torch.nn.functional.normalize(a, p=2, dim=1)\n",
    "    b_norm = torch.nn.functional.normalize(b, p=2, dim=1)\n",
    "    return torch.mm(a_norm, b_norm.transpose(0, 1))"
   ]
  },
  {
   "cell_type": "markdown",
   "metadata": {},
   "source": [
    "## Locally Test var"
   ]
  },
  {
   "cell_type": "code",
   "execution_count": 15,
   "metadata": {},
   "outputs": [],
   "source": [
    "from sentence_transformers import SentenceTransformer\n",
    "\n",
    "sen_emb = SentenceTransformer(\"../../models/all-MiniLM-L6-v2\")"
   ]
  },
  {
   "cell_type": "code",
   "execution_count": 20,
   "metadata": {},
   "outputs": [],
   "source": [
    "class SchemaLinking():\n",
    "    def __init__(self, domain):\n",
    "        self.domain = domain\n",
    "        self.split_pattern = r'[\\s\\n;().]'\n",
    "        self.verbose = False\n",
    "        self.table_desc_vectors = {}     # { table1: vector , ...}\n",
    "        self.table_descriptions = {}    # { table1: description, ...}\n",
    "        self.schema_desc_vectors = {}    # { table1: { column1: vector, ...}}\n",
    "        self.schema_descriptions = {}    # { table1: { column1: description, ...}}\n",
    "        self.schema_datatypes = {}       # { table1: { column1: datatype, ...}}\n",
    "\n",
    "        for table_name, table in domain['tables'].items():\n",
    "          self.table_desc_vectors[table_name] = table['description']['vector']\n",
    "          self.table_descriptions[table_name] = table['description']['text']\n",
    "          self.schema_desc_vectors[table_name] = {}\n",
    "          self.schema_descriptions[table_name] = {}\n",
    "          self.schema_datatypes[table_name] = table['datatypes']\n",
    "\n",
    "          for col_name, col_data in table['columns'].items():\n",
    "            self.schema_desc_vectors[table_name][col_name] = col_data['vector']\n",
    "            self.schema_descriptions[table_name][col_name] = col_data['text']\n",
    "\n",
    "    def filter_schema(self, question:str, \n",
    "                      column_threshold:float = 0.4, \n",
    "                      table_threshold:float = 0.3, \n",
    "                      max_select_columns:int = 5, \n",
    "                      filter_tables:bool = False):\n",
    "        \n",
    "        # question_emb = encode(question)\n",
    "        question_emb = sen_emb.encode(question)\n",
    "        used_schemas = {}\n",
    "        found_table = []            # table found in question\n",
    "        found_columns = []          # column found in question\n",
    "\n",
    "        # string matching with table, column and question tokens\n",
    "        for token in question.split():\n",
    "            \n",
    "            if token in self.schema_desc_vectors.keys():\n",
    "                print(\"Table string match  ---->\", token)\n",
    "                found_table.append(token)\n",
    "            for table, column in self.schema_desc_vectors.items():\n",
    "                if token in column.keys(): \n",
    "                    found_columns.append(token)\n",
    "                    print(\"Column matching  --->\",token)\n",
    "        \n",
    "        if filter_tables:       #filter table before\n",
    "            used_tables = []\n",
    "            for table_name, table_vector in self.table_desc_vectors.items():\n",
    "                if cos_sim(table_vector, question_emb) >= table_threshold: \n",
    "                    used_tables.append(table_name)\n",
    "        else: used_tables = list(self.table_desc_vectors.keys())     # filtering schema with all columns\n",
    "\n",
    "        for table in used_tables:\n",
    "            if table in found_table: table_offset = 0.1         # offset score for selected column in this table\n",
    "            else: table_offset = 0\n",
    "            used_schemas[table] = {}\n",
    "            for column, column_vector in self.schema_desc_vectors[table].items():\n",
    "                sim_score = cos_sim(column_vector, question_emb)\n",
    "                if sim_score >= (column_threshold - table_offset):\n",
    "                    used_schemas[table][column] = round(float(sim_score),3)\n",
    "                if column in found_columns:\n",
    "                    used_schemas[table][column] = 1.0\n",
    "            if max_select_columns and len(used_schemas[table]) > max_select_columns:\n",
    "                # Select the top k largest values from the dictionary\n",
    "                used_schemas[table] = dict(sorted(used_schemas[table].items(), key=lambda item: item[1], reverse=True)[:max_select_columns])\n",
    "\n",
    "        if self.verbose:\n",
    "            print(\"QUESTION\\t\", question)\n",
    "            print(\"COLUMN THRESHOLD\\t\", column_threshold)\n",
    "            print(\"TABLE THRESHOLD\\t\\t\", table_threshold)\n",
    "            print(\"MAX SELECTED COLUMN\\t\", max_select_columns)\n",
    "            print(\"FILTER TABLE\\t\\t\", filter_tables)\n",
    "            # print(\"USED SCHEMAS\\t\", used_schemas)\n",
    "            print(\"\")\n",
    "\n",
    "        return used_schemas\n",
    "\n",
    "    def table_col_of_sql(self, sql_query):\n",
    "        selected_schema = {}       # { table : [columns] }\n",
    "        query_split = re.split(self.split_pattern, sql_query)\n",
    "        for table in self.schema_desc_vectors.keys():\n",
    "            if table in query_split:\n",
    "                selected_col = []\n",
    "                for col in self.schema_desc_vectors[table].keys():\n",
    "                    if col in query_split: selected_col.append(col)\n",
    "                selected_schema[table] = selected_col\n",
    "        return selected_schema\n"
   ]
  },
  {
   "cell_type": "code",
   "execution_count": 21,
   "metadata": {},
   "outputs": [],
   "source": [
    "with open(\"Archive/coffee_shop/embedded_data.json\", \"r\") as f:\n",
    "    domain = json.load(f)\n",
    "\n",
    "schema_link = SchemaLinking(domain)"
   ]
  },
  {
   "cell_type": "code",
   "execution_count": 23,
   "metadata": {},
   "outputs": [
    {
     "name": "stdout",
     "output_type": "stream",
     "text": [
      "Table string match  ----> shop\n"
     ]
    },
    {
     "data": {
      "text/plain": [
       "{'happy_hour': {'HH_ID': 0.522,\n",
       "  'Shop_ID': 0.761,\n",
       "  'Month': 0.628,\n",
       "  'Num_of_staff_in_charge': 0.646},\n",
       " 'happy_hour_member': {'HH_ID': 0.55,\n",
       "  'Member_ID': 0.521,\n",
       "  'Total_amount': 0.569},\n",
       " 'member': {},\n",
       " 'shop': {'Address': 0.325,\n",
       "  'Num_of_staff': 0.373,\n",
       "  'Score': 0.354,\n",
       "  'Open_Year': 0.34}}"
      ]
     },
     "execution_count": 23,
     "metadata": {},
     "output_type": "execute_result"
    }
   ],
   "source": [
    "schema_link.filter_schema(\"How many shop has happy hour more than 2 hours\")"
   ]
  },
  {
   "cell_type": "code",
   "execution_count": null,
   "metadata": {},
   "outputs": [],
   "source": []
  }
 ],
 "metadata": {
  "kernelspec": {
   "display_name": "base",
   "language": "python",
   "name": "python3"
  },
  "language_info": {
   "codemirror_mode": {
    "name": "ipython",
    "version": 3
   },
   "file_extension": ".py",
   "mimetype": "text/x-python",
   "name": "python",
   "nbconvert_exporter": "python",
   "pygments_lexer": "ipython3",
   "version": "3.10.9"
  }
 },
 "nbformat": 4,
 "nbformat_minor": 2
}

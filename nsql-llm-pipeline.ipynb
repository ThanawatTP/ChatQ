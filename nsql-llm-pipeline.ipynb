{
 "cells": [
  {
   "cell_type": "code",
   "execution_count": 28,
   "metadata": {},
   "outputs": [],
   "source": [
    "import os, sqlite3, json, time, warnings, re\n",
    "from openai import OpenAI\n",
    "from dotenv import load_dotenv\n",
    "from transformers import AutoTokenizer, AutoModelForCausalLM\n",
    "import pandas as pd\n",
    "from filtering_schema.Description_base_linking import SchemaLinking"
   ]
  },
  {
   "cell_type": "code",
   "execution_count": 29,
   "metadata": {},
   "outputs": [],
   "source": [
    "load_dotenv()\n",
    "# Set environment variables\n",
    "base_dir = \"filtering_schema\"\n",
    "os.environ['nsql_model_path'] = os.path.join(base_dir, 'models', 'nsql-350M')\n",
    "os.environ['sentence_emb_model_path'] = os.path.join(base_dir, 'models', 'all-MiniLM-L6-v2')\n",
    "os.environ['schema_description_folder_path'] = os.path.join(base_dir, 'src', 'schemas', 'coffeeshop-descriptions')\n",
    "os.environ['schema_data_types_folder_path'] = os.path.join(base_dir, 'src', 'schemas', 'coffeeshop-datatypes')\n",
    "os.environ['column_threshold'] = '0.2'\n",
    "os.environ['table_threshold'] = '0.2'\n",
    "os.environ['max_select_column'] = '10'\n",
    "os.environ['filter_table'] = 'False'\n",
    "os.environ['verbose'] = 'False'\n",
    "\n",
    "\n",
    "schema_link = SchemaLinking()\n",
    "schema_link.selected_domain(schema_description_folder_path=os.environ.get('schema_description_folder_path'),\n",
    "                            schema_data_types_folder_path=os.environ.get('schema_data_types_folder_path'))\n",
    "\n",
    "tokenizer = AutoTokenizer.from_pretrained(os.environ.get('nsql_model_path'))\n",
    "model = AutoModelForCausalLM.from_pretrained(os.environ.get('nsql_model_path'))"
   ]
  },
  {
   "cell_type": "markdown",
   "metadata": {},
   "source": [
    "## LLM example"
   ]
  },
  {
   "cell_type": "code",
   "execution_count": 30,
   "metadata": {},
   "outputs": [
    {
     "data": {
      "text/plain": [
       "\"SELECT name, age FROM cat WHERE gender = 'Female';\""
      ]
     },
     "execution_count": 30,
     "metadata": {},
     "output_type": "execute_result"
    }
   ],
   "source": [
    "client = OpenAI()\n",
    "llm_model_name = 'gpt-3.5-turbo'\n",
    "stop = ['\\n\\n']\n",
    "prompt = \"\"\"You are a SQL query assistant.\n",
    "I have some SQL where the [MASK] column and the conditional value of [MASK] are formatted. And I want you to respond to the output populating the [MASK] column and the SQL input conditional values, followed by the question, the schema description (name - description) and the 5 row example values as provided.\n",
    "If you don't know which column or value to enter, Don't include columns you created yourself. And only columns and values defined from the schema and sample values must be used.\n",
    "Don't use columns from another table or schema. It must also be used from the same table defined in the input.\n",
    "\n",
    "\n",
    "table :     cat - this table contain cat information\n",
    "column :    id - number for identify cat\n",
    "            name - name of cat\n",
    "            age - age of cat\n",
    "            gender - gender of cat\n",
    "example 5 rows:\n",
    "|   id | name   |   age | gender   |\n",
    "|-----:|:-------|------:|:---------|\n",
    "|    5 | Pussy  |     2 | Male     |\n",
    "|    1 | Sam    |     1 | Male     |\n",
    "|    9 | Peter  |     2 | Female   |\n",
    "|    3 | Jack   |     4 | Male     |\n",
    "|    4 | Ponica |     3 | Female   |\n",
    "\n",
    "question: show me the name of cat.\n",
    "input: SELECT [MASK] FROM cat;\n",
    "output: SELECT name FROM cat;\n",
    "\n",
    "question: show me the name and age of cat.\n",
    "input: SELECT [MASK], [MASK] FROM cat;\n",
    "output: SELECT name, age FROM cat;\n",
    "\n",
    "question: Count number of cate each gender.\n",
    "input: SELECT [MASK], COUNT([MASK]) FROM cat GROUP BY [MASK];\n",
    "output: SELECT gender, COUNT(*) FROM cat GROUP BY gender;\n",
    "\n",
    "question: show me the name and age of woman cat.\n",
    "input: SELECT [MASK], [MASK] FROM cat WHERE [MASK] = [MASK];\n",
    "output:\n",
    "\"\"\"\n",
    "\n",
    "response = client.chat.completions.create(\n",
    "    model=llm_model_name,\n",
    "    messages=[\n",
    "            {\"role\": \"system\",\n",
    "                \"content\": \"I will give you some x-y examples followed by a x, you need to give me the y, and no other content.\"},\n",
    "            {\"role\": \"user\", \"content\": prompt},\n",
    "            ],\n",
    "    stop=stop\n",
    ")\n",
    "response.choices[0].message.content"
   ]
  },
  {
   "cell_type": "markdown",
   "metadata": {},
   "source": [
    "### Schema link example"
   ]
  },
  {
   "cell_type": "code",
   "execution_count": 31,
   "metadata": {},
   "outputs": [
    {
     "name": "stdout",
     "output_type": "stream",
     "text": [
      "Table string match  ----> shop\n"
     ]
    },
    {
     "data": {
      "text/plain": [
       "{'happy_hour': {},\n",
       " 'happy_hour_member': {},\n",
       " 'member': {},\n",
       " 'shop': {'Shop_ID': 0.394,\n",
       "  'Address': 0.605,\n",
       "  'Num_of_staff': 0.408,\n",
       "  'Score': 0.357,\n",
       "  'Open_Year': 0.643}}"
      ]
     },
     "execution_count": 31,
     "metadata": {},
     "output_type": "execute_result"
    }
   ],
   "source": [
    "schema_link.filter_schema(\"Which shop opening from 2022\")"
   ]
  },
  {
   "cell_type": "code",
   "execution_count": 32,
   "metadata": {},
   "outputs": [],
   "source": [
    "client = OpenAI()\n",
    "stop = ['\\n\\n']\n",
    "temperature = 0\n",
    "\n",
    "def llm_response(prompt, model='gpt-3.5-turbo'):\n",
    "    response = client.chat.completions.create(\n",
    "        model=model,\n",
    "        messages=[\n",
    "                {\"role\": \"system\",\n",
    "                    \"content\": \"I will give you some x-y examples followed by a x, you need to give me the y, and no other content.\"},\n",
    "                {\"role\": \"user\", \"content\": prompt},\n",
    "                ],\n",
    "        stop=stop,\n",
    "        temperature=temperature\n",
    "    )\n",
    "    return response.choices[0].message.content"
   ]
  },
  {
   "cell_type": "code",
   "execution_count": 33,
   "metadata": {},
   "outputs": [],
   "source": [
    "def create_prompt(question:str, used_schema):\n",
    "    full_sql = \"\"\n",
    "    for table, columns in used_schema.items():\n",
    "        if not len(columns): continue       # pass this table when no column\n",
    "        primary_keys = schema_link.schema_datatypes[table][\"JOIN_KEY\"][\"PK\"]\n",
    "        foreign_keys = list(schema_link.schema_datatypes[table][\"JOIN_KEY\"][\"FK\"].keys())\n",
    "        join_table_key = primary_keys + foreign_keys\n",
    "        \n",
    "        sql = f\"CREATE TABLE {table} (\"\n",
    "        for column in columns:\n",
    "            if column in join_table_key and len(join_table_key): join_table_key.remove(column)\n",
    "            try:\n",
    "                sql += f' {column} {schema_link.schema_datatypes[table][\"COLUMNS\"][column]},'\n",
    "            except KeyError: \n",
    "                print(f\"KeyError :{column}\")\n",
    "                \n",
    "        if len(join_table_key): # key for join of table are remaining\n",
    "            for column in join_table_key:\n",
    "                sql += f' {column} {schema_link.schema_datatypes[table][\"COLUMNS\"][column]},'\n",
    "\n",
    "        # A lot of tables contain PK\n",
    "        if len(primary_keys):\n",
    "            sql = sql[:-1] + ' PRIMARY KEY ('\n",
    "            for pk_type in primary_keys: sql += f'\"{pk_type}\" ,'\n",
    "            sql = sql[:-1] + \"),\"\n",
    "        if len(foreign_keys):\n",
    "            for fk, ref_table in schema_link.schema_datatypes[table][\"JOIN_KEY\"][\"FK\"].items():\n",
    "                sql = sql[:-1] + f' FOREIGN KEY (\"{fk}\") REFERENCES \"{ref_table}\" (\"{fk}\"),'\n",
    "\n",
    "        sql = sql[:-1] + \" )\\n\\n\"\n",
    "        full_sql += sql\n",
    "    prompt = full_sql + \"-- Using valid SQLite, answer the following questions for the tables provided above.\"\n",
    "    prompt = prompt + '\\n' + '-- ' + question\n",
    "    prompt = prompt + '\\n' + \"SELECT\"\n",
    "    return prompt\n",
    "\n",
    "def gen_sql(prompt:str):\n",
    "    with warnings.catch_warnings():\n",
    "        warnings.simplefilter(\"ignore\")\n",
    "        input_ids = tokenizer(prompt, return_tensors=\"pt\").input_ids\n",
    "        generated_ids = model.generate(input_ids, max_length=1000)\n",
    "        sql = tokenizer.decode(generated_ids[0], skip_special_tokens=True).split('\\n')[-1]\n",
    "    return sql"
   ]
  },
  {
   "cell_type": "code",
   "execution_count": 34,
   "metadata": {},
   "outputs": [],
   "source": [
    "def query_n_rows(table_name:str, columns:list,  n_rows:int = 5, src_dir=\"filtering_schema/src/data\"):\n",
    "    for file_path in os.listdir(src_dir):\n",
    "        if file_path.startswith(table_name): break\n",
    "    query_df = pd.read_csv(os.path.join(src_dir, file_path))[columns].iloc[:n_rows]\n",
    "    return query_df\n"
   ]
  },
  {
   "cell_type": "code",
   "execution_count": 35,
   "metadata": {},
   "outputs": [
    {
     "data": {
      "text/html": [
       "<div>\n",
       "<style scoped>\n",
       "    .dataframe tbody tr th:only-of-type {\n",
       "        vertical-align: middle;\n",
       "    }\n",
       "\n",
       "    .dataframe tbody tr th {\n",
       "        vertical-align: top;\n",
       "    }\n",
       "\n",
       "    .dataframe thead th {\n",
       "        text-align: right;\n",
       "    }\n",
       "</style>\n",
       "<table border=\"1\" class=\"dataframe\">\n",
       "  <thead>\n",
       "    <tr style=\"text-align: right;\">\n",
       "      <th></th>\n",
       "      <th>_date</th>\n",
       "      <th>month_id</th>\n",
       "    </tr>\n",
       "  </thead>\n",
       "  <tbody>\n",
       "    <tr>\n",
       "      <th>0</th>\n",
       "      <td>2022-07-06</td>\n",
       "      <td>2022-07</td>\n",
       "    </tr>\n",
       "    <tr>\n",
       "      <th>1</th>\n",
       "      <td>2022-07-01</td>\n",
       "      <td>2022-07</td>\n",
       "    </tr>\n",
       "    <tr>\n",
       "      <th>2</th>\n",
       "      <td>2022-07-08</td>\n",
       "      <td>2022-07</td>\n",
       "    </tr>\n",
       "    <tr>\n",
       "      <th>3</th>\n",
       "      <td>2022-07-05</td>\n",
       "      <td>2022-07</td>\n",
       "    </tr>\n",
       "    <tr>\n",
       "      <th>4</th>\n",
       "      <td>2022-07-14</td>\n",
       "      <td>2022-07</td>\n",
       "    </tr>\n",
       "  </tbody>\n",
       "</table>\n",
       "</div>"
      ],
      "text/plain": [
       "        _date month_id\n",
       "0  2022-07-06  2022-07\n",
       "1  2022-07-01  2022-07\n",
       "2  2022-07-08  2022-07\n",
       "3  2022-07-05  2022-07\n",
       "4  2022-07-14  2022-07"
      ]
     },
     "execution_count": 35,
     "metadata": {},
     "output_type": "execute_result"
    }
   ],
   "source": [
    "query_n_rows(\"pointx_keymatrix_dly\", ['_date', \"month_id\"])"
   ]
  },
  {
   "cell_type": "code",
   "execution_count": 36,
   "metadata": {},
   "outputs": [],
   "source": [
    "def query_pointx_db(sql_query):\n",
    "    conn = sqlite3.connect(f'src/pointx/database/pointx.db')\n",
    "    cursor = conn.cursor()\n",
    "    try:\n",
    "        cursor.execute(sql_query)\n",
    "        results = cursor.fetchall()\n",
    "    except:\n",
    "        return \"CANNOT FETCHING DATA\"\n",
    "    conn.close()\n",
    "    return results"
   ]
  },
  {
   "cell_type": "code",
   "execution_count": 37,
   "metadata": {},
   "outputs": [
    {
     "data": {
      "text/html": [
       "<div>\n",
       "<style scoped>\n",
       "    .dataframe tbody tr th:only-of-type {\n",
       "        vertical-align: middle;\n",
       "    }\n",
       "\n",
       "    .dataframe tbody tr th {\n",
       "        vertical-align: top;\n",
       "    }\n",
       "\n",
       "    .dataframe thead th {\n",
       "        text-align: right;\n",
       "    }\n",
       "</style>\n",
       "<table border=\"1\" class=\"dataframe\">\n",
       "  <thead>\n",
       "    <tr style=\"text-align: right;\">\n",
       "      <th></th>\n",
       "      <th>NLQ</th>\n",
       "      <th>NLQ with helper</th>\n",
       "      <th>SQL</th>\n",
       "    </tr>\n",
       "  </thead>\n",
       "  <tbody>\n",
       "    <tr>\n",
       "      <th>0</th>\n",
       "      <td>What is the total number of all financial tran...</td>\n",
       "      <td>SELECT month_id, SUM(ntx_pointx_financial) FRO...</td>\n",
       "      <td>SELECT month_id, SUM(ntx_pointx_financial) FRO...</td>\n",
       "    </tr>\n",
       "    <tr>\n",
       "      <th>1</th>\n",
       "      <td>What is the total amount of points generated b...</td>\n",
       "      <td>SELECT SUM(amt_point_topup) FROM pointx_keymat...</td>\n",
       "      <td>SELECT SUM(amt_point_topup) FROM pointx_keymat...</td>\n",
       "    </tr>\n",
       "    <tr>\n",
       "      <th>2</th>\n",
       "      <td>What is the total amount of points generated b...</td>\n",
       "      <td>SELECT month_id, SUM(amt_point_pay) FROM point...</td>\n",
       "      <td>SELECT month_id, SUM(amt_point_pay) FROM point...</td>\n",
       "    </tr>\n",
       "    <tr>\n",
       "      <th>3</th>\n",
       "      <td>What is the average rate of released points fo...</td>\n",
       "      <td>SELECT AVG(rate_point_per_baht_pay) FROM point...</td>\n",
       "      <td>SELECT AVG(rate_point_per_baht_pay) FROM point...</td>\n",
       "    </tr>\n",
       "    <tr>\n",
       "      <th>4</th>\n",
       "      <td>Can you determine the average number of custom...</td>\n",
       "      <td>SELECT month_id, AVG(ncust_visit) FROM pointx_...</td>\n",
       "      <td>SELECT month_id, AVG(ncust_visit) FROM pointx_...</td>\n",
       "    </tr>\n",
       "  </tbody>\n",
       "</table>\n",
       "</div>"
      ],
      "text/plain": [
       "                                                 NLQ  \\\n",
       "0  What is the total number of all financial tran...   \n",
       "1  What is the total amount of points generated b...   \n",
       "2  What is the total amount of points generated b...   \n",
       "3  What is the average rate of released points fo...   \n",
       "4  Can you determine the average number of custom...   \n",
       "\n",
       "                                     NLQ with helper  \\\n",
       "0  SELECT month_id, SUM(ntx_pointx_financial) FRO...   \n",
       "1  SELECT SUM(amt_point_topup) FROM pointx_keymat...   \n",
       "2  SELECT month_id, SUM(amt_point_pay) FROM point...   \n",
       "3  SELECT AVG(rate_point_per_baht_pay) FROM point...   \n",
       "4  SELECT month_id, AVG(ncust_visit) FROM pointx_...   \n",
       "\n",
       "                                                 SQL  \n",
       "0  SELECT month_id, SUM(ntx_pointx_financial) FRO...  \n",
       "1  SELECT SUM(amt_point_topup) FROM pointx_keymat...  \n",
       "2  SELECT month_id, SUM(amt_point_pay) FROM point...  \n",
       "3  SELECT AVG(rate_point_per_baht_pay) FROM point...  \n",
       "4  SELECT month_id, AVG(ncust_visit) FROM pointx_...  "
      ]
     },
     "execution_count": 37,
     "metadata": {},
     "output_type": "execute_result"
    }
   ],
   "source": [
    "keymatrix_df = pd.read_excel(\"src/pointx/PointX - NLQ training data set.xlsx\", sheet_name=\"pointx_keymatrix\")[['NLQ', 'NLQ with helper', 'SQL']]\n",
    "keymatrix_df.head()"
   ]
  },
  {
   "cell_type": "code",
   "execution_count": 38,
   "metadata": {},
   "outputs": [],
   "source": [
    "with open(\"src/pointx/schemas/pointx_keymatrix_dly_schema_description.json\") as f:\n",
    "    keymatrix_schema = json.load(f)\n",
    "    keymatrix_columns_desc = keymatrix_schema['columns']"
   ]
  },
  {
   "cell_type": "code",
   "execution_count": 39,
   "metadata": {},
   "outputs": [],
   "source": [
    "schema_link = SchemaLinking()\n",
    "schema_link.selected_domain(schema_description_folder_path=\"src/pointx/schemas/descriptions\",\n",
    "                            schema_data_types_folder_path=\"src/pointx/schemas/datatype\")"
   ]
  },
  {
   "cell_type": "markdown",
   "metadata": {},
   "source": [
    "#### Test NSQL predict SQL"
   ]
  },
  {
   "cell_type": "code",
   "execution_count": 40,
   "metadata": {},
   "outputs": [
    {
     "name": "stdout",
     "output_type": "stream",
     "text": [
      "SELECT COUNT(*) FROM pointx_keymatrix_dly;\n"
     ]
    }
   ],
   "source": [
    "question = \"How many unique tractions occur?\"\n",
    "temp_schema = schema_link.filter_schema(question, column_threshold=0.1)\n",
    "print(gen_sql(create_prompt(question, temp_schema)))"
   ]
  },
  {
   "cell_type": "code",
   "execution_count": 41,
   "metadata": {},
   "outputs": [
    {
     "data": {
      "text/plain": [
       "{'pointx_keymatrix_dly': {'mtd1_n_topup_point_extnl': 0.246,\n",
       "  'mtd1_n_topup_point_auto_wealth': 0.241,\n",
       "  'n_topup_point': 0.232,\n",
       "  'amt_point_topup': 0.226,\n",
       "  'amt_point_topup_onetime': 0.223}}"
      ]
     },
     "execution_count": 41,
     "metadata": {},
     "output_type": "execute_result"
    }
   ],
   "source": [
    "temp_schema"
   ]
  },
  {
   "cell_type": "markdown",
   "metadata": {},
   "source": [
    "## Experiment"
   ]
  },
  {
   "cell_type": "code",
   "execution_count": null,
   "metadata": {},
   "outputs": [],
   "source": [
    "df_data = {\"Question\": [],\n",
    "           \"Actual SQL\": [],\n",
    "           \"Predict MASK SQL\": [],\n",
    "           \"Actual result\": [],\n",
    "           \"Predict result\": []}\n",
    "\n",
    "short_learning_prompt = \"\"\"You are a SQL query assistant.\n",
    "I have some SQL where the [MASK] column and the conditional value of [MASK] are formatted. And I want you to respond to the output populating the [MASK] column and the SQL input conditional values, followed by the question, the schema description (name - description) and the 5 row example values as provided.\n",
    "If you don't know which column or value to enter, Don't include columns you created yourself. And only columns and values defined from the schema and sample values must be used.\n",
    "Don't use columns from another table or schema. It must also be used from the same table defined in the input.\n",
    "\n",
    "#################\n",
    "\n",
    "table :     cat - this table contain cat information\n",
    "column :    id - number for identify cat\n",
    "            name - name of cat\n",
    "            age - age of cat\n",
    "            gender - gender of cat\n",
    "example 5 rows:\n",
    "|   id | name   |   age | gender   |\n",
    "|-----:|:-------|------:|:---------|\n",
    "|    5 | Pussy  |     2 | Male     |\n",
    "|    1 | Sam    |     1 | Male     |\n",
    "|    9 | Peter  |     2 | Female   |\n",
    "|    3 | Jack   |     4 | Male     |\n",
    "|    4 | Ponica |     3 | Female   |\n",
    "question: Count number of cate each gender.\n",
    "input: SELECT [MASK], COUNT([MASK]) FROM cat GROUP BY [MASK];\n",
    "output: SELECT gender, COUNT(*) FROM cat GROUP BY gender;\n",
    "\n",
    "#################\n",
    "\n",
    "table :     cat - this table contain cat information\n",
    "column :    id - number for identify cat\n",
    "            name - name of cat\n",
    "            age - age of cat\n",
    "            gender - gender of cat\n",
    "example 5 rows:\n",
    "|   id | name   |   age | gender   |\n",
    "|-----:|:-------|------:|:---------|\n",
    "|    5 | Pussy  |     2 | Male     |\n",
    "|    1 | Sam    |     1 | Male     |\n",
    "|    9 | Peter  |     2 | Female   |\n",
    "|    3 | Jack   |     4 | Male     |\n",
    "|    4 | Ponica |     3 | Female   |\n",
    "question: show me the name and age of woman cat.\n",
    "input: SELECT [MASK], [MASK] FROM cat WHERE [MASK] = [MASK];\n",
    "output: SELECT name, age FROM cat WHERE gender = 'Female';\n",
    "\n",
    "#################\n",
    "\"\"\"\n",
    "\n",
    "table_name = \"pointx_keymatrix_dly\"\n",
    "\n",
    "for i,row in keymatrix_df.iterrows():\n",
    "    strat_time = time.time()\n",
    "    full_prompt = short_learning_prompt \n",
    "    question = row['NLQ']\n",
    "    actual_sql = row['SQL']\n",
    "    used_schema = schema_link.filter_schema(question, column_threshold=0.2, max_select_columns=10)\n",
    "    sql = gen_sql(create_prompt(question, used_schema))\n",
    "    if '*' in sql: sql = sql.replace('*', \"[MASK]\")\n",
    "\n",
    "    full_prompt += f\"\\ntable: {table_name} - {keymatrix_schema['description']}\\ncolumn: \"\n",
    "\n",
    "    for col in used_schema[table_name].keys():\n",
    "        full_prompt += f\"{col} - {keymatrix_columns_desc[col]}\\n\"\n",
    "        if col in sql: \n",
    "            sql = sql.replace(col, \"[MASK]\")\n",
    "    \n",
    "    pattern = r'([\"\\'])(.*?)\\1|\\b[-+]?\\d+\\.\\d+\\b|\\b[-+]?\\d+\\b'\n",
    "    matches = re.findall(pattern, sql)\n",
    "    if matches:\n",
    "        value_to_replace = matches[0]  # Assuming there is one value to replace\n",
    "        sql = re.sub(pattern, \"[MASK]\", sql)\n",
    "    \n",
    "    full_prompt += f\"example 5 rows:\\n{query_n_rows(table_name, list(used_schema[table_name].keys())).to_markdown(index=False)}\\n\"\n",
    "    full_prompt += f\"question: {question}\\n\"\n",
    "    full_prompt += f\"input: {sql}\\noutput:\"\n",
    "    print(full_prompt)\n",
    "    response = llm_response(full_prompt)\n",
    "    if '\\n' in response: response = response.replace('\\n',' ')\n",
    "\n",
    "    df_data['Question'].append(question)\n",
    "    df_data['Actual SQL'].append(actual_sql)\n",
    "    df_data['Predict MASK SQL'].append(response)\n",
    "    df_data['Actual result'].append(query_pointx_db(actual_sql))\n",
    "    df_data['Predict result'].append(query_pointx_db(response))\n",
    "\n",
    "    print(\"\\nQuestion:\",question)\n",
    "    print(\"ACTUAL SQL:\",actual_sql)\n",
    "    print(\"MASKED SQL:\",sql)\n",
    "    print(\"Response:\",response)\n",
    "    print(f\"Time taken: {time.time() - strat_time} seconds\")\n",
    "    print()"
   ]
  },
  {
   "cell_type": "code",
   "execution_count": null,
   "metadata": {},
   "outputs": [],
   "source": [
    "result_df = pd.DataFrame(df_data)\n",
    "result_df.to_excel(\"Experiments/NSQL-LLM-predict-MASK-keymatrix.xlsx\", index=False)\n",
    "result_df.head()"
   ]
  },
  {
   "cell_type": "code",
   "execution_count": null,
   "metadata": {},
   "outputs": [],
   "source": []
  }
 ],
 "metadata": {
  "kernelspec": {
   "display_name": "base",
   "language": "python",
   "name": "python3"
  },
  "language_info": {
   "codemirror_mode": {
    "name": "ipython",
    "version": 3
   },
   "file_extension": ".py",
   "mimetype": "text/x-python",
   "name": "python",
   "nbconvert_exporter": "python",
   "pygments_lexer": "ipython3",
   "version": "3.10.9"
  }
 },
 "nbformat": 4,
 "nbformat_minor": 2
}

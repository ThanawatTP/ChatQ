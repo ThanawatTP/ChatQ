{
 "cells": [
  {
   "cell_type": "code",
   "execution_count": 1,
   "metadata": {},
   "outputs": [
    {
     "name": "stderr",
     "output_type": "stream",
     "text": [
      "[nltk_data] Downloading package words to\n",
      "[nltk_data]     /Users/thanawatthongpia/nltk_data...\n",
      "[nltk_data]   Package words is already up-to-date!\n",
      "[nltk_data] Downloading package punkt to\n",
      "[nltk_data]     /Users/thanawatthongpia/nltk_data...\n",
      "[nltk_data]   Package punkt is already up-to-date!\n",
      "[nltk_data] Downloading package wordnet to\n",
      "[nltk_data]     /Users/thanawatthongpia/nltk_data...\n",
      "[nltk_data]   Package wordnet is already up-to-date!\n"
     ]
    },
    {
     "name": "stdout",
     "output_type": "stream",
     "text": [
      "run\n",
      "load pre-train model\n"
     ]
    }
   ],
   "source": [
    "from tuning_model_class import w2v_tuning\n",
    "\n",
    "w2vmodel = w2v_tuning()\n",
    "w2vmodel.set_vector_path(\"w2v.42B.300d.txt\",'GloVe.wordvectors')\n",
    "w2vmodel.CreateW2V_Model()"
   ]
  },
  {
   "cell_type": "code",
   "execution_count": 2,
   "metadata": {},
   "outputs": [
    {
     "data": {
      "text/plain": [
       "[('iphone', 0.7339416146278381),\n",
       " ('ipad', 0.7129027247428894),\n",
       " ('apples', 0.6433200836181641),\n",
       " ('blackberry', 0.6380701661109924),\n",
       " ('ipod', 0.6341225504875183)]"
      ]
     },
     "execution_count": 2,
     "metadata": {},
     "output_type": "execute_result"
    }
   ],
   "source": [
    "w2vmodel.model.wv.most_similar('apple',topn=5)"
   ]
  },
  {
   "cell_type": "code",
   "execution_count": 3,
   "metadata": {},
   "outputs": [],
   "source": [
    "w2vmodel.import_corpus('src/PointX_corpus.txt')\n",
    "w2vmodel.import_corpus('src/TechX_corpus.txt')\n",
    "w2vmodel.train_with_corpus('test-run',w2vmodel.corpus,100)"
   ]
  },
  {
   "cell_type": "code",
   "execution_count": 4,
   "metadata": {},
   "outputs": [
    {
     "data": {
      "text/plain": [
       "[('eveandboy', 0.9945617914199829),\n",
       " ('villa_market', 0.9944659471511841),\n",
       " ('flash_deals', 0.9943450689315796),\n",
       " ('pointxs', 0.9943274855613708),\n",
       " ('hybrid_onsite', 0.9943217039108276),\n",
       " ('participating_gold', 0.9942933320999146),\n",
       " ('dont_miss', 0.9942665100097656),\n",
       " ('priced_items', 0.9942501187324524),\n",
       " ('pointx', 0.9942302107810974),\n",
       " ('times_per', 0.994221031665802)]"
      ]
     },
     "execution_count": 4,
     "metadata": {},
     "output_type": "execute_result"
    }
   ],
   "source": [
    "w2vmodel.model.wv.most_similar('point',topn=10)"
   ]
  },
  {
   "cell_type": "code",
   "execution_count": 5,
   "metadata": {},
   "outputs": [
    {
     "name": "stdout",
     "output_type": "stream",
     "text": [
      "\n",
      "Perplexity:  -6.642002736849342\n",
      "Coherence Score:  0.4320782213372373\n"
     ]
    }
   ],
   "source": [
    "w2vmodel.corpus_topic_score()"
   ]
  },
  {
   "cell_type": "code",
   "execution_count": null,
   "metadata": {},
   "outputs": [],
   "source": []
  }
 ],
 "metadata": {
  "kernelspec": {
   "display_name": "base",
   "language": "python",
   "name": "python3"
  },
  "language_info": {
   "codemirror_mode": {
    "name": "ipython",
    "version": 3
   },
   "file_extension": ".py",
   "mimetype": "text/x-python",
   "name": "python",
   "nbconvert_exporter": "python",
   "pygments_lexer": "ipython3",
   "version": "3.10.9"
  },
  "orig_nbformat": 4
 },
 "nbformat": 4,
 "nbformat_minor": 2
}

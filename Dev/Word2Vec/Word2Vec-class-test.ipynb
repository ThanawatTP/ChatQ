{
 "cells": [
  {
   "cell_type": "code",
   "execution_count": 7,
   "metadata": {},
   "outputs": [
    {
     "name": "stderr",
     "output_type": "stream",
     "text": [
      "[nltk_data] Downloading package stopwords to\n",
      "[nltk_data]     /Users/thanawatthongpia/nltk_data...\n",
      "[nltk_data]   Package stopwords is already up-to-date!\n",
      "[nltk_data] Downloading package words to\n",
      "[nltk_data]     /Users/thanawatthongpia/nltk_data...\n",
      "[nltk_data]   Package words is already up-to-date!\n",
      "[nltk_data] Downloading package wordnet to\n",
      "[nltk_data]     /Users/thanawatthongpia/nltk_data...\n",
      "[nltk_data]   Package wordnet is already up-to-date!\n"
     ]
    },
    {
     "name": "stdout",
     "output_type": "stream",
     "text": [
      "loading pre-train model\n"
     ]
    }
   ],
   "source": [
    "from word2vec import word_embedding\n",
    "w2v = word_embedding()\n",
    "w2v.create_model()"
   ]
  },
  {
   "cell_type": "code",
   "execution_count": 8,
   "metadata": {},
   "outputs": [
    {
     "data": {
      "text/plain": [
       "[('iphone', 0.7339416146278381),\n",
       " ('ipad', 0.7129027247428894),\n",
       " ('apples', 0.6433200836181641),\n",
       " ('blackberry', 0.6380701661109924),\n",
       " ('ipod', 0.6341225504875183)]"
      ]
     },
     "execution_count": 8,
     "metadata": {},
     "output_type": "execute_result"
    }
   ],
   "source": [
    "w2v.model.wv.most_similar('apple',topn=5)"
   ]
  },
  {
   "cell_type": "code",
   "execution_count": 9,
   "metadata": {},
   "outputs": [
    {
     "name": "stdout",
     "output_type": "stream",
     "text": [
      "Updating vocabs\n"
     ]
    }
   ],
   "source": [
    "# w2v.import_corpus('../src/Corpus_PointX.txt')\n",
    "w2v.import_corpus('../src/Corpus_TechX.txt')\n",
    "w2v.train_with_corpus(w2v.corpus,100)"
   ]
  },
  {
   "cell_type": "code",
   "execution_count": 10,
   "metadata": {},
   "outputs": [
    {
     "data": {
      "text/plain": [
       "[('pointxs', 0.9934269785881042),\n",
       " ('pointx', 0.993198037147522),\n",
       " ('cardx', 0.9931145906448364),\n",
       " ('backdownload', 0.9929540157318115),\n",
       " ('hashgraph', 0.99294114112854),\n",
       " ('anddigital', 0.992802619934082),\n",
       " ('scbx', 0.9927349090576172),\n",
       " ('periodsummer', 0.9926548600196838),\n",
       " ('trirat', 0.9925965070724487),\n",
       " ('techxs', 0.9925957322120667)]"
      ]
     },
     "execution_count": 10,
     "metadata": {},
     "output_type": "execute_result"
    }
   ],
   "source": [
    "w2v.model.wv.most_similar('point',topn=10)"
   ]
  },
  {
   "cell_type": "code",
   "execution_count": null,
   "metadata": {},
   "outputs": [],
   "source": []
  }
 ],
 "metadata": {
  "kernelspec": {
   "display_name": "base",
   "language": "python",
   "name": "python3"
  },
  "language_info": {
   "codemirror_mode": {
    "name": "ipython",
    "version": 3
   },
   "file_extension": ".py",
   "mimetype": "text/x-python",
   "name": "python",
   "nbconvert_exporter": "python",
   "pygments_lexer": "ipython3",
   "version": "3.10.9"
  },
  "orig_nbformat": 4
 },
 "nbformat": 4,
 "nbformat_minor": 2
}

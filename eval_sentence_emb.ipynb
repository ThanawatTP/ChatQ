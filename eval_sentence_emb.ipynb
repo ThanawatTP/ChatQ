{
 "cells": [
  {
   "cell_type": "code",
   "execution_count": 21,
   "metadata": {},
   "outputs": [
    {
     "data": {
      "text/html": [
       "<div>\n",
       "<style scoped>\n",
       "    .dataframe tbody tr th:only-of-type {\n",
       "        vertical-align: middle;\n",
       "    }\n",
       "\n",
       "    .dataframe tbody tr th {\n",
       "        vertical-align: top;\n",
       "    }\n",
       "\n",
       "    .dataframe thead th {\n",
       "        text-align: right;\n",
       "    }\n",
       "</style>\n",
       "<table border=\"1\" class=\"dataframe\">\n",
       "  <thead>\n",
       "    <tr style=\"text-align: right;\">\n",
       "      <th></th>\n",
       "      <th>Question</th>\n",
       "      <th>SQL</th>\n",
       "      <th>Expect Columns</th>\n",
       "      <th>Description Min threshold</th>\n",
       "      <th>Description choose columns</th>\n",
       "    </tr>\n",
       "  </thead>\n",
       "  <tbody>\n",
       "    <tr>\n",
       "      <th>33</th>\n",
       "      <td>What is number of times users open X store las...</td>\n",
       "      <td>SELECT COUNT(event_name) FROM team_tds.tds_int...</td>\n",
       "      <td>['event_timestamp', 'event_name']</td>\n",
       "      <td>0.072696</td>\n",
       "      <td>146</td>\n",
       "    </tr>\n",
       "    <tr>\n",
       "      <th>34</th>\n",
       "      <td>How many users open X store last 7 days?</td>\n",
       "      <td>SELECT COUNT(DISTINCT user_pseudo_id) FROM tea...</td>\n",
       "      <td>['user_pseudo_id', 'event_name', 'event_timest...</td>\n",
       "      <td>0.045698</td>\n",
       "      <td>163</td>\n",
       "    </tr>\n",
       "    <tr>\n",
       "      <th>36</th>\n",
       "      <td>How many users open X store last 30 days?</td>\n",
       "      <td>SELECT COUNT(DISTINCT user_pseudo_id) FROM tea...</td>\n",
       "      <td>['user_pseudo_id', 'event_name', 'event_timest...</td>\n",
       "      <td>0.045825</td>\n",
       "      <td>162</td>\n",
       "    </tr>\n",
       "    <tr>\n",
       "      <th>37</th>\n",
       "      <td>How many users open X store more than once las...</td>\n",
       "      <td>SELECT COUNT(cnt) FROM\\n    (SELECT COUNT(DIST...</td>\n",
       "      <td>['user_pseudo_id', 'event_name', 'event_timest...</td>\n",
       "      <td>0.041280</td>\n",
       "      <td>159</td>\n",
       "    </tr>\n",
       "    <tr>\n",
       "      <th>38</th>\n",
       "      <td>How many users open X store more than once las...</td>\n",
       "      <td>SELECT COUNT(cnt) FROM\\n    (SELECT COUNT(DIST...</td>\n",
       "      <td>['user_pseudo_id', 'event_name', 'event_timest...</td>\n",
       "      <td>0.043333</td>\n",
       "      <td>156</td>\n",
       "    </tr>\n",
       "    <tr>\n",
       "      <th>40</th>\n",
       "      <td>How many users have opened X store more than 5...</td>\n",
       "      <td>SELECT COUNT(cnt) FROM\\n  (SELECT COUNT(DISTIN...</td>\n",
       "      <td>['user_pseudo_id', 'event_name', 'event_timest...</td>\n",
       "      <td>0.067982</td>\n",
       "      <td>151</td>\n",
       "    </tr>\n",
       "    <tr>\n",
       "      <th>42</th>\n",
       "      <td>How many users have not used the app for more ...</td>\n",
       "      <td>SELECT COUNT(DISTINCT user_pseudo_id) FROM\\n  ...</td>\n",
       "      <td>['user_pseudo_id', 'event_timestamp', 'event_n...</td>\n",
       "      <td>0.033596</td>\n",
       "      <td>147</td>\n",
       "    </tr>\n",
       "  </tbody>\n",
       "</table>\n",
       "</div>"
      ],
      "text/plain": [
       "                                             Question  \\\n",
       "33  What is number of times users open X store las...   \n",
       "34           How many users open X store last 7 days?   \n",
       "36          How many users open X store last 30 days?   \n",
       "37  How many users open X store more than once las...   \n",
       "38  How many users open X store more than once las...   \n",
       "40  How many users have opened X store more than 5...   \n",
       "42  How many users have not used the app for more ...   \n",
       "\n",
       "                                                  SQL  \\\n",
       "33  SELECT COUNT(event_name) FROM team_tds.tds_int...   \n",
       "34  SELECT COUNT(DISTINCT user_pseudo_id) FROM tea...   \n",
       "36  SELECT COUNT(DISTINCT user_pseudo_id) FROM tea...   \n",
       "37  SELECT COUNT(cnt) FROM\\n    (SELECT COUNT(DIST...   \n",
       "38  SELECT COUNT(cnt) FROM\\n    (SELECT COUNT(DIST...   \n",
       "40  SELECT COUNT(cnt) FROM\\n  (SELECT COUNT(DISTIN...   \n",
       "42  SELECT COUNT(DISTINCT user_pseudo_id) FROM\\n  ...   \n",
       "\n",
       "                                       Expect Columns  \\\n",
       "33                  ['event_timestamp', 'event_name']   \n",
       "34  ['user_pseudo_id', 'event_name', 'event_timest...   \n",
       "36  ['user_pseudo_id', 'event_name', 'event_timest...   \n",
       "37  ['user_pseudo_id', 'event_name', 'event_timest...   \n",
       "38  ['user_pseudo_id', 'event_name', 'event_timest...   \n",
       "40  ['user_pseudo_id', 'event_name', 'event_timest...   \n",
       "42  ['user_pseudo_id', 'event_timestamp', 'event_n...   \n",
       "\n",
       "    Description Min threshold  Description choose columns  \n",
       "33                   0.072696                         146  \n",
       "34                   0.045698                         163  \n",
       "36                   0.045825                         162  \n",
       "37                   0.041280                         159  \n",
       "38                   0.043333                         156  \n",
       "40                   0.067982                         151  \n",
       "42                   0.033596                         147  "
      ]
     },
     "execution_count": 21,
     "metadata": {},
     "output_type": "execute_result"
    }
   ],
   "source": [
    "import pandas as pd\n",
    "compare_df = pd.read_csv('smilarity_result.csv')\n",
    "compare_df[compare_df['Description choose columns'] > 145][['Question','SQL','Expect Columns','Description Min threshold','Description choose columns']]"
   ]
  },
  {
   "cell_type": "code",
   "execution_count": 1,
   "metadata": {},
   "outputs": [],
   "source": [
    "from Description_base_linking import SchemaLinking\n",
    "\n",
    "cat_cols = ['event_name', 'device_category', 'device_mobile_brand_name', 'device_mobile_model_name', 'device_mobile_marketing_name',\n",
    "            'device_mobile_os_hardware_model', 'device_operating_system', 'device_operating_system_version', 'device_language', 'geo_continent',\n",
    "            'geo_country', 'geo_region', 'geo_city', 'geo_sub_continent', 'geo_metro', 'app_info_version', 'app_info_install_source', 'platform',\n",
    "            'firebase_previous_class', 'firebase_screen_class']\n",
    "obj = SchemaLinking()\n",
    "obj.add_cats_description(cat_cols)"
   ]
  },
  {
   "cell_type": "code",
   "execution_count": 2,
   "metadata": {},
   "outputs": [
    {
     "name": "stdout",
     "output_type": "stream",
     "text": [
      "['The name of the event.payatmcht_confirm, payatmcht_select_product, settings_select_lifestyle, virtualmall_detail, settings_menu_landing, settings_myacc, settings_myacc_landing, onboard_lifestyle_landing, pointx_highlights_viewall, pointx_virtualmall_bottom_bar, pointx_more, settings_btn, user_engagement, delivery_addr_landing, mypointx_this_month, settings_security, payatmcht_loction, onboard_landing_scb_easy, virtualmall_landing, pointx_scanner_bottom_bar, first_open, onboard_highlight_landing, onboard_permission_notification_landing, mypointx_landing, pointx_home_bottom_bar, pointx_view_mypoint, app_remove, scanToPay_listing_category, myecoupon_valid_landing, app_clear_data, delivery_addr_item, virtualmall_detail_soldout, pointx_ecatalog, payatmcht_landing, onboard_permission_notification_allow, payatmcht_search, pointx_payatmerchant_menu, pointx_dealoftheday_landing, delivery_addr_add_button, pointx_point_transfer_menu, virtualmall_detail_conditions_tab, pointx_payandmerchant_bottom_bar, pointx_search, onboard_succuess, pin_enter_landing, settings_home_landing, app_update, settings_delivery_addr_btn, session_start, screen_view, os_update, pointx_virtualmall_menu, mypointx_myecoupon, pointx_mypointx_bottom_bar, onboard_landing, payatmcht_detail, payatmcht_category, virtualmall_detail_insufficient_point, settings_change_language, pointx_highlight_landing, onboard_highlight_getstart']\n"
     ]
    }
   ],
   "source": [
    "print(obj.schema_description.loc[obj.schema_description['Column'] == 'event_name']['Description'].tolist())"
   ]
  },
  {
   "cell_type": "code",
   "execution_count": 3,
   "metadata": {},
   "outputs": [
    {
     "data": {
      "text/plain": [
       "0.0917951762676239"
      ]
     },
     "execution_count": 3,
     "metadata": {},
     "output_type": "execute_result"
    }
   ],
   "source": [
    "# add event categories to event_name description\n",
    "obj.ques_col_similarity(\"how many user remove app\",\"event_name\")"
   ]
  },
  {
   "cell_type": "code",
   "execution_count": 4,
   "metadata": {},
   "outputs": [
    {
     "data": {
      "text/plain": [
       "-0.021025139838457108"
      ]
     },
     "execution_count": 4,
     "metadata": {},
     "output_type": "execute_result"
    }
   ],
   "source": [
    "# raw event_name description (\"The name of the event\")\n",
    "obj = SchemaLinking()\n",
    "obj.ques_col_similarity(\"how many user remove app\",\"event_name\")"
   ]
  },
  {
   "cell_type": "code",
   "execution_count": null,
   "metadata": {},
   "outputs": [],
   "source": []
  },
  {
   "cell_type": "code",
   "execution_count": 5,
   "metadata": {},
   "outputs": [
    {
     "name": "stdout",
     "output_type": "stream",
     "text": [
      "How many daily active users each day?\n",
      "COL NOT SELECTED:\t ['event_date', 'ga_session_id']\n",
      "0.5\n",
      "\n",
      "How many monthly active users each month?\n",
      "COL NOT SELECTED:\t ['user_pseudo_id', 'engagement_time_msec', 'ga_session_id']\n",
      "0.25\n",
      "\n",
      "What is the average number of daily active users last 7 days?\n",
      "COL NOT SELECTED:\t ['event_date', 'user_pseudo_id', 'ga_session_id']\n",
      "0.25\n",
      "\n",
      "What is the mean number of daily active users from last 30 days?\n",
      "COL NOT SELECTED:\t ['user_pseudo_id', 'ga_session_id']\n",
      "0.5\n",
      "\n",
      "When was the last time each user was active?\n",
      "1.0\n",
      "\n"
     ]
    }
   ],
   "source": [
    "from Description_base_linking import SchemaLinking\n",
    "import pandas as pd\n",
    "import numpy as np\n",
    "from torch.utils.data import DataLoader\n",
    "from sentence_transformers import InputExample, losses\n",
    "# import time\n",
    "\n",
    "obj = SchemaLinking()\n",
    "threshold = 0.2\n",
    "compare_df = pd.read_csv('smilarity_result.csv')\n",
    "questions = compare_df['Question'].to_list()\n",
    "sql_queries = compare_df['SQL'].to_list()\n",
    "train_ques_col = []\n",
    "\n",
    "for i, q in enumerate(questions[:5]):\n",
    "    print(q)\n",
    "    expect_col = obj.columns_from_query(sql_queries[i])\n",
    "    choose_col = obj.get_columns_threshold(q, threshold)\n",
    "\n",
    "    # print(\"EXPECT COLUMNS:\\t\\t\", expect_col)\n",
    "    # print('SELECTED COLUMNS:\\t', choose_col)\n",
    "\n",
    "    expect_col_vec = obj.choose_col_onehot(expect_col)\n",
    "    choose_col_vec = obj.choose_col_onehot(choose_col)\n",
    "    accuracy = obj.accuracy_of_onehot(choose_col_vec, expect_col_vec)\n",
    "\n",
    "    not_selected_col_idx =  (choose_col_vec == 0) & (expect_col_vec ==1 ).astype(int)\n",
    "    not_selected_col = [ obj.schema_columns[idx] for idx in np.where(not_selected_col_idx == 1)[0]]\n",
    "    if len(not_selected_col):\n",
    "        print(\"COL NOT SELECTED:\\t\",not_selected_col)\n",
    "        train_ques_col.append((q, not_selected_col))\n",
    "    print(accuracy)\n",
    "    print()"
   ]
  },
  {
   "cell_type": "code",
   "execution_count": 6,
   "metadata": {},
   "outputs": [],
   "source": [
    "question = \"How many daily active users each day?\""
   ]
  },
  {
   "cell_type": "code",
   "execution_count": 7,
   "metadata": {},
   "outputs": [
    {
     "data": {
      "text/plain": [
       "25"
      ]
     },
     "execution_count": 7,
     "metadata": {},
     "output_type": "execute_result"
    }
   ],
   "source": [
    "len(obj.get_columns_threshold(question))"
   ]
  },
  {
   "cell_type": "code",
   "execution_count": 8,
   "metadata": {},
   "outputs": [
    {
     "data": {
      "text/plain": [
       "0.15984684228897095"
      ]
     },
     "execution_count": 8,
     "metadata": {},
     "output_type": "execute_result"
    }
   ],
   "source": [
    "obj.ques_col_similarity(question, 'event_date')"
   ]
  },
  {
   "cell_type": "code",
   "execution_count": 9,
   "metadata": {},
   "outputs": [
    {
     "name": "stdout",
     "output_type": "stream",
     "text": [
      "Fine-tune model done!\n"
     ]
    }
   ],
   "source": [
    "obj.fine_tune_model(train_ques_col, 100)"
   ]
  },
  {
   "cell_type": "code",
   "execution_count": 10,
   "metadata": {},
   "outputs": [
    {
     "data": {
      "text/plain": [
       "26"
      ]
     },
     "execution_count": 10,
     "metadata": {},
     "output_type": "execute_result"
    }
   ],
   "source": [
    "len(obj.get_columns_threshold(question))"
   ]
  },
  {
   "cell_type": "code",
   "execution_count": 11,
   "metadata": {},
   "outputs": [
    {
     "data": {
      "text/plain": [
       "0.16859468817710876"
      ]
     },
     "execution_count": 11,
     "metadata": {},
     "output_type": "execute_result"
    }
   ],
   "source": [
    "obj.ques_col_similarity(question, 'event_date')"
   ]
  },
  {
   "cell_type": "code",
   "execution_count": null,
   "metadata": {},
   "outputs": [],
   "source": []
  },
  {
   "cell_type": "code",
   "execution_count": 15,
   "metadata": {},
   "outputs": [],
   "source": [
    "###TEST###"
   ]
  },
  {
   "cell_type": "code",
   "execution_count": 17,
   "metadata": {},
   "outputs": [],
   "source": [
    "from sentence_transformers import SentenceTransformer, models, InputExample, losses\n",
    "from datasets import load_dataset\n",
    "from torch.utils.data import DataLoader"
   ]
  },
  {
   "cell_type": "code",
   "execution_count": 18,
   "metadata": {},
   "outputs": [
    {
     "name": "stderr",
     "output_type": "stream",
     "text": [
      "Found cached dataset json (/Users/thanawatthongpia/.cache/huggingface/datasets/embedding-data___json/embedding-data--sentence-compression-d643585deb6e0073/0.0.0/8bb11242116d547c741b2e8a1f18598ffdd40a1d4f2a2872c7a28b697434bc96)\n"
     ]
    },
    {
     "data": {
      "application/vnd.jupyter.widget-view+json": {
       "model_id": "dda308f736f2428ab35b66e36cbc2062",
       "version_major": 2,
       "version_minor": 0
      },
      "text/plain": [
       "  0%|          | 0/1 [00:00<?, ?it/s]"
      ]
     },
     "metadata": {},
     "output_type": "display_data"
    }
   ],
   "source": [
    "dataset_id = \"embedding-data/sentence-compression\"\n",
    "datasetB = load_dataset(dataset_id)"
   ]
  },
  {
   "cell_type": "code",
   "execution_count": 20,
   "metadata": {},
   "outputs": [
    {
     "data": {
      "text/plain": [
       "[\"The USHL completed an expansion draft on Monday as 10 players who were on the rosters of USHL teams during the 2009-10 season were selected by the League's two newest entries, the Muskegon Lumberjacks and Dubuque Fighting Saints.\",\n",
       " 'USHL completes expansion draft']"
      ]
     },
     "execution_count": 20,
     "metadata": {},
     "output_type": "execute_result"
    }
   ],
   "source": [
    "datasetB['train']['set'][0]"
   ]
  },
  {
   "cell_type": "code",
   "execution_count": 16,
   "metadata": {},
   "outputs": [
    {
     "data": {
      "text/plain": [
       "sentence_transformers.SentenceTransformer.SentenceTransformer"
      ]
     },
     "execution_count": 16,
     "metadata": {},
     "output_type": "execute_result"
    }
   ],
   "source": [
    "type(obj.Sentence_transformer)"
   ]
  },
  {
   "cell_type": "code",
   "execution_count": null,
   "metadata": {},
   "outputs": [],
   "source": []
  }
 ],
 "metadata": {
  "kernelspec": {
   "display_name": "base",
   "language": "python",
   "name": "python3"
  },
  "language_info": {
   "codemirror_mode": {
    "name": "ipython",
    "version": 3
   },
   "file_extension": ".py",
   "mimetype": "text/x-python",
   "name": "python",
   "nbconvert_exporter": "python",
   "pygments_lexer": "ipython3",
   "version": "3.10.9"
  },
  "orig_nbformat": 4
 },
 "nbformat": 4,
 "nbformat_minor": 2
}

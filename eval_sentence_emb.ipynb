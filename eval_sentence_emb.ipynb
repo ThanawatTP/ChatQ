{
 "cells": [
  {
   "cell_type": "code",
   "execution_count": 83,
   "metadata": {},
   "outputs": [
    {
     "data": {
      "text/html": [
       "<div>\n",
       "<style scoped>\n",
       "    .dataframe tbody tr th:only-of-type {\n",
       "        vertical-align: middle;\n",
       "    }\n",
       "\n",
       "    .dataframe tbody tr th {\n",
       "        vertical-align: top;\n",
       "    }\n",
       "\n",
       "    .dataframe thead th {\n",
       "        text-align: right;\n",
       "    }\n",
       "</style>\n",
       "<table border=\"1\" class=\"dataframe\">\n",
       "  <thead>\n",
       "    <tr style=\"text-align: right;\">\n",
       "      <th></th>\n",
       "      <th>Question</th>\n",
       "      <th>SQL</th>\n",
       "      <th>Expect Columns</th>\n",
       "      <th>Description Min threshold</th>\n",
       "      <th>Description choose columns</th>\n",
       "    </tr>\n",
       "  </thead>\n",
       "  <tbody>\n",
       "    <tr>\n",
       "      <th>33</th>\n",
       "      <td>What is number of times users open X store las...</td>\n",
       "      <td>SELECT COUNT(event_name) FROM team_tds.tds_int...</td>\n",
       "      <td>['event_timestamp', 'event_name']</td>\n",
       "      <td>0.072696</td>\n",
       "      <td>146</td>\n",
       "    </tr>\n",
       "    <tr>\n",
       "      <th>34</th>\n",
       "      <td>How many users open X store last 7 days?</td>\n",
       "      <td>SELECT COUNT(DISTINCT user_pseudo_id) FROM tea...</td>\n",
       "      <td>['user_pseudo_id', 'event_name', 'event_timest...</td>\n",
       "      <td>0.045698</td>\n",
       "      <td>163</td>\n",
       "    </tr>\n",
       "    <tr>\n",
       "      <th>36</th>\n",
       "      <td>How many users open X store last 30 days?</td>\n",
       "      <td>SELECT COUNT(DISTINCT user_pseudo_id) FROM tea...</td>\n",
       "      <td>['user_pseudo_id', 'event_name', 'event_timest...</td>\n",
       "      <td>0.045825</td>\n",
       "      <td>162</td>\n",
       "    </tr>\n",
       "    <tr>\n",
       "      <th>37</th>\n",
       "      <td>How many users open X store more than once las...</td>\n",
       "      <td>SELECT COUNT(cnt) FROM\\n    (SELECT COUNT(DIST...</td>\n",
       "      <td>['user_pseudo_id', 'event_name', 'event_timest...</td>\n",
       "      <td>0.041280</td>\n",
       "      <td>159</td>\n",
       "    </tr>\n",
       "    <tr>\n",
       "      <th>38</th>\n",
       "      <td>How many users open X store more than once las...</td>\n",
       "      <td>SELECT COUNT(cnt) FROM\\n    (SELECT COUNT(DIST...</td>\n",
       "      <td>['user_pseudo_id', 'event_name', 'event_timest...</td>\n",
       "      <td>0.043333</td>\n",
       "      <td>156</td>\n",
       "    </tr>\n",
       "    <tr>\n",
       "      <th>40</th>\n",
       "      <td>How many users have opened X store more than 5...</td>\n",
       "      <td>SELECT COUNT(cnt) FROM\\n  (SELECT COUNT(DISTIN...</td>\n",
       "      <td>['user_pseudo_id', 'event_name', 'event_timest...</td>\n",
       "      <td>0.067982</td>\n",
       "      <td>151</td>\n",
       "    </tr>\n",
       "    <tr>\n",
       "      <th>42</th>\n",
       "      <td>How many users have not used the app for more ...</td>\n",
       "      <td>SELECT COUNT(DISTINCT user_pseudo_id) FROM\\n  ...</td>\n",
       "      <td>['user_pseudo_id', 'event_timestamp', 'event_n...</td>\n",
       "      <td>0.033596</td>\n",
       "      <td>147</td>\n",
       "    </tr>\n",
       "  </tbody>\n",
       "</table>\n",
       "</div>"
      ],
      "text/plain": [
       "                                             Question  \\\n",
       "33  What is number of times users open X store las...   \n",
       "34           How many users open X store last 7 days?   \n",
       "36          How many users open X store last 30 days?   \n",
       "37  How many users open X store more than once las...   \n",
       "38  How many users open X store more than once las...   \n",
       "40  How many users have opened X store more than 5...   \n",
       "42  How many users have not used the app for more ...   \n",
       "\n",
       "                                                  SQL  \\\n",
       "33  SELECT COUNT(event_name) FROM team_tds.tds_int...   \n",
       "34  SELECT COUNT(DISTINCT user_pseudo_id) FROM tea...   \n",
       "36  SELECT COUNT(DISTINCT user_pseudo_id) FROM tea...   \n",
       "37  SELECT COUNT(cnt) FROM\\n    (SELECT COUNT(DIST...   \n",
       "38  SELECT COUNT(cnt) FROM\\n    (SELECT COUNT(DIST...   \n",
       "40  SELECT COUNT(cnt) FROM\\n  (SELECT COUNT(DISTIN...   \n",
       "42  SELECT COUNT(DISTINCT user_pseudo_id) FROM\\n  ...   \n",
       "\n",
       "                                       Expect Columns  \\\n",
       "33                  ['event_timestamp', 'event_name']   \n",
       "34  ['user_pseudo_id', 'event_name', 'event_timest...   \n",
       "36  ['user_pseudo_id', 'event_name', 'event_timest...   \n",
       "37  ['user_pseudo_id', 'event_name', 'event_timest...   \n",
       "38  ['user_pseudo_id', 'event_name', 'event_timest...   \n",
       "40  ['user_pseudo_id', 'event_name', 'event_timest...   \n",
       "42  ['user_pseudo_id', 'event_timestamp', 'event_n...   \n",
       "\n",
       "    Description Min threshold  Description choose columns  \n",
       "33                   0.072696                         146  \n",
       "34                   0.045698                         163  \n",
       "36                   0.045825                         162  \n",
       "37                   0.041280                         159  \n",
       "38                   0.043333                         156  \n",
       "40                   0.067982                         151  \n",
       "42                   0.033596                         147  "
      ]
     },
     "execution_count": 83,
     "metadata": {},
     "output_type": "execute_result"
    }
   ],
   "source": [
    "import pandas as pd\n",
    "compare_df = pd.read_csv('smilarity_result.csv')\n",
    "compare_df[compare_df['Description choose columns'] > 145][['Question','SQL','Expect Columns','Description Min threshold','Description choose columns']]"
   ]
  },
  {
   "cell_type": "code",
<<<<<<< HEAD
=======
   "execution_count": 8,
   "metadata": {},
   "outputs": [
    {
     "name": "stderr",
     "output_type": "stream",
     "text": [
      "Found cached dataset json (/Users/thanawatthongpia/.cache/huggingface/datasets/embedding-data___json/embedding-data--sentence-compression-d643585deb6e0073/0.0.0/8bb11242116d547c741b2e8a1f18598ffdd40a1d4f2a2872c7a28b697434bc96)\n"
     ]
    },
    {
     "data": {
      "application/vnd.jupyter.widget-view+json": {
       "model_id": "aa4898109ef242caa69377715f49afd5",
       "version_major": 2,
       "version_minor": 0
      },
      "text/plain": [
       "  0%|          | 0/1 [00:00<?, ?it/s]"
      ]
     },
     "metadata": {},
     "output_type": "display_data"
    }
   ],
   "source": [
    "from sentence_transformers import SentenceTransformer, models, InputExample, losses, util\n",
    "from datasets import load_dataset\n",
    "from torch.utils.data import DataLoader\n",
    "\n",
    "model = SentenceTransformer('all-MiniLM-L6-v2')\n",
    "# dataset_id = \"embedding-data/QQP_triplets\"\n",
    "dataset_id = \"embedding-data/sentence-compression\"\n",
    "dataset = load_dataset(dataset_id)"
   ]
  },
  {
   "cell_type": "code",
   "execution_count": 85,
   "metadata": {},
   "outputs": [
    {
     "data": {
      "text/plain": [
       "[\"The USHL completed an expansion draft on Monday as 10 players who were on the rosters of USHL teams during the 2009-10 season were selected by the League's two newest entries, the Muskegon Lumberjacks and Dubuque Fighting Saints.\",\n",
       " 'USHL completes expansion draft']"
      ]
     },
     "execution_count": 85,
     "metadata": {},
     "output_type": "execute_result"
    }
   ],
   "source": [
    "dataset['train']['set'][0]"
   ]
  },
  {
   "cell_type": "code",
   "execution_count": 86,
   "metadata": {},
   "outputs": [],
   "source": [
    "train_examples = []\n",
    "n_examples = dataset['train'].num_rows // 20\n",
    "train_data = dataset['train']['set']\n",
    "\n",
    "for i in range(n_examples):\n",
    "  example = train_data[i]\n",
    "  train_examples.append(InputExample(texts=[example[0], example[1]]))"
   ]
  },
  {
   "cell_type": "code",
   "execution_count": 87,
   "metadata": {},
   "outputs": [],
   "source": [
    "train_dataloader = DataLoader(train_examples, shuffle=True, batch_size=64)\n",
    "train_loss = losses.MultipleNegativesRankingLoss(model=model)"
   ]
  },
  {
   "cell_type": "code",
   "execution_count": null,
   "metadata": {},
   "outputs": [],
   "source": [
    "num_epochs = 2\n",
    "warmup_steps = int(len(train_dataloader) * num_epochs * 0.1) #10% of train data"
   ]
  },
  {
   "cell_type": "code",
   "execution_count": null,
   "metadata": {},
   "outputs": [],
   "source": [
    "len(train_dataloader)"
   ]
  },
  {
   "cell_type": "code",
   "execution_count": null,
   "metadata": {},
   "outputs": [],
   "source": [
    "# model.fit(train_objectives=[(train_dataloader, train_loss)],\n",
    "#           epochs=num_epochs,\n",
    "#           warmup_steps=warmup_steps) "
   ]
  },
  {
   "cell_type": "code",
>>>>>>> 26f73d43b8cf9aa29be2948c0d065ccec53c442a
   "execution_count": 1,
   "metadata": {},
   "outputs": [],
   "source": [
    "from Description_base_linking import SchemaLinking\n",
    "\n",
    "col = ['event_name', 'device_category', 'device_mobile_brand_name', 'device_mobile_model_name', 'device_mobile_marketing_name',\n",
    "            'device_mobile_os_hardware_model', 'device_operating_system', 'device_operating_system_version', 'device_language', 'geo_continent',\n",
    "            'geo_country', 'geo_region', 'geo_city', 'geo_sub_continent', 'geo_metro', 'app_info_version', 'app_info_install_source', 'platform',\n",
    "            'firebase_previous_class', 'firebase_screen_class']\n",
    "obj = SchemaLinking()\n",
    "obj.add_cats_description(col)"
   ]
  },
  {
   "cell_type": "code",
   "execution_count": 2,
   "metadata": {},
   "outputs": [
    {
     "name": "stdout",
     "output_type": "stream",
     "text": [
      "['The name of the event.payatmcht_search, payatmcht_loction, payatmcht_category, virtualmall_detail_insufficient_point, user_engagement, pointx_more, pin_enter_landing, pointx_mypointx_bottom_bar, pointx_search, pointx_view_mypoint, pointx_home_bottom_bar, onboard_highlight_getstart, onboard_landing_scb_easy, session_start, settings_menu_landing, onboard_permission_notification_allow, onboard_lifestyle_landing, settings_delivery_addr_btn, settings_myacc, pointx_point_transfer_menu, virtualmall_detail_conditions_tab, pointx_dealoftheday_landing, myecoupon_valid_landing, mypointx_myecoupon, pointx_highlights_viewall, pointx_ecatalog, screen_view, pointx_payandmerchant_bottom_bar, app_remove, settings_security, delivery_addr_landing, scanToPay_listing_category, virtualmall_detail_soldout, payatmcht_detail, onboard_permission_notification_landing, mypointx_landing, payatmcht_confirm, pointx_highlight_landing, os_update, onboard_highlight_landing, payatmcht_landing, pointx_payatmerchant_menu, settings_myacc_landing, pointx_scanner_bottom_bar, virtualmall_detail, pointx_virtualmall_bottom_bar, first_open, virtualmall_landing, delivery_addr_add_button, settings_btn, app_update, onboard_landing, delivery_addr_item, settings_home_landing, settings_select_lifestyle, mypointx_this_month, payatmcht_select_product, settings_change_language, pointx_virtualmall_menu, app_clear_data, onboard_succuess']\n"
     ]
    }
   ],
   "source": [
    "print(obj.schema_description.loc[obj.schema_description['Column'] == 'event_name']['Description'].tolist())"
   ]
  },
  {
   "cell_type": "code",
   "execution_count": 4,
   "metadata": {},
   "outputs": [
    {
     "data": {
      "text/plain": [
       "0.1140679121017456"
      ]
     },
     "execution_count": 4,
     "metadata": {},
     "output_type": "execute_result"
    }
   ],
   "source": [
    "# add event categories to event_name description\n",
    "obj.ques_col_similarity(\"how many user remove app\",\"event_name\")"
   ]
  },
  {
   "cell_type": "code",
   "execution_count": 5,
   "metadata": {},
   "outputs": [
    {
     "data": {
      "text/plain": [
       "-0.021025139838457108"
      ]
     },
     "execution_count": 5,
     "metadata": {},
     "output_type": "execute_result"
    }
   ],
   "source": [
    "# raw event_name description (\"The name of the event\")\n",
    "obj = SchemaLinking()\n",
    "obj.ques_col_similarity(\"how many user remove app\",\"event_name\")"
   ]
  },
  {
   "cell_type": "code",
   "execution_count": null,
   "metadata": {},
   "outputs": [],
   "source": []
  },
  {
   "cell_type": "code",
<<<<<<< HEAD
   "execution_count": 2,
=======
   "execution_count": 1,
>>>>>>> 26f73d43b8cf9aa29be2948c0d065ccec53c442a
   "metadata": {},
   "outputs": [
    {
     "name": "stdout",
     "output_type": "stream",
     "text": [
<<<<<<< HEAD
      "How many daily active users each day?\n"
     ]
    },
    {
     "ename": "AttributeError",
     "evalue": "'SchemaLinking' object has no attribute 'get_columns_threshold'",
     "output_type": "error",
     "traceback": [
      "\u001b[0;31m---------------------------------------------------------------------------\u001b[0m",
      "\u001b[0;31mAttributeError\u001b[0m                            Traceback (most recent call last)",
      "\u001b[1;32m/Users/thanawatthongpia/Desktop/code/fine-tuning/eval_sentence_emb.ipynb Cell 7\u001b[0m line \u001b[0;36m1\n\u001b[1;32m     <a href='vscode-notebook-cell:/Users/thanawatthongpia/Desktop/code/fine-tuning/eval_sentence_emb.ipynb#X50sZmlsZQ%3D%3D?line=15'>16</a>\u001b[0m \u001b[39mprint\u001b[39m(q)\n\u001b[1;32m     <a href='vscode-notebook-cell:/Users/thanawatthongpia/Desktop/code/fine-tuning/eval_sentence_emb.ipynb#X50sZmlsZQ%3D%3D?line=16'>17</a>\u001b[0m expect_col \u001b[39m=\u001b[39m obj\u001b[39m.\u001b[39mcolumns_from_query(sql_queries[i])\n\u001b[0;32m---> <a href='vscode-notebook-cell:/Users/thanawatthongpia/Desktop/code/fine-tuning/eval_sentence_emb.ipynb#X50sZmlsZQ%3D%3D?line=17'>18</a>\u001b[0m choose_col \u001b[39m=\u001b[39m obj\u001b[39m.\u001b[39;49mget_columns_threshold(q, threshold)\n\u001b[1;32m     <a href='vscode-notebook-cell:/Users/thanawatthongpia/Desktop/code/fine-tuning/eval_sentence_emb.ipynb#X50sZmlsZQ%3D%3D?line=19'>20</a>\u001b[0m \u001b[39m# print(\"EXPECT COLUMNS:\\t\\t\", expect_col)\u001b[39;00m\n\u001b[1;32m     <a href='vscode-notebook-cell:/Users/thanawatthongpia/Desktop/code/fine-tuning/eval_sentence_emb.ipynb#X50sZmlsZQ%3D%3D?line=20'>21</a>\u001b[0m \u001b[39m# print('SELECTED COLUMNS:\\t', choose_col)\u001b[39;00m\n\u001b[1;32m     <a href='vscode-notebook-cell:/Users/thanawatthongpia/Desktop/code/fine-tuning/eval_sentence_emb.ipynb#X50sZmlsZQ%3D%3D?line=22'>23</a>\u001b[0m expect_col_vec \u001b[39m=\u001b[39m obj\u001b[39m.\u001b[39mchoose_col_onehot(expect_col)\n",
      "\u001b[0;31mAttributeError\u001b[0m: 'SchemaLinking' object has no attribute 'get_columns_threshold'"
=======
      "How many daily active users each day?\n",
      "COL NOT SELECTED:\t ['event_date', 'ga_session_id']\n",
      "0.5\n",
      "\n",
      "How many monthly active users each month?\n",
      "COL NOT SELECTED:\t ['user_pseudo_id', 'engagement_time_msec', 'ga_session_id']\n",
      "0.25\n",
      "\n",
      "What is the average number of daily active users last 7 days?\n",
      "COL NOT SELECTED:\t ['event_date', 'user_pseudo_id', 'ga_session_id']\n",
      "0.25\n",
      "\n",
      "What is the mean number of daily active users from last 30 days?\n",
      "COL NOT SELECTED:\t ['user_pseudo_id', 'ga_session_id']\n",
      "0.5\n",
      "\n",
      "When was the last time each user was active?\n",
      "1.0\n",
      "\n"
>>>>>>> 26f73d43b8cf9aa29be2948c0d065ccec53c442a
     ]
    }
   ],
   "source": [
    "from Description_base_linking import SchemaLinking\n",
    "import pandas as pd\n",
    "import numpy as np\n",
    "from torch.utils.data import DataLoader\n",
    "from sentence_transformers import InputExample, losses\n",
    "# import time\n",
    "\n",
    "obj = SchemaLinking()\n",
    "threshold = 0.2\n",
    "compare_df = pd.read_csv('smilarity_result.csv')\n",
    "questions = compare_df['Question'].to_list()\n",
    "sql_queries = compare_df['SQL'].to_list()\n",
    "train_ques_col = []\n",
    "\n",
    "for i, q in enumerate(questions[:5]):\n",
    "    print(q)\n",
    "    expect_col = obj.columns_from_query(sql_queries[i])\n",
    "    choose_col = obj.get_columns_threshold(q, threshold)\n",
    "\n",
    "    # print(\"EXPECT COLUMNS:\\t\\t\", expect_col)\n",
    "    # print('SELECTED COLUMNS:\\t', choose_col)\n",
    "\n",
    "    expect_col_vec = obj.choose_col_onehot(expect_col)\n",
    "    choose_col_vec = obj.choose_col_onehot(choose_col)\n",
    "    accuracy = obj.accuracy_of_onehot(choose_col_vec, expect_col_vec)\n",
    "\n",
    "    not_selected_col_idx =  (choose_col_vec == 0) & (expect_col_vec ==1 ).astype(int)\n",
    "    not_selected_col = [ obj.schema_columns[idx] for idx in np.where(not_selected_col_idx == 1)[0]]\n",
    "    if len(not_selected_col):\n",
    "        print(\"COL NOT SELECTED:\\t\",not_selected_col)\n",
    "        train_ques_col.append((q, not_selected_col))\n",
    "    print(accuracy)\n",
    "    print()"
   ]
  },
  {
   "cell_type": "code",
<<<<<<< HEAD
   "execution_count": null,
=======
   "execution_count": 2,
>>>>>>> 26f73d43b8cf9aa29be2948c0d065ccec53c442a
   "metadata": {},
   "outputs": [],
   "source": [
    "question = \"How many daily active users each day?\""
   ]
  },
  {
   "cell_type": "code",
<<<<<<< HEAD
   "execution_count": null,
=======
   "execution_count": 3,
>>>>>>> 26f73d43b8cf9aa29be2948c0d065ccec53c442a
   "metadata": {},
   "outputs": [
    {
     "data": {
      "text/plain": [
       "25"
      ]
     },
     "execution_count": 3,
     "metadata": {},
     "output_type": "execute_result"
    }
   ],
   "source": [
    "len(obj.get_columns_threshold(question))"
   ]
  },
  {
   "cell_type": "code",
<<<<<<< HEAD
   "execution_count": null,
=======
   "execution_count": 4,
>>>>>>> 26f73d43b8cf9aa29be2948c0d065ccec53c442a
   "metadata": {},
   "outputs": [
    {
     "data": {
      "text/plain": [
       "0.15984684228897095"
      ]
     },
     "execution_count": 4,
     "metadata": {},
     "output_type": "execute_result"
    }
   ],
   "source": [
    "obj.ques_col_similarity(question, 'event_date')"
   ]
  },
  {
   "cell_type": "code",
<<<<<<< HEAD
   "execution_count": null,
   "metadata": {},
   "outputs": [
    {
     "ename": "AttributeError",
     "evalue": "'BertModel' object has no attribute 'fit'",
     "output_type": "error",
     "traceback": [
      "\u001b[0;31m---------------------------------------------------------------------------\u001b[0m",
      "\u001b[0;31mAttributeError\u001b[0m                            Traceback (most recent call last)",
      "\u001b[1;32m/Users/thanawatthongpia/Desktop/code/fine-tuning/eval_sentence_emb.ipynb Cell 11\u001b[0m line \u001b[0;36m1\n\u001b[0;32m----> <a href='vscode-notebook-cell:/Users/thanawatthongpia/Desktop/code/fine-tuning/eval_sentence_emb.ipynb#X56sZmlsZQ%3D%3D?line=0'>1</a>\u001b[0m obj\u001b[39m.\u001b[39;49mfine_tune_model(train_ques_col, \u001b[39m100\u001b[39;49m)\n",
      "File \u001b[0;32m~/Desktop/code/fine-tuning/Description_base_linking.py:62\u001b[0m, in \u001b[0;36mSchemaLinking.fine_tune_model\u001b[0;34m(self, questions_columns_list, epochs)\u001b[0m\n\u001b[1;32m     60\u001b[0m train_dataloader \u001b[39m=\u001b[39m DataLoader(train_examples, shuffle\u001b[39m=\u001b[39m\u001b[39mTrue\u001b[39;00m, batch_size\u001b[39m=\u001b[39m\u001b[39m64\u001b[39m)\n\u001b[1;32m     61\u001b[0m train_loss \u001b[39m=\u001b[39m losses\u001b[39m.\u001b[39mMultipleNegativesRankingLoss(model\u001b[39m=\u001b[39m\u001b[39mself\u001b[39m\u001b[39m.\u001b[39mmodel)\n\u001b[0;32m---> 62\u001b[0m \u001b[39mself\u001b[39;49m\u001b[39m.\u001b[39;49mmodel\u001b[39m.\u001b[39;49mfit(train_objectives\u001b[39m=\u001b[39m[(train_dataloader, train_loss)],\n\u001b[1;32m     63\u001b[0m                               epochs\u001b[39m=\u001b[39mepochs, show_progress_bar\u001b[39m=\u001b[39m\u001b[39mFalse\u001b[39;00m) \n\u001b[1;32m     64\u001b[0m \u001b[39mprint\u001b[39m(\u001b[39m\"\u001b[39m\u001b[39mFine-tune model done!\u001b[39m\u001b[39m\"\u001b[39m)\n",
      "File \u001b[0;32m~/anaconda3/lib/python3.10/site-packages/torch/nn/modules/module.py:1614\u001b[0m, in \u001b[0;36mModule.__getattr__\u001b[0;34m(self, name)\u001b[0m\n\u001b[1;32m   1612\u001b[0m     \u001b[39mif\u001b[39;00m name \u001b[39min\u001b[39;00m modules:\n\u001b[1;32m   1613\u001b[0m         \u001b[39mreturn\u001b[39;00m modules[name]\n\u001b[0;32m-> 1614\u001b[0m \u001b[39mraise\u001b[39;00m \u001b[39mAttributeError\u001b[39;00m(\u001b[39m\"\u001b[39m\u001b[39m'\u001b[39m\u001b[39m{}\u001b[39;00m\u001b[39m'\u001b[39m\u001b[39m object has no attribute \u001b[39m\u001b[39m'\u001b[39m\u001b[39m{}\u001b[39;00m\u001b[39m'\u001b[39m\u001b[39m\"\u001b[39m\u001b[39m.\u001b[39mformat(\n\u001b[1;32m   1615\u001b[0m     \u001b[39mtype\u001b[39m(\u001b[39mself\u001b[39m)\u001b[39m.\u001b[39m\u001b[39m__name__\u001b[39m, name))\n",
      "\u001b[0;31mAttributeError\u001b[0m: 'BertModel' object has no attribute 'fit'"
=======
   "execution_count": 8,
   "metadata": {},
   "outputs": [
    {
     "name": "stdout",
     "output_type": "stream",
     "text": [
      "Fine-tune model done!\n"
>>>>>>> 26f73d43b8cf9aa29be2948c0d065ccec53c442a
     ]
    }
   ],
   "source": [
    "obj.fine_tune_model(train_ques_col, 100)"
   ]
  },
  {
   "cell_type": "code",
<<<<<<< HEAD
   "execution_count": null,
=======
   "execution_count": 9,
>>>>>>> 26f73d43b8cf9aa29be2948c0d065ccec53c442a
   "metadata": {},
   "outputs": [
    {
     "data": {
      "text/plain": [
       "26"
      ]
     },
     "execution_count": 9,
     "metadata": {},
     "output_type": "execute_result"
    }
   ],
   "source": [
    "len(obj.get_columns_threshold(\"How many daily active users each day?\"))"
   ]
  },
  {
   "cell_type": "code",
<<<<<<< HEAD
   "execution_count": 3,
   "metadata": {},
   "outputs": [
    {
     "ename": "AttributeError",
     "evalue": "'SchemaLinking' object has no attribute 'ques_col_similarity'",
     "output_type": "error",
     "traceback": [
      "\u001b[0;31m---------------------------------------------------------------------------\u001b[0m",
      "\u001b[0;31mAttributeError\u001b[0m                            Traceback (most recent call last)",
      "\u001b[1;32m/Users/thanawatthongpia/Desktop/code/fine-tuning/eval_sentence_emb.ipynb Cell 13\u001b[0m line \u001b[0;36m1\n\u001b[0;32m----> <a href='vscode-notebook-cell:/Users/thanawatthongpia/Desktop/code/fine-tuning/eval_sentence_emb.ipynb#Y102sZmlsZQ%3D%3D?line=0'>1</a>\u001b[0m obj\u001b[39m.\u001b[39;49mques_col_similarity(question, \u001b[39m'\u001b[39m\u001b[39mevent_date\u001b[39m\u001b[39m'\u001b[39m)\n",
      "\u001b[0;31mAttributeError\u001b[0m: 'SchemaLinking' object has no attribute 'ques_col_similarity'"
     ]
=======
   "execution_count": 10,
   "metadata": {},
   "outputs": [
    {
     "data": {
      "text/plain": [
       "0.16712406277656555"
      ]
     },
     "execution_count": 10,
     "metadata": {},
     "output_type": "execute_result"
>>>>>>> 26f73d43b8cf9aa29be2948c0d065ccec53c442a
    }
   ],
   "source": [
    "obj.ques_col_similarity(question, 'event_date')"
   ]
  },
  {
   "cell_type": "code",
   "execution_count": null,
   "metadata": {},
   "outputs": [],
   "source": []
  }
 ],
 "metadata": {
  "kernelspec": {
   "display_name": "base",
   "language": "python",
   "name": "python3"
  },
  "language_info": {
   "codemirror_mode": {
    "name": "ipython",
    "version": 3
   },
   "file_extension": ".py",
   "mimetype": "text/x-python",
   "name": "python",
   "nbconvert_exporter": "python",
   "pygments_lexer": "ipython3",
   "version": "3.10.9"
  },
  "orig_nbformat": 4
 },
 "nbformat": 4,
 "nbformat_minor": 2
}

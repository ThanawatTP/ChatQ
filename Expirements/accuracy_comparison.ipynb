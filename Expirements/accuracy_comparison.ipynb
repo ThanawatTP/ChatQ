{
 "cells": [
  {
   "cell_type": "code",
   "execution_count": null,
   "metadata": {},
   "outputs": [],
   "source": [
    "import sqlite3\n",
    "import os\n",
    "import csv\n",
    "import pandas as pd"
   ]
  },
  {
   "cell_type": "code",
   "execution_count": null,
   "metadata": {},
   "outputs": [],
   "source": [
    "# Function to create a database and table using column names from the CSV file\n",
    "def create_database_from_csv(csv_filename, database_name):\n",
    "    conn = sqlite3.connect(database_name)\n",
    "    cursor = conn.cursor()\n",
    "\n",
    "    with open(csv_filename, 'r') as file:\n",
    "        csv_reader = csv.reader(file)\n",
    "        header = next(csv_reader)  # Read the header row to get column names\n",
    "\n",
    "        # Generate the CREATE TABLE statement using column names from the CSV file\n",
    "        create_table_sql = f\"CREATE TABLE IF NOT EXISTS pointx_fbs_txn_rpt_dly ({', '.join([f'{col} TEXT' for col in header])})\"\n",
    "\n",
    "        cursor.execute(create_table_sql)\n",
    "\n",
    "        # Read the data from the CSV file and insert it into the table\n",
    "        for row in csv_reader:\n",
    "            insert_sql = f\"INSERT INTO pointx_fbs_txn_rpt_dly ({', '.join(header)}) VALUES ({', '.join(['?']*len(header))})\"\n",
    "            cursor.execute(insert_sql, row)\n",
    "\n",
    "    conn.commit()\n",
    "    conn.close()\n"
   ]
  },
  {
   "cell_type": "code",
   "execution_count": null,
   "metadata": {},
   "outputs": [],
   "source": [
    "# Specify the CSV file and database name\n",
    "csv_filename = 'pointx_fbs_rpt_dly.csv'\n",
    "database_name = 'PointX.sqlite'\n",
    "\n",
    "csv_path = os.path.join(\"src\",csv_filename)\n",
    "db_path = os.path.join(\"db\",database_name)\n",
    "\n",
    "# Create the database and table using column names from the CSV file\n",
    "\n",
    "# create_database_from_csv(csv_path, db_path)"
   ]
  },
  {
   "cell_type": "code",
   "execution_count": null,
   "metadata": {},
   "outputs": [],
   "source": [
    "def query_database(query, database_name=\"db/PointX.sqlite\"):\n",
    "    conn = sqlite3.connect(database_name)\n",
    "    cursor = conn.cursor()\n",
    "\n",
    "    cursor.execute(query)\n",
    "    results = cursor.fetchall()\n",
    "    # try:\n",
    "    #     cursor.execute(query)\n",
    "    #     results = cursor.fetchall()\n",
    "    # except:\n",
    "    #     results = \"Error fetching data\"\n",
    "\n",
    "    conn.close()\n",
    "    return results"
   ]
  },
  {
   "cell_type": "code",
   "execution_count": null,
   "metadata": {},
   "outputs": [],
   "source": [
    "df = pd.read_excel('src/GPT_output.xlsx')\n",
    "selected_columns = ['Question','SQL','pred_sql']\n",
    "excluded_chars = ['`']\n",
    "\n",
    "compare_result_csv = 'src/compare_result.csv'\n",
    "label_result = []\n",
    "pred_result = []\n",
    "\n",
    "for index, row in df[selected_columns].iterrows():\n",
    "    question = row['Question']\n",
    "    pred_sql = ''.join(char for char in row['pred_sql'] if char not in excluded_chars)\n",
    "\n",
    "    #Change table name in label to match the table name in the database\n",
    "    label_sql = ''.join(char for char in row['SQL'] if char not in excluded_chars)\n",
    "    label_sql = label_sql.replace('team_tds.tds_intern.pointx_fbs_txn_rpt_dly','pointx_fbs_txn_rpt_dly')\n",
    "    \n",
    "    label_result.append(query_database(label_sql))\n",
    "    pred_result.append(query_database(pred_sql))\n",
    "\n",
    "df['label_result'] = label_result\n",
    "df['pred_result'] = pred_result"
   ]
  },
  {
   "cell_type": "code",
   "execution_count": null,
   "metadata": {},
   "outputs": [],
   "source": [
    "df.to_csv(compare_result_csv, index=False)"
   ]
  },
  {
   "cell_type": "code",
   "execution_count": null,
   "metadata": {},
   "outputs": [],
   "source": [
    "print(' Question:',question,'\\n\\n','Label SQL:',label_sql,'\\n\\n','Predicted SQL:',pred_sql,'\\n\\n')"
   ]
  },
  {
   "cell_type": "code",
   "execution_count": null,
   "metadata": {},
   "outputs": [],
   "source": [
    "query_database(query)"
   ]
  },
  {
   "cell_type": "code",
   "execution_count": null,
   "metadata": {},
   "outputs": [],
   "source": [
    "query_database(pred_sql)"
   ]
  },
  {
   "cell_type": "code",
   "execution_count": null,
   "metadata": {},
   "outputs": [],
   "source": []
  },
  {
   "cell_type": "code",
   "execution_count": null,
   "metadata": {},
   "outputs": [],
   "source": []
  },
  {
   "cell_type": "code",
   "execution_count": null,
   "metadata": {},
   "outputs": [],
   "source": []
  }
 ],
 "metadata": {
  "kernelspec": {
   "display_name": "base",
   "language": "python",
   "name": "python3"
  },
  "language_info": {
   "codemirror_mode": {
    "name": "ipython",
    "version": 3
   },
   "file_extension": ".py",
   "mimetype": "text/x-python",
   "name": "python",
   "nbconvert_exporter": "python",
   "pygments_lexer": "ipython3",
   "version": "3.10.9"
  },
  "orig_nbformat": 4
 },
 "nbformat": 4,
 "nbformat_minor": 2
}

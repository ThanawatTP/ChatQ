{
 "cells": [
  {
   "cell_type": "code",
   "execution_count": 12,
   "metadata": {},
   "outputs": [
    {
     "name": "stdout",
     "output_type": "stream",
     "text": [
      "Loading NSQL model...\n"
     ]
    }
   ],
   "source": [
    "import os\n",
    "import sys\n",
    "from transformers import AutoTokenizer, AutoModelForCausalLM\n",
    "sys.path.append('../')\n",
    "from filtering_schema.Description_base_linking import SchemaLinking\n",
    "\n",
    "# Set environment variables\n",
    "base_dir = \"../filtering_schema\"\n",
    "os.environ['schema_description_folder_path'] = os.path.join(base_dir, 'src', 'schemas', 'column-descriptions')\n",
    "os.environ['schema_data_types_folder_path'] = os.path.join(base_dir, 'src', 'schemas', 'column-datatypes')\n",
    "os.environ['nsql_model_path'] = os.path.join(base_dir, 'models', 'nsql-350M')\n",
    "os.environ['sentence_emb_model_path'] = os.path.join(base_dir, 'models', 'all-MiniLM-L6-v2')\n",
    "os.environ['schema_description_folder_path'] = os.path.join(base_dir, 'src', 'schemas', 'test-descriptions')\n",
    "os.environ['schema_data_types_folder_path'] = os.path.join(base_dir, 'src', 'schemas', 'test-datatypes')\n",
    "os.environ['column_threshold'] = '0.2'\n",
    "os.environ['table_threshold'] = '0.2'\n",
    "os.environ['max_select_column'] = '10'\n",
    "os.environ['filter_table'] = 'False'\n",
    "os.environ['verbose'] = 'False'\n",
    "\n",
    "\n",
    "schema_link = SchemaLinking()\n",
    "print(\"Loading NSQL model...\")\n",
    "tokenizer = AutoTokenizer.from_pretrained(os.environ.get('nsql_model_path'))\n",
    "model = AutoModelForCausalLM.from_pretrained(os.environ.get('nsql_model_path'))\n",
    "verbose = bool(os.environ.get('verbose').lower() == 'true')"
   ]
  },
  {
   "cell_type": "code",
   "execution_count": 13,
   "metadata": {},
   "outputs": [
    {
     "data": {
      "text/plain": [
       "{'pointx_keymatrix_dly': {'n_transfer_point_out': 0.587,\n",
       "  'mtd1_n_transfer_point_out': 0.548,\n",
       "  'ntx_pointx_financial_out': 0.532,\n",
       "  'mtd1_n_transfer_point_out_extnl': 0.503,\n",
       "  'n_topup_point_onetime': 0.494}}"
      ]
     },
     "execution_count": 13,
     "metadata": {},
     "output_type": "execute_result"
    }
   ],
   "source": [
    "schema_link.filter_schema(\"How many unique transaction occurs\")"
   ]
  },
  {
   "cell_type": "code",
   "execution_count": null,
   "metadata": {},
   "outputs": [],
   "source": []
  }
 ],
 "metadata": {
  "kernelspec": {
   "display_name": "base",
   "language": "python",
   "name": "python3"
  },
  "language_info": {
   "codemirror_mode": {
    "name": "ipython",
    "version": 3
   },
   "file_extension": ".py",
   "mimetype": "text/x-python",
   "name": "python",
   "nbconvert_exporter": "python",
   "pygments_lexer": "ipython3",
   "version": "3.10.9"
  }
 },
 "nbformat": 4,
 "nbformat_minor": 2
}

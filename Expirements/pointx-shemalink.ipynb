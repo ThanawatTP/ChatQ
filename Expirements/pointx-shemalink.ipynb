{
 "cells": [
  {
   "cell_type": "code",
   "execution_count": null,
   "metadata": {},
   "outputs": [],
   "source": [
    "import json, sqlparse, httpx\n",
    "from tqdm import tqdm\n",
    "import pandas as pd"
   ]
  },
  {
   "cell_type": "code",
   "execution_count": null,
   "metadata": {},
   "outputs": [],
   "source": [
    "sql_extract_token_type = {\n",
    "            sqlparse.sql.IdentifierList, sqlparse.sql.Where,\n",
    "            sqlparse.sql.Having, sqlparse.sql.Comparison, sqlparse.sql.Function,\n",
    "            sqlparse.sql.Parenthesis, sqlparse.sql.Operation, sqlparse.sql.Case\n",
    "        }\n",
    "\n",
    "def columns_from_query(sql_query):\n",
    "    # identifiers contain table name and column name\n",
    "    if type(sql_query) == str:\n",
    "        sql_query = sqlparse.parse(sql_query)[0]\n",
    "    columns = []\n",
    "    for token in sql_query:\n",
    "        if isinstance(token, sqlparse.sql.Identifier):\n",
    "            columns.append(token.get_real_name().lower())\n",
    "        elif hasattr(token, \"tokens\"):\n",
    "            columns.extend(columns_from_query(token.tokens))\n",
    "    return columns\n",
    "\n",
    "def columns_by_split(sql_query:str, all_columns:list):\n",
    "    columns = []\n",
    "    for token in sql_query.split():\n",
    "        if token[-1] == \",\": token = token[:-1]\n",
    "        if token in all_columns:\n",
    "            columns.append(token)\n",
    "    return columns"
   ]
  },
  {
   "cell_type": "code",
   "execution_count": null,
   "metadata": {},
   "outputs": [],
   "source": [
    "with open(\"../filtering-schema/src/schemas/column-datatypes/pointx_fbs_rpt_dly_datatype.json\") as f:\n",
    "    all_columns = set(json.load(f)['COLUMNS'].keys())\n",
    "exp_df = pd.read_excel(\"../src/pointx/PointX - text2sql pair.xlsx\")[['Question', 'SQL']]\n",
    "exp_df.head()"
   ]
  },
  {
   "cell_type": "code",
   "execution_count": null,
   "metadata": {},
   "outputs": [],
   "source": [
    "used_cols = []\n",
    "\n",
    "for i, row in exp_df.iterrows():\n",
    "    try:\n",
    "        used_cols.extend([c for c in columns_from_query(row['SQL']) if c in all_columns])\n",
    "        used_cols.extend(columns_by_split(row['SQL'], all_columns))\n",
    "    except: pass\n",
    "\n",
    "used_cols = list(set(used_cols))\n",
    "sorted(used_cols)"
   ]
  },
  {
   "cell_type": "code",
   "execution_count": null,
   "metadata": {},
   "outputs": [],
   "source": [
    "pointx_rpt_dly_df = pd.read_csv(\"../filtering-schema/src/data/pointx_fbs_rpt_dly.csv\")[used_cols]\n",
    "pointx_rpt_dly_df"
   ]
  },
  {
   "cell_type": "code",
   "execution_count": null,
   "metadata": {},
   "outputs": [],
   "source": [
    "def predict_sql(question, timeout=60):\n",
    "    url = \"http://0.0.0.0:8000/nlq\"\n",
    "    payload = {\n",
    "                \"input\": {\n",
    "                    \"text\": question\n",
    "                }\n",
    "            }\n",
    "    # response = httpx.post(url, json=payload, timeout=120)\n",
    "    # return response.json()['data'][0]['text']\n",
    "    try:\n",
    "        response = httpx.post(url, json=payload, timeout=timeout)\n",
    "        response.raise_for_status()  # Raise an HTTPError for bad responses\n",
    "        return response.json()['data'][0]['text']\n",
    "    except httpx.RequestError as e:\n",
    "        print(f\"Request error: {e}\")\n",
    "    except httpx.TimeoutException as e:\n",
    "        print(f\"Request timed out: {e}\")\n",
    "    except httpx.HTTPStatusError as e:\n",
    "        print(f\"HTTP error: {e}\")\n",
    "    return None"
   ]
  },
  {
   "cell_type": "code",
   "execution_count": null,
   "metadata": {},
   "outputs": [],
   "source": [
    "for question in tqdm(exp_df['Question']):\n",
    "    print()\n",
    "    print(question)\n",
    "    print(predict_sql(question))\n",
    "    print('--------------')\n",
    "    "
   ]
  },
  {
   "cell_type": "code",
   "execution_count": null,
   "metadata": {},
   "outputs": [],
   "source": []
  }
 ],
 "metadata": {
  "kernelspec": {
   "display_name": "base",
   "language": "python",
   "name": "python3"
  },
  "language_info": {
   "codemirror_mode": {
    "name": "ipython",
    "version": 3
   },
   "file_extension": ".py",
   "mimetype": "text/x-python",
   "name": "python",
   "nbconvert_exporter": "python",
   "pygments_lexer": "ipython3",
   "version": "3.10.9"
  }
 },
 "nbformat": 4,
 "nbformat_minor": 2
}

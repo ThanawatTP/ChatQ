{
 "cells": [
  {
   "cell_type": "code",
   "execution_count": 8,
   "metadata": {},
   "outputs": [],
   "source": [
    "from gensim.models import Word2Vec\n",
    "from gensim.models.keyedvectors import KeyedVectors"
   ]
  },
  {
   "cell_type": "code",
   "execution_count": 9,
   "metadata": {},
   "outputs": [],
   "source": [
    "# Step 1: Preprocess your text data"
   ]
  },
  {
   "cell_type": "code",
   "execution_count": 16,
   "metadata": {},
   "outputs": [
    {
     "name": "stderr",
     "output_type": "stream",
     "text": [
      "/var/folders/bn/t466096d0gdbqgx9hbgcmwxm0000gn/T/ipykernel_8529/1440120536.py:4: DeprecationWarning: Call to deprecated `glove2word2vec` (KeyedVectors.load_word2vec_format(.., binary=False, no_header=True) loads GLoVE text vectors.).\n",
      "  glove2word2vec(glove_file, temp_word2vec_file)\n"
     ]
    },
    {
     "data": {
      "text/plain": [
       "(1917495, 300)"
      ]
     },
     "execution_count": 16,
     "metadata": {},
     "output_type": "execute_result"
    }
   ],
   "source": [
    "# Step 2: Convert GloVe vectors to word2vec format\n",
    "\n",
    "# glove_file = \"src/glove.42B.300d.txt\"\n",
    "temp_word2vec_file = \"src/w2v.42B.300d.txt\"\n",
    "# glove2word2vec(glove_file, temp_word2vec_file)"
   ]
  },
  {
   "cell_type": "code",
   "execution_count": 82,
   "metadata": {},
   "outputs": [],
   "source": [
    "# Step 3: Load word vectors\n",
    "word_vectors = KeyedVectors.load_word2vec_format(temp_word2vec_file)"
   ]
  },
  {
   "cell_type": "code",
   "execution_count": 84,
   "metadata": {},
   "outputs": [],
   "source": [
    "# Step 4: Initialize a Gensim Word2Vec model\n",
    "model = Word2Vec(vector_size=300, min_count=1)"
   ]
  },
  {
   "cell_type": "code",
   "execution_count": 85,
   "metadata": {},
   "outputs": [],
   "source": [
    "# Step 5: Set the vocabulary and vectors of the model\n",
    "model.wv.key_to_index = word_vectors.key_to_index\n",
    "model.wv.vectors = word_vectors.vectors\n",
    "model.wv.index_to_key = word_vectors.index_to_key"
   ]
  },
  {
   "cell_type": "code",
   "execution_count": 86,
   "metadata": {},
   "outputs": [],
   "source": [
    "# model.wv.save(\"src/Oword2vec.wordvectors\")\n",
    "# del model"
   ]
  },
  {
   "cell_type": "code",
   "execution_count": 10,
   "metadata": {},
   "outputs": [],
   "source": [
    "# Load model\n",
    "pretrained_model = KeyedVectors.load('src/Oword2vec.wordvectors')\n",
    "# Initialize a new Word2Vec model using the pre-trained weights\n",
    "model = Word2Vec(vector_size=300, window=5, min_count=5, workers=4)"
   ]
  },
  {
   "cell_type": "code",
   "execution_count": 13,
   "metadata": {},
   "outputs": [],
   "source": [
    "model.build_vocab_from_freq(pretrained_model.key_to_index)\n",
    "model.wv.key_to_index = pretrained_model.key_to_index\n",
    "model.wv.vectors = pretrained_model.vectors\n",
    "model.wv.index_to_key = pretrained_model.index_to_key"
   ]
  },
  {
   "attachments": {},
   "cell_type": "markdown",
   "metadata": {},
   "source": [
    "### Test the pre-train model"
   ]
  },
  {
   "cell_type": "code",
   "execution_count": 14,
   "metadata": {},
   "outputs": [
    {
     "name": "stdout",
     "output_type": "stream",
     "text": [
      "iphone 0.7339416146278381\n",
      "ipad 0.7129027247428894\n",
      "apples 0.6433200836181641\n",
      "blackberry 0.6380701661109924\n",
      "ipod 0.6341225504875183\n",
      "macbook 0.6168758273124695\n",
      "mac 0.6083038449287415\n",
      "android 0.6081516742706299\n",
      "google 0.6042752265930176\n",
      "microsoft 0.5811343789100647\n"
     ]
    }
   ],
   "source": [
    "# Find similar words\n",
    "ori_w = {}\n",
    "\n",
    "for w ,score in model.wv.most_similar(\"apple\", topn=10):\n",
    "    print(w, score)\n",
    "    ori_w[w] = score"
   ]
  },
  {
   "cell_type": "code",
   "execution_count": 123,
   "metadata": {},
   "outputs": [
    {
     "data": {
      "text/plain": [
       "[('queen', 0.7833545804023743)]"
      ]
     },
     "execution_count": 123,
     "metadata": {},
     "output_type": "execute_result"
    }
   ],
   "source": [
    "model.wv.most_similar(positive=['woman', 'king'], negative=['man'], topn=1)"
   ]
  },
  {
   "cell_type": "code",
   "execution_count": 124,
   "metadata": {},
   "outputs": [
    {
     "data": {
      "text/plain": [
       "gensim.models.word2vec.Word2Vec"
      ]
     },
     "execution_count": 124,
     "metadata": {},
     "output_type": "execute_result"
    }
   ],
   "source": [
    "type(model)"
   ]
  },
  {
   "cell_type": "code",
   "execution_count": 136,
   "metadata": {},
   "outputs": [],
   "source": [
    "# Step 6: Train the model with your own text data\n",
    "corpus = [\n",
    "    ['apple', 'fruit', 'red'],\n",
    "    ['banana', 'fruit', 'yellow'],\n",
    "    ['orange', 'fruit', 'orange'],\n",
    "    ['carrot', 'vegetable', 'orange'],\n",
    "    ['broccoli', 'vegetable', 'green'],\n",
    "    ['spinach', 'vegetable', 'green'],\n",
    "    ['tomato', 'fruit', 'red'],\n",
    "    ['cucumber', 'vegetable', 'green'],\n",
    "    ['strawberry', 'fruit', 'red']\n",
    "]\n",
    "model.train(corpus, total_examples=len(corpus), epochs=1000)\n",
    "new_w = {}\n",
    "for w ,score in model.wv.most_similar(\"apple\", topn=20):\n",
    "    new_w[w] = score"
   ]
  },
  {
   "cell_type": "code",
   "execution_count": 137,
   "metadata": {},
   "outputs": [],
   "source": [
    "# Step 7: Evaluate the model or use the fine-tuned vectors for downstream tasks"
   ]
  },
  {
   "cell_type": "code",
   "execution_count": 144,
   "metadata": {},
   "outputs": [
    {
     "name": "stdout",
     "output_type": "stream",
     "text": [
      "apples diff =  -0.08401411771774292\n"
     ]
    }
   ],
   "source": [
    "val = list(new_w.keys()) + list(ori_w.keys())\n",
    "for k in set(val):\n",
    "    if k in ori_w.keys() and k in new_w.keys():\n",
    "        print(k,\"diff = \", ori_w[k]- new_w[k])"
   ]
  },
  {
   "cell_type": "code",
   "execution_count": null,
   "metadata": {},
   "outputs": [],
   "source": []
  }
 ],
 "metadata": {
  "kernelspec": {
   "display_name": "base",
   "language": "python",
   "name": "python3"
  },
  "language_info": {
   "codemirror_mode": {
    "name": "ipython",
    "version": 3
   },
   "file_extension": ".py",
   "mimetype": "text/x-python",
   "name": "python",
   "nbconvert_exporter": "python",
   "pygments_lexer": "ipython3",
   "version": "3.10.9"
  },
  "orig_nbformat": 4
 },
 "nbformat": 4,
 "nbformat_minor": 2
}

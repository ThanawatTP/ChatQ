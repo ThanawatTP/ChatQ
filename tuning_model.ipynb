{
 "cells": [
  {
   "cell_type": "code",
   "execution_count": 104,
   "metadata": {},
   "outputs": [],
   "source": [
    "import gensim\n",
    "import gensim.corpora as corpora\n",
    "from gensim.utils import simple_preprocess\n",
    "from gensim.models import Word2Vec, CoherenceModel\n",
    "from gensim.models.keyedvectors import KeyedVectors\n",
    "import mlflow, os, nltk, random, re\n",
    "import matplotlib.pyplot as plt\n",
    "from sklearn.manifold import TSNE\n",
    "import numpy as np\n",
    "from nltk.tokenize import sent_tokenize, word_tokenize\n",
    "from collections import Counter\n",
    "import pyLDAvis\n",
    "import pyLDAvis.gensim\n",
    "import nltk\n",
    "from nltk import pos_tag\n",
    "from nltk.corpus import wordnet, stopwords, words\n",
    "from nltk.stem import WordNetLemmatizer\n",
    "from pprint import pprint"
   ]
  },
  {
   "cell_type": "code",
   "execution_count": 105,
   "metadata": {},
   "outputs": [
    {
     "name": "stderr",
     "output_type": "stream",
     "text": [
      "[nltk_data] Downloading package words to\n",
      "[nltk_data]     /Users/thanawatthongpia/nltk_data...\n",
      "[nltk_data]   Package words is already up-to-date!\n",
      "[nltk_data] Downloading package punkt to\n",
      "[nltk_data]     /Users/thanawatthongpia/nltk_data...\n",
      "[nltk_data]   Package punkt is already up-to-date!\n",
      "[nltk_data] Downloading package wordnet to\n",
      "[nltk_data]     /Users/thanawatthongpia/nltk_data...\n",
      "[nltk_data]   Package wordnet is already up-to-date!\n"
     ]
    }
   ],
   "source": [
    "nltk.download('words')\n",
    "nltk.download('punkt')\n",
    "nltk.download('wordnet')\n",
    "\n",
    "stop_words = stopwords.words('english')\n",
    "vocabulary = words.words()"
   ]
  },
  {
   "cell_type": "code",
   "execution_count": 106,
   "metadata": {},
   "outputs": [],
   "source": [
    "# Convert GloVe vectors to word2vec format\n",
    "# from gensim.scripts.glove2word2vec import glove2word2vec\n",
    "\n",
    "# glove_file = \"src/glove.42B.300d.txt\"\n",
    "# temp_word2vec_file = \"src/w2v.42B.300d.txt\"\n",
    "# glove2word2vec(glove_file, temp_word2vec_file)"
   ]
  },
  {
   "cell_type": "code",
   "execution_count": 107,
   "metadata": {},
   "outputs": [],
   "source": [
    "def preprocess_text(sentences):\n",
    "\n",
    "    lemmatizer = WordNetLemmatizer()\n",
    "    lemmatized_sentences = []\n",
    "    bigram = gensim.models.Phrases(sentences, min_count=5, threshold=100)\n",
    "    bigram_mod = gensim.models.phrases.Phraser(bigram)\n",
    "    \n",
    "    data_words_nostops = [[word for word in doc if word not in stop_words] for doc in sentences]\n",
    "    # data_words_bigrams = [bigram_mod[doc] for doc in data_words_nostops]\n",
    "\n",
    "    for sentence in data_words_nostops:\n",
    "        lemmatized_tokens = [lemmatizer.lemmatize(token, wordnet.VERB) for token in sentence]\n",
    "        lemmatized_sentences.append(lemmatized_tokens)\n",
    "    return lemmatized_sentences"
   ]
  },
  {
   "cell_type": "code",
   "execution_count": 108,
   "metadata": {},
   "outputs": [],
   "source": [
    "def import_text_to_list_of_lists(file_path, delimiter='\\t'):\n",
    "    result = []\n",
    "    with open(file_path, 'r') as file:\n",
    "        for line in file:\n",
    "            line = line.strip()  # Remove leading/trailing whitespace and newlines\n",
    "            sublist = line.split(delimiter)\n",
    "            result.append(sublist)\n",
    "    return result"
   ]
  },
  {
   "cell_type": "code",
   "execution_count": 109,
   "metadata": {},
   "outputs": [],
   "source": [
    "def CreateW2V_Model(w2v_file_name, pre_train_file, vectorsize=300, window=5, min_count=1, workers=4):\n",
    "\n",
    "    folder_path = 'src'\n",
    "    pre_train_file_path = os.path.join(folder_path, pre_train_file)\n",
    "    w2v_file_path = os.path.join(folder_path, w2v_file_name)\n",
    "    RUN_NAME = \"Create Word2Vec Model\"\n",
    "\n",
    "    if mlflow.active_run():\n",
    "        mlflow.end_run()\n",
    "    \n",
    "    with mlflow.start_run(run_name=RUN_NAME):\n",
    "        # Check exist model\n",
    "        if os.path.isfile(pre_train_file_path):\n",
    "            # Load word vectors\n",
    "            GloVe_vectors = KeyedVectors.load(pre_train_file_path)\n",
    "        else:\n",
    "            GloVe_vectors = KeyedVectors.load_word2vec_format(w2v_file_path, binary=False)\n",
    "\n",
    "        # Initialize a Gensim Word2Vec model\n",
    "        model = Word2Vec(vector_size=vectorsize, window=window, min_count=min_count, workers=workers)\n",
    "        # Set the vocabulary and vectors of the model\n",
    "        model.build_vocab_from_freq(GloVe_vectors.key_to_index)\n",
    "        model.wv.key_to_index = GloVe_vectors.key_to_index\n",
    "        model.wv.vectors = GloVe_vectors.vectors\n",
    "        model.wv.index_to_key = GloVe_vectors.index_to_key\n",
    "        \n",
    "        if not os.path.isfile(pre_train_file_path):\n",
    "            model.wv.save(pre_train_file_path) \n",
    "\n",
    "        # Log parameters\n",
    "        mlflow.log_param(\"vectorsize\", vectorsize)\n",
    "        mlflow.log_param(\"window\", window)\n",
    "        mlflow.log_param(\"min_count\", min_count)\n",
    "        mlflow.log_param(\"workers\", workers)\n",
    "\n",
    "        # Log model artifact\n",
    "        mlflow.log_artifact(pre_train_file_path)\n",
    "        \n",
    "        return model"
   ]
  },
  {
   "cell_type": "code",
   "execution_count": 110,
   "metadata": {},
   "outputs": [],
   "source": [
    "def test_Accuracy(model , test_file_path):\n",
    "    with open(test_file_path, 'r') as file:\n",
    "        lines = file.readlines()\n",
    "    total_questions = 0\n",
    "    correct_predictions = 0\n",
    "    random_amount = 1000\n",
    "    random.seed(42)\n",
    "    for line in random.sample(lines, random_amount):\n",
    "        if line.startswith(':'):\n",
    "            continue  # Skip comment lines and category headers\n",
    "        question, expected_answer = [word.lower() for word in line.split()[:2]]\n",
    "        choices = [word.lower() for word in line.split()[2:]]\n",
    "        try:\n",
    "            predicted_answer = model.wv.most_similar(positive=[question, choices[1]], negative=[expected_answer])[0][0]\n",
    "            if predicted_answer == choices[0]:\n",
    "                correct_predictions += 1\n",
    "        except KeyError:\n",
    "            continue  # Skip questions with out-of-vocabulary words\n",
    "\n",
    "        total_questions += 1\n",
    "\n",
    "    accuracy = correct_predictions / total_questions * 100\n",
    "    return accuracy"
   ]
  },
  {
   "cell_type": "code",
   "execution_count": 111,
   "metadata": {},
   "outputs": [],
   "source": [
    "def train_with_corpus(model, RUN_NAME, new_corpus, epochs):\n",
    "    \n",
    "    if mlflow.active_run():\n",
    "        mlflow.end_run()\n",
    "        \n",
    "    with mlflow.start_run(run_name=RUN_NAME):\n",
    "        # Update the vocabulary with new words\n",
    "        model.build_vocab(new_corpus, update=True)\n",
    "        model.train(new_corpus, total_examples=len(new_corpus), epochs=epochs)\n",
    "\n",
    "        # Log parameters\n",
    "        mlflow.log_param(\"epochs\", epochs)\n",
    "        # Log model artifact\n",
    "        mlflow.sklearn.log_model(model, \"word2vec_model\")\n",
    "        # accuracy = test_Accuracy(model,'src/questions-words.txt' )\n",
    "        # mlflow.log_metric(\"accuracy\", accuracy)\n",
    "        return model"
   ]
  },
  {
   "cell_type": "code",
   "execution_count": 112,
   "metadata": {},
   "outputs": [],
   "source": [
    "def plot_vec(model):\n",
    "    \n",
    "    vocabulary = words.words()\n",
    "    all_words = []\n",
    "    vectors = []\n",
    "    vocabs = list(set(vocabulary) & set(model.wv.key_to_index.keys()))\n",
    "    random.seed(42)\n",
    "    random_amount = 100\n",
    "    for word in random.sample(vocabs, random_amount):\n",
    "        all_words.append(word)\n",
    "        vectors.append(model.wv[word])\n",
    "        \n",
    "    tsne = TSNE(n_components=2, random_state=42)\n",
    "    vectors_tsne = tsne.fit_transform(np.array(vectors))\n",
    "\n",
    "    #########   PLOT CHART    #######\n",
    "    plt.figure(figsize=(10, 10))\n",
    "    for i, word in enumerate(all_words):\n",
    "        x, y = vectors_tsne[i]\n",
    "        plt.scatter(x, y)\n",
    "        plt.annotate(word, (x, y), alpha=0.5, fontsize=8)\n",
    "\n",
    "    plt.title(\"t-SNE Visualization of Word2Vec Embeddings\")\n",
    "    plt.show()"
   ]
  },
  {
   "cell_type": "code",
   "execution_count": 113,
   "metadata": {},
   "outputs": [],
   "source": [
    "def corpus_topic(corpus,num_topics=10):\n",
    "\n",
    "    data_lemmatized = preprocess_text(corpus)\n",
    "    id2word = corpora.Dictionary(data_lemmatized)  \n",
    "\n",
    "    # Term Document Frequency \n",
    "    LDA_corpus = [id2word.doc2bow(text) for text in data_lemmatized]\n",
    "    lda_model = gensim.models.ldamodel.LdaModel(corpus=LDA_corpus,\n",
    "                                           id2word=id2word,\n",
    "                                           num_topics=num_topics, \n",
    "                                           random_state=100,\n",
    "                                           update_every=1,\n",
    "                                           chunksize=100,\n",
    "                                           passes=10,\n",
    "                                           alpha='auto',\n",
    "                                           per_word_topics=True)\n",
    "    \n",
    "    # Compute Perplexity\n",
    "    print('\\nPerplexity: ', lda_model.log_perplexity(LDA_corpus))  \n",
    "    # a measure of how good the model is. lower the better.\n",
    "\n",
    "    # Compute Coherence Score\n",
    "    coherence_model_lda = CoherenceModel(model=lda_model, texts=data_lemmatized, dictionary=id2word, coherence='c_v')\n",
    "    coherence_lda = coherence_model_lda.get_coherence()\n",
    "    print('Coherence Score: ', coherence_lda)\n",
    "    pyLDAvis.enable_notebook()\n",
    "    vis = pyLDAvis.gensim.prepare(lda_model, LDA_corpus, id2word)\n",
    "    return vis"
   ]
  },
  {
   "cell_type": "code",
   "execution_count": 114,
   "metadata": {},
   "outputs": [],
   "source": [
    "model = CreateW2V_Model(\"w2v.42B.300d.txt\",'GloVe.wordvectors')"
   ]
  },
  {
   "cell_type": "code",
   "execution_count": 115,
   "metadata": {},
   "outputs": [
    {
     "data": {
      "text/plain": [
       "[('iphone', 0.7339416146278381),\n",
       " ('ipad', 0.7129027247428894),\n",
       " ('apples', 0.6433200836181641),\n",
       " ('blackberry', 0.6380701661109924),\n",
       " ('ipod', 0.6341225504875183)]"
      ]
     },
     "execution_count": 115,
     "metadata": {},
     "output_type": "execute_result"
    }
   ],
   "source": [
    "model.wv.most_similar(\"apple\", topn=5)"
   ]
  },
  {
   "cell_type": "code",
   "execution_count": 116,
   "metadata": {},
   "outputs": [],
   "source": [
    "# for time in range(5):\n",
    "#     model = train_with_corpus(model,new_corpus,1000)\n",
    "#     i+=1\n",
    "#     model.wv.most_similar(\"apple\", topn=5)"
   ]
  },
  {
   "cell_type": "code",
   "execution_count": 117,
   "metadata": {},
   "outputs": [],
   "source": [
    "# plot_vec(model)"
   ]
  },
  {
   "cell_type": "code",
   "execution_count": 118,
   "metadata": {},
   "outputs": [],
   "source": [
    "# test_Accuracy(model,'src/questions-words.txt' )"
   ]
  },
  {
   "cell_type": "code",
   "execution_count": 119,
   "metadata": {},
   "outputs": [],
   "source": [
    "# scb_corpus = import_text_to_list_of_lists('src/Corpus_SCB_tip4u.txt', delimiter='\\t')\n",
    "techx_corpus = import_text_to_list_of_lists('src/Corpus_TechX_(norm).txt', delimiter='\\t')\n",
    "pointx_corpus = import_text_to_list_of_lists('src/Corpus_PointX.txt', delimiter='\\t')"
   ]
  },
  {
   "cell_type": "code",
   "execution_count": 120,
   "metadata": {},
   "outputs": [],
   "source": [
    "def word_similar(model,key,n):\n",
    "    try:\n",
    "        for k, vec_score in model.wv.most_similar(key,topn=n):\n",
    "            print(f\"{k:{10}} {vec_score}\")\n",
    "    except KeyError:\n",
    "        print(f\"{key} not found.\")"
   ]
  },
  {
   "cell_type": "code",
   "execution_count": 121,
   "metadata": {},
   "outputs": [
    {
     "name": "stdout",
     "output_type": "stream",
     "text": [
      "aic        0.3304489850997925\n",
      "gsc        0.32839545607566833\n",
      "m&i        0.3262021243572235\n",
      "laurentian 0.32590141892433167\n",
      "iob        0.3192133605480194\n"
     ]
    }
   ],
   "source": [
    "key = 'scb'\n",
    "word_similar(model,key,5)"
   ]
  },
  {
   "cell_type": "code",
   "execution_count": 122,
   "metadata": {},
   "outputs": [
    {
     "name": "stderr",
     "output_type": "stream",
     "text": [
      "2023/08/03 15:57:06 WARNING mlflow.sklearn: Model was missing function: predict. Not logging python_function flavor!\n",
      "/Users/thanawatthongpia/anaconda3/lib/python3.10/site-packages/_distutils_hack/__init__.py:18: UserWarning: Distutils was imported before Setuptools, but importing Setuptools also replaces the `distutils` module in `sys.modules`. This may lead to undesirable behaviors or errors. To avoid these issues, avoid using distutils directly, ensure that setuptools is installed in the traditional way (e.g. not an editable install), and/or make sure that setuptools is always imported before distutils.\n",
      "  warnings.warn(\n",
      "/Users/thanawatthongpia/anaconda3/lib/python3.10/site-packages/_distutils_hack/__init__.py:33: UserWarning: Setuptools is replacing distutils.\n",
      "  warnings.warn(\"Setuptools is replacing distutils.\")\n",
      "/Users/thanawatthongpia/anaconda3/lib/python3.10/importlib/__init__.py:126: DeprecationWarning: The distutils package is deprecated and slated for removal in Python 3.12. Use setuptools or check PEP 632 for potential alternatives\n",
      "  return _bootstrap._gcd_import(name[level:], package, level)\n"
     ]
    }
   ],
   "source": [
    "# don't know why preprocess techx corpus first then kernal will crashed\n",
    "corpus = [techx_corpus]\n",
    "train_datasets = [preprocess_text(dataset) for dataset in corpus]\n",
    "\n",
    "for i,dataset in enumerate(train_datasets):\n",
    "    runname = f\"train round {i+1}\"\n",
    "    train_with_corpus(model,runname,dataset,epochs=20)"
   ]
  },
  {
   "cell_type": "code",
   "execution_count": 123,
   "metadata": {},
   "outputs": [
    {
     "name": "stdout",
     "output_type": "stream",
     "text": [
      "cardx      0.9049890041351318\n",
      "techxs     0.9044134616851807\n",
      "thaicharoen 0.9037165641784668\n",
      "yunyong    0.901089072227478\n",
      "baacs      0.9006714820861816\n"
     ]
    }
   ],
   "source": [
    "word_similar(model,key,5)"
   ]
  },
  {
   "cell_type": "code",
   "execution_count": 124,
   "metadata": {},
   "outputs": [
    {
     "name": "stdout",
     "output_type": "stream",
     "text": [
      "\n",
      "Perplexity:  -6.551750502379153\n",
      "Coherence Score:  0.5097149008739016\n"
     ]
    },
    {
     "data": {
      "text/html": [
       "\n",
       "<link rel=\"stylesheet\" type=\"text/css\" href=\"https://cdn.jsdelivr.net/gh/bmabey/pyLDAvis@3.4.0/pyLDAvis/js/ldavis.v1.0.0.css\">\n",
       "\n",
       "\n",
       "<div id=\"ldavis_el4382397705009922740447560\" style=\"background-color:white;\"></div>\n",
       "<script type=\"text/javascript\">\n",
       "\n",
       "var ldavis_el4382397705009922740447560_data = {\"mdsDat\": {\"x\": [-0.31181359978391726, -0.044818882847196415, -0.2880210072098638, 0.01442666662182058, 0.12078264068858385, 0.1436938747831203, 0.1326663978536849, 0.10469939171836387, 0.02977749520828549, 0.09860702296711836], \"y\": [-0.11060559316257651, 0.2928823567544979, 0.06604251007859302, -0.07774692427966605, 0.17175634683218735, -0.06586939658857409, 0.13760031312252252, -0.13173140967413174, -0.15804610813929698, -0.12428209494355545], \"topics\": [1, 2, 3, 4, 5, 6, 7, 8, 9, 10], \"cluster\": [1, 1, 1, 1, 1, 1, 1, 1, 1, 1], \"Freq\": [20.6176145344698, 20.393748085010717, 14.553184890577917, 9.558940100521845, 8.442187176863596, 7.779774732292329, 7.6314056237324, 4.355406885193804, 3.917432984443748, 2.750304986893849]}, \"tinfo\": {\"Term\": [\"scb\", \"pointx\", \"point\", \"use\", \"techx\", \"customers\", \"reward\", \"company\", \"application\", \"data\", \"digital\", \"service\", \"group\", \"credit\", \"technology\", \"scan\", \"receive\", \"get\", \"scbx\", \"may\", \"new\", \"thailand\", \"experience\", \"world\", \"platform\", \"deal\", \"engineer\", \"cash\", \"shop\", \"redemption\", \"technology\", \"experience\", \"cash\", \"shop\", \"pay\", \"baht\", \"campaign\", \"spend\", \"store\", \"app\", \"every\", \"one\", \"enjoy\", \"redeem\", \"discount\", \"mall\", \"month\", \"robinhood\", \"purchase\", \"per\", \"wallet\", \"rate\", \"let\", \"launch\", \"food\", \"day\", \"retail\", \"november\", \"see\", \"earn\", \"customers\", \"pointx\", \"point\", \"use\", \"special\", \"reward\", \"products\", \"new\", \"scb\", \"techx\", \"scbx\", \"platform\", \"website\", \"like\", \"develop\", \"chief\", \"lead\", \"co\", \"platforms\", \"sapient\", \"ltd\", \"create\", \"industry\", \"expand\", \"focus\", \"asia\", \"innovations\", \"fintech\", \"solutions\", \"southeast\", \"businesses\", \"change\", \"thailands\", \"link\", \"innovative\", \"contain\", \"consult\", \"technological\", \"group\", \"digital\", \"publicis\", \"suwanprateeb\", \"business\", \"company\", \"partner\", \"new\", \"service\", \"work\", \"mr\", \"offer\", \"bank\", \"provide\", \"transformation\", \"market\", \"application\", \"world\", \"redemption\", \"accumulation\", \"download\", \"unlimited\", \"agreement\", \"loan\", \"enter\", \"anddigital\", \"reach\", \"call\", \"june\", \"april\", \"february\", \"center\", \"card\", \"interview\", \"available\", \"giveaway\", \"program\", \"websites\", \"july\", \"cardx\", \"bonus\", \"march\", \"ability\", \"unlock\", \"topups\", \"total\", \"transfer\", \"promotion\", \"reward\", \"point\", \"pointx\", \"joint\", \"new\", \"offer\", \"venture\", \"information\", \"transformation\", \"credit\", \"business\", \"data\", \"personal\", \"end\", \"right\", \"without\", \"instead\", \"place\", \"collect\", \"give\", \"agree\", \"tax\", \"notice\", \"laws\", \"bind\", \"best\", \"part\", \"legal\", \"privacy\", \"disclose\", \"mean\", \"accord\", \"ways\", \"consent\", \"namely\", \"condition\", \"comply\", \"subject\", \"prescribe\", \"reason\", \"read\", \"purpose\", \"code\", \"use\", \"company\", \"provide\", \"limit\", \"information\", \"lend\", \"cloud\", \"users\", \"mambu\", \"access\", \"management\", \"opportunities\", \"security\", \"aws\", \"seminar\", \"third\", \"department\", \"future\", \"party\", \"web\", \"risk\", \"prepare\", \"individuals\", \"amazon\", \"life\", \"addition\", \"agility\", \"obtain\", \"sector\", \"career\", \"responsible\", \"collaborate\", \"lenders\", \"monix\", \"ms\", \"include\", \"financial\", \"service\", \"information\", \"digital\", \"microfinance\", \"market\", \"help\", \"company\", \"partner\", \"get\", \"say\", \"officer\", \"shall\", \"back\", \"capabilities\", \"knowledge\", \"director\", \"systems\", \"event\", \"growth\", \"drive\", \"learn\", \"add\", \"liable\", \"damage\", \"value\", \"well\", \"goal\", \"find\", \"establish\", \"share\", \"nera\", \"platt\", \"product\", \"person\", \"result\", \"forward\", \"advantage\", \"employees\", \"development\", \"also\", \"time\", \"allow\", \"detail\", \"need\", \"process\", \"company\", \"thailand\", \"term\", \"customer\", \"join\", \"continue\", \"finance\", \"level\", \"infrastructure\", \"open\", \"first\", \"support\", \"period\", \"baac\", \"largest\", \"institutions\", \"years\", \"age\", \"commercial\", \"segment\", \"competition\", \"depth\", \"demand\", \"meet\", \"address\", \"efficient\", \"collateral\", \"baacs\", \"agricultural\", \"aim\", \"hope\", \"credit\", \"system\", \"bank\", \"mr\", \"cardholders\", \"financial\", \"grow\", \"service\", \"executive\", \"scan\", \"qr\", \"extra\", \"feature\", \"manage\", \"build\", \"among\", \"operate\", \"user\", \"asean\", \"anywhere\", \"president\", \"vice\", \"speak\", \"even\", \"edge\", \"scale\", \"gain\", \"innovation\", \"enable\", \"expert\", \"click\", \"leverage\", \"mobile\", \"real\", \"region\", \"computer\", \"jonathan\", \"chance\", \"successful\", \"worth\", \"need\", \"sharp\", \"make\", \"development\", \"payment\", \"receive\", \"deal\", \"step\", \"professional\", \"halloween\", \"prior\", \"design\", \"respect\", \"employment\", \"warranty\", \"contract\", \"keen\", \"expectations\", \"representation\", \"appear\", \"exclusive\", \"double\", \"spooktacular\", \"fundamental\", \"vital\", \"anyone\", \"private\", \"entitle\", \"dispute\", \"additionally\", \"kind\", \"suitability\", \"jurisdiction\", \"therein\", \"accuracies\", \"apply\", \"visit\", \"make\", \"may\", \"round\", \"customers\", \"october\", \"relate\", \"information\", \"engineer\", \"software\", \"internship\", \"analyst\", \"virtual\", \"linkedin\", \"team\", \"qa\", \"months\", \"cooperative\", \"miss\", \"today\", \"recruitment\", \"selection\", \"hr\", \"science\", \"track\", \"dont\", \"start\", \"junior\", \"middle\", \"bts\", \"roles\", \"feedback\", \"home\", \"space\", \"timeline\", \"intern\", \"periodsummer\", \"guess\", \"opportunity\", \"apply\", \"follow\"], \"Freq\": [585.0, 699.0, 575.0, 382.0, 326.0, 250.0, 360.0, 444.0, 182.0, 143.0, 264.0, 249.0, 252.0, 152.0, 186.0, 86.0, 83.0, 106.0, 170.0, 92.0, 323.0, 98.0, 164.0, 132.0, 161.0, 72.0, 64.0, 152.0, 151.0, 121.0, 185.434130353788, 163.8446233282392, 151.94174809461217, 150.44536579678422, 127.67955390138613, 116.23391330507751, 93.6650383349592, 93.41557171441573, 90.68282471636326, 84.51545731707404, 80.26371564609943, 78.65517772538512, 76.53233322428618, 75.33075214598817, 68.38714919962348, 65.76537694987749, 59.74198837029163, 59.179771236604466, 47.73818955338659, 47.302902705933676, 46.72471904943894, 43.16970161923647, 41.839517806752745, 41.225454786570204, 41.05173165855435, 39.210652070867795, 34.89453076553166, 34.72712943584795, 33.367124420893056, 32.747211952210314, 186.3580685948233, 345.63186146329235, 256.95362901684575, 174.84398121240255, 77.42751304997216, 127.1879695448938, 49.84864860249686, 45.27399540455193, 584.7433102330141, 325.530984865685, 170.106350025385, 160.52087559094906, 125.77548250055688, 66.88084594137837, 130.2016848052179, 63.10628661212094, 62.212318896626776, 58.39742100591359, 56.65240471775362, 53.196001191320676, 52.411015501793166, 49.39328907748901, 48.98494331389321, 35.79171561372263, 34.01019089014411, 31.467076842682417, 30.74163738922707, 28.34319344991423, 27.89652469473475, 27.70172068152008, 27.280298161368865, 26.55494563275975, 26.455147760078074, 26.422980134168377, 26.413929084554194, 26.389709649272074, 25.665785947822943, 25.15784332525239, 226.08522300489255, 216.81996883837917, 85.39944013766811, 35.07499580890519, 120.0846975328746, 190.99301064363002, 48.43230773835084, 137.0380088590031, 99.07383217496609, 39.24873576328355, 53.30973148701289, 63.56944935687344, 48.33366433628322, 45.93238719026342, 45.48562879383626, 38.825069495538905, 181.32728565010262, 131.5591860643904, 120.53725138459333, 113.81739975449366, 104.84628477781655, 92.79999476409945, 82.9158070797412, 80.68361034255072, 66.08031665092773, 59.87352662169215, 59.87352662169215, 55.961277808205715, 53.81874608563525, 47.824123454795355, 47.26892767117052, 41.57250479515285, 41.140381300057626, 41.03030051377602, 39.39729077955027, 36.85073535546664, 36.015530246308636, 35.800908768258225, 34.33662573332675, 26.4538252992645, 21.560972003206484, 20.88910275959885, 15.34201237517757, 14.780271409914368, 13.166417453846588, 12.591959277228865, 73.16672171419472, 37.17094816602271, 232.84008467110374, 317.85559144809883, 352.8039498427832, 56.587742701297856, 140.1883659425092, 78.72482831874065, 51.71053658610314, 65.6105833189755, 48.84331863070522, 50.501039745214094, 48.70945692088162, 142.73143481319883, 78.42381340137909, 62.55287708779298, 53.17991261865309, 48.083134771212166, 46.25332593739039, 42.74500866034255, 28.85270641330972, 28.133028799707876, 27.644050159217795, 26.245203997141285, 26.167287453593296, 24.456174153069743, 23.05987699615996, 21.88706724130083, 19.505049924039486, 19.349873823290178, 18.093417992790013, 17.979278074120444, 17.769545368781163, 17.653675131419494, 17.446006330863064, 16.902300473049575, 16.60219012847461, 16.533451022110324, 15.411572987870297, 15.198571902779275, 15.048567659665954, 15.034024833984452, 14.094530538559573, 37.31810790599394, 79.0761040781906, 202.34209785932384, 181.37451611414963, 34.36003706595113, 24.006214899362647, 26.862068340406832, 43.66828219077267, 39.88647927887478, 35.105987115762986, 33.86943203341743, 33.092166461327444, 32.831464682789594, 31.46944907631544, 30.67703450464616, 28.304898179490536, 25.731439386351102, 23.22796600263981, 22.305064479576526, 22.29103771140906, 21.25677215016773, 19.57229830309407, 19.315462488077124, 18.00266426303007, 16.839188035617607, 16.673260836321248, 15.876876848936787, 15.218619532597584, 14.441412433486967, 14.266191403911302, 13.73244667474663, 13.234661703416439, 13.160812579428143, 12.971502935264521, 11.541492249621676, 11.541450643847892, 11.541450643847892, 37.526518827193364, 61.83303917502863, 107.84032150333798, 36.301084855732555, 46.69290499899546, 17.902325754905096, 22.238063441057193, 15.575499241881891, 18.98087110425757, 15.364555719830356, 105.77012711092007, 74.49242449431242, 65.12923102364837, 51.82643620977116, 50.97299021655017, 46.50670934423701, 37.03924440223537, 34.860863483006796, 34.61621764180441, 29.521449968040386, 28.647554646474507, 26.7582497601031, 26.310354133678945, 22.49421765693888, 21.95160062556137, 21.94716548188466, 20.661705407096807, 20.29724643921495, 19.109742937267992, 18.711715734745194, 18.228164869155595, 17.590364265983652, 17.187278098173547, 17.187278098173547, 16.816895933736536, 15.84426063544668, 15.588674082342735, 14.565005616812124, 14.363548541534447, 14.323691314609878, 58.54908606512339, 40.024216301487286, 32.00592004837009, 37.66993841303936, 18.493378171034447, 19.192410699406523, 17.946694900454276, 20.519111392896612, 97.99420331646866, 66.04309768111163, 60.666748242356064, 39.60429446614781, 37.24437563296052, 36.824993801725235, 36.4428844824579, 33.90953075953037, 31.54512312376725, 27.961263553820796, 27.034295327329644, 26.115818825638872, 24.48993306004156, 22.04691852192475, 21.742913960882376, 21.528280889892525, 21.50609099853602, 19.749938474491554, 18.54253596642549, 17.320329354936792, 16.022926151928164, 15.852438055364404, 15.80108924401465, 15.699352200670702, 14.909093221468552, 14.728526665317082, 14.728162763296668, 14.72794218581502, 13.386200876023098, 13.23291579005565, 101.16380211210398, 45.44061605870614, 51.32144754419706, 48.422514598806565, 23.81508184561504, 37.54815453409079, 21.48523880287467, 35.677994963103465, 20.635247035047986, 85.31435950944706, 45.397868993275125, 42.48641256553595, 41.85792247830178, 35.262436025005684, 30.688650698687752, 27.919762480886156, 23.057348349590104, 21.287952901997546, 20.88924319036526, 20.112105126436187, 18.35785224295619, 18.35785224295619, 18.34708386217857, 15.976105936296324, 15.681519191948196, 15.079087402729812, 14.104851190301963, 14.071302248357686, 13.855322015086259, 13.61195730566858, 12.329130000655791, 12.266436466883802, 10.918278355228908, 10.585412285526271, 10.190324908210085, 9.237659104901589, 8.834123868470884, 8.272826226383039, 8.133100075352345, 18.88860543852306, 30.193342311263912, 13.807214120227687, 23.78992775654432, 15.975319279452533, 11.185650021512192, 82.25396418529685, 71.17639312452044, 34.53228525349999, 34.13259577858876, 16.98312508471953, 17.028257072315967, 14.941962669020405, 12.19402604332691, 12.01059587874119, 11.996827841366116, 11.145018059605421, 11.020545317251553, 10.041854195375931, 8.044705042489948, 8.042904855688462, 7.456340336984727, 7.057852551987647, 6.857909717396183, 6.846449049886665, 6.720180295077518, 6.1650799109041, 5.582667301295849, 4.661422488325381, 4.622582284048453, 4.3319356025326154, 4.307867626790025, 4.258766618641267, 4.251945215146825, 4.24649221451815, 4.0613247392206775, 54.71711300675433, 51.95907237606838, 54.17406396007863, 62.24492023796477, 31.45041136716449, 62.83758138930287, 8.639924546259262, 7.036502336522026, 9.400850984208711, 63.74825452727226, 48.19555192859855, 34.648190472411926, 33.93491385744313, 30.11008915647479, 26.559801351922516, 25.09402102933113, 19.393139008462875, 14.944122903503963, 14.692511216821497, 12.282286985433002, 11.769738202368828, 10.156887787088227, 10.014910475890169, 9.866210194908936, 9.866210194908936, 9.75902513154148, 9.487654097421956, 8.422269266748334, 7.231654470485175, 7.231654470485175, 7.231610510351458, 6.825637942802753, 6.636692159403277, 5.445475109308191, 5.445475109308191, 5.223565819640754, 5.039217899893667, 5.039217899893667, 5.038048560336785, 10.535204301846447, 15.36644644278884, 9.938456476666728], \"Total\": [585.0, 699.0, 575.0, 382.0, 326.0, 250.0, 360.0, 444.0, 182.0, 143.0, 264.0, 249.0, 252.0, 152.0, 186.0, 86.0, 83.0, 106.0, 170.0, 92.0, 323.0, 98.0, 164.0, 132.0, 161.0, 72.0, 64.0, 152.0, 151.0, 121.0, 186.31310710633383, 164.7234612211901, 152.8203431320926, 151.32392927698393, 128.55852147631174, 117.11268628605434, 94.54366454227747, 94.29415609489735, 91.5614208411131, 85.394056526677, 81.14230018159883, 79.53406193921637, 77.41090254394051, 76.20935110282727, 69.2657362311999, 66.64403834430013, 60.620627548344686, 60.058338842702724, 48.61679865636687, 48.18149693405145, 47.635831795467176, 44.04835334586618, 42.71815263660959, 42.104154039708234, 41.930311272171856, 40.0894133860756, 35.77320391865195, 35.60571806379567, 34.246089768687185, 33.62577427954212, 250.34720708246857, 699.2178401880094, 575.5912387417534, 382.99002877803287, 118.38693266979126, 360.81008736902925, 69.80484811828414, 323.18481557988184, 585.6187700493896, 326.4063680617668, 170.98171107083513, 161.39649004096123, 126.65379207491502, 67.75629276580626, 131.9514112124389, 63.982183522909196, 63.08780439123739, 59.272850570440596, 57.527758308747025, 54.07142242991893, 53.28647365856256, 50.26875509118215, 49.860487626363856, 36.66721183279645, 34.885604671819884, 32.34246502872501, 31.61700068449501, 29.219107007435078, 28.771983837869776, 28.577075478335225, 28.155847255245156, 27.430684805503365, 27.330607737992544, 27.298985543731423, 27.290228067975285, 27.266245245465655, 26.541207042822812, 26.033190339965103, 252.12337845599717, 264.30879836809856, 122.86421757864505, 39.38781597516132, 194.81101194385198, 444.1871526741815, 64.59286748780544, 323.18481557988184, 249.77165209860357, 54.662688515389455, 102.52207235576738, 152.6939061781523, 100.4448736936015, 90.09952902879718, 95.1078454845362, 61.85913801453868, 182.20369540751597, 132.43575403274716, 121.41361690081004, 114.693762021804, 105.72280734587069, 93.67634143827752, 83.79246414632878, 81.56111467272723, 66.95671976279522, 60.74987683282346, 60.74987683282346, 56.837658936835695, 54.69523066128036, 48.70052654521944, 48.145431364151214, 42.448893480277725, 42.01679009280755, 41.90728211245981, 40.273736512865035, 37.72711725204709, 36.89231529771247, 36.68280733959276, 35.21305813957134, 27.330166357491304, 22.437386608928094, 21.765531235397255, 16.221093680810963, 15.656669550242318, 14.042762371852012, 13.46833419503976, 84.57109329245672, 45.00012905838952, 360.81008736902925, 575.5912387417534, 699.2178401880094, 77.13098297529969, 323.18481557988184, 152.6939061781523, 80.96882782455114, 138.737004350007, 95.1078454845362, 152.45565730816972, 194.81101194385198, 143.6659249019545, 79.27100462004034, 63.40060499584837, 54.027120077247915, 48.930451235628034, 47.100690794618195, 43.5925158709821, 29.699914142044825, 28.980309094784335, 28.49162602521201, 27.092407584220425, 27.014521793645713, 25.30336146537069, 23.907168697433224, 22.734663899826383, 20.35275693571669, 20.197079196630487, 18.94060754086251, 18.82646168955929, 18.616850659979804, 18.501317135753908, 18.29366851710334, 17.74948631961512, 17.4515423978341, 17.380672893627665, 16.258797235924273, 16.04605033887603, 15.895760518656827, 15.881739188647309, 14.941793891634575, 39.97527057262233, 87.32930823626467, 382.99002877803287, 444.1871526741815, 90.09952902879718, 52.22212903662536, 138.737004350007, 44.56182863495336, 40.779966084772305, 35.99971962993689, 34.762932471031355, 33.985957371219534, 33.72508967157302, 32.362941637535556, 31.570535566303263, 29.19839136329429, 26.62498516014628, 24.12164328822065, 23.198707570882192, 23.18480386423052, 22.150826942622405, 20.465832547987343, 20.20902082267201, 18.896258148109624, 17.73270505886024, 17.566754007586468, 16.77050421008588, 16.113158499788096, 15.334941729247777, 15.160020494014756, 14.625935119284993, 14.128489704186345, 14.054699714823906, 13.865128787526423, 12.435032033154027, 12.435003856287752, 12.435003856287752, 45.01432443723411, 115.53371545412377, 249.77165209860357, 138.737004350007, 264.30879836809856, 28.828659713117936, 61.85913801453868, 32.944662211445916, 444.1871526741815, 64.59286748780544, 106.64325973143018, 75.36568489317185, 66.00243109162133, 52.70361960221987, 51.84604077700995, 47.379827361204775, 37.91239672214315, 35.73406864227221, 35.4895640502017, 30.394628871714826, 29.520732185890857, 27.631364144243882, 27.183602558706262, 23.367263653980466, 22.827129348771557, 22.82315057276836, 21.53474666925672, 21.170283398942644, 19.98400583703931, 19.585754299067244, 19.101317786709664, 18.4637785111367, 18.06036380590843, 18.06036380590843, 17.689987618554085, 16.71737860416719, 16.461976639584893, 15.438233323451316, 15.236596837672929, 15.196726360154422, 75.3001357196359, 54.684368625460465, 42.46275244642656, 53.64023007531134, 23.92481183654665, 52.12545692845587, 32.82911589209797, 444.1871526741815, 98.88190663873993, 66.93246236925066, 61.55415539032161, 40.49185030422889, 38.13186156707074, 37.71244152014634, 37.33042568244344, 34.797106978284056, 32.432680736577936, 28.848619056275922, 27.921727448775975, 27.003270986044292, 25.377365887474223, 22.934424925697563, 22.630275223830655, 22.415630493553238, 22.393593702063228, 20.63732758340389, 19.429850646387624, 18.207678521923683, 16.91038512529625, 16.73979182810321, 16.688507036523966, 16.587022461380045, 15.796402282928389, 15.615826564371437, 15.615489810252146, 15.615308955774099, 14.273547165257003, 14.120392075962306, 152.45565730816972, 61.036104471961, 100.4448736936015, 102.52207235576738, 35.26041256691301, 115.53371545412377, 43.83503983202486, 249.77165209860357, 57.00350310620169, 86.18993634543065, 46.27338593737865, 43.36203870034692, 42.73363830758168, 36.13836017392651, 31.564228797429156, 28.79531178399647, 23.933281026510542, 22.16362532409504, 21.765017174863253, 20.987753931002672, 19.233404696101616, 19.233404696101616, 19.232102020424175, 16.85172046122383, 16.557279727255125, 15.954650423935584, 14.980793607354434, 14.947198770683942, 14.730819429580725, 14.487704085605294, 13.204627903053785, 13.141945183328303, 11.794144292749014, 11.460953158726118, 11.065904812925567, 10.113386012473075, 9.709991241708956, 9.148429553188194, 9.008644539422553, 26.69023224050843, 52.12545692845587, 24.500403946371293, 78.73065752152463, 75.3001357196359, 39.43142153175638, 83.11809619232164, 72.04053816705576, 35.396474375880004, 34.99691151908021, 17.847174100269136, 17.8951013286137, 15.806312664096874, 13.05889169017414, 12.874764314256309, 12.863661680786043, 12.00962845575191, 11.884606427383849, 10.906828419652967, 8.908976730703529, 8.907239835672312, 8.320405367966066, 7.921944382863965, 7.721956059795367, 7.711574909963484, 7.584619437935761, 7.029657933191135, 6.447449008115577, 5.525570819246148, 5.48682401113934, 5.1963987812788375, 5.171973575506461, 5.122890749150875, 5.116621091853086, 5.111667250364182, 4.925761994613626, 70.8602276967767, 70.97999370026525, 78.73065752152463, 92.4988332808963, 67.47830276286669, 250.34720708246857, 20.776883804504287, 21.068987831909702, 138.737004350007, 64.63380806226476, 49.08122686722187, 35.533721868664585, 34.82041137799886, 30.99558651299048, 27.445583004798124, 25.979760623862568, 20.27864719205758, 15.829629469050833, 15.578067997567892, 13.167802595236761, 12.655537946966058, 11.042469392315638, 10.9004418013549, 10.751719902897792, 10.751719902897792, 10.64451954335668, 10.373157471718537, 9.30788830127584, 8.117151808925549, 8.117151808925549, 8.117109415969473, 7.711136067898799, 7.5221897069335375, 6.330974512298354, 6.330974512298354, 6.109075939590735, 5.924726707195599, 5.924726707195599, 5.923656952824428, 24.25616798917104, 70.8602276967767, 54.742120408845835], \"Category\": [\"Default\", \"Default\", \"Default\", \"Default\", \"Default\", \"Default\", \"Default\", \"Default\", \"Default\", \"Default\", \"Default\", \"Default\", \"Default\", \"Default\", \"Default\", \"Default\", \"Default\", \"Default\", \"Default\", \"Default\", \"Default\", \"Default\", \"Default\", \"Default\", \"Default\", \"Default\", \"Default\", \"Default\", \"Default\", \"Default\", \"Topic1\", \"Topic1\", \"Topic1\", \"Topic1\", \"Topic1\", \"Topic1\", \"Topic1\", \"Topic1\", \"Topic1\", \"Topic1\", \"Topic1\", \"Topic1\", \"Topic1\", \"Topic1\", \"Topic1\", \"Topic1\", \"Topic1\", \"Topic1\", \"Topic1\", \"Topic1\", \"Topic1\", \"Topic1\", \"Topic1\", \"Topic1\", \"Topic1\", \"Topic1\", \"Topic1\", \"Topic1\", \"Topic1\", \"Topic1\", \"Topic1\", \"Topic1\", \"Topic1\", \"Topic1\", \"Topic1\", \"Topic1\", \"Topic1\", \"Topic1\", \"Topic2\", \"Topic2\", \"Topic2\", \"Topic2\", \"Topic2\", \"Topic2\", \"Topic2\", \"Topic2\", \"Topic2\", \"Topic2\", \"Topic2\", \"Topic2\", \"Topic2\", \"Topic2\", \"Topic2\", \"Topic2\", \"Topic2\", \"Topic2\", \"Topic2\", \"Topic2\", \"Topic2\", \"Topic2\", \"Topic2\", \"Topic2\", \"Topic2\", \"Topic2\", \"Topic2\", \"Topic2\", \"Topic2\", \"Topic2\", \"Topic2\", \"Topic2\", \"Topic2\", \"Topic2\", \"Topic2\", \"Topic2\", \"Topic2\", \"Topic2\", \"Topic2\", \"Topic2\", \"Topic2\", \"Topic2\", \"Topic2\", \"Topic2\", \"Topic2\", \"Topic2\", \"Topic3\", \"Topic3\", \"Topic3\", \"Topic3\", \"Topic3\", \"Topic3\", \"Topic3\", \"Topic3\", \"Topic3\", \"Topic3\", \"Topic3\", \"Topic3\", \"Topic3\", \"Topic3\", \"Topic3\", \"Topic3\", \"Topic3\", \"Topic3\", \"Topic3\", \"Topic3\", \"Topic3\", \"Topic3\", \"Topic3\", \"Topic3\", \"Topic3\", \"Topic3\", \"Topic3\", \"Topic3\", \"Topic3\", \"Topic3\", \"Topic3\", \"Topic3\", \"Topic3\", \"Topic3\", \"Topic3\", \"Topic3\", \"Topic3\", \"Topic3\", \"Topic3\", \"Topic3\", \"Topic3\", \"Topic3\", \"Topic3\", \"Topic4\", \"Topic4\", \"Topic4\", \"Topic4\", \"Topic4\", \"Topic4\", \"Topic4\", \"Topic4\", \"Topic4\", \"Topic4\", \"Topic4\", \"Topic4\", \"Topic4\", \"Topic4\", \"Topic4\", \"Topic4\", \"Topic4\", \"Topic4\", \"Topic4\", \"Topic4\", \"Topic4\", \"Topic4\", \"Topic4\", \"Topic4\", \"Topic4\", \"Topic4\", \"Topic4\", \"Topic4\", \"Topic4\", \"Topic4\", \"Topic4\", \"Topic4\", \"Topic4\", \"Topic4\", \"Topic4\", \"Topic4\", \"Topic4\", \"Topic5\", \"Topic5\", \"Topic5\", \"Topic5\", \"Topic5\", \"Topic5\", \"Topic5\", \"Topic5\", \"Topic5\", \"Topic5\", \"Topic5\", \"Topic5\", \"Topic5\", \"Topic5\", \"Topic5\", \"Topic5\", \"Topic5\", \"Topic5\", \"Topic5\", \"Topic5\", \"Topic5\", \"Topic5\", \"Topic5\", \"Topic5\", \"Topic5\", \"Topic5\", \"Topic5\", \"Topic5\", \"Topic5\", \"Topic5\", \"Topic5\", \"Topic5\", \"Topic5\", \"Topic5\", \"Topic5\", \"Topic5\", \"Topic5\", \"Topic5\", \"Topic5\", \"Topic5\", \"Topic6\", \"Topic6\", \"Topic6\", \"Topic6\", \"Topic6\", \"Topic6\", \"Topic6\", \"Topic6\", \"Topic6\", \"Topic6\", \"Topic6\", \"Topic6\", \"Topic6\", \"Topic6\", \"Topic6\", \"Topic6\", \"Topic6\", \"Topic6\", \"Topic6\", \"Topic6\", \"Topic6\", \"Topic6\", \"Topic6\", \"Topic6\", \"Topic6\", \"Topic6\", \"Topic6\", \"Topic6\", \"Topic6\", \"Topic6\", \"Topic6\", \"Topic6\", \"Topic6\", \"Topic6\", \"Topic6\", \"Topic6\", \"Topic6\", \"Topic6\", \"Topic7\", \"Topic7\", \"Topic7\", \"Topic7\", \"Topic7\", \"Topic7\", \"Topic7\", \"Topic7\", \"Topic7\", \"Topic7\", \"Topic7\", \"Topic7\", \"Topic7\", \"Topic7\", \"Topic7\", \"Topic7\", \"Topic7\", \"Topic7\", \"Topic7\", \"Topic7\", \"Topic7\", \"Topic7\", \"Topic7\", \"Topic7\", \"Topic7\", \"Topic7\", \"Topic7\", \"Topic7\", \"Topic7\", \"Topic7\", \"Topic7\", \"Topic7\", \"Topic7\", \"Topic7\", \"Topic7\", \"Topic7\", \"Topic7\", \"Topic7\", \"Topic7\", \"Topic8\", \"Topic8\", \"Topic8\", \"Topic8\", \"Topic8\", \"Topic8\", \"Topic8\", \"Topic8\", \"Topic8\", \"Topic8\", \"Topic8\", \"Topic8\", \"Topic8\", \"Topic8\", \"Topic8\", \"Topic8\", \"Topic8\", \"Topic8\", \"Topic8\", \"Topic8\", \"Topic8\", \"Topic8\", \"Topic8\", \"Topic8\", \"Topic8\", \"Topic8\", \"Topic8\", \"Topic8\", \"Topic8\", \"Topic8\", \"Topic8\", \"Topic8\", \"Topic8\", \"Topic8\", \"Topic8\", \"Topic8\", \"Topic9\", \"Topic9\", \"Topic9\", \"Topic9\", \"Topic9\", \"Topic9\", \"Topic9\", \"Topic9\", \"Topic9\", \"Topic9\", \"Topic9\", \"Topic9\", \"Topic9\", \"Topic9\", \"Topic9\", \"Topic9\", \"Topic9\", \"Topic9\", \"Topic9\", \"Topic9\", \"Topic9\", \"Topic9\", \"Topic9\", \"Topic9\", \"Topic9\", \"Topic9\", \"Topic9\", \"Topic9\", \"Topic9\", \"Topic9\", \"Topic9\", \"Topic9\", \"Topic9\", \"Topic9\", \"Topic9\", \"Topic9\", \"Topic9\", \"Topic9\", \"Topic9\", \"Topic10\", \"Topic10\", \"Topic10\", \"Topic10\", \"Topic10\", \"Topic10\", \"Topic10\", \"Topic10\", \"Topic10\", \"Topic10\", \"Topic10\", \"Topic10\", \"Topic10\", \"Topic10\", \"Topic10\", \"Topic10\", \"Topic10\", \"Topic10\", \"Topic10\", \"Topic10\", \"Topic10\", \"Topic10\", \"Topic10\", \"Topic10\", \"Topic10\", \"Topic10\", \"Topic10\", \"Topic10\", \"Topic10\", \"Topic10\", \"Topic10\", \"Topic10\", \"Topic10\"], \"logprob\": [30.0, 29.0, 28.0, 27.0, 26.0, 25.0, 24.0, 23.0, 22.0, 21.0, 20.0, 19.0, 18.0, 17.0, 16.0, 15.0, 14.0, 13.0, 12.0, 11.0, 10.0, 9.0, 8.0, 7.0, 6.0, 5.0, 4.0, 3.0, 2.0, 1.0, -3.4596, -3.5834, -3.6588, -3.6687, -3.8328, -3.9267, -4.1426, -4.1452, -4.1749, -4.2453, -4.297, -4.3172, -4.3446, -4.3604, -4.4571, -4.4962, -4.5922, -4.6017, -4.8165, -4.8257, -4.838, -4.9171, -4.9484, -4.9632, -4.9674, -5.0133, -5.1299, -5.1348, -5.1747, -5.1935, -3.4546, -2.8369, -3.1334, -3.5184, -4.3329, -3.8366, -4.7733, -4.8695, -2.3002, -2.8859, -3.5349, -3.5929, -3.8369, -4.4684, -3.8023, -4.5265, -4.5408, -4.6041, -4.6344, -4.6974, -4.7122, -4.7715, -4.7798, -5.0936, -5.1447, -5.2224, -5.2457, -5.327, -5.3429, -5.3499, -5.3652, -5.3921, -5.3959, -5.3971, -5.3975, -5.3984, -5.4262, -5.4462, -3.2504, -3.2923, -4.224, -5.1139, -3.8832, -3.4191, -4.7912, -3.7511, -4.0755, -5.0014, -4.6952, -4.5192, -4.7932, -4.8442, -4.854, -5.0123, -3.1336, -3.4545, -3.542, -3.5993, -3.6814, -3.8035, -3.9161, -3.9434, -4.1431, -4.2417, -4.2417, -4.3093, -4.3483, -4.4664, -4.4781, -4.6065, -4.617, -4.6196, -4.6602, -4.7271, -4.75, -4.756, -4.7977, -5.0585, -5.2631, -5.2947, -5.6033, -5.6406, -5.7563, -5.8009, -4.0412, -4.7184, -2.8836, -2.5723, -2.468, -4.2981, -3.391, -3.968, -4.3883, -4.1502, -4.4453, -4.4119, -4.4481, -2.9526, -3.5515, -3.7776, -3.9399, -4.0407, -4.0795, -4.1584, -4.5514, -4.5767, -4.5942, -4.6461, -4.6491, -4.7167, -4.7755, -4.8277, -4.9429, -4.9509, -5.0181, -5.0244, -5.0361, -5.0427, -5.0545, -5.0862, -5.1041, -5.1082, -5.1785, -5.1924, -5.2023, -5.2033, -5.2678, -4.2941, -3.5432, -2.6036, -2.713, -4.3767, -4.7353, -4.6229, -4.0128, -4.1033, -4.231, -4.2669, -4.2901, -4.298, -4.3404, -4.3659, -4.4463, -4.5417, -4.644, -4.6846, -4.6852, -4.7327, -4.8153, -4.8285, -4.8989, -4.9657, -4.9756, -5.0245, -5.0669, -5.1193, -5.1315, -5.1696, -5.2065, -5.2121, -5.2266, -5.3434, -5.3434, -5.3434, -4.1643, -3.6649, -3.1087, -4.1975, -3.9458, -4.9044, -4.6876, -5.0437, -4.8459, -5.0573, -3.0464, -3.397, -3.5313, -3.7598, -3.7764, -3.8681, -4.0957, -4.1563, -4.1633, -4.3225, -4.3526, -4.4208, -4.4377, -4.5944, -4.6188, -4.619, -4.6794, -4.6972, -4.7575, -4.7785, -4.8047, -4.8403, -4.8635, -4.8635, -4.8853, -4.9449, -4.9611, -5.029, -5.043, -5.0457, -3.6378, -4.0182, -4.2417, -4.0788, -4.7902, -4.7531, -4.8203, -4.6863, -3.1035, -3.4981, -3.583, -4.0095, -4.0709, -4.0822, -4.0927, -4.1647, -4.237, -4.3576, -4.3913, -4.4259, -4.4901, -4.5952, -4.6091, -4.619, -4.6201, -4.7053, -4.7683, -4.8365, -4.9144, -4.9251, -4.9283, -4.9348, -4.9864, -4.9986, -4.9986, -4.9987, -5.0942, -5.1057, -3.0717, -3.872, -3.7503, -3.8084, -4.5181, -4.0628, -4.621, -4.1139, -4.6614, -2.6812, -3.3121, -3.3784, -3.3933, -3.5647, -3.7037, -3.7982, -3.9896, -4.0694, -4.0883, -4.1262, -4.2175, -4.2175, -4.2181, -4.3565, -4.3751, -4.4142, -4.481, -4.4834, -4.4989, -4.5166, -4.6156, -4.6207, -4.7371, -4.7681, -4.8061, -4.9043, -4.9489, -5.0146, -5.0316, -4.189, -3.7199, -4.5024, -3.9583, -4.3565, -4.7129, -2.6118, -2.7564, -3.4797, -3.4913, -4.1893, -4.1867, -4.3174, -4.5206, -4.5358, -4.5369, -4.6106, -4.6218, -4.7148, -4.9366, -4.9368, -5.0125, -5.0674, -5.0962, -5.0978, -5.1165, -5.2027, -5.3019, -5.4822, -5.4906, -5.5556, -5.5611, -5.5726, -5.5742, -5.5755, -5.6201, -3.0194, -3.0711, -3.0294, -2.8905, -3.5732, -2.881, -4.8652, -5.0705, -4.7808, -2.5129, -2.7926, -3.1226, -3.1434, -3.263, -3.3884, -3.4452, -3.7029, -3.9635, -3.9805, -4.1597, -4.2023, -4.3497, -4.3638, -4.3787, -4.3787, -4.3897, -4.4179, -4.537, -4.6894, -4.6894, -4.6894, -4.7472, -4.7752, -4.9731, -4.9731, -5.0147, -5.0506, -5.0506, -5.0508, -4.3131, -3.9357, -4.3714], \"loglift\": [30.0, 29.0, 28.0, 27.0, 26.0, 25.0, 24.0, 23.0, 22.0, 21.0, 20.0, 19.0, 18.0, 17.0, 16.0, 15.0, 14.0, 13.0, 12.0, 11.0, 10.0, 9.0, 8.0, 7.0, 6.0, 5.0, 4.0, 3.0, 2.0, 1.0, 1.5743, 1.5737, 1.5733, 1.5732, 1.5722, 1.5715, 1.5697, 1.5697, 1.5694, 1.5687, 1.5681, 1.5679, 1.5676, 1.5674, 1.5663, 1.5658, 1.5644, 1.5643, 1.5608, 1.5606, 1.5597, 1.5589, 1.5582, 1.5579, 1.5578, 1.5569, 1.5542, 1.554, 1.553, 1.5525, 1.2838, 0.8744, 0.7725, 0.7949, 1.1544, 0.5363, 1.2423, -0.3865, 1.5884, 1.5873, 1.5848, 1.5845, 1.583, 1.5769, 1.5766, 1.5762, 1.576, 1.5751, 1.5746, 1.5736, 1.5734, 1.5724, 1.5722, 1.5658, 1.5645, 1.5625, 1.5619, 1.5595, 1.559, 1.5588, 1.5584, 1.5575, 1.5574, 1.5573, 1.5573, 1.5573, 1.5564, 1.5557, 1.4809, 1.3919, 1.2262, 1.474, 1.1061, 0.7459, 1.302, 0.732, 0.6653, 1.2587, 0.936, 0.7136, 0.8585, 0.9162, 0.8523, 1.1241, 1.9225, 1.9207, 1.9201, 1.9197, 1.919, 1.918, 1.9168, 1.9165, 1.9142, 1.9128, 1.9128, 1.9118, 1.9112, 1.9092, 1.909, 1.9065, 1.9063, 1.9062, 1.9054, 1.9039, 1.9033, 1.903, 1.9022, 1.8948, 1.8875, 1.8863, 1.8716, 1.8698, 1.8629, 1.8601, 1.7825, 1.7362, 1.4894, 1.3336, 1.2433, 1.6176, 1.0921, 1.2649, 1.479, 1.1785, 1.261, 0.8225, 0.5412, 2.3412, 2.3369, 2.3342, 2.3319, 2.3302, 2.3295, 2.3281, 2.3188, 2.318, 2.3175, 2.3159, 2.3158, 2.3136, 2.3116, 2.3097, 2.3052, 2.3048, 2.3019, 2.3016, 2.3011, 2.3008, 2.3002, 2.2988, 2.2978, 2.2977, 2.2942, 2.2934, 2.2929, 2.2928, 2.2893, 2.2789, 2.2484, 1.7096, 1.452, 1.3837, 1.5705, 0.7058, 2.4517, 2.4498, 2.4468, 2.4459, 2.4453, 2.4451, 2.4439, 2.4432, 2.4409, 2.4378, 2.4342, 2.4326, 2.4326, 2.4307, 2.4273, 2.4267, 2.4235, 2.4202, 2.4197, 2.4172, 2.4148, 2.4119, 2.4112, 2.4089, 2.4066, 2.4062, 2.4053, 2.3974, 2.3974, 2.3974, 2.29, 1.8468, 1.632, 1.1312, 0.7384, 1.9955, 1.4489, 1.7228, -0.6809, 1.0359, 2.5454, 2.542, 2.5403, 2.5369, 2.5367, 2.535, 2.5303, 2.5289, 2.5287, 2.5245, 2.5236, 2.5215, 2.521, 2.5156, 2.5145, 2.5145, 2.5123, 2.5115, 2.5089, 2.508, 2.5069, 2.5052, 2.5041, 2.5041, 2.503, 2.5, 2.4991, 2.4954, 2.4946, 2.4945, 2.302, 2.2415, 2.2709, 2.2002, 2.2961, 1.5545, 1.9497, -0.5212, 2.5639, 2.5595, 2.5584, 2.5507, 2.5493, 2.5491, 2.5488, 2.5471, 2.5452, 2.5417, 2.5406, 2.5395, 2.5373, 2.5334, 2.5329, 2.5325, 2.5325, 2.5289, 2.5262, 2.5229, 2.519, 2.5184, 2.5183, 2.5179, 2.5151, 2.5144, 2.5144, 2.5144, 2.5087, 2.508, 2.1628, 2.2778, 1.9014, 1.8228, 2.1805, 1.449, 1.8598, 0.6269, 1.5568, 3.1235, 3.1147, 3.1134, 3.113, 3.1092, 3.1056, 3.1029, 3.0965, 3.0934, 3.0927, 3.0911, 3.0872, 3.0872, 3.0866, 3.0804, 3.0794, 3.0773, 3.0735, 3.0734, 3.0725, 3.0714, 3.0651, 3.0648, 3.0566, 3.0543, 3.0513, 3.0432, 3.0392, 3.0331, 3.0315, 2.788, 2.5877, 2.5603, 1.937, 1.5833, 1.8738, 3.2293, 3.2277, 3.215, 3.2147, 3.1901, 3.1901, 3.1835, 3.1712, 3.1703, 3.17, 3.165, 3.1643, 3.1571, 3.1377, 3.1377, 3.1301, 3.1242, 3.1211, 3.1207, 3.1187, 3.1085, 3.0957, 3.0697, 3.0683, 3.0578, 3.0569, 3.055, 3.0546, 3.0543, 3.0468, 2.9812, 2.9278, 2.8659, 2.8436, 2.4763, 1.8574, 2.3623, 2.143, 0.548, 3.5797, 3.5752, 3.5682, 3.5677, 3.5645, 3.5607, 3.5588, 3.5488, 3.5359, 3.5349, 3.5238, 3.5209, 3.5099, 3.5087, 3.5075, 3.5075, 3.5066, 3.5042, 3.4935, 3.4779, 3.4779, 3.4779, 3.4715, 3.4682, 3.4428, 3.4428, 3.4369, 3.4316, 3.4316, 3.4315, 2.7595, 2.0649, 1.8872]}, \"token.table\": {\"Topic\": [3, 5, 4, 3, 9, 6, 5, 9, 7, 6, 7, 5, 4, 3, 7, 7, 5, 6, 4, 6, 5, 8, 10, 3, 9, 8, 1, 9, 3, 9, 10, 3, 8, 2, 3, 5, 7, 7, 6, 1, 2, 7, 4, 4, 3, 10, 8, 2, 3, 5, 6, 2, 3, 1, 6, 3, 3, 7, 3, 5, 1, 3, 8, 2, 2, 8, 5, 2, 3, 4, 5, 7, 4, 7, 2, 3, 4, 5, 6, 7, 4, 8, 4, 4, 2, 2, 7, 9, 10, 2, 3, 7, 7, 1, 9, 6, 4, 1, 9, 7, 5, 7, 9, 1, 6, 1, 2, 6, 8, 2, 5, 6, 4, 1, 9, 10, 9, 3, 6, 1, 8, 7, 6, 9, 8, 4, 10, 1, 3, 9, 6, 8, 6, 1, 9, 2, 7, 2, 9, 1, 8, 8, 8, 3, 10, 7, 2, 5, 7, 6, 2, 7, 2, 3, 4, 10, 1, 6, 9, 5, 8, 6, 4, 3, 6, 1, 2, 2, 7, 8, 6, 10, 9, 1, 5, 10, 7, 10, 3, 5, 5, 2, 3, 4, 5, 9, 7, 8, 2, 2, 4, 7, 10, 10, 3, 7, 2, 3, 8, 3, 3, 10, 9, 9, 9, 6, 7, 1, 4, 2, 6, 4, 5, 5, 1, 7, 8, 6, 5, 2, 1, 4, 2, 10, 3, 2, 8, 9, 1, 5, 8, 5, 3, 2, 5, 3, 9, 4, 7, 5, 7, 10, 10, 8, 5, 1, 10, 2, 7, 5, 4, 2, 6, 8, 6, 1, 2, 3, 4, 1, 5, 1, 9, 2, 3, 8, 6, 1, 7, 8, 5, 1, 10, 4, 2, 5, 5, 1, 1, 8, 1, 7, 10, 6, 4, 4, 2, 2, 6, 1, 3, 1, 3, 5, 4, 8, 9, 4, 9, 6, 7, 6, 1, 2, 9, 3, 3, 7, 2, 4, 5, 9, 2, 3, 1, 2, 4, 10, 8, 1, 3, 4, 8, 4, 9, 10, 1, 3, 8, 5, 6, 9, 9, 9, 5, 6, 1, 1, 3, 4, 5, 1, 10, 3, 9, 2, 6, 8, 8, 2, 2, 10, 5, 5, 1, 7, 10, 5, 1, 2, 5, 7, 6, 6, 7, 8, 1, 10, 2, 2, 10, 8, 1, 3, 1, 9, 10, 9, 1, 4, 8, 9, 7, 2, 7, 6, 7, 6, 4, 10, 2, 1, 2, 7, 7, 2, 9, 5, 5, 6, 10, 10, 3, 3, 10, 3, 4, 2, 3, 3, 3, 1, 4, 9, 8, 5, 6, 2, 3, 8, 10, 1, 9, 9, 1, 9, 4, 5, 2, 3, 6, 4, 2, 6, 3, 3, 8, 7], \"Freq\": [0.9247218649470302, 0.9709892718204114, 0.9729037056077965, 0.993951179126271, 0.8120570998708512, 0.9414880717645534, 0.9309161825843931, 0.769763863083579, 0.9646095335828463, 0.9188403518943674, 0.982423825880749, 0.9129477142582361, 0.982744894068981, 0.9905425367972842, 0.960595787280496, 0.910775706240918, 0.2796408587163007, 0.7084235087479617, 0.25601465925093897, 0.7314704550026828, 0.9677371239250173, 0.9723805114540041, 0.9764387798555064, 0.9876563234047859, 0.8535265950382142, 0.9529366537148322, 0.9953854338029497, 0.8981457946109257, 0.993393682796478, 0.776175885792445, 0.21168433248884863, 0.9856156268748144, 0.9648510649581852, 0.9584921858141395, 0.9683730236339468, 0.9589569388127044, 0.9457246314065219, 0.9605846619138354, 0.983681670493437, 0.990499011496188, 0.47787406400071647, 0.5077411930007613, 0.9676852975234882, 0.9620545323072647, 0.9805063478848266, 0.8623759569174108, 0.9821244231547609, 0.6159816059812171, 0.2515258224423303, 0.07699770074765214, 0.05646498054827823, 0.95894823392218, 0.9852622547707921, 0.9942495930858026, 0.9919833527819947, 0.9758003862131867, 0.31196458575535696, 0.6806500052844152, 0.9513297379865124, 0.9201266570019888, 0.9946319768999372, 0.9894250840605235, 0.8744670277547286, 0.9842991595522632, 0.9846491090358378, 0.908772294691076, 0.98087379270618, 0.9785255718564113, 0.09160727551346723, 0.9046218456954889, 0.9376039847314852, 0.9605639469782223, 0.9764337991450962, 0.9691177270492902, 0.4299989291678177, 0.072041705410315, 0.40748589622709425, 0.04277476258737454, 0.047277369175519224, 0.9336720208197037, 0.9225774688214374, 0.8899096691157729, 0.978097919685996, 0.9577741966094616, 0.9796088006868111, 0.953559970063123, 0.9703171699320293, 0.9159317493066692, 0.9628921893486315, 0.9747605627216993, 0.3345234994914619, 0.6624877146791696, 0.9909972708291154, 0.7429681447923183, 0.25165050065546263, 0.9639335257354649, 0.9953647679336004, 0.9728254096515668, 0.9855562132997557, 0.9558063902048514, 0.9483286917075179, 0.9461641400505773, 0.9489879340468592, 0.20898805951577795, 0.7523570142568007, 0.007578547215308078, 0.9852111379900502, 0.7835311242953664, 0.21248301675806547, 0.8210093698726882, 0.17782230591712603, 0.9794574569825549, 0.9561010611984712, 0.9817263729504725, 0.9112739883489993, 0.8676239635364329, 0.8836214522209683, 0.9931631843306427, 0.9771504533417903, 0.9813900410340041, 0.9663423136870859, 0.949583312157789, 0.9212510423763226, 0.932055896876677, 0.9503884062204185, 0.993681369509414, 0.9901938616760104, 0.9946919292962995, 0.9857113704765623, 0.9048838868528244, 0.9423433608608962, 0.9494579521904806, 0.9870164931646175, 0.9859222602878853, 0.8413051636823267, 0.6315401341726204, 0.36839841160069525, 0.9818035841983581, 0.9168568180628057, 0.9956080256216895, 0.9663366891866692, 0.968589145225406, 0.9828322994100992, 0.9762089292442377, 0.930580093393256, 0.9811085813745114, 0.1298322307132606, 0.5366398869481439, 0.32890831780692686, 0.9700928394115952, 0.9582770614062619, 0.9705837199825581, 0.9746140369315351, 0.5845590152702431, 0.23747709995353627, 0.18267469227195096, 0.9778129175780939, 0.9716137647184266, 0.9077263829669713, 0.9488973954160366, 0.9345299299182028, 0.9939681163811932, 0.9661732698716881, 0.9807269331714542, 0.9507603307833555, 0.0991578018393214, 0.8963865286274654, 0.34219200113607173, 0.4790688015905004, 0.1596896005301668, 0.9823604583175028, 0.8440731865163084, 0.9525317512167732, 0.5160168251503188, 0.4856628942591235, 0.7897678296267273, 0.9206543224908328, 0.930083753140259, 0.15550605473954132, 0.8441757257289386, 0.9586805816468401, 0.9827420936431261, 0.4757202327469504, 0.19461282248738881, 0.2594837633165184, 0.0648709408291296, 0.9770927227145202, 0.9366303489225225, 0.9804851607952304, 0.9527219756184687, 0.9766311114327868, 0.97214902525061, 0.8439207826966069, 0.9849798489829671, 0.978350251633473, 0.9878531037595601, 0.25929917172720035, 0.739002639422521, 0.9268803416980222, 0.9655509006129706, 0.9872890075994775, 0.8623714530388432, 0.7817659209451682, 0.9255670406261339, 0.773399156357504, 0.975934079588003, 0.9592566663988789, 0.9737756507667412, 0.9484905803067144, 0.9827572951423162, 0.9564589514524379, 0.9407300835444465, 0.9873921548517273, 0.9650156081629582, 0.9831885839558958, 0.9643608220875676, 0.9131068371235516, 0.9637655118112314, 0.9540559901817088, 0.9888380438932761, 0.5170221991727659, 0.4595752881535697, 0.952416343763012, 0.9837648555426851, 0.9931203162808802, 0.9758574067631921, 0.30483677839777346, 0.6858827513949902, 0.9903361446829968, 0.978053276383771, 0.9684999494042393, 0.9784999927758767, 0.9648282770074423, 0.6304646532713385, 0.35564672748639603, 0.31351746796561314, 0.6702787246161385, 0.9668660037486452, 0.958743641056859, 0.6243786627308741, 0.3468770348504856, 0.8623714530388432, 0.9113137832382758, 0.9326662220643468, 0.9650177948221711, 0.9897621061766518, 0.9475900891633076, 0.5169618481382413, 0.4681918624648223, 0.9650177948221711, 0.9741259318207804, 0.03836896821345997, 0.36450519802786974, 0.5755345232018996, 0.9412877936843369, 0.1392392149342094, 0.4239060543552598, 0.4331886686842071, 0.9624453173224652, 0.9829881800807839, 0.9234816011975223, 0.5294345438662594, 0.43317371770875773, 0.4191391889950696, 0.517374936415789, 0.06549049828047962, 0.984812209564981, 0.9932851167638775, 0.9866591127606065, 0.9610048858124901, 0.9578857307595681, 0.5359461562850216, 0.4534929014719413, 0.9826678549333214, 0.7431161034778643, 0.23222378233683258, 0.9480458699982891, 0.995655507936013, 0.6847331126080595, 0.2789653421736539, 0.9754782020228921, 0.9628463164124524, 0.8439207826966069, 0.9570878532362503, 0.983966336416039, 0.986407853294457, 0.9975433787880975, 0.990826023397008, 0.9412877936843369, 0.4464974146614946, 0.5524754002426275, 0.49483863270274353, 0.5048498189134927, 0.9525695436056855, 0.9436478350560532, 0.9358717442080542, 0.9499806504485974, 0.9503391040211757, 0.9306006131180935, 0.5482937785824636, 0.4264507166752495, 0.9609955849923607, 0.7162826271790624, 0.27218739832804373, 0.9715143000965473, 0.9758129764827257, 0.8222198641250779, 0.1555551094290688, 0.5105465089090278, 0.37736046310667265, 0.07769186005137378, 0.02219767430039251, 0.6918206266653001, 0.3011454492543071, 0.987313054881986, 0.05003093090681243, 0.92557222177603, 0.9369461295939712, 0.97248124571861, 0.9761999424215805, 0.9876563234047859, 0.9369691552122229, 0.9597805564386973, 0.9444809426616451, 0.9865481015140848, 0.905594540923873, 0.984131198004881, 0.9965933236207933, 0.9036766689262922, 0.09492624970673397, 0.5220943733870369, 0.3322418739735689, 0.8979706920132736, 0.9189141226302628, 0.9249575062986595, 0.9719367455258069, 0.978385947190802, 0.35198572447368126, 0.6457690850580137, 0.9809888057001865, 0.9401742007551579, 0.9823781532573754, 0.9077780418297591, 0.5186852449890085, 0.459406931275979, 0.9801850518856318, 0.9818792213577352, 0.9401647545656411, 0.9861940222271235, 0.9989433910232464, 0.9942583855040004, 0.930083753140259, 0.9572037538673567, 0.9819282265546289, 0.9636136628413985, 0.9778767910155016, 0.9173940086315605, 0.9765263658782506, 0.028025598346271, 0.39636203375440415, 0.43239494591389543, 0.14413164863796515, 0.9866495013524607, 0.9748817117332206, 0.40815653578156946, 0.5714191500941972, 0.9912510249812466, 0.9779706634036087, 0.9731689047852972, 0.9798063493665503, 0.7897678296267273, 0.9359351349573903, 0.6504096209230367, 0.33787512775222683, 0.9862753308530073, 0.9065060647580919, 0.8594860338948667, 0.9887990433264684, 0.9938683690581065, 0.93480948166156, 0.8880359264916444, 0.7808091555852533, 0.9669888816704862, 0.8885996629534282, 0.10155424719467751, 0.2457561820133976, 0.7372685460401929, 0.9862054081726902, 0.9596784604386108, 0.96228754228926, 0.9603125730472231, 0.9929521485271329, 0.9987550241002349, 0.9860686080230175, 0.9910812132500445, 0.9513143743180341, 0.7825235493791227, 0.953500544103959, 0.2355005133644262, 0.7536016427661638, 0.818454386464046, 0.9482014948939241, 0.9257437857139721, 0.9652270141015477, 0.939450574473422, 0.8631790977037209, 0.13006808321562918, 0.4731470865599269, 0.5152046053652537, 0.9927800186483249, 0.9580581586565992, 0.4569309560312957, 0.5274288749618384, 0.013055170172322734, 0.9474984210805074, 0.972229794003575, 0.9751681931777665, 0.34581209525068507, 0.6422224626084152, 0.9358717442080542, 0.9678797330525356, 0.2535925837921388, 0.7326007976217342, 0.9229203992738663, 0.9866522369505957, 0.9328603548337981, 0.9292832645407426, 0.9772385244091546, 0.9948379589414243, 0.9813861754562119, 0.9447204660944173, 0.9809842089714771, 0.7134665538637043, 0.27441021302450164, 0.9967096949314804, 0.2622682311986752, 0.711870913253547, 0.981458005668287], \"Term\": [\"ability\", \"access\", \"accord\", \"accumulation\", \"accuracies\", \"add\", \"addition\", \"additionally\", \"address\", \"advantage\", \"age\", \"agility\", \"agree\", \"agreement\", \"agricultural\", \"aim\", \"allow\", \"allow\", \"also\", \"also\", \"amazon\", \"among\", \"analyst\", \"anddigital\", \"anyone\", \"anywhere\", \"app\", \"appear\", \"application\", \"apply\", \"apply\", \"april\", \"asean\", \"asia\", \"available\", \"aws\", \"baac\", \"baacs\", \"back\", \"baht\", \"bank\", \"bank\", \"best\", \"bind\", \"bonus\", \"bts\", \"build\", \"business\", \"business\", \"business\", \"business\", \"businesses\", \"call\", \"campaign\", \"capabilities\", \"card\", \"cardholders\", \"cardholders\", \"cardx\", \"career\", \"cash\", \"center\", \"chance\", \"change\", \"chief\", \"click\", \"cloud\", \"co\", \"code\", \"code\", \"collaborate\", \"collateral\", \"collect\", \"commercial\", \"company\", \"company\", \"company\", \"company\", \"company\", \"competition\", \"comply\", \"computer\", \"condition\", \"consent\", \"consult\", \"contain\", \"continue\", \"contract\", \"cooperative\", \"create\", \"credit\", \"credit\", \"customer\", \"customers\", \"customers\", \"damage\", \"data\", \"day\", \"deal\", \"demand\", \"department\", \"depth\", \"design\", \"detail\", \"detail\", \"develop\", \"develop\", \"development\", \"development\", \"digital\", \"digital\", \"director\", \"disclose\", \"discount\", \"dispute\", \"dont\", \"double\", \"download\", \"drive\", \"earn\", \"edge\", \"efficient\", \"employees\", \"employment\", \"enable\", \"end\", \"engineer\", \"enjoy\", \"enter\", \"entitle\", \"establish\", \"even\", \"event\", \"every\", \"exclusive\", \"executive\", \"executive\", \"expand\", \"expectations\", \"experience\", \"expert\", \"extra\", \"feature\", \"february\", \"feedback\", \"finance\", \"financial\", \"financial\", \"financial\", \"find\", \"fintech\", \"first\", \"focus\", \"follow\", \"follow\", \"follow\", \"food\", \"forward\", \"fundamental\", \"future\", \"gain\", \"get\", \"give\", \"giveaway\", \"goal\", \"group\", \"group\", \"grow\", \"grow\", \"grow\", \"growth\", \"guess\", \"halloween\", \"help\", \"help\", \"home\", \"hope\", \"hr\", \"include\", \"include\", \"individuals\", \"industry\", \"information\", \"information\", \"information\", \"information\", \"infrastructure\", \"innovation\", \"innovations\", \"innovative\", \"instead\", \"institutions\", \"intern\", \"internship\", \"interview\", \"join\", \"joint\", \"joint\", \"jonathan\", \"july\", \"june\", \"junior\", \"jurisdiction\", \"keen\", \"kind\", \"knowledge\", \"largest\", \"launch\", \"laws\", \"lead\", \"learn\", \"legal\", \"lend\", \"lenders\", \"let\", \"level\", \"leverage\", \"liable\", \"life\", \"like\", \"limit\", \"limit\", \"link\", \"linkedin\", \"loan\", \"ltd\", \"make\", \"make\", \"mall\", \"mambu\", \"manage\", \"management\", \"march\", \"market\", \"market\", \"may\", \"may\", \"mean\", \"meet\", \"microfinance\", \"microfinance\", \"middle\", \"miss\", \"mobile\", \"monix\", \"month\", \"months\", \"mr\", \"mr\", \"ms\", \"namely\", \"need\", \"need\", \"need\", \"nera\", \"new\", \"new\", \"new\", \"notice\", \"november\", \"obtain\", \"october\", \"october\", \"offer\", \"offer\", \"offer\", \"officer\", \"one\", \"open\", \"operate\", \"opportunities\", \"opportunity\", \"opportunity\", \"part\", \"partner\", \"partner\", \"party\", \"pay\", \"payment\", \"payment\", \"per\", \"period\", \"periodsummer\", \"person\", \"personal\", \"place\", \"platform\", \"platforms\", \"platt\", \"point\", \"point\", \"pointx\", \"pointx\", \"prepare\", \"prescribe\", \"president\", \"prior\", \"privacy\", \"private\", \"process\", \"process\", \"product\", \"products\", \"products\", \"professional\", \"program\", \"promotion\", \"promotion\", \"provide\", \"provide\", \"provide\", \"provide\", \"publicis\", \"publicis\", \"purchase\", \"purpose\", \"purpose\", \"qa\", \"qr\", \"rate\", \"reach\", \"read\", \"real\", \"reason\", \"receive\", \"recruitment\", \"redeem\", \"redemption\", \"region\", \"relate\", \"relate\", \"relate\", \"representation\", \"respect\", \"responsible\", \"result\", \"retail\", \"reward\", \"reward\", \"right\", \"risk\", \"robinhood\", \"roles\", \"round\", \"round\", \"sapient\", \"say\", \"scale\", \"scan\", \"scb\", \"scbx\", \"science\", \"sector\", \"security\", \"see\", \"segment\", \"selection\", \"seminar\", \"service\", \"service\", \"service\", \"service\", \"shall\", \"share\", \"sharp\", \"sharp\", \"shop\", \"software\", \"solutions\", \"southeast\", \"space\", \"speak\", \"special\", \"special\", \"spend\", \"spooktacular\", \"start\", \"step\", \"store\", \"subject\", \"successful\", \"suitability\", \"support\", \"suwanprateeb\", \"suwanprateeb\", \"system\", \"system\", \"systems\", \"tax\", \"team\", \"technological\", \"technology\", \"techx\", \"term\", \"thailand\", \"thailands\", \"therein\", \"third\", \"time\", \"time\", \"timeline\", \"today\", \"topups\", \"total\", \"track\", \"transfer\", \"transfer\", \"transformation\", \"transformation\", \"unlimited\", \"unlock\", \"use\", \"use\", \"use\", \"user\", \"users\", \"value\", \"venture\", \"venture\", \"vice\", \"virtual\", \"visit\", \"visit\", \"vital\", \"wallet\", \"warranty\", \"ways\", \"web\", \"website\", \"websites\", \"well\", \"without\", \"work\", \"work\", \"world\", \"worth\", \"worth\", \"years\"]}, \"R\": 30, \"lambda.step\": 0.01, \"plot.opts\": {\"xlab\": \"PC1\", \"ylab\": \"PC2\"}, \"topic.order\": [4, 10, 2, 6, 5, 3, 8, 9, 7, 1]};\n",
       "\n",
       "function LDAvis_load_lib(url, callback){\n",
       "  var s = document.createElement('script');\n",
       "  s.src = url;\n",
       "  s.async = true;\n",
       "  s.onreadystatechange = s.onload = callback;\n",
       "  s.onerror = function(){console.warn(\"failed to load library \" + url);};\n",
       "  document.getElementsByTagName(\"head\")[0].appendChild(s);\n",
       "}\n",
       "\n",
       "if(typeof(LDAvis) !== \"undefined\"){\n",
       "   // already loaded: just create the visualization\n",
       "   !function(LDAvis){\n",
       "       new LDAvis(\"#\" + \"ldavis_el4382397705009922740447560\", ldavis_el4382397705009922740447560_data);\n",
       "   }(LDAvis);\n",
       "}else if(typeof define === \"function\" && define.amd){\n",
       "   // require.js is available: use it to load d3/LDAvis\n",
       "   require.config({paths: {d3: \"https://d3js.org/d3.v5\"}});\n",
       "   require([\"d3\"], function(d3){\n",
       "      window.d3 = d3;\n",
       "      LDAvis_load_lib(\"https://cdn.jsdelivr.net/gh/bmabey/pyLDAvis@3.4.0/pyLDAvis/js/ldavis.v3.0.0.js\", function(){\n",
       "        new LDAvis(\"#\" + \"ldavis_el4382397705009922740447560\", ldavis_el4382397705009922740447560_data);\n",
       "      });\n",
       "    });\n",
       "}else{\n",
       "    // require.js not available: dynamically load d3 & LDAvis\n",
       "    LDAvis_load_lib(\"https://d3js.org/d3.v5.js\", function(){\n",
       "         LDAvis_load_lib(\"https://cdn.jsdelivr.net/gh/bmabey/pyLDAvis@3.4.0/pyLDAvis/js/ldavis.v3.0.0.js\", function(){\n",
       "                 new LDAvis(\"#\" + \"ldavis_el4382397705009922740447560\", ldavis_el4382397705009922740447560_data);\n",
       "            })\n",
       "         });\n",
       "}\n",
       "</script>"
      ],
      "text/plain": [
       "PreparedData(topic_coordinates=              x         y  topics  cluster       Freq\n",
       "topic                                                \n",
       "3     -0.311814 -0.110606       1        1  20.617615\n",
       "9     -0.044819  0.292882       2        1  20.393748\n",
       "1     -0.288021  0.066043       3        1  14.553185\n",
       "5      0.014427 -0.077747       4        1   9.558940\n",
       "4      0.120783  0.171756       5        1   8.442187\n",
       "2      0.143694 -0.065869       6        1   7.779775\n",
       "7      0.132666  0.137600       7        1   7.631406\n",
       "8      0.104699 -0.131731       8        1   4.355407\n",
       "6      0.029777 -0.158046       9        1   3.917433\n",
       "0      0.098607 -0.124282      10        1   2.750305, topic_info=              Term        Freq       Total Category  logprob  loglift\n",
       "18             scb  585.000000  585.000000  Default  30.0000  30.0000\n",
       "858         pointx  699.000000  699.000000  Default  29.0000  29.0000\n",
       "1126         point  575.000000  575.000000  Default  28.0000  28.0000\n",
       "21             use  382.000000  382.000000  Default  27.0000  27.0000\n",
       "822          techx  326.000000  326.000000  Default  26.0000  26.0000\n",
       "...            ...         ...         ...      ...      ...      ...\n",
       "1677  periodsummer    5.039218    5.924727  Topic10  -5.0506   3.4316\n",
       "1678         guess    5.038049    5.923657  Topic10  -5.0508   3.4315\n",
       "1594   opportunity   10.535204   24.256168  Topic10  -4.3131   2.7595\n",
       "40           apply   15.366446   70.860228  Topic10  -3.9357   2.0649\n",
       "92          follow    9.938456   54.742120  Topic10  -4.3714   1.8872\n",
       "\n",
       "[419 rows x 6 columns], token_table=      Topic      Freq          Term\n",
       "term                               \n",
       "937       3  0.924722       ability\n",
       "65        5  0.970989        access\n",
       "781       4  0.972904        accord\n",
       "1125      3  0.993951  accumulation\n",
       "2016      9  0.812057    accuracies\n",
       "...     ...       ...           ...\n",
       "608       6  0.274410          work\n",
       "1129      3  0.996710         world\n",
       "1246      3  0.262268         worth\n",
       "1246      8  0.711871         worth\n",
       "1363      7  0.981458         years\n",
       "\n",
       "[438 rows x 3 columns], R=30, lambda_step=0.01, plot_opts={'xlab': 'PC1', 'ylab': 'PC2'}, topic_order=[4, 10, 2, 6, 5, 3, 8, 9, 7, 1])"
      ]
     },
     "execution_count": 124,
     "metadata": {},
     "output_type": "execute_result"
    }
   ],
   "source": [
    "corpus_topic(preprocess_text(techx_corpus))"
   ]
  },
  {
   "cell_type": "code",
   "execution_count": 125,
   "metadata": {},
   "outputs": [
    {
     "name": "stdout",
     "output_type": "stream",
     "text": [
      "thiranun   0.8882028460502625\n",
      "techxplattnera 0.8873510360717773\n",
      "yunyong    0.8860903382301331\n",
      "cardx      0.8853475451469421\n",
      "thaicharoen 0.884162425994873\n"
     ]
    }
   ],
   "source": [
    "word_similar(model,'bank',5)"
   ]
  },
  {
   "cell_type": "code",
   "execution_count": 126,
   "metadata": {},
   "outputs": [],
   "source": [
    "from gensim.corpora import Dictionary\n",
    "\n",
    "word2vec_vocab = set(model.wv.key_to_index.keys())\n",
    "dictionary = Dictionary([list(word2vec_vocab)])\n",
    "\n",
    "LDA_corpus = [id2word.doc2bow(text) for text in data_lemmatized]\n",
    "lda_model = gensim.models.ldamodel.LdaModel(corpus=LDA_corpus,\n",
    "                                        id2word=dictionary,\n",
    "                                        num_topics=10, \n",
    "                                        random_state=100,\n",
    "                                        update_every=1,\n",
    "                                        chunksize=100,\n",
    "                                        passes=10,\n",
    "                                        alpha='auto',\n",
    "                                        per_word_topics=True)\n"
   ]
  },
  {
   "cell_type": "code",
   "execution_count": 127,
   "metadata": {},
   "outputs": [],
   "source": [
    "bow = dictionary.doc2bow([word])\n",
    "\n",
    "# Get the topic distribution of the word from the LDA model\n",
    "topic_distribution = lda_model.get_document_topics(bow)"
   ]
  },
  {
   "cell_type": "code",
   "execution_count": 128,
   "metadata": {},
   "outputs": [
    {
     "data": {
      "text/plain": [
       "[(2, 0.024000887), (5, 0.011160019), (6, 0.9114076), (9, 0.036399305)]"
      ]
     },
     "execution_count": 128,
     "metadata": {},
     "output_type": "execute_result"
    }
   ],
   "source": [
    "topic_distribution"
   ]
  },
  {
   "cell_type": "code",
   "execution_count": 129,
   "metadata": {},
   "outputs": [
    {
     "data": {
      "text/plain": [
       "10"
      ]
     },
     "execution_count": 129,
     "metadata": {},
     "output_type": "execute_result"
    }
   ],
   "source": [
    "len(lda_model.get_topics())"
   ]
  },
  {
   "cell_type": "code",
   "execution_count": null,
   "metadata": {},
   "outputs": [],
   "source": []
  }
 ],
 "metadata": {
  "kernelspec": {
   "display_name": "base",
   "language": "python",
   "name": "python3"
  },
  "language_info": {
   "codemirror_mode": {
    "name": "ipython",
    "version": 3
   },
   "file_extension": ".py",
   "mimetype": "text/x-python",
   "name": "python",
   "nbconvert_exporter": "python",
   "pygments_lexer": "ipython3",
   "version": "3.10.9"
  },
  "orig_nbformat": 4
 },
 "nbformat": 4,
 "nbformat_minor": 2
}

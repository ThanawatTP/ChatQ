{
 "cells": [
  {
   "cell_type": "code",
   "execution_count": 18,
   "metadata": {},
   "outputs": [],
   "source": [
    "import gensim\n",
    "import gensim.corpora as corpora\n",
    "from gensim.utils import simple_preprocess\n",
    "from gensim.models import Word2Vec, CoherenceModel\n",
    "from gensim.models.keyedvectors import KeyedVectors\n",
    "import mlflow, os, nltk, random, re\n",
    "import matplotlib.pyplot as plt\n",
    "from sklearn.manifold import TSNE\n",
    "import numpy as np\n",
    "from nltk.tokenize import sent_tokenize, word_tokenize\n",
    "from collections import Counter\n",
    "import pyLDAvis\n",
    "import pyLDAvis.gensim\n",
    "import nltk\n",
    "from nltk import pos_tag\n",
    "from nltk.corpus import wordnet, stopwords, words\n",
    "from nltk.stem import WordNetLemmatizer\n",
    "from pprint import pprint"
   ]
  },
  {
   "cell_type": "code",
   "execution_count": 19,
   "metadata": {},
   "outputs": [
    {
     "name": "stderr",
     "output_type": "stream",
     "text": [
      "[nltk_data] Downloading package words to\n",
      "[nltk_data]     /Users/thanawatthongpia/nltk_data...\n",
      "[nltk_data]   Package words is already up-to-date!\n",
      "[nltk_data] Downloading package punkt to\n",
      "[nltk_data]     /Users/thanawatthongpia/nltk_data...\n",
      "[nltk_data]   Package punkt is already up-to-date!\n",
      "[nltk_data] Downloading package wordnet to\n",
      "[nltk_data]     /Users/thanawatthongpia/nltk_data...\n",
      "[nltk_data]   Package wordnet is already up-to-date!\n"
     ]
    }
   ],
   "source": [
    "nltk.download('words')\n",
    "nltk.download('punkt')\n",
    "nltk.download('wordnet')\n",
    "\n",
    "stop_words = stopwords.words('english')\n",
    "vocabulary = words.words()"
   ]
  },
  {
   "cell_type": "code",
   "execution_count": 20,
   "metadata": {},
   "outputs": [],
   "source": [
    "# Convert GloVe vectors to word2vec format\n",
    "# from gensim.scripts.glove2word2vec import glove2word2vec\n",
    "\n",
    "# glove_file = \"src/glove.42B.300d.txt\"\n",
    "# temp_word2vec_file = \"src/w2v.42B.300d.txt\"\n",
    "# glove2word2vec(glove_file, temp_word2vec_file)"
   ]
  },
  {
   "cell_type": "code",
   "execution_count": 21,
   "metadata": {},
   "outputs": [],
   "source": [
    "def preprocess_text(sentences):\n",
    "\n",
    "    lemmatizer = WordNetLemmatizer()\n",
    "    lemmatized_sentences = []\n",
    "    bigram = gensim.models.Phrases(sentences, min_count=5, threshold=100)\n",
    "    bigram_mod = gensim.models.phrases.Phraser(bigram)\n",
    "    \n",
    "    data_words_nostops = [[word for word in doc if word not in stop_words] for doc in sentences]\n",
    "    data_words_bigrams = [bigram_mod[doc] for doc in data_words_nostops]\n",
    "\n",
    "    for sentence in data_words_bigrams:\n",
    "        lemmatized_tokens = [lemmatizer.lemmatize(token, wordnet.VERB) for token in sentence]\n",
    "        lemmatized_sentences.append(lemmatized_tokens)\n",
    "    return lemmatized_sentences"
   ]
  },
  {
   "cell_type": "code",
   "execution_count": 22,
   "metadata": {},
   "outputs": [],
   "source": [
    "def import_text_to_list_of_lists(file_path, delimiter='\\t'):\n",
    "    result = []\n",
    "    with open(file_path, 'r') as file:\n",
    "        for line in file:\n",
    "            line = line.strip()  # Remove leading/trailing whitespace and newlines\n",
    "            sublist = line.split(delimiter)\n",
    "            result.append(sublist)\n",
    "    return result"
   ]
  },
  {
   "cell_type": "code",
   "execution_count": 23,
   "metadata": {},
   "outputs": [],
   "source": [
    "def CreateW2V_Model(w2v_file_name, pre_train_file, vectorsize=300, window=5, min_count=1, workers=4):\n",
    "\n",
    "    folder_path = 'src'\n",
    "    pre_train_file_path = os.path.join(folder_path, pre_train_file)\n",
    "    w2v_file_path = os.path.join(folder_path, w2v_file_name)\n",
    "    RUN_NAME = \"Create Word2Vec Model\"\n",
    "\n",
    "    if mlflow.active_run():\n",
    "        mlflow.end_run()\n",
    "    \n",
    "    with mlflow.start_run(run_name=RUN_NAME):\n",
    "        # Check exist model\n",
    "        if os.path.isfile(pre_train_file_path):\n",
    "            # Load word vectors\n",
    "            GloVe_vectors = KeyedVectors.load(pre_train_file_path)\n",
    "        else:\n",
    "            GloVe_vectors = KeyedVectors.load_word2vec_format(w2v_file_path, binary=False)\n",
    "\n",
    "        # Initialize a Gensim Word2Vec model\n",
    "        model = Word2Vec(vector_size=vectorsize, window=window, min_count=min_count, workers=workers)\n",
    "        # Set the vocabulary and vectors of the model\n",
    "        model.build_vocab_from_freq(GloVe_vectors.key_to_index)\n",
    "        model.wv.key_to_index = GloVe_vectors.key_to_index\n",
    "        model.wv.vectors = GloVe_vectors.vectors\n",
    "        model.wv.index_to_key = GloVe_vectors.index_to_key\n",
    "        \n",
    "        if not os.path.isfile(pre_train_file_path):\n",
    "            model.wv.save(pre_train_file_path) \n",
    "\n",
    "        # Log parameters\n",
    "        mlflow.log_param(\"vectorsize\", vectorsize)\n",
    "        mlflow.log_param(\"window\", window)\n",
    "        mlflow.log_param(\"min_count\", min_count)\n",
    "        mlflow.log_param(\"workers\", workers)\n",
    "\n",
    "        # Log model artifact\n",
    "        mlflow.log_artifact(pre_train_file_path)\n",
    "        \n",
    "        return model"
   ]
  },
  {
   "cell_type": "code",
   "execution_count": 24,
   "metadata": {},
   "outputs": [],
   "source": [
    "def test_Accuracy(model , test_file_path):\n",
    "    with open(test_file_path, 'r') as file:\n",
    "        lines = file.readlines()\n",
    "    total_questions = 0\n",
    "    correct_predictions = 0\n",
    "    random_amount = 1000\n",
    "    random.seed(42)\n",
    "    for line in random.sample(lines, random_amount):\n",
    "        if line.startswith(':'):\n",
    "            continue  # Skip comment lines and category headers\n",
    "        question, expected_answer = [word.lower() for word in line.split()[:2]]\n",
    "        choices = [word.lower() for word in line.split()[2:]]\n",
    "        try:\n",
    "            predicted_answer = model.wv.most_similar(positive=[question, choices[1]], negative=[expected_answer])[0][0]\n",
    "            if predicted_answer == choices[0]:\n",
    "                correct_predictions += 1\n",
    "        except KeyError:\n",
    "            continue  # Skip questions with out-of-vocabulary words\n",
    "\n",
    "        total_questions += 1\n",
    "\n",
    "    accuracy = correct_predictions / total_questions * 100\n",
    "    return accuracy"
   ]
  },
  {
   "cell_type": "code",
   "execution_count": 25,
   "metadata": {},
   "outputs": [],
   "source": [
    "def train_with_corpus(model, RUN_NAME, new_corpus, epochs):\n",
    "    \n",
    "    if mlflow.active_run():\n",
    "        mlflow.end_run()\n",
    "        \n",
    "    with mlflow.start_run(run_name=RUN_NAME):\n",
    "        # Update the vocabulary with new words\n",
    "        model.build_vocab(new_corpus, update=True)\n",
    "        model.train(new_corpus, total_examples=len(new_corpus), epochs=epochs)\n",
    "\n",
    "        # Log parameters\n",
    "        mlflow.log_param(\"epochs\", epochs)\n",
    "        mlflow.log_param(\"train round\", i)\n",
    "        # Log model artifact\n",
    "        # mlflow.sklearn.log_model(model, \"word2vec_model\")\n",
    "\n",
    "        accuracy = test_Accuracy(model,'src/questions-words.txt' )\n",
    "        mlflow.log_metric(\"accuracy\", accuracy)\n",
    "        return model"
   ]
  },
  {
   "cell_type": "code",
   "execution_count": 26,
   "metadata": {},
   "outputs": [],
   "source": [
    "def plot_vec(model):\n",
    "    \n",
    "    vocabulary = words.words()\n",
    "    all_words = []\n",
    "    vectors = []\n",
    "    vocabs = list(set(vocabulary) & set(model.wv.key_to_index.keys()))\n",
    "    random.seed(42)\n",
    "    random_amount = 100\n",
    "    for word in random.sample(vocabs, random_amount):\n",
    "        all_words.append(word)\n",
    "        vectors.append(model.wv[word])\n",
    "        \n",
    "    tsne = TSNE(n_components=2, random_state=42)\n",
    "    vectors_tsne = tsne.fit_transform(np.array(vectors))\n",
    "\n",
    "    #########   PLOT CHART    #######\n",
    "    plt.figure(figsize=(10, 10))\n",
    "    for i, word in enumerate(all_words):\n",
    "        x, y = vectors_tsne[i]\n",
    "        plt.scatter(x, y)\n",
    "        plt.annotate(word, (x, y), alpha=0.5, fontsize=8)\n",
    "\n",
    "    plt.title(\"t-SNE Visualization of Word2Vec Embeddings\")\n",
    "    plt.show()"
   ]
  },
  {
   "cell_type": "code",
   "execution_count": 27,
   "metadata": {},
   "outputs": [],
   "source": [
    "def corpus_topic(corpus,num_topics=10):\n",
    "\n",
    "    data_lemmatized = preprocess_text(corpus)\n",
    "    id2word = corpora.Dictionary(data_lemmatized)  \n",
    "\n",
    "    # Term Document Frequency \n",
    "    LDA_corpus = [id2word.doc2bow(text) for text in data_lemmatized]\n",
    "    lda_model = gensim.models.ldamodel.LdaModel(corpus=LDA_corpus,\n",
    "                                           id2word=id2word,\n",
    "                                           num_topics=num_topics, \n",
    "                                           random_state=100,\n",
    "                                           update_every=1,\n",
    "                                           chunksize=100,\n",
    "                                           passes=10,\n",
    "                                           alpha='auto',\n",
    "                                           per_word_topics=True)\n",
    "    \n",
    "    # Compute Perplexity\n",
    "    print('\\nPerplexity: ', lda_model.log_perplexity(LDA_corpus))  \n",
    "    # a measure of how good the model is. lower the better.\n",
    "\n",
    "    # Compute Coherence Score\n",
    "    coherence_model_lda = CoherenceModel(model=lda_model, texts=data_lemmatized, dictionary=id2word, coherence='c_v')\n",
    "    coherence_lda = coherence_model_lda.get_coherence()\n",
    "    print('Coherence Score: ', coherence_lda)\n",
    "    pyLDAvis.enable_notebook()\n",
    "    vis = pyLDAvis.gensim.prepare(lda_model, LDA_corpus, id2word)\n",
    "    return vis"
   ]
  },
  {
   "cell_type": "code",
   "execution_count": 28,
   "metadata": {},
   "outputs": [],
   "source": [
    "model = CreateW2V_Model(\"w2v.42B.300d.txt\",'GloVe.wordvectors')"
   ]
  },
  {
   "cell_type": "code",
   "execution_count": 29,
   "metadata": {},
   "outputs": [
    {
     "data": {
      "text/plain": [
       "[('iphone', 0.7339416146278381),\n",
       " ('ipad', 0.7129027247428894),\n",
       " ('apples', 0.6433200836181641),\n",
       " ('blackberry', 0.6380701661109924),\n",
       " ('ipod', 0.6341225504875183)]"
      ]
     },
     "execution_count": 29,
     "metadata": {},
     "output_type": "execute_result"
    }
   ],
   "source": [
    "model.wv.most_similar(\"apple\", topn=5)"
   ]
  },
  {
   "cell_type": "code",
   "execution_count": 30,
   "metadata": {},
   "outputs": [],
   "source": [
    "# for time in range(5):\n",
    "#     model = train_with_corpus(model,new_corpus,1000)\n",
    "#     i+=1\n",
    "#     model.wv.most_similar(\"apple\", topn=5)"
   ]
  },
  {
   "cell_type": "code",
   "execution_count": 31,
   "metadata": {},
   "outputs": [],
   "source": [
    "# plot_vec(model)"
   ]
  },
  {
   "cell_type": "code",
   "execution_count": 32,
   "metadata": {},
   "outputs": [],
   "source": [
    "# test_Accuracy(model,'src/questions-words.txt' )"
   ]
  },
  {
   "cell_type": "code",
   "execution_count": 33,
   "metadata": {},
   "outputs": [],
   "source": [
    "# scb_corpus = import_text_to_list_of_lists('src/SCB_corpus_tip4u.txt', delimiter='\\t')\n",
    "techx_corpus = import_text_to_list_of_lists('src/TechX_corpus.txt', delimiter='\\t')\n",
    "pointx_corpus = import_text_to_list_of_lists('src/PointX_corpus.txt', delimiter='\\t')"
   ]
  },
  {
   "cell_type": "code",
   "execution_count": 34,
   "metadata": {},
   "outputs": [
    {
     "name": "stdout",
     "output_type": "stream",
     "text": [
      "[('aic', 0.3304489850997925), ('gsc', 0.32839545607566833), ('m&i', 0.3262021243572235), ('laurentian', 0.32590141892433167), ('iob', 0.3192133605480194)]\n"
     ]
    }
   ],
   "source": [
    "key = 'scb'\n",
    "try:\n",
    "    print(model.wv.most_similar(key,topn=5))\n",
    "except KeyError:\n",
    "    print(f\"{key} not found\")"
   ]
  },
  {
   "cell_type": "code",
   "execution_count": 35,
   "metadata": {},
   "outputs": [],
   "source": [
    "# don't know why preprocess techx corpus first then kernal will crashed\n",
    "train_datasets = [preprocess_text(dataset) for dataset in [pointx_corpus, techx_corpus]]\n",
    "\n",
    "for i,dataset in enumerate(train_datasets):\n",
    "    runname = f\"train round {i+1}\"\n",
    "    TechXmodel = train_with_corpus(model,runname,dataset,epochs=100)"
   ]
  },
  {
   "cell_type": "code",
   "execution_count": 36,
   "metadata": {},
   "outputs": [
    {
     "name": "stdout",
     "output_type": "stream",
     "text": [
      "[('cardx', 0.9924686551094055), ('call_center', 0.9924042224884033), ('please_contact', 0.9923171997070312), ('facebook_linkedin', 0.9923133850097656), ('anddigital', 0.9923035502433777)]\n"
     ]
    }
   ],
   "source": [
    "try:\n",
    "    print(TechXmodel.wv.most_similar(key,topn=5))\n",
    "except KeyError:\n",
    "    print(f\"{key} not found\")"
   ]
  },
  {
   "cell_type": "code",
   "execution_count": 37,
   "metadata": {},
   "outputs": [
    {
     "name": "stdout",
     "output_type": "stream",
     "text": [
      "\n",
      "Perplexity:  -6.684810601212469\n",
      "Coherence Score:  0.43309610510121493\n"
     ]
    },
    {
     "data": {
      "text/html": [
       "\n",
       "<link rel=\"stylesheet\" type=\"text/css\" href=\"https://cdn.jsdelivr.net/gh/bmabey/pyLDAvis@3.4.0/pyLDAvis/js/ldavis.v1.0.0.css\">\n",
       "\n",
       "\n",
       "<div id=\"ldavis_el9970112072861604339714719\" style=\"background-color:white;\"></div>\n",
       "<script type=\"text/javascript\">\n",
       "\n",
       "var ldavis_el9970112072861604339714719_data = {\"mdsDat\": {\"x\": [-0.2906892722880846, -0.3052768187845796, -0.04596053212730609, 0.05882339323426781, 0.0433492024262879, 0.14986402215317315, 0.13366692250040935, 0.13380030737034285, 0.04761672365848579, 0.07480605185700345], \"y\": [0.1083970695848564, 0.027803695294424238, -0.3980835170266077, 0.019100749520017682, 0.15130076255352573, 0.014750019158170638, 0.04359542613585523, 0.04892325729572522, -0.022674616881924375, 0.006887154365956992], \"topics\": [1, 2, 3, 4, 5, 6, 7, 8, 9, 10], \"cluster\": [1, 1, 1, 1, 1, 1, 1, 1, 1, 1], \"Freq\": [16.719113766000092, 13.192491408186052, 12.570398786678277, 12.434667339279786, 10.94994941026031, 10.374636048554535, 8.851224841304639, 6.328677028504403, 4.9677969686583205, 3.6110444025735857]}, \"tinfo\": {\"Term\": [\"point\", \"scb\", \"pointx\", \"techx\", \"digital\", \"reward\", \"technology\", \"customers\", \"group\", \"scbx\", \"develop\", \"experience\", \"new\", \"receive\", \"get\", \"transfer\", \"world\", \"data\", \"infrastructure\", \"bank\", \"platforms\", \"platform\", \"service\", \"clients\", \"pay\", \"cash\", \"products\", \"redemption\", \"apply\", \"publicis\", \"pay\", \"cash\", \"special\", \"store\", \"purchase\", \"app\", \"extra\", \"spend\", \"discount\", \"make\", \"baht\", \"deal\", \"every\", \"earn\", \"mobile\", \"instead\", \"select\", \"scan\", \"rate\", \"month\", \"first\", \"redeem\", \"day\", \"accumulate\", \"limit\", \"april\", \"shoppers\", \"food\", \"august\", \"via\", \"bangchak\", \"pointx\", \"shop\", \"offer\", \"application\", \"use\", \"enjoy\", \"point\", \"reward\", \"world\", \"redemption\", \"accumulation\", \"unlimited\", \"download\", \"round\", \"scb_call_center\", \"website\", \"organizations\", \"please_contact\", \"let\", \"introduce\", \"wallet\", \"wealth\", \"consolidate\", \"delivery\", \"tax\", \"cardx\", \"number\", \"valid\", \"mr_trirat_suwanprateeb\", \"rat\", \"flash_deals_special\", \"priced_items\", \"vice_president\", \"speak\", \"call\", \"logo\", \"like\", \"new\", \"february\", \"combine\", \"pointx\", \"june\", \"enjoy\", \"use\", \"follow\", \"business\", \"scb\", \"group\", \"scbx\", \"publicis\", \"techx\", \"transformation\", \"anddigital\", \"enter_joint_venture\", \"reach_agreement\", \"say\", \"sapient\", \"specialize\", \"open\", \"siam_commercial\", \"join\", \"consult\", \"easy\", \"technological_capabilities\", \"message\", \"class\", \"consumers\", \"come\", \"ceo\", \"expect\", \"senior\", \"bank\", \"recently\", \"years\", \"role\", \"find\", \"company\", \"mr\", \"new\", \"application\", \"experience\", \"transfer\", \"information\", \"solutions\", \"campaign\", \"one\", \"visit\", \"ready\", \"customer\", \"team\", \"see\", \"card\", \"users\", \"enable\", \"available\", \"enhance\", \"become\", \"term\", \"instantly\", \"help\", \"year\", \"ensure\", \"way\", \"user\", \"please\", \"concept\", \"among\", \"bind\", \"bring\", \"technologies\", \"customers\", \"provide\", \"platform\", \"partner\", \"innovative\", \"business\", \"use\", \"service\", \"application\", \"credit\", \"data\", \"us\", \"great\", \"build\", \"comprehensive\", \"benefit\", \"personal\", \"end\", \"analysis\", \"essential\", \"value\", \"step\", \"time\", \"systems\", \"industries\", \"non\", \"public\", \"edge\", \"ecosystem\", \"addition\", \"anywhere\", \"technical\", \"thats\", \"product\", \"competitive\", \"exchange\", \"elevate\", \"without\", \"life\", \"know\", \"management\", \"products\", \"also\", \"service\", \"scan_qr_code\", \"offer\", \"use\", \"digital\", \"technology\", \"develop\", \"platforms\", \"lead\", \"officer\", \"market\", \"thailand\", \"chief\", \"innovations\", \"allow\", \"fintech\", \"traditional\", \"global\", \"capabilities\", \"enterprises\", \"ekyc\", \"chatbots\", \"intelligent\", \"share\", \"note\", \"transaction\", \"account\", \"position\", \"model\", \"regional\", \"cross_sector\", \"corporate\", \"institutions\", \"region\", \"executive\", \"create\", \"financial\", \"development\", \"platform\", \"solution\", \"include\", \"business\", \"company\", \"service\", \"partner\", \"clients\", \"apply\", \"july\", \"bonus\", \"level\", \"drive\", \"businesses\", \"period\", \"collaboration\", \"future\", \"cybersecurity\", \"speed\", \"issue\", \"virtual_interview\", \"learn\", \"qa_engineer\", \"analyst\", \"advance\", \"unlock\", \"success\", \"interview\", \"approach\", \"software_engineer\", \"cannot\", \"ignore\", \"likewise\", \"topic\", \"precise\", \"support\", \"internship\", \"system\", \"business\", \"work\", \"financial\", \"follow\", \"receive\", \"infrastructure\", \"place\", \"cloud\", \"industry\", \"security\", \"promotion\", \"reason\", \"transform\", \"engineer\", \"able\", \"collaborate\", \"agility\", \"power\", \"deploy\", \"manage\", \"co_ltd\", \"hold\", \"evolve\", \"enterprise\", \"compute\", \"boost\", \"undergo\", \"construct\", \"assign\", \"foundations\", \"three\", \"professional\", \"linkedin\", \"go\", \"providers\", \"march\", \"service\", \"work\", \"feature\", \"variety\", \"integrate\", \"fit\", \"infrastructures\", \"design\", \"sign\", \"simply\", \"lifestyles\", \"retail\", \"loan\", \"client\", \"therefore\", \"lifestyle\", \"answer\", \"cater\", \"focus\", \"serve\", \"procedures\", \"exist\", \"adapt\", \"consultation\", \"optimal\", \"people\", \"empower\", \"unique\", \"continuously\", \"generation\", \"survey\", \"long_term\", \"grow\", \"confirm\", \"partnership\", \"customers\", \"across\", \"credit\", \"new\", \"launch\", \"get\", \"back\", \"cardholders\", \"two\", \"address\", \"roll\", \"program\", \"selection\", \"even\", \"identity_verification\", \"excite\", \"cart\", \"extravagant_add\", \"pilot\", \"source\", \"could\", \"countries\", \"hedera\", \"times_per\", \"settlement\", \"dlt\", \"poc\", \"office\", \"contain\", \"joint\", \"ample\", \"backdownload\", \"committee\", \"roles\", \"phase\", \"process\", \"credit\", \"solution\"], \"Freq\": [777.0, 609.0, 811.0, 363.0, 295.0, 287.0, 249.0, 285.0, 239.0, 186.0, 163.0, 174.0, 282.0, 116.0, 95.0, 153.0, 157.0, 141.0, 106.0, 153.0, 123.0, 184.0, 310.0, 106.0, 142.0, 140.0, 145.0, 118.0, 96.0, 109.0, 141.22791288082573, 139.44148488809833, 127.43179636758038, 97.41241600243018, 94.0740959323242, 91.1520876167063, 91.0085577992959, 83.08270226911583, 67.34503771163585, 64.9774566478342, 63.094800824057515, 60.56830049304018, 58.73587922996181, 57.916881249212, 57.36195064508414, 52.31715243724033, 50.613024735948876, 47.43199132077834, 44.95400539864661, 44.228061940894634, 40.47206887657092, 40.15157351732958, 40.04611901955973, 39.826005242182575, 38.71889277524589, 38.385345271715764, 36.34327558236503, 32.27408139034165, 32.0142443616255, 30.48079248675821, 92.2513040178157, 448.6598527416015, 95.67082575822535, 115.49289231300416, 99.82326348014686, 126.18980298903968, 47.25578299590312, 776.2284120878896, 286.3362365337392, 156.38458564103078, 117.51916535056284, 105.34673841732267, 95.82441017927898, 93.37543572418186, 91.75206739861848, 48.750966458905, 43.072182060458836, 40.32168357030257, 34.98300131870435, 33.82054299784576, 26.03906155201688, 25.85328566722545, 25.390774860836324, 21.75983371742858, 21.115484273109196, 20.28719459900427, 19.777108726376028, 19.60979645712829, 19.412590468400865, 19.408798278003005, 15.810983540971485, 15.626171245543448, 15.626171245543448, 14.38357268243351, 14.381900215948843, 12.81834091512807, 12.282278710960743, 55.859434267147606, 199.21423329484165, 57.026147577596504, 30.650458326400397, 361.5061812369613, 46.68884377654421, 43.134618506736196, 41.033593062406815, 22.35796540955836, 22.94955401907544, 608.2380997228497, 238.472775137495, 185.5970300424369, 109.04190735159692, 360.58115300042135, 90.43570047983494, 57.47808522198942, 57.47808522198942, 57.47808522198942, 51.73548679681373, 44.03305996029449, 37.16684843062357, 32.23747204050396, 28.489009291368255, 27.16984477810334, 26.95572960145331, 25.997941524720286, 25.184122197717688, 24.404490018849277, 24.232456774794517, 23.94344480800289, 23.492997826984308, 21.501055512279592, 21.48038888184375, 19.947326389000267, 146.7964449854837, 16.78828054710528, 16.775024944016817, 15.505149357081958, 15.257704302557062, 117.32655397421625, 41.47175362251478, 62.78628950424621, 43.543073239676126, 173.91636773456102, 152.89225561340263, 100.00902043906927, 97.05207313722426, 87.52586800777806, 85.74991570531846, 71.63658469085406, 68.66878411567048, 55.98397695425608, 55.45212749669522, 50.777944296472086, 48.79888538629212, 43.39223644895333, 38.09094629733818, 35.42456006879256, 34.68868274485662, 34.02743713794525, 32.12541888968204, 31.348508119305606, 30.980746872873613, 29.486963400562, 26.024694332948545, 25.42128619076611, 25.268487467321144, 24.497029376261477, 22.898588642042796, 22.52559282346671, 20.09175767095199, 19.897582063652848, 19.253973839749378, 245.48768304016068, 89.63171554722929, 115.1160802855303, 49.10996481047724, 40.139021478679176, 83.8771042862075, 103.12835015863303, 95.95627665907966, 55.9552454034204, 29.828209976525308, 140.34921560410976, 87.97216231654699, 61.986843149806596, 58.85667343737176, 56.00954997979428, 48.8659186468782, 44.17006495056218, 41.97780809596058, 41.19852647032813, 40.43934285450755, 39.45701715028786, 38.915594940450625, 38.76405290783118, 37.19838039050815, 35.11619389430715, 30.01297638622156, 27.919412197688036, 26.59951962120805, 26.556322229986375, 26.395870681677966, 26.21879549067963, 25.21318980675915, 24.603816773276122, 24.451022019177884, 24.382497867624174, 23.79073316751291, 23.501794535081984, 22.87530766354777, 22.266238493855933, 21.299034313207436, 69.9237883089013, 110.01927488399875, 53.90347004303103, 105.59420395858983, 32.87179859976, 45.805887004057844, 41.79536082246511, 294.5721523050268, 248.54119101221335, 162.3849616980383, 122.85156995529613, 75.70380070195547, 61.72478136167937, 60.312659947709186, 58.799703370743295, 57.908309231195084, 37.456957649864435, 37.40183591218739, 31.05557342711981, 30.048780795804056, 25.885578132992144, 24.386147363054178, 24.36273250715303, 18.755095874906843, 17.399478655597086, 17.399478655597086, 16.16630665623438, 14.94722539720518, 14.494067405361656, 14.158608378890627, 13.243144821293933, 12.844930667456707, 12.84026996768564, 12.829682900256955, 11.90111451958602, 11.84107270170193, 11.532537636087888, 52.9796300873935, 42.26321194391028, 89.93619806183699, 45.212867249664754, 68.42895354006392, 23.317483670674953, 23.639832442020726, 54.955967776213576, 37.10146793527475, 36.768249629847496, 22.5554551840672, 106.05032653244544, 95.48259530897145, 66.55053249371029, 54.517081424780365, 43.955680803764714, 43.45011777918455, 41.85522769088929, 41.22968909058352, 38.007222428532835, 37.8552416254447, 37.31426013140057, 35.68622475117123, 35.12119299251694, 29.98098015120512, 28.94958783224226, 28.578485228177975, 28.14938994925111, 25.351486114294023, 25.28499393364186, 24.6976498136877, 21.950008459668968, 20.947351792640852, 20.220551359454802, 18.710759444651803, 18.710759444651803, 18.710759444651803, 18.710759444651803, 18.68061724963792, 18.060095396887885, 16.988446285645182, 25.862105278904956, 57.67954639574176, 31.656678109020604, 27.696093787427184, 22.965884777877452, 115.78489618889466, 105.48060964329919, 52.286559640637336, 50.450139735958736, 49.674561636945455, 44.76621862918958, 37.28575051735784, 33.41856635808959, 33.33204750086577, 28.66694144119549, 20.190275458058867, 19.760981546577618, 19.625069733176915, 19.22437409811352, 17.95049741729124, 17.81302157092961, 17.37361943371258, 16.97321539801478, 16.80891738046211, 16.72131165287561, 16.505544690480765, 16.360932943734937, 16.360932943734937, 16.356095045169376, 16.351142826397986, 16.351142826397986, 14.633408833960456, 12.596989871218666, 12.110882959476337, 10.954394905081141, 18.119126348148832, 21.80783844115606, 53.32011702384456, 21.429460098448182, 58.409329092560625, 47.08233575835509, 35.69722634675986, 28.83924309525208, 28.81753702776709, 25.827049582595137, 24.95953778852386, 24.814800325947225, 21.10230456927755, 19.907784170747032, 19.876599743775497, 19.778239654866603, 19.71700617521438, 17.286562582564102, 17.111733149378267, 15.758309770772827, 15.107950990124888, 15.077425938600616, 14.788280050899338, 14.628478395412063, 14.467140798301077, 14.446081100830474, 14.446081100830474, 14.397418672604848, 13.757245746992401, 13.439355251528804, 13.437384928446733, 11.907057750110308, 10.912564810980223, 9.527542132094215, 27.760728556968758, 18.249763149629704, 17.744042990268472, 39.507716739674365, 19.60745881293785, 18.705213409260733, 18.511174951703822, 15.017092434904033, 94.47831512917483, 62.34432212491638, 43.23406180001346, 36.5639037376467, 30.110099061256005, 26.061963285510508, 20.799427616271778, 20.494878508932203, 18.867694203252892, 15.904414769540894, 13.737099499556015, 12.0262250227953, 12.0262250227953, 11.155443767077804, 9.564727381600417, 9.25370639066217, 8.296009420942053, 7.911182865248392, 7.91096354345539, 7.911019319256196, 7.910849628472387, 7.910849628472387, 6.802072558037042, 6.296947526205482, 6.167892249340952, 6.056103836912553, 6.053912982363923, 5.786949674623796, 5.750574398972362, 5.732428356659111, 15.83805952827966, 38.52269314081954, 10.681509224804058], \"Total\": [777.0, 609.0, 811.0, 363.0, 295.0, 287.0, 249.0, 285.0, 239.0, 186.0, 163.0, 174.0, 282.0, 116.0, 95.0, 153.0, 157.0, 141.0, 106.0, 153.0, 123.0, 184.0, 310.0, 106.0, 142.0, 140.0, 145.0, 118.0, 96.0, 109.0, 142.16941957740846, 140.38308546530456, 128.3733659958076, 98.35396225203868, 95.01566723873201, 92.0935862309985, 91.95019792058548, 84.02440969967631, 68.28654023027461, 65.91900212525653, 64.03628815602039, 61.51007229316353, 59.67744823810215, 58.85862012440437, 58.30365090683178, 53.25866776542676, 51.55458179772139, 48.37349309975804, 45.89552052881951, 45.16955350490077, 41.41398835325257, 41.093072141831044, 40.987830855230804, 40.76765225608626, 39.66068604868151, 39.326951410617134, 37.28484263218437, 33.21570063756338, 32.955898310782764, 31.422291080103925, 99.62380806274811, 811.0088369413817, 125.74362640658147, 162.11322549274536, 200.06177157186482, 317.0642362318512, 91.23320550958742, 777.1755142159002, 287.2832697597058, 157.33181248938502, 118.46617352039553, 106.29373387738428, 96.77140781506324, 94.32248006902749, 92.69910779670657, 49.698003606744955, 44.0193487229104, 41.270048196633475, 35.93011205554695, 34.767636005896875, 26.986238048137242, 26.80028099287169, 26.337974563065853, 22.707092516982765, 22.063555417926942, 21.23434539319444, 20.724131692838135, 20.55702737194619, 20.3596791770237, 20.35605272321159, 16.757998105702676, 16.573179488548533, 16.573179488548533, 15.331009104426423, 15.329520964280642, 13.7653543431542, 13.229327552171696, 68.41948786853902, 282.0702748978194, 75.17342525090535, 37.36449196513858, 811.0088369413817, 72.94288145043951, 91.23320550958742, 317.0642362318512, 56.31759739481911, 220.08399958862344, 609.3721681738134, 239.41546308060052, 186.53966924221442, 109.98452295932093, 363.6988845152893, 91.37845795763154, 58.42068525572958, 58.42068525572958, 58.42068525572958, 52.678176134408105, 44.97569881219887, 38.10946190510349, 33.180324392117704, 29.43187530910941, 28.112806991561712, 27.89863494229026, 26.940658848506956, 26.126860876589863, 25.347796259181827, 25.175348302251734, 24.886800646719294, 24.436936918884644, 22.44368853202644, 22.423084842541158, 20.88996741696895, 153.7447964461013, 17.73107953412123, 17.717671234718434, 16.447807804730616, 16.20081650298378, 174.6907401384859, 53.145964272176506, 282.0702748978194, 200.06177157186482, 174.8639405331509, 153.83979432975858, 100.9565117395234, 98.00022998565737, 88.47344624232318, 86.69748955982584, 72.58408902650685, 69.61678249232273, 56.93159900493332, 56.40109281558731, 51.72564503818133, 49.746362060129904, 44.33980307022725, 39.0385614408626, 36.37251244529702, 35.63613536026919, 34.9750892470751, 33.07281081228387, 32.29948521904796, 31.928264265074322, 30.434444649285812, 26.972461558863543, 26.368787494477242, 26.21617250018994, 25.444690022533642, 23.846214630347003, 23.473097348928913, 21.039215235698528, 20.845169556985148, 20.201744560633077, 285.8520180227221, 131.02463289309807, 184.38316730801805, 72.50789008211568, 57.762037152029485, 220.08399958862344, 317.0642362318512, 310.50116126876776, 200.06177157186482, 89.01905225502951, 141.26753404323722, 88.89049713864502, 62.905481967262716, 59.775110260268725, 56.92824153166026, 49.784503541872496, 45.088376107879824, 42.89639643584828, 42.1170909550081, 41.358366216938, 40.37560001147299, 39.83409078482419, 39.68255011705817, 38.116984397945714, 36.03470898149717, 30.931945241270885, 28.838130931706093, 27.51796575735457, 27.474715379585657, 27.31503189064543, 27.13752081164769, 26.131705760942744, 25.522220607541474, 25.370171096900847, 25.300896160155528, 24.70917661312561, 24.420287866814046, 23.79383586511675, 23.184752656145083, 22.217656540676746, 82.63548829261522, 145.63915234989025, 71.55701729504494, 310.50116126876776, 44.35624318933764, 162.11322549274536, 317.0642362318512, 295.508602043182, 249.47763049647122, 163.4513941789798, 123.78805056765897, 76.6402259825603, 62.66111656487606, 61.24902920479837, 59.73610160569599, 58.844646108240035, 38.3932442762075, 38.33826405435023, 31.99192046273759, 30.985830462222182, 26.821934275275414, 25.32247449453762, 25.299484235120204, 19.691605895350648, 18.33678534321576, 18.33678534321576, 17.103376211485607, 15.88376013088421, 15.430489612042495, 15.095348785292217, 14.179534896240936, 13.781254931675853, 13.776652360797634, 13.769450163294861, 12.837426655703478, 12.777414889905062, 12.46882198808982, 57.298329205299495, 50.220325181255696, 118.45110561115061, 76.87663442201102, 184.38316730801805, 34.842405491908046, 38.55738015189979, 220.08399958862344, 174.6907401384859, 310.50116126876776, 72.50789008211568, 106.98054638367141, 96.41080818382177, 67.47879372375624, 55.44569458995758, 44.88412383356062, 44.37859221992433, 42.78370808776157, 42.15815578085448, 38.935816500870736, 38.78412854825442, 38.24365489250391, 36.615109566388206, 36.04987980762874, 30.909095720142442, 29.877999502028292, 29.506610610973006, 29.077497589996906, 26.279889998750097, 26.21398646464629, 25.626775868228453, 22.878125204356678, 21.876761912322944, 21.148699648906042, 19.63891798337257, 19.63891798337257, 19.63891798337257, 19.63891798337257, 19.612103701697983, 18.98844793179432, 17.91666980372492, 37.722860767272735, 220.08399958862344, 63.529233526974124, 118.45110561115061, 56.31759739481911, 116.72811077271608, 106.42366776433119, 53.22999638746371, 51.39317566039267, 50.61757353163057, 45.7096971867627, 38.22898500565468, 34.36162118550707, 34.27532759664714, 29.61006237176222, 21.13348073543834, 20.70502150334517, 20.567983953341983, 20.16773824147817, 18.89759412410405, 18.756021660219655, 18.316627958668196, 17.91622103054877, 17.752152388439754, 17.66448002324629, 17.448603470600446, 17.304052220396642, 17.304052220396642, 17.29951087919522, 17.295027725312984, 17.295027725312984, 15.5766495135382, 13.539907807897249, 13.053800455348583, 11.897400746373288, 23.241186370938916, 31.07230242383912, 310.50116126876776, 63.529233526974124, 59.36433122381859, 48.03750490353189, 36.65217644281077, 29.79525359636034, 29.776591991840967, 26.78200997984847, 25.914637538728893, 25.769920952239737, 22.057212090880164, 20.862676946385648, 20.831450830106157, 20.733383464408597, 20.67220609529051, 18.24140800231406, 18.06717576543869, 16.713123374877068, 16.062934004506374, 16.032377218413554, 15.743211999132315, 15.583454573133919, 15.42219989296402, 15.403259917851296, 15.403259917851296, 15.35240040589234, 14.712220022334805, 14.394438465181885, 14.39236133841314, 12.862047869116362, 11.86784849660061, 10.482405123717198, 33.76762814189103, 23.33969657086539, 30.829432679726487, 285.8520180227221, 46.48460235578824, 89.01905225502951, 282.0702748978194, 46.25861515010613, 95.4309412463618, 63.296971793296926, 44.18666169879412, 37.516740068644545, 31.063154714461337, 27.01464369784986, 21.752122614780564, 21.44777640283989, 19.820575729243828, 16.85949143656186, 14.689899547598417, 12.978968048761812, 12.978968048761812, 12.108032455832673, 10.517376162705567, 10.206289019355003, 9.248550731167375, 8.863713102853854, 8.863499720502633, 8.863564644446267, 8.863418223937215, 8.863418223937215, 7.754673981888886, 7.249554616585089, 7.1205655829164405, 7.008858805038581, 7.006818004567793, 6.740911107409537, 6.7033367361492315, 6.684994888465679, 22.745828617182447, 89.01905225502951, 34.842405491908046], \"Category\": [\"Default\", \"Default\", \"Default\", \"Default\", \"Default\", \"Default\", \"Default\", \"Default\", \"Default\", \"Default\", \"Default\", \"Default\", \"Default\", \"Default\", \"Default\", \"Default\", \"Default\", \"Default\", \"Default\", \"Default\", \"Default\", \"Default\", \"Default\", \"Default\", \"Default\", \"Default\", \"Default\", \"Default\", \"Default\", \"Default\", \"Topic1\", \"Topic1\", \"Topic1\", \"Topic1\", \"Topic1\", \"Topic1\", \"Topic1\", \"Topic1\", \"Topic1\", \"Topic1\", \"Topic1\", \"Topic1\", \"Topic1\", \"Topic1\", \"Topic1\", \"Topic1\", \"Topic1\", \"Topic1\", \"Topic1\", \"Topic1\", \"Topic1\", \"Topic1\", \"Topic1\", \"Topic1\", \"Topic1\", \"Topic1\", \"Topic1\", \"Topic1\", \"Topic1\", \"Topic1\", \"Topic1\", \"Topic1\", \"Topic1\", \"Topic1\", \"Topic1\", \"Topic1\", \"Topic1\", \"Topic2\", \"Topic2\", \"Topic2\", \"Topic2\", \"Topic2\", \"Topic2\", \"Topic2\", \"Topic2\", \"Topic2\", \"Topic2\", \"Topic2\", \"Topic2\", \"Topic2\", \"Topic2\", \"Topic2\", \"Topic2\", \"Topic2\", \"Topic2\", \"Topic2\", \"Topic2\", \"Topic2\", \"Topic2\", \"Topic2\", \"Topic2\", \"Topic2\", \"Topic2\", \"Topic2\", \"Topic2\", \"Topic2\", \"Topic2\", \"Topic2\", \"Topic2\", \"Topic2\", \"Topic2\", \"Topic2\", \"Topic2\", \"Topic2\", \"Topic2\", \"Topic2\", \"Topic2\", \"Topic3\", \"Topic3\", \"Topic3\", \"Topic3\", \"Topic3\", \"Topic3\", \"Topic3\", \"Topic3\", \"Topic3\", \"Topic3\", \"Topic3\", \"Topic3\", \"Topic3\", \"Topic3\", \"Topic3\", \"Topic3\", \"Topic3\", \"Topic3\", \"Topic3\", \"Topic3\", \"Topic3\", \"Topic3\", \"Topic3\", \"Topic3\", \"Topic3\", \"Topic3\", \"Topic3\", \"Topic3\", \"Topic3\", \"Topic3\", \"Topic3\", \"Topic3\", \"Topic3\", \"Topic3\", \"Topic4\", \"Topic4\", \"Topic4\", \"Topic4\", \"Topic4\", \"Topic4\", \"Topic4\", \"Topic4\", \"Topic4\", \"Topic4\", \"Topic4\", \"Topic4\", \"Topic4\", \"Topic4\", \"Topic4\", \"Topic4\", \"Topic4\", \"Topic4\", \"Topic4\", \"Topic4\", \"Topic4\", \"Topic4\", \"Topic4\", \"Topic4\", \"Topic4\", \"Topic4\", \"Topic4\", \"Topic4\", \"Topic4\", \"Topic4\", \"Topic4\", \"Topic4\", \"Topic4\", \"Topic4\", \"Topic4\", \"Topic4\", \"Topic4\", \"Topic4\", \"Topic4\", \"Topic4\", \"Topic5\", \"Topic5\", \"Topic5\", \"Topic5\", \"Topic5\", \"Topic5\", \"Topic5\", \"Topic5\", \"Topic5\", \"Topic5\", \"Topic5\", \"Topic5\", \"Topic5\", \"Topic5\", \"Topic5\", \"Topic5\", \"Topic5\", \"Topic5\", \"Topic5\", \"Topic5\", \"Topic5\", \"Topic5\", \"Topic5\", \"Topic5\", \"Topic5\", \"Topic5\", \"Topic5\", \"Topic5\", \"Topic5\", \"Topic5\", \"Topic5\", \"Topic5\", \"Topic5\", \"Topic5\", \"Topic5\", \"Topic5\", \"Topic5\", \"Topic6\", \"Topic6\", \"Topic6\", \"Topic6\", \"Topic6\", \"Topic6\", \"Topic6\", \"Topic6\", \"Topic6\", \"Topic6\", \"Topic6\", \"Topic6\", \"Topic6\", \"Topic6\", \"Topic6\", \"Topic6\", \"Topic6\", \"Topic6\", \"Topic6\", \"Topic6\", \"Topic6\", \"Topic6\", \"Topic6\", \"Topic6\", \"Topic6\", \"Topic6\", \"Topic6\", \"Topic6\", \"Topic6\", \"Topic6\", \"Topic6\", \"Topic6\", \"Topic6\", \"Topic6\", \"Topic6\", \"Topic6\", \"Topic6\", \"Topic6\", \"Topic6\", \"Topic6\", \"Topic6\", \"Topic7\", \"Topic7\", \"Topic7\", \"Topic7\", \"Topic7\", \"Topic7\", \"Topic7\", \"Topic7\", \"Topic7\", \"Topic7\", \"Topic7\", \"Topic7\", \"Topic7\", \"Topic7\", \"Topic7\", \"Topic7\", \"Topic7\", \"Topic7\", \"Topic7\", \"Topic7\", \"Topic7\", \"Topic7\", \"Topic7\", \"Topic7\", \"Topic7\", \"Topic7\", \"Topic7\", \"Topic7\", \"Topic7\", \"Topic7\", \"Topic7\", \"Topic7\", \"Topic7\", \"Topic7\", \"Topic7\", \"Topic8\", \"Topic8\", \"Topic8\", \"Topic8\", \"Topic8\", \"Topic8\", \"Topic8\", \"Topic8\", \"Topic8\", \"Topic8\", \"Topic8\", \"Topic8\", \"Topic8\", \"Topic8\", \"Topic8\", \"Topic8\", \"Topic8\", \"Topic8\", \"Topic8\", \"Topic8\", \"Topic8\", \"Topic8\", \"Topic8\", \"Topic8\", \"Topic8\", \"Topic8\", \"Topic8\", \"Topic8\", \"Topic8\", \"Topic8\", \"Topic8\", \"Topic8\", \"Topic8\", \"Topic8\", \"Topic9\", \"Topic9\", \"Topic9\", \"Topic9\", \"Topic9\", \"Topic9\", \"Topic9\", \"Topic9\", \"Topic9\", \"Topic9\", \"Topic9\", \"Topic9\", \"Topic9\", \"Topic9\", \"Topic9\", \"Topic9\", \"Topic9\", \"Topic9\", \"Topic9\", \"Topic9\", \"Topic9\", \"Topic9\", \"Topic9\", \"Topic9\", \"Topic9\", \"Topic9\", \"Topic9\", \"Topic9\", \"Topic9\", \"Topic9\", \"Topic9\", \"Topic9\", \"Topic9\", \"Topic9\", \"Topic9\", \"Topic9\", \"Topic9\", \"Topic9\", \"Topic10\", \"Topic10\", \"Topic10\", \"Topic10\", \"Topic10\", \"Topic10\", \"Topic10\", \"Topic10\", \"Topic10\", \"Topic10\", \"Topic10\", \"Topic10\", \"Topic10\", \"Topic10\", \"Topic10\", \"Topic10\", \"Topic10\", \"Topic10\", \"Topic10\", \"Topic10\", \"Topic10\", \"Topic10\", \"Topic10\", \"Topic10\", \"Topic10\", \"Topic10\", \"Topic10\", \"Topic10\", \"Topic10\", \"Topic10\", \"Topic10\", \"Topic10\", \"Topic10\"], \"logprob\": [30.0, 29.0, 28.0, 27.0, 26.0, 25.0, 24.0, 23.0, 22.0, 21.0, 20.0, 19.0, 18.0, 17.0, 16.0, 15.0, 14.0, 13.0, 12.0, 11.0, 10.0, 9.0, 8.0, 7.0, 6.0, 5.0, 4.0, 3.0, 2.0, 1.0, -3.5049, -3.5176, -3.6077, -3.8763, -3.9112, -3.9427, -3.9443, -4.0354, -4.2454, -4.2812, -4.3106, -4.3515, -4.3822, -4.3963, -4.4059, -4.4979, -4.5311, -4.596, -4.6496, -4.6659, -4.7547, -4.7626, -4.7652, -4.7707, -4.7989, -4.8076, -4.8623, -4.981, -4.9891, -5.0382, -3.9307, -2.349, -3.8943, -3.7061, -3.8519, -3.6175, -4.5997, -1.5639, -2.5612, -3.166, -3.4518, -3.5611, -3.6558, -3.6817, -3.6993, -4.3316, -4.4555, -4.5215, -4.6635, -4.6973, -4.9588, -4.9659, -4.984, -5.1383, -5.1684, -5.2084, -5.2338, -5.2423, -5.2524, -5.2526, -5.4577, -5.4694, -5.4694, -5.5523, -5.5524, -5.6675, -5.7102, -4.1955, -2.924, -4.1748, -4.7957, -2.3281, -4.3749, -4.454, -4.504, -5.1112, -5.0851, -1.7595, -2.6958, -2.9465, -3.4783, -2.2823, -3.6654, -4.1187, -4.1187, -4.1187, -4.2239, -4.3851, -4.5546, -4.6969, -4.8205, -4.8679, -4.8759, -4.912, -4.9438, -4.9753, -4.9824, -4.9944, -5.0134, -5.102, -5.1029, -5.177, -3.181, -5.3494, -5.3502, -5.4289, -5.445, -3.4051, -4.445, -4.0303, -4.3963, -3.0006, -3.1295, -3.5539, -3.584, -3.6873, -3.7078, -3.8876, -3.9299, -4.1341, -4.1437, -4.2317, -4.2715, -4.3889, -4.5192, -4.5918, -4.6128, -4.632, -4.6896, -4.714, -4.7258, -4.7753, -4.9002, -4.9236, -4.9296, -4.9606, -5.0281, -5.0445, -5.1589, -5.1686, -5.2015, -2.656, -3.6635, -3.4133, -4.2651, -4.4668, -3.7298, -3.5232, -3.5953, -4.1346, -4.7637, -3.0879, -3.555, -3.9051, -3.9569, -4.0065, -4.143, -4.244, -4.2949, -4.3136, -4.3322, -4.3568, -4.3707, -4.3746, -4.4158, -4.4734, -4.6304, -4.7027, -4.7512, -4.7528, -4.7588, -4.7656, -4.8047, -4.8291, -4.8354, -4.8382, -4.8627, -4.875, -4.902, -4.929, -4.9734, -3.7846, -3.3314, -4.0449, -3.3724, -4.5394, -4.2076, -4.2993, -2.2926, -2.4625, -2.8881, -3.1671, -3.6512, -3.8554, -3.8785, -3.9039, -3.9192, -4.3549, -4.3564, -4.5423, -4.5753, -4.7244, -4.7841, -4.785, -5.0466, -5.1216, -5.1216, -5.1951, -5.2735, -5.3043, -5.3278, -5.3946, -5.4251, -5.4255, -5.4263, -5.5014, -5.5065, -5.5329, -4.0082, -4.2342, -3.479, -4.1667, -3.7523, -4.8289, -4.8151, -3.9715, -4.3644, -4.3734, -4.8621, -3.1554, -3.2603, -3.6213, -3.8208, -4.0361, -4.0477, -4.085, -4.1001, -4.1815, -4.1855, -4.1999, -4.2445, -4.2605, -4.4187, -4.4537, -4.4666, -4.4817, -4.5864, -4.5891, -4.6126, -4.7305, -4.7773, -4.8126, -4.8902, -4.8902, -4.8902, -4.8902, -4.8918, -4.9256, -4.9867, -4.5665, -3.7644, -4.3643, -4.498, -4.6853, -2.7321, -2.8253, -3.5271, -3.5628, -3.5783, -3.6823, -3.8652, -3.9747, -3.9773, -4.1281, -4.4786, -4.5001, -4.507, -4.5276, -4.5962, -4.6039, -4.6288, -4.6522, -4.6619, -4.6671, -4.6801, -4.6889, -4.6889, -4.6892, -4.6895, -4.6895, -4.8005, -4.9503, -4.9897, -5.0901, -4.5868, -4.4015, -3.5075, -4.419, -3.1742, -3.3898, -3.6666, -3.8799, -3.8807, -3.9903, -4.0244, -4.0302, -4.1923, -4.2506, -4.2521, -4.2571, -4.2602, -4.3918, -4.4019, -4.4843, -4.5265, -4.5285, -4.5479, -4.5587, -4.5698, -4.5713, -4.5713, -4.5746, -4.6201, -4.6435, -4.6436, -4.7646, -4.8518, -4.9875, -3.9181, -4.3375, -4.3656, -3.5652, -4.2658, -4.3129, -4.3233, -4.5325, -2.3743, -2.79, -3.1561, -3.3236, -3.5178, -3.6622, -3.8878, -3.9025, -3.9853, -4.1561, -4.3026, -4.4356, -4.4356, -4.5108, -4.6646, -4.6977, -4.8069, -4.8544, -4.8545, -4.8545, -4.8545, -4.8545, -5.0055, -5.0826, -5.1034, -5.1216, -5.122, -5.1671, -5.1734, -5.1766, -4.1603, -3.2715, -4.5542], \"loglift\": [30.0, 29.0, 28.0, 27.0, 26.0, 25.0, 24.0, 23.0, 22.0, 21.0, 20.0, 19.0, 18.0, 17.0, 16.0, 15.0, 14.0, 13.0, 12.0, 11.0, 10.0, 9.0, 8.0, 7.0, 6.0, 5.0, 4.0, 3.0, 2.0, 1.0, 1.782, 1.7819, 1.7813, 1.779, 1.7787, 1.7783, 1.7783, 1.7773, 1.7747, 1.7742, 1.7738, 1.7732, 1.7727, 1.7725, 1.7723, 1.7708, 1.7702, 1.769, 1.7679, 1.7676, 1.7656, 1.7654, 1.7654, 1.7652, 1.7646, 1.7644, 1.763, 1.7599, 1.7596, 1.7582, 1.7117, 1.1966, 1.5153, 1.4495, 1.0934, 0.8673, 1.1308, 2.0243, 2.0222, 2.0195, 2.0175, 2.0166, 2.0157, 2.0154, 2.0153, 2.0063, 2.0038, 2.0023, 1.9988, 1.9979, 1.9898, 1.9895, 1.9889, 1.9829, 1.9816, 1.9799, 1.9787, 1.9783, 1.9779, 1.9779, 1.9674, 1.9667, 1.9667, 1.9617, 1.9617, 1.9542, 1.9512, 1.8227, 1.6777, 1.7492, 1.8274, 1.2175, 1.5794, 1.2764, -0.0192, 1.1017, -0.2352, 2.072, 2.0699, 2.0688, 2.0652, 2.0652, 2.0635, 2.0576, 2.0576, 2.0576, 2.0558, 2.0526, 2.0488, 2.045, 2.0413, 2.0397, 2.0394, 2.0382, 2.0371, 2.0359, 2.0357, 2.0352, 2.0344, 2.0309, 2.0309, 2.0277, 2.0276, 2.0192, 2.0192, 2.0148, 2.0138, 1.6758, 1.8258, 0.5714, 0.5489, 2.0792, 2.0785, 2.0753, 2.075, 2.0739, 2.0737, 2.0715, 2.071, 2.0679, 2.0677, 2.0662, 2.0655, 2.0631, 2.0601, 2.0583, 2.0577, 2.0572, 2.0556, 2.0548, 2.0546, 2.0531, 2.0489, 2.0481, 2.0479, 2.0467, 2.0441, 2.0435, 2.0386, 2.0382, 2.0366, 1.9325, 1.705, 1.6136, 1.695, 1.7207, 1.12, 0.9616, 0.9104, 0.8106, 0.9913, 2.2053, 2.2015, 2.1971, 2.1964, 2.1956, 2.1932, 2.1913, 2.1902, 2.1898, 2.1894, 2.1888, 2.1885, 2.1884, 2.1874, 2.186, 2.1817, 2.1795, 2.1779, 2.1778, 2.1776, 2.1774, 2.1761, 2.1752, 2.1749, 2.1749, 2.174, 2.1735, 2.1725, 2.1714, 2.1696, 2.0448, 1.9314, 1.9285, 1.1333, 1.9122, 0.948, 0.1855, 2.2626, 2.262, 2.2593, 2.2582, 2.2535, 2.2508, 2.2504, 2.25, 2.2498, 2.2411, 2.2411, 2.2361, 2.2351, 2.2303, 2.2281, 2.2281, 2.2171, 2.2133, 2.2133, 2.2095, 2.205, 2.2032, 2.2017, 2.1975, 2.1954, 2.1954, 2.1951, 2.1901, 2.1897, 2.1877, 2.1874, 2.0933, 1.9904, 1.735, 1.2746, 1.8642, 1.7766, 0.8783, 0.7164, 0.1323, 1.0981, 2.4159, 2.4149, 2.4108, 2.4077, 2.4037, 2.4035, 2.4027, 2.4023, 2.4005, 2.4004, 2.4, 2.3989, 2.3985, 2.3941, 2.393, 2.3927, 2.3922, 2.3886, 2.3885, 2.3877, 2.3832, 2.3812, 2.3797, 2.3762, 2.3762, 2.3762, 2.3762, 2.376, 2.3745, 2.3714, 2.0471, 1.0855, 1.7281, 0.9714, 1.5276, 2.752, 2.7512, 2.7422, 2.7416, 2.7413, 2.7392, 2.7351, 2.7323, 2.7322, 2.7277, 2.7144, 2.7134, 2.7132, 2.7122, 2.7087, 2.7085, 2.7072, 2.706, 2.7055, 2.7052, 2.7045, 2.704, 2.704, 2.704, 2.704, 2.704, 2.6976, 2.6879, 2.6851, 2.6775, 2.5111, 2.406, 0.9982, 1.6733, 2.986, 2.9821, 2.9758, 2.9696, 2.9695, 2.9659, 2.9646, 2.9644, 2.9579, 2.9553, 2.9553, 2.955, 2.9549, 2.9484, 2.9479, 2.9434, 2.9409, 2.9408, 2.9396, 2.939, 2.9383, 2.938, 2.938, 2.938, 2.9351, 2.9335, 2.9335, 2.925, 2.9183, 2.9067, 2.8063, 2.7562, 2.4498, 1.0232, 2.139, 1.4421, 0.2784, 1.8771, 3.3111, 3.306, 3.2994, 3.2954, 3.29, 3.2853, 3.2764, 3.2757, 3.2719, 3.2629, 3.2541, 3.2449, 3.2449, 3.2392, 3.2262, 3.2232, 3.2125, 3.2075, 3.2075, 3.2075, 3.2075, 3.2075, 3.1901, 3.1803, 3.1775, 3.1751, 3.175, 3.1686, 3.1679, 3.1674, 2.9592, 2.4836, 2.1389]}, \"token.table\": {\"Topic\": [8, 6, 1, 2, 4, 9, 9, 5, 10, 7, 8, 6, 5, 6, 7, 4, 10, 5, 7, 3, 9, 5, 1, 1, 3, 4, 7, 7, 1, 8, 1, 4, 10, 10, 1, 1, 9, 3, 7, 4, 5, 4, 7, 8, 4, 5, 2, 4, 6, 7, 7, 2, 4, 7, 6, 4, 10, 2, 10, 1, 9, 3, 6, 6, 3, 9, 7, 8, 8, 8, 7, 2, 9, 3, 10, 3, 4, 6, 5, 5, 8, 4, 3, 9, 2, 8, 3, 9, 3, 10, 9, 6, 10, 10, 6, 9, 4, 7, 9, 10, 6, 4, 4, 9, 7, 5, 1, 1, 2, 8, 9, 6, 6, 7, 8, 6, 1, 10, 2, 7, 1, 3, 5, 5, 6, 5, 9, 4, 5, 8, 4, 1, 2, 4, 3, 8, 6, 5, 10, 1, 8, 5, 10, 2, 6, 9, 3, 4, 1, 10, 9, 1, 2, 6, 7, 3, 6, 1, 9, 2, 9, 1, 2, 5, 7, 1, 8, 7, 9, 10, 6, 8, 5, 3, 7, 9, 10, 4, 8, 10, 7, 5, 6, 8, 5, 8, 4, 8, 9, 6, 3, 4, 4, 1, 6, 9, 6, 7, 7, 2, 7, 3, 10, 7, 1, 2, 5, 1, 9, 6, 7, 2, 7, 5, 9, 9, 2, 3, 7, 1, 8, 9, 2, 9, 1, 8, 5, 8, 9, 1, 7, 8, 6, 3, 1, 6, 1, 3, 8, 2, 2, 3, 4, 9, 5, 6, 2, 1, 5, 10, 6, 4, 3, 9, 2, 4, 6, 3, 4, 9, 1, 9, 7, 5, 10, 10, 8, 4, 6, 6, 4, 2, 10, 2, 1, 2, 6, 8, 7, 2, 9, 7, 10, 5, 1, 5, 8, 10, 8, 4, 5, 7, 8, 6, 8, 5, 3, 1, 7, 2, 1, 3, 4, 8, 8, 3, 1, 2, 6, 6, 9, 2, 3, 10, 10, 2, 3, 3, 1, 3, 5, 3, 2, 3, 8, 4, 1, 10, 3, 9, 4, 5, 6, 7, 8, 10, 6, 1, 3, 4, 1, 3, 9, 9, 7, 6, 10, 4, 10, 2, 1, 3, 7, 1, 5, 1, 7, 7, 9, 7, 8, 9, 5, 2, 4, 5, 3, 4, 6, 3, 8, 4, 6, 5, 9, 8, 5, 10, 7, 6, 6, 4, 8, 3, 10, 8, 9, 2, 7, 5, 1, 2, 4, 5, 6, 4, 4, 2, 5, 9, 1, 2, 7, 4, 2, 4, 2, 2, 5, 7, 8, 9, 2, 4, 3], \"Freq\": [0.946365638976942, 0.9274379942542671, 0.9811700646565524, 0.9878286910225895, 0.5593249954253399, 0.4302499964810307, 0.9077822941710889, 0.9518568421991926, 0.9657744126688333, 0.9512977413980436, 0.9723850449013164, 0.9650932537672273, 0.754642969219167, 0.20962304700532416, 0.02794973960070989, 0.9798451247444555, 0.8560594765708043, 0.9734765405283702, 0.9629439367448325, 0.9756818111682412, 0.9409328951412469, 0.9580830975849697, 0.9881252726085022, 0.4998456187521996, 0.21993207225096784, 0.2799135465012318, 0.9853667009913261, 0.9599226834466268, 0.9662584725481951, 0.9251213848349267, 0.9709946213036467, 0.962265118546286, 0.9795097339327333, 0.8563088118013852, 0.9838171732643913, 0.9234740348617646, 0.07026432873948209, 0.956129920478539, 0.03902571103994037, 0.9721204643628854, 0.9842420133563716, 0.9506057985501651, 0.9919616014687224, 0.924638910944829, 0.9594548965085327, 0.9870328928396152, 0.10450555262077722, 0.3816724530497951, 0.24990458235403248, 0.2635357413915252, 0.9816820906183737, 0.9443999533847941, 0.9946487193340877, 0.9674667421131087, 0.9477746736472025, 0.984996650423849, 0.9731443459819799, 0.9650585267662442, 0.924572736053911, 0.9901477769866628, 0.9573315317022655, 0.9802310332638368, 0.9270981626171273, 0.9856461689533084, 0.9533135236843333, 0.9646278927089956, 0.9908343487034099, 0.9728918160341208, 0.9281184308793523, 0.965949250367537, 0.9759651502145895, 0.829664699547455, 0.16058026442853968, 0.9411981573773187, 0.890087393884317, 0.6697550191111926, 0.11448803745490471, 0.21180286929157374, 0.9485830007000222, 0.9836945335621508, 0.9742900071426169, 0.9645136704728767, 0.17138183385782071, 0.7712182523601933, 0.9688602793839006, 0.9248816403960853, 0.9677892863163687, 0.9088985107480387, 0.964366627140713, 0.8276370504573572, 0.903256921802197, 0.9347667816796117, 0.8818092435882013, 0.8650003911467132, 0.8363147759082241, 0.13938579598470402, 0.33700650860731923, 0.01123355028691064, 0.21343745545130216, 0.43810846118951496, 0.9441190349527551, 0.9836365213481428, 0.8570868300832677, 0.13993254368706412, 0.9674807521404635, 0.991027421467913, 0.9758994112491626, 0.9917074996964322, 0.9517958281074324, 0.9525022011686048, 0.9708009226926255, 0.9911203316051834, 0.585353408591932, 0.1951178028639773, 0.20812565638824249, 0.9982788925951208, 0.9811596805763455, 0.9025863157844225, 0.9859791635243298, 0.968935647776015, 0.9854121601459637, 0.9650840443882059, 0.9827217362208461, 0.9811771785050595, 0.9648781364493009, 0.9827893975244577, 0.9515899013708622, 0.9733965237823667, 0.979103222873538, 0.979396788696264, 0.9821491485022693, 0.5151633085506451, 0.47131962271654765, 0.9639461323638822, 0.9756818111682412, 0.962383267304113, 0.948635939648276, 0.967156192538822, 0.9585998035348122, 0.9886481701529989, 0.9576303553517512, 0.97129905928355, 0.9530357886135984, 0.05235754762152003, 0.9249833413135204, 0.9625593561173655, 0.9365348321814635, 0.9950593556881037, 0.9896661677508717, 0.924572736053911, 0.9770176603409425, 0.22614374618768965, 0.7582466783940183, 0.7598071755906657, 0.23638445462820712, 0.925879260297614, 0.9689946571387321, 0.965857228210151, 0.9733093865508335, 0.9654152367718832, 0.9338269083214702, 0.14205151444787936, 0.3906416647316682, 0.03551287861196984, 0.40839810403765314, 0.9633998195362902, 0.9251213848349267, 0.9797822310928341, 0.9329774015857721, 0.985005479065037, 0.9693558910837733, 0.9245716971711788, 0.9856056747528944, 0.9940878376760318, 0.14807080849712276, 0.8291965275838874, 0.9025562884502925, 0.9709265665879078, 0.9488608100454594, 0.9490203224814985, 0.9674667421131087, 0.1296768603131777, 0.622448929503253, 0.2593537206263554, 0.9712857683399507, 0.9877992268585405, 0.990525507240273, 0.9866226395477761, 0.97391937962364, 0.963711212676265, 0.2943109495126714, 0.692496351794521, 0.9597676182689867, 0.9763668935360822, 0.939157106769753, 0.982206337901151, 0.9270981626171273, 0.9488370431689074, 0.9616172568113467, 0.9634540373364372, 0.9708770233567722, 0.960416368529271, 0.8426296942471978, 0.9929045304852911, 0.34273392417306764, 0.6443397774453672, 0.9451941955062891, 0.6485278450868448, 0.3242639225434224, 0.9916463453186323, 0.9706138457506606, 0.9779209605805043, 0.980302081046761, 0.9488994912425315, 0.9319456040807498, 0.9520695504706471, 0.8184802567887999, 0.17538862645474285, 0.9674667421131087, 0.9833415375651708, 0.9192725169230846, 0.960086753587776, 0.9070755828424633, 0.9539795382811792, 0.9860586159433925, 0.9596917899800078, 0.8470936814958665, 0.07260802984250284, 0.07260802984250284, 0.22528102052165594, 0.032183002931665136, 0.708026064496633, 0.9796073632347382, 0.9468278723167656, 0.9776403212053566, 0.9433103200289722, 0.9741074813862423, 0.7714602710005719, 0.2069771458782022, 0.9333833164194298, 0.7054979475312959, 0.22334859645463137, 0.0035452158167401807, 0.06735910051806343, 0.9698711078788721, 0.944360773292853, 0.972903311268323, 0.7093807408399649, 0.283752296335986, 0.9026814043180366, 0.989449333157165, 0.9919549047686723, 0.9644269785259212, 0.9088985107480387, 0.9692259095365661, 0.6757885237662711, 0.3172068580943721, 0.22705575132439001, 0.16218267951742144, 0.5838576462627172, 0.9917744647134067, 0.9119095144643778, 0.9725283101358898, 0.9758612706459922, 0.8975324738620859, 0.9084878191502607, 0.9768927959620642, 0.6237011853033676, 0.3687972226141652, 0.9936338720575598, 0.9432223374993276, 0.9741132993376413, 0.9025863157844225, 0.9984874533559048, 0.5536314520238118, 0.4463576517430287, 0.9168142745955908, 0.9420987010295221, 0.9687894929066183, 0.9654152367718832, 0.9527915904852658, 0.26378463062310836, 0.7034256816616223, 0.9459928318312278, 0.24031999249703387, 0.7552914049906779, 0.9601247057544702, 0.9654230243135216, 0.9678520105759311, 0.6868937390836292, 0.15264305312969537, 0.04579291593890861, 0.11448228984727152, 0.17210825369059699, 0.7744871416076864, 0.9709367110617905, 0.9910485318040152, 0.9893105287975289, 0.982830606413852, 0.9547679799865395, 0.9804878445978801, 0.9756818111682412, 0.9911403188966577, 0.9603737792767074, 0.9937623356713637, 0.9587684702042897, 0.9734000870497501, 0.9960649229519069, 0.9624004586369396, 0.9436254657185335, 0.9586497481314303, 0.9955330856517361, 0.9727740128017656, 0.8950766217134324, 0.9624409742657233, 0.9924583114840787, 0.9783060888887349, 0.9871260513523145, 0.9716064933138989, 0.24799214741982886, 0.7439764422594866, 0.997748226378757, 0.9859550976681442, 0.9971069465041579, 0.9844738156137199, 0.9859712713559069, 0.9892428222985624, 0.9324975990215848, 0.9573973764915483, 0.9356067285375593, 0.30917758763840186, 0.3413835863507354, 0.11916219523563405, 0.057970797682200356, 0.1706917931753677, 0.9025714056265884, 0.9354878125907886, 0.7634581787039612, 0.12724302978399352, 0.10338496169949474, 0.9655398134609453, 0.9513495047776913, 0.9647057560669338, 0.9701232707051505, 0.945684620426984, 0.6601151578165756, 0.3157072493905361, 0.9897935955272374, 0.9508074870859736, 0.9132705472415895, 0.9893017840176251, 0.9708874948728964, 0.983200662959292, 0.9878081892709774, 0.979060880557566, 0.986233780306999, 0.9755421489050631, 0.947944774878664, 0.9268739825209941, 0.6892372283322915, 0.05301824833325319, 0.26509124166626596, 0.9706958875265612, 0.9418703345764524, 0.9751584101363352, 0.9566922354286482, 0.9568696414807509, 0.9405128325909583, 0.9980854776617819, 0.9925793434343738, 0.005499054534262459, 0.9675621519328074, 0.9876774415151021, 0.9795385904866302, 0.9674826144731766, 0.9629798749058959, 0.9827997415729398, 0.9025780168407717, 0.9674667421131087, 0.9681844750482288, 0.9072946064571995, 0.994541111203266, 0.9627916730175354, 0.984914847673719, 0.9862264133904208, 0.924638910944829, 0.9031265812449139, 0.9920285564457484, 0.9536893609721077, 0.9899820884424115, 0.39739581321894435, 0.12931133604743428, 0.3248553076313593, 0.13246527107298145, 0.01261574010218871, 0.953609837584753, 0.9697832877582877, 0.9332170627443813, 0.9659299177948537, 0.9784021900051764, 0.9547362387905414, 0.9131818985064637, 0.9705880842204642, 0.9919529330140998, 0.9701390820087092, 0.9480906168035248, 0.9491997928746535, 0.9768431666418574, 0.9666369109370648, 0.5037051168957201, 0.3305564829628163, 0.15740784902991253, 0.9915350082840056, 0.9528677238630187, 0.9594940426870473], \"Term\": [\"able\", \"account\", \"accumulate\", \"accumulation\", \"across\", \"across\", \"adapt\", \"addition\", \"address\", \"advance\", \"agility\", \"allow\", \"also\", \"also\", \"also\", \"among\", \"ample\", \"analysis\", \"analyst\", \"anddigital\", \"answer\", \"anywhere\", \"app\", \"application\", \"application\", \"application\", \"apply\", \"approach\", \"april\", \"assign\", \"august\", \"available\", \"back\", \"backdownload\", \"baht\", \"bangchak\", \"bangchak\", \"bank\", \"bank\", \"become\", \"benefit\", \"bind\", \"bonus\", \"boost\", \"bring\", \"build\", \"business\", \"business\", \"business\", \"business\", \"businesses\", \"call\", \"campaign\", \"cannot\", \"capabilities\", \"card\", \"cardholders\", \"cardx\", \"cart\", \"cash\", \"cater\", \"ceo\", \"chatbots\", \"chief\", \"class\", \"client\", \"clients\", \"cloud\", \"co_ltd\", \"collaborate\", \"collaboration\", \"combine\", \"combine\", \"come\", \"committee\", \"company\", \"company\", \"company\", \"competitive\", \"comprehensive\", \"compute\", \"concept\", \"confirm\", \"confirm\", \"consolidate\", \"construct\", \"consult\", \"consultation\", \"consumers\", \"contain\", \"continuously\", \"corporate\", \"could\", \"countries\", \"create\", \"create\", \"credit\", \"credit\", \"credit\", \"credit\", \"cross_sector\", \"customer\", \"customers\", \"customers\", \"cybersecurity\", \"data\", \"day\", \"deal\", \"delivery\", \"deploy\", \"design\", \"develop\", \"development\", \"development\", \"development\", \"digital\", \"discount\", \"dlt\", \"download\", \"drive\", \"earn\", \"easy\", \"ecosystem\", \"edge\", \"ekyc\", \"elevate\", \"empower\", \"enable\", \"end\", \"engineer\", \"enhance\", \"enjoy\", \"enjoy\", \"ensure\", \"enter_joint_venture\", \"enterprise\", \"enterprises\", \"essential\", \"even\", \"every\", \"evolve\", \"exchange\", \"excite\", \"executive\", \"executive\", \"exist\", \"expect\", \"experience\", \"extra\", \"extravagant_add\", \"feature\", \"february\", \"february\", \"financial\", \"financial\", \"find\", \"fintech\", \"first\", \"fit\", \"flash_deals_special\", \"focus\", \"follow\", \"follow\", \"follow\", \"follow\", \"food\", \"foundations\", \"future\", \"generation\", \"get\", \"global\", \"go\", \"great\", \"group\", \"grow\", \"grow\", \"hedera\", \"help\", \"hold\", \"identity_verification\", \"ignore\", \"include\", \"include\", \"include\", \"industries\", \"industry\", \"information\", \"infrastructure\", \"infrastructures\", \"innovations\", \"innovative\", \"innovative\", \"instantly\", \"instead\", \"institutions\", \"integrate\", \"intelligent\", \"internship\", \"interview\", \"introduce\", \"issue\", \"join\", \"joint\", \"july\", \"june\", \"june\", \"know\", \"launch\", \"launch\", \"lead\", \"learn\", \"let\", \"level\", \"life\", \"lifestyle\", \"lifestyles\", \"like\", \"like\", \"likewise\", \"limit\", \"linkedin\", \"loan\", \"logo\", \"long_term\", \"make\", \"manage\", \"management\", \"management\", \"management\", \"march\", \"march\", \"march\", \"market\", \"message\", \"mobile\", \"model\", \"month\", \"mr\", \"mr\", \"mr_trirat_suwanprateeb\", \"new\", \"new\", \"new\", \"new\", \"non\", \"note\", \"number\", \"offer\", \"offer\", \"office\", \"officer\", \"one\", \"open\", \"optimal\", \"organizations\", \"partner\", \"partner\", \"partnership\", \"partnership\", \"partnership\", \"pay\", \"people\", \"period\", \"personal\", \"phase\", \"pilot\", \"place\", \"platform\", \"platform\", \"platforms\", \"please\", \"please_contact\", \"poc\", \"point\", \"pointx\", \"pointx\", \"position\", \"power\", \"precise\", \"priced_items\", \"procedures\", \"process\", \"process\", \"product\", \"products\", \"products\", \"professional\", \"program\", \"promotion\", \"provide\", \"provide\", \"provide\", \"provide\", \"providers\", \"providers\", \"public\", \"publicis\", \"purchase\", \"qa_engineer\", \"rat\", \"rate\", \"reach_agreement\", \"ready\", \"reason\", \"receive\", \"recently\", \"redeem\", \"redemption\", \"region\", \"regional\", \"retail\", \"reward\", \"role\", \"roles\", \"roll\", \"round\", \"sapient\", \"say\", \"scan\", \"scan_qr_code\", \"scan_qr_code\", \"scb\", \"scb_call_center\", \"scbx\", \"security\", \"see\", \"select\", \"selection\", \"senior\", \"serve\", \"service\", \"service\", \"service\", \"service\", \"service\", \"settlement\", \"share\", \"shop\", \"shop\", \"shop\", \"shoppers\", \"siam_commercial\", \"sign\", \"simply\", \"software_engineer\", \"solution\", \"solution\", \"solutions\", \"source\", \"speak\", \"special\", \"specialize\", \"speed\", \"spend\", \"step\", \"store\", \"success\", \"support\", \"survey\", \"system\", \"system\", \"system\", \"systems\", \"tax\", \"team\", \"technical\", \"technological_capabilities\", \"technologies\", \"technology\", \"techx\", \"techx\", \"term\", \"thailand\", \"thats\", \"therefore\", \"three\", \"time\", \"times_per\", \"topic\", \"traditional\", \"transaction\", \"transfer\", \"transform\", \"transformation\", \"two\", \"undergo\", \"unique\", \"unlimited\", \"unlock\", \"us\", \"use\", \"use\", \"use\", \"use\", \"use\", \"user\", \"users\", \"valid\", \"value\", \"variety\", \"via\", \"vice_president\", \"virtual_interview\", \"visit\", \"wallet\", \"way\", \"wealth\", \"website\", \"without\", \"work\", \"work\", \"work\", \"world\", \"year\", \"years\"]}, \"R\": 30, \"lambda.step\": 0.01, \"plot.opts\": {\"xlab\": \"PC1\", \"ylab\": \"PC2\"}, \"topic.order\": [6, 8, 3, 2, 4, 9, 10, 7, 1, 5]};\n",
       "\n",
       "function LDAvis_load_lib(url, callback){\n",
       "  var s = document.createElement('script');\n",
       "  s.src = url;\n",
       "  s.async = true;\n",
       "  s.onreadystatechange = s.onload = callback;\n",
       "  s.onerror = function(){console.warn(\"failed to load library \" + url);};\n",
       "  document.getElementsByTagName(\"head\")[0].appendChild(s);\n",
       "}\n",
       "\n",
       "if(typeof(LDAvis) !== \"undefined\"){\n",
       "   // already loaded: just create the visualization\n",
       "   !function(LDAvis){\n",
       "       new LDAvis(\"#\" + \"ldavis_el9970112072861604339714719\", ldavis_el9970112072861604339714719_data);\n",
       "   }(LDAvis);\n",
       "}else if(typeof define === \"function\" && define.amd){\n",
       "   // require.js is available: use it to load d3/LDAvis\n",
       "   require.config({paths: {d3: \"https://d3js.org/d3.v5\"}});\n",
       "   require([\"d3\"], function(d3){\n",
       "      window.d3 = d3;\n",
       "      LDAvis_load_lib(\"https://cdn.jsdelivr.net/gh/bmabey/pyLDAvis@3.4.0/pyLDAvis/js/ldavis.v3.0.0.js\", function(){\n",
       "        new LDAvis(\"#\" + \"ldavis_el9970112072861604339714719\", ldavis_el9970112072861604339714719_data);\n",
       "      });\n",
       "    });\n",
       "}else{\n",
       "    // require.js not available: dynamically load d3 & LDAvis\n",
       "    LDAvis_load_lib(\"https://d3js.org/d3.v5.js\", function(){\n",
       "         LDAvis_load_lib(\"https://cdn.jsdelivr.net/gh/bmabey/pyLDAvis@3.4.0/pyLDAvis/js/ldavis.v3.0.0.js\", function(){\n",
       "                 new LDAvis(\"#\" + \"ldavis_el9970112072861604339714719\", ldavis_el9970112072861604339714719_data);\n",
       "            })\n",
       "         });\n",
       "}\n",
       "</script>"
      ],
      "text/plain": [
       "PreparedData(topic_coordinates=              x         y  topics  cluster       Freq\n",
       "topic                                                \n",
       "5     -0.290689  0.108397       1        1  16.719114\n",
       "7     -0.305277  0.027804       2        1  13.192491\n",
       "2     -0.045961 -0.398084       3        1  12.570399\n",
       "1      0.058823  0.019101       4        1  12.434667\n",
       "3      0.043349  0.151301       5        1  10.949949\n",
       "8      0.149864  0.014750       6        1  10.374636\n",
       "9      0.133667  0.043595       7        1   8.851225\n",
       "6      0.133800  0.048923       8        1   6.328677\n",
       "0      0.047617 -0.022675       9        1   4.967797\n",
       "4      0.074806  0.006887      10        1   3.611044, topic_info=          Term        Freq       Total Category  logprob  loglift\n",
       "1132     point  777.000000  777.000000  Default  30.0000  30.0000\n",
       "18         scb  609.000000  609.000000  Default  29.0000  29.0000\n",
       "869     pointx  811.000000  811.000000  Default  28.0000  28.0000\n",
       "834      techx  363.000000  363.000000  Default  27.0000  27.0000\n",
       "448    digital  295.000000  295.000000  Default  26.0000  26.0000\n",
       "...        ...         ...         ...      ...      ...      ...\n",
       "1782     roles    5.750574    6.703337  Topic10  -5.1734   3.1679\n",
       "1907     phase    5.732428    6.684995  Topic10  -5.1766   3.1674\n",
       "75     process   15.838060   22.745829  Topic10  -4.1603   2.9592\n",
       "115     credit   38.522693   89.019052  Topic10  -3.2715   2.4836\n",
       "858   solution   10.681509   34.842405  Topic10  -4.5542   2.1389\n",
       "\n",
       "[399 rows x 6 columns], token_table=      Topic      Freq          Term\n",
       "term                               \n",
       "149       8  0.946366          able\n",
       "200       6  0.927438       account\n",
       "1747      1  0.981170    accumulate\n",
       "1124      2  0.987829  accumulation\n",
       "1152      4  0.559325        across\n",
       "...     ...       ...           ...\n",
       "616       8  0.330556          work\n",
       "616       9  0.157408          work\n",
       "1151      2  0.991535         world\n",
       "1681      4  0.952868          year\n",
       "1304      3  0.959494         years\n",
       "\n",
       "[415 rows x 3 columns], R=30, lambda_step=0.01, plot_opts={'xlab': 'PC1', 'ylab': 'PC2'}, topic_order=[6, 8, 3, 2, 4, 9, 10, 7, 1, 5])"
      ]
     },
     "execution_count": 37,
     "metadata": {},
     "output_type": "execute_result"
    }
   ],
   "source": [
    "corpus_topic(preprocess_text(techx_corpus))"
   ]
  },
  {
   "cell_type": "code",
   "execution_count": 38,
   "metadata": {},
   "outputs": [
    {
     "name": "stdout",
     "output_type": "stream",
     "text": [
      "\n",
      "Perplexity:  -5.002372597595141\n",
      "Coherence Score:  0.6499014154296792\n"
     ]
    },
    {
     "data": {
      "text/html": [
       "\n",
       "<link rel=\"stylesheet\" type=\"text/css\" href=\"https://cdn.jsdelivr.net/gh/bmabey/pyLDAvis@3.4.0/pyLDAvis/js/ldavis.v1.0.0.css\">\n",
       "\n",
       "\n",
       "<div id=\"ldavis_el997011207286832984431263\" style=\"background-color:white;\"></div>\n",
       "<script type=\"text/javascript\">\n",
       "\n",
       "var ldavis_el997011207286832984431263_data = {\"mdsDat\": {\"x\": [-0.24099544595589822, 0.1616585150277252, -0.16002163876279174, -0.0025936590301248695, 0.28738709019073827, 0.03368999604366269, -0.13151025518459314, -0.06454955189329467, 0.12744297456511708, -0.0105080250005413], \"y\": [0.122343577839307, 0.11144076433177873, -0.22334102951781096, 0.12830155408201188, 0.0026851064660005828, -0.18229594946170438, 0.15208861529533343, -0.11421819287475012, -0.042825994579198785, 0.04582154841903165], \"topics\": [1, 2, 3, 4, 5, 6, 7, 8, 9, 10], \"cluster\": [1, 1, 1, 1, 1, 1, 1, 1, 1, 1], \"Freq\": [24.80411694153575, 15.054724365811806, 11.417325245955231, 10.357152562085545, 9.180921940375647, 8.844756019304281, 8.638765912016403, 4.5463013517454725, 4.047838491699905, 3.108097169469957]}, \"tinfo\": {\"Term\": [\"special\", \"score\", \"june\", \"point\", \"use\", \"robinhood\", \"receive\", \"july\", \"apply\", \"gallery\", \"products\", \"bank\", \"customers\", \"promotion\", \"round\", \"condition\", \"account\", \"cannot\", \"discount\", \"chill\", \"scan\", \"website\", \"eveandboy\", \"period\", \"pay\", \"day\", \"maximum\", \"wash\", \"exchange\", \"next\", \"june\", \"july\", \"round\", \"august\", \"download\", \"applications\", \"set\", \"accumulation\", \"apply\", \"customers\", \"shop\", \"larger\", \"manage\", \"common\", \"image\", \"view\", \"commercial\", \"siam\", \"customersand\", \"accord\", \"online\", \"question\", \"enter\", \"th\", \"week\", \"score\", \"receive\", \"special\", \"accumulate\", \"goods\", \"management\", \"point\", \"use\", \"transfer\", \"privilege\", \"account\", \"bank\", \"call\", \"tel\", \"promotions\", \"pointx\", \"cash\", \"thingsand\", \"baht\", \"information\", \"rule\", \"pointsin\", \"comply\", \"orreturn\", \"qualifications\", \"suspend\", \"incorrector\", \"friday\", \"decision\", \"make\", \"another\", \"sales\", \"person\", \"food\", \"discount\", \"please\", \"unless\", \"minimum\", \"code\", \"normal\", \"order\", \"transaction\", \"transfer\", \"scb\", \"condition\", \"exchange\", \"use\", \"specify\", \"privilege\", \"necessity\", \"customer\", \"cannot\", \"right\", \"cancel\", \"scan\", \"eveandboy\", \"day\", \"maximum\", \"wash\", \"everyday\", \"year\", \"sale\", \"car\", \"premium\", \"mid\", \"hythak\", \"hi\", \"return\", \"full\", \"wednesday\", \"include\", \"reconcile\", \"gallery\", \"system\", \"amount\", \"pay\", \"every\", \"calculate\", \"line\", \"man\", \"facebook\", \"onlythe\", \"inquire\", \"benefitsand\", \"point\", \"receive\", \"code\", \"minimum\", \"promotion\", \"period\", \"throughout\", \"accordance\", \"delete\", \"never\", \"user\", \"back\", \"respectively\", \"must\", \"meet\", \"per\", \"application\", \"card\", \"list\", \"collection\", \"eligible\", \"end\", \"credit\", \"term\", \"service\", \"within\", \"specify\", \"limit\", \"channel\", \"entitle\", \"summary\", \"users\", \"give\", \"purple\", \"first\", \"total\", \"privilege\", \"september\", \"condition\", \"right\", \"reserve\", \"point\", \"cancel\", \"customers\", \"exchange\", \"apply\", \"code\", \"robinhood\", \"discount\", \"damage\", \"inform\", \"advanceand\", \"hold\", \"dispute\", \"notify\", \"promotionwhich\", \"specifications\", \"advanceunless\", \"benefit\", \"possible\", \"responsible\", \"import\", \"advance\", \"involve\", \"lose\", \"therefore\", \"distribution\", \"contact\", \"arise\", \"servicesin\", \"reason\", \"cannot\", \"event\", \"change\", \"case\", \"bank\", \"center\", \"canceledthe\", \"complete\", \"reserve\", \"detail\", \"cancel\", \"necessity\", \"right\", \"days\", \"service\", \"products\", \"condition\", \"technology\", \"policy\", \"cookie\", \"new\", \"agreement\", \"experience\", \"cookies\", \"tech\", \"create\", \"world\", \"privacy\", \"copyright\", \"similar\", \"better\", \"read\", \"us\", \"websiteplease\", \"value\", \"great\", \"operation\", \"esb\", \"website\", \"company\", \"follow\", \"detail\", \"management\", \"highest\", \"message\", \"good\", \"join\", \"use\", \"limit\", \"bank\", \"point\", \"store\", \"date\", \"bring\", \"easy\", \"via\", \"buy\", \"spend\", \"choose\", \"compensation\", \"deal\", \"feature\", \"number\", \"october\", \"periodfrom\", \"pull\", \"remain\", \"unable\", \"item\", \"process\", \"payment\", \"customer\", \"page\", \"app\", \"rate\", \"month\", \"months\", \"receivedwith\", \"drink\", \"exchange\", \"check\", \"pay\", \"score\", \"application\", \"special\", \"scb\", \"point\", \"limit\", \"receive\", \"right\", \"chill\", \"rd\", \"continue\", \"happiness\", \"category\", \"categories\", \"robinhood\", \"mart\", \"travel\", \"dee\", \"app\", \"pro\", \"program\", \"gallery\", \"use\", \"receive\", \"forused\", \"periodand\", \"plane\", \"promote\", \"ticket\", \"book\", \"salesand\", \"deduct\", \"expenditure\", \"september\", \"sunday\", \"mobile\", \"holiday\", \"fee\", \"food\", \"point\", \"application\", \"lifespan\", \"next\", \"time\", \"email\", \"browser\", \"comment\", \"name\", \"save\", \"today\", \"promotional\", \"campaignthe\", \"holidaysor\", \"last\", \"schedule\", \"scheduleon\", \"jun\", \"term\", \"tomorrow\", \"expense\", \"deposit\", \"tie\", \"result\", \"periods\", \"lifespan\", \"sep\", \"case\", \"website\", \"jul\", \"refund\", \"rat\", \"condition\", \"bank\", \"special\", \"pay\", \"point\", \"baht\", \"back\", \"aug\", \"hrs\", \"appx\", \"free\", \"spendor\", \"useget\", \"products\", \"lifetime\", \"qr\", \"cause\", \"september\", \"account\", \"directly\", \"provider\", \"oct\", \"disconnect\", \"stop\", \"shopee\", \"damageif\", \"cardholder\", \"doubtsplease\", \"sep\", \"problems\", \"participate\", \"payment\", \"spend\", \"channel\", \"service\", \"deduct\", \"expenditure\", \"order\", \"special\", \"receive\", \"score\", \"point\", \"line\", \"man\"], \"Freq\": [82.0, 68.0, 55.0, 196.0, 56.0, 19.0, 64.0, 45.0, 55.0, 26.0, 14.0, 30.0, 44.0, 19.0, 33.0, 37.0, 14.0, 21.0, 28.0, 11.0, 16.0, 15.0, 15.0, 14.0, 23.0, 14.0, 14.0, 14.0, 25.0, 8.0, 55.192986371235165, 45.05480506646887, 33.24938040792155, 17.85414350118678, 9.322082847742307, 8.76963588111453, 6.230694510814839, 6.230689729907707, 47.57075266391594, 37.64758787651611, 3.3667434879834586, 3.1392216115924696, 3.1392216115924696, 3.139220117558991, 3.1392192211389034, 3.1392186235255117, 2.683917598178479, 2.683917000565087, 2.683916701758392, 2.4555273895295926, 2.22791049260935, 3.139288544292321, 2.0007713875956377, 2.0007713875956377, 2.0007713875956377, 48.16890629795495, 42.572797128753756, 53.02097245197608, 3.451716642092066, 1.0575970166094535, 6.230687339454141, 95.69351842713739, 20.205923114299363, 6.112001319895674, 8.374929566795295, 5.245951347540398, 3.052016670273182, 8.273011129471698, 6.795020752432551, 6.794321431724512, 6.509286581102887, 6.3021171739647714, 6.301845135307598, 11.768844981627307, 5.8095034073464324, 5.8092814238021795, 5.3165991034422335, 5.3165671842397915, 5.316538529501236, 5.3165356277555595, 5.316502983116699, 5.31636079757855, 5.312443803633469, 4.824000208270487, 4.822998743293881, 4.822989312620432, 4.821991474825922, 4.819712153597022, 5.862791427668099, 23.337723414322017, 6.32394483037991, 5.088175860096509, 3.533221031606411, 11.030901313197258, 1.5784734771982232, 4.009401849740455, 1.0890161751190623, 8.802534012940633, 7.97644111434952, 14.358816946544502, 10.84886247449057, 11.90878964667768, 7.768047170535916, 8.388491902159824, 6.239306712487423, 6.4650530954465655, 6.5995468312436145, 6.719916319960244, 5.630779087638739, 15.74323205755525, 15.236977002848535, 13.447798208236904, 13.313668611003395, 13.313632300283881, 12.993108776538813, 12.99309887361531, 12.993094472315974, 12.993092271666308, 12.993092271666308, 12.99309007101664, 6.5302166259081655, 6.5302166259081655, 9.946244392733872, 3.2730906194604854, 3.137717655164845, 3.135897717889831, 2.631999558976999, 20.738326090364822, 2.699822756485412, 1.02885612252173, 13.978509082698434, 7.3490459075985575, 0.7079619268482937, 2.9526045067597644, 2.6320122127125867, 0.3878413283032821, 0.3877017589751518, 0.38751291572556035, 0.38702708792631085, 26.84484943514149, 6.904656066506736, 1.4688010639070344, 0.7083299167348793, 18.512733125211113, 13.938293870085904, 9.71821773083418, 8.909584415257866, 3.505456315844375, 3.505456315844375, 3.505456315844375, 4.700164053425118, 2.4763198754169764, 5.187858389014024, 5.277321303762437, 6.87101007473968, 8.27013096779775, 1.2640254387318084, 0.8814198463349207, 0.8813570874940966, 0.8813504123489989, 0.8813328199105175, 1.2037121963947337, 5.162166441763241, 7.612072456106357, 0.8813164127781747, 8.862251023755336, 7.18465854858984, 0.758240648929476, 0.48254845375626176, 0.48254845375626176, 0.48254842256399494, 0.48254817302586045, 0.48250746711767184, 1.9808928521165057, 1.3853082086996658, 10.320181567121113, 2.219507205230711, 12.77940583448234, 8.163624598463695, 5.901109745291832, 35.687778152541625, 4.454399933681515, 6.565200092770108, 4.542884658942729, 6.927195082948826, 2.472997275156247, 2.0100397796083644, 2.1071227156006196, 7.0638920563883865, 6.869210533203533, 5.940248842626469, 5.9402121236190055, 5.940209026835244, 5.940186464553549, 5.475886559916252, 5.475885232723211, 5.475878154360327, 5.475668457859873, 4.082035248594075, 1.9552825022502864, 1.955286483829409, 1.9552873686247696, 1.9552789630688443, 1.955275423887402, 1.9552716635071197, 1.9552663547349562, 5.933698702572215, 1.4909289568942556, 1.4909220997302113, 1.4909175651539883, 14.290377647415418, 8.132440832638716, 8.075638740081242, 5.848212429220623, 18.68611355191595, 4.9766500680694135, 1.0264905817830305, 1.0264905817830305, 8.83107171015845, 5.470990102390893, 7.326690877599284, 5.532220595727989, 8.380195035936268, 4.814822323815335, 5.170617119000611, 3.4894024128722037, 3.19528625987415, 10.651133538042448, 10.651117342481294, 10.651115637685383, 8.704811518844513, 5.366443512975231, 5.366441381980342, 5.366438398587498, 5.36643797238852, 5.3664371199905645, 5.366435415194654, 5.366434562796698, 5.366433710398743, 5.36643243180181, 5.366432005602832, 5.3664298746079435, 5.3664298746079435, 5.366426465016121, 5.366386828511192, 4.977250113885333, 4.198981372822369, 5.755812506043952, 10.750421704292195, 5.755560622448114, 5.3664392509854535, 5.366433710398743, 5.36645672514354, 0.46991559202155037, 0.4695614206710574, 0.46955470803715815, 0.46954341376424835, 17.10328826045639, 5.412207906805835, 5.3664903948627805, 11.193291028836285, 10.81132769404139, 8.169893957968759, 5.486497404967782, 4.713082968207858, 8.030275990806414, 3.4399263321131515, 8.821612645688603, 2.787214208857729, 2.787214208857729, 2.787214208857729, 2.787214208857729, 2.787214208857729, 2.787214208857729, 2.787214208857729, 2.787214208857729, 2.787214208857729, 2.787214208857729, 1.9716444289028738, 1.3414073016673151, 2.3981814813139257, 8.485839343850332, 0.9790625651975141, 4.197454750173514, 2.760131278766597, 0.38561731157458695, 0.38561731157458695, 0.38561731157458695, 0.384709055903441, 8.988705463979896, 1.1990980254346173, 7.0640613798217515, 19.11447397232143, 4.287262321645006, 18.977460209102343, 3.790179898700158, 17.03897338230849, 3.329439566381898, 5.648833887860157, 2.8728463539141296, 10.412646685348056, 6.069839636411019, 5.249427302093546, 5.249426425809798, 5.249426425809798, 5.249440008207891, 16.763257273721734, 2.5469428112038837, 1.7276026100520208, 0.9071054405141995, 5.504656335371117, 0.496648710971285, 0.496648710971285, 5.249462353443464, 6.506273195216673, 6.019536567860262, 0.08664663577421809, 0.0866465604685835, 0.08664653993068316, 0.08664661523631775, 0.086646670004052, 0.08664656731455028, 0.0866467042338859, 0.08653375947393599, 0.08653375947393599, 0.5016876163606374, 0.0862476528302321, 0.0862476528302321, 0.0862476528302321, 0.0862476528302321, 0.601209571395006, 5.6134776326096105, 0.5418422237555112, 0.08673614678987727, 7.764877565262959, 4.712453950836698, 4.393861588415651, 4.393861588415651, 4.393861588415651, 4.393861588415651, 4.393861588415651, 3.1186867702950583, 3.1181919241523732, 2.8005397108869197, 2.8005397108869197, 2.8005397108869197, 2.8005397108869197, 2.8005397108869197, 0.7041724977467919, 4.336990756673269, 0.38555238922255247, 0.3855114039857642, 0.3852709052494888, 0.38527014942418214, 0.3850856549049814, 0.38508446021336773, 0.38442579503083724, 0.7040765810772353, 2.8638191610227035, 4.312572235347785, 0.3855576556182373, 0.6995655230697655, 0.38555672912270017, 4.516840509931663, 2.6408023227490194, 3.2363959802474436, 0.7181103552672443, 0.800360679258828, 0.40485536296549807, 0.38555226731524495, 3.8236264142033876, 3.8229021326469015, 2.6267745060314907, 2.6267745060314907, 2.6267745060314907, 2.6267745060314907, 10.34889192771319, 1.5480886245866137, 2.4134109843191145, 0.6606574804811431, 2.5176922520430947, 6.1128560607047655, 0.641311404902987, 0.6412849707229374, 0.3617599912584207, 0.3617583812446216, 0.3617583812446216, 0.36173134798967005, 0.36167320028199723, 0.3616666104580755, 0.3616658616144481, 0.6607353602183996, 0.6034487103906385, 0.41107100714748296, 0.5848509916915915, 1.4607108542967182, 0.1543545221808956, 1.318354931871635, 0.06282266355471698, 0.06282266355471698, 0.3672166650030464, 4.742101994150939, 2.6225663043825778, 1.1168957773051003, 0.9322624650884818, 0.36802294493674, 0.36802264539928903], \"Total\": [82.0, 68.0, 55.0, 196.0, 56.0, 19.0, 64.0, 45.0, 55.0, 26.0, 14.0, 30.0, 44.0, 19.0, 33.0, 37.0, 14.0, 21.0, 28.0, 11.0, 16.0, 15.0, 15.0, 14.0, 23.0, 14.0, 14.0, 14.0, 25.0, 8.0, 55.9101504722436, 45.79557358786383, 33.96730837155269, 18.571399082416153, 10.039385180034635, 9.489213434659778, 6.947857481607149, 6.947860649648424, 55.13304975884297, 44.904179530684736, 4.084017033837028, 3.856372528874671, 3.8563732083402034, 3.856373527492005, 3.8563749745690523, 3.8563750172134452, 3.401062794871331, 3.401063182992755, 3.4010633529512933, 3.173290499425091, 2.9455369146403525, 4.174810664591679, 2.7179435340980147, 2.7179435340980147, 2.7179435340980147, 68.99035185942961, 64.20337493939284, 82.02824644963715, 5.463362755404705, 2.051762730286394, 12.232606030701811, 196.74041596027595, 56.202871636787584, 15.537862919028427, 27.613832255852103, 14.391497099515615, 30.5144516053577, 8.934764853655794, 7.4565826684307925, 7.45638029350726, 7.170838836688142, 6.963776451916828, 6.963764089170916, 13.057186078785, 6.471036701617602, 6.470973798648279, 5.9782315635980625, 5.978239076053847, 5.978208020315537, 5.978232777923574, 5.978217125524885, 5.978207611708715, 5.974291442887081, 5.485503586504016, 5.484751343978421, 5.484745513830535, 5.484388264285457, 5.482845013271218, 7.052420961930255, 28.09717146915444, 7.8940327193669315, 6.427850402746983, 4.844822343683429, 15.494390508678354, 2.241462406660374, 5.927611634394838, 1.7504328133328135, 15.537862919028427, 14.65700599885075, 37.46338914564156, 25.65599690249651, 56.202871636787584, 19.272440307315268, 27.613832255852103, 12.337522850530847, 15.546190452126224, 21.454173874927616, 26.5500267096485, 17.892125570584795, 16.441033441350015, 15.934742298904919, 14.14595155576666, 14.01129319075415, 14.011291782478619, 13.690708952912566, 13.690711986905015, 13.690712279773196, 13.690714645077902, 13.690715025313434, 13.690715571523715, 7.227816332835435, 7.227816543383235, 11.732493720171517, 3.970767385503482, 3.8357322416902613, 3.834692209608733, 3.329621873323932, 26.59917780946765, 3.9360810603468996, 1.7266253248080363, 23.514255537483216, 12.488541828536006, 1.4058024835322755, 7.393809311148631, 7.073225395373976, 1.085440667158938, 1.085368111280964, 1.0852907619489525, 1.0852195998136933, 196.74041596027595, 64.20337493939284, 15.494390508678354, 4.844822343683429, 19.22817819331066, 14.620258174594301, 10.400603237145626, 9.59944215523241, 4.18664834361415, 4.18664834361415, 4.18664834361415, 5.701585077758761, 3.157769041516285, 7.259118446325903, 8.506255270373693, 11.173724010391048, 14.26029041239301, 2.1819025176136746, 1.5625822275582613, 1.562573632825344, 1.5625764402389177, 1.5625578806735183, 2.1669706739993195, 10.47118468367877, 15.717914874392159, 1.8812198588699873, 19.272440307315268, 16.461191837466163, 1.7589339275120708, 1.163713553889715, 1.1637135765596032, 1.1637135680372244, 1.1637136698823554, 1.1636837330269119, 4.898262470188134, 3.4147824978769536, 27.613832255852103, 5.771307087553359, 37.46338914564156, 26.5500267096485, 18.937958413138517, 196.74041596027595, 17.892125570584795, 44.904179530684736, 25.65599690249651, 55.13304975884297, 15.494390508678354, 19.40561446481081, 28.09717146915444, 7.732188896546303, 7.537135336904721, 6.608140485505006, 6.6081425001092935, 6.608143617548443, 6.608145401272449, 6.143647787057592, 6.143647219487475, 6.143647716554211, 6.143661285250921, 4.749922638318044, 2.622840690133628, 2.622846546628206, 2.6228539432099764, 2.6228452118038383, 2.622849443082578, 2.6228469446448988, 2.6228499786891555, 8.08679101341463, 2.1583670273460087, 2.158367779454826, 2.158367115611318, 21.454173874927616, 12.387760271105666, 12.677032115636967, 9.313038465038556, 30.5144516053577, 8.14504226841762, 1.6938858949634723, 1.6938858949634723, 18.937958413138517, 11.428688969305515, 17.892125570584795, 12.337522850530847, 26.5500267096485, 11.936378038341807, 15.717914874392159, 14.456974800342419, 37.46338914564156, 11.334480170032567, 11.334483989666875, 11.334485669768478, 9.388325235959813, 6.049706672859638, 6.049707920789619, 6.0497072292267005, 6.049708160284973, 6.04970839635392, 6.049709144705053, 6.049708955705054, 6.049709240377067, 6.0497092969684365, 6.049709298211276, 6.049709240406958, 6.049710261206938, 6.049710738982087, 6.049678626726182, 5.660529924431514, 4.882201783698039, 6.894147005464414, 15.679501232610777, 9.07497315636957, 10.669980857131561, 11.428688969305515, 12.232606030701811, 1.1535009931791769, 1.153293634064956, 1.1532922261913447, 1.1532897730859824, 56.202871636787584, 16.461191837466163, 30.5144516053577, 196.74041596027595, 11.519841649347025, 8.964326490477674, 6.23227613453493, 5.4129500457443775, 9.591550663995395, 4.137996106058287, 10.924395588409482, 3.4992344504224873, 3.4992344504224873, 3.4992344504224873, 3.4992344504224873, 3.4992344504224873, 3.4992344504224873, 3.4992344504224873, 3.4992344504224873, 3.4992344504224873, 3.4992344504224873, 2.675591554969557, 2.040308136313583, 3.8342222639297012, 15.546190452126224, 2.2381022132195874, 10.31461036533107, 7.161391857139113, 1.083657229459148, 1.083657229459148, 1.083657229459148, 1.083711555162874, 25.65599690249651, 3.595082992316708, 23.514255537483216, 68.99035185942961, 14.26029041239301, 82.02824644963715, 14.65700599885075, 196.74041596027595, 16.461191837466163, 64.20337493939284, 26.5500267096485, 11.091445320562803, 6.7490161535541855, 5.928183570658025, 5.928183567450091, 5.928183572118946, 5.9282020676155325, 19.40561446481081, 3.2267890958065113, 2.4065546695569786, 1.5858233124182728, 10.31461036533107, 1.1753666529081774, 1.1753666529081774, 26.59917780946765, 56.202871636787584, 64.20337493939284, 0.9922750187880864, 0.9922741889719778, 0.9922740904074044, 0.992275359965057, 0.9922760273501581, 0.9922750958671239, 0.9922779959093351, 0.9921793653710439, 0.9921793653710439, 5.771307087553359, 0.9923980925957644, 0.992398216017245, 0.9923984286332551, 0.9923985058349961, 7.052420961930255, 196.74041596027595, 14.26029041239301, 1.0832287012168065, 8.46306707107609, 5.4105984262678, 5.091978436573231, 5.09197844323259, 5.09197844323259, 5.09197844323259, 5.09197844323259, 3.817060472411735, 3.8168850364541753, 3.4986189546548805, 3.4986189546548805, 3.4986189546548805, 3.4986189546548805, 3.4986189546548805, 1.4022249107379001, 10.47118468367877, 1.0835623000751342, 1.0835415253464944, 1.0834348865167853, 1.0834346772437393, 1.0834288811103205, 1.0834288104177323, 1.0832287012168065, 2.0001650587182214, 9.313038465038556, 15.679501232610777, 1.4022589116938557, 2.8769552794607014, 3.11050395968964, 37.46338914564156, 30.5144516053577, 82.02824644963715, 23.514255537483216, 196.74041596027595, 13.057186078785, 5.701585077758761, 4.525861791629268, 4.525830175847437, 3.330120918027982, 3.330120918027982, 3.330120918027982, 3.330120918027982, 14.456974800342419, 2.2603728962848586, 4.521532396564929, 1.3628866054133548, 5.771307087553359, 14.391497099515615, 1.8678862915659793, 1.8679019700904123, 1.0639027263789342, 1.0639011163651353, 1.0639011163651353, 1.0638892441738628, 1.0638926503575417, 1.0638966708961861, 1.0638971014442262, 2.0001650587182214, 2.38505110434574, 2.2279223288190133, 3.8342222639297012, 10.924395588409482, 1.7589339275120708, 15.717914874392159, 0.9921793653710439, 0.9921793653710439, 5.927611634394838, 82.02824644963715, 64.20337493939284, 68.99035185942961, 196.74041596027595, 7.393809311148631, 7.073225395373976], \"Category\": [\"Default\", \"Default\", \"Default\", \"Default\", \"Default\", \"Default\", \"Default\", \"Default\", \"Default\", \"Default\", \"Default\", \"Default\", \"Default\", \"Default\", \"Default\", \"Default\", \"Default\", \"Default\", \"Default\", \"Default\", \"Default\", \"Default\", \"Default\", \"Default\", \"Default\", \"Default\", \"Default\", \"Default\", \"Default\", \"Default\", \"Topic1\", \"Topic1\", \"Topic1\", \"Topic1\", \"Topic1\", \"Topic1\", \"Topic1\", \"Topic1\", \"Topic1\", \"Topic1\", \"Topic1\", \"Topic1\", \"Topic1\", \"Topic1\", \"Topic1\", \"Topic1\", \"Topic1\", \"Topic1\", \"Topic1\", \"Topic1\", \"Topic1\", \"Topic1\", \"Topic1\", \"Topic1\", \"Topic1\", \"Topic1\", \"Topic1\", \"Topic1\", \"Topic1\", \"Topic1\", \"Topic1\", \"Topic1\", \"Topic1\", \"Topic1\", \"Topic1\", \"Topic1\", \"Topic1\", \"Topic2\", \"Topic2\", \"Topic2\", \"Topic2\", \"Topic2\", \"Topic2\", \"Topic2\", \"Topic2\", \"Topic2\", \"Topic2\", \"Topic2\", \"Topic2\", \"Topic2\", \"Topic2\", \"Topic2\", \"Topic2\", \"Topic2\", \"Topic2\", \"Topic2\", \"Topic2\", \"Topic2\", \"Topic2\", \"Topic2\", \"Topic2\", \"Topic2\", \"Topic2\", \"Topic2\", \"Topic2\", \"Topic2\", \"Topic2\", \"Topic2\", \"Topic2\", \"Topic2\", \"Topic2\", \"Topic2\", \"Topic2\", \"Topic2\", \"Topic2\", \"Topic2\", \"Topic2\", \"Topic2\", \"Topic2\", \"Topic3\", \"Topic3\", \"Topic3\", \"Topic3\", \"Topic3\", \"Topic3\", \"Topic3\", \"Topic3\", \"Topic3\", \"Topic3\", \"Topic3\", \"Topic3\", \"Topic3\", \"Topic3\", \"Topic3\", \"Topic3\", \"Topic3\", \"Topic3\", \"Topic3\", \"Topic3\", \"Topic3\", \"Topic3\", \"Topic3\", \"Topic3\", \"Topic3\", \"Topic3\", \"Topic3\", \"Topic3\", \"Topic3\", \"Topic3\", \"Topic3\", \"Topic3\", \"Topic3\", \"Topic3\", \"Topic4\", \"Topic4\", \"Topic4\", \"Topic4\", \"Topic4\", \"Topic4\", \"Topic4\", \"Topic4\", \"Topic4\", \"Topic4\", \"Topic4\", \"Topic4\", \"Topic4\", \"Topic4\", \"Topic4\", \"Topic4\", \"Topic4\", \"Topic4\", \"Topic4\", \"Topic4\", \"Topic4\", \"Topic4\", \"Topic4\", \"Topic4\", \"Topic4\", \"Topic4\", \"Topic4\", \"Topic4\", \"Topic4\", \"Topic4\", \"Topic4\", \"Topic4\", \"Topic4\", \"Topic4\", \"Topic4\", \"Topic4\", \"Topic4\", \"Topic4\", \"Topic4\", \"Topic4\", \"Topic4\", \"Topic4\", \"Topic4\", \"Topic4\", \"Topic4\", \"Topic5\", \"Topic5\", \"Topic5\", \"Topic5\", \"Topic5\", \"Topic5\", \"Topic5\", \"Topic5\", \"Topic5\", \"Topic5\", \"Topic5\", \"Topic5\", \"Topic5\", \"Topic5\", \"Topic5\", \"Topic5\", \"Topic5\", \"Topic5\", \"Topic5\", \"Topic5\", \"Topic5\", \"Topic5\", \"Topic5\", \"Topic5\", \"Topic5\", \"Topic5\", \"Topic5\", \"Topic5\", \"Topic5\", \"Topic5\", \"Topic5\", \"Topic5\", \"Topic5\", \"Topic5\", \"Topic5\", \"Topic5\", \"Topic5\", \"Topic5\", \"Topic5\", \"Topic6\", \"Topic6\", \"Topic6\", \"Topic6\", \"Topic6\", \"Topic6\", \"Topic6\", \"Topic6\", \"Topic6\", \"Topic6\", \"Topic6\", \"Topic6\", \"Topic6\", \"Topic6\", \"Topic6\", \"Topic6\", \"Topic6\", \"Topic6\", \"Topic6\", \"Topic6\", \"Topic6\", \"Topic6\", \"Topic6\", \"Topic6\", \"Topic6\", \"Topic6\", \"Topic6\", \"Topic6\", \"Topic6\", \"Topic6\", \"Topic6\", \"Topic6\", \"Topic6\", \"Topic6\", \"Topic7\", \"Topic7\", \"Topic7\", \"Topic7\", \"Topic7\", \"Topic7\", \"Topic7\", \"Topic7\", \"Topic7\", \"Topic7\", \"Topic7\", \"Topic7\", \"Topic7\", \"Topic7\", \"Topic7\", \"Topic7\", \"Topic7\", \"Topic7\", \"Topic7\", \"Topic7\", \"Topic7\", \"Topic7\", \"Topic7\", \"Topic7\", \"Topic7\", \"Topic7\", \"Topic7\", \"Topic7\", \"Topic7\", \"Topic7\", \"Topic7\", \"Topic7\", \"Topic7\", \"Topic7\", \"Topic7\", \"Topic7\", \"Topic7\", \"Topic7\", \"Topic7\", \"Topic8\", \"Topic8\", \"Topic8\", \"Topic8\", \"Topic8\", \"Topic8\", \"Topic8\", \"Topic8\", \"Topic8\", \"Topic8\", \"Topic8\", \"Topic8\", \"Topic8\", \"Topic8\", \"Topic8\", \"Topic8\", \"Topic8\", \"Topic8\", \"Topic8\", \"Topic8\", \"Topic8\", \"Topic8\", \"Topic8\", \"Topic8\", \"Topic8\", \"Topic8\", \"Topic8\", \"Topic8\", \"Topic8\", \"Topic8\", \"Topic8\", \"Topic8\", \"Topic8\", \"Topic8\", \"Topic9\", \"Topic9\", \"Topic9\", \"Topic9\", \"Topic9\", \"Topic9\", \"Topic9\", \"Topic9\", \"Topic9\", \"Topic9\", \"Topic9\", \"Topic9\", \"Topic9\", \"Topic9\", \"Topic9\", \"Topic9\", \"Topic9\", \"Topic9\", \"Topic9\", \"Topic9\", \"Topic9\", \"Topic9\", \"Topic9\", \"Topic9\", \"Topic9\", \"Topic9\", \"Topic9\", \"Topic9\", \"Topic9\", \"Topic9\", \"Topic9\", \"Topic9\", \"Topic9\", \"Topic9\", \"Topic9\", \"Topic9\", \"Topic10\", \"Topic10\", \"Topic10\", \"Topic10\", \"Topic10\", \"Topic10\", \"Topic10\", \"Topic10\", \"Topic10\", \"Topic10\", \"Topic10\", \"Topic10\", \"Topic10\", \"Topic10\", \"Topic10\", \"Topic10\", \"Topic10\", \"Topic10\", \"Topic10\", \"Topic10\", \"Topic10\", \"Topic10\", \"Topic10\", \"Topic10\", \"Topic10\", \"Topic10\", \"Topic10\", \"Topic10\", \"Topic10\", \"Topic10\", \"Topic10\", \"Topic10\", \"Topic10\", \"Topic10\", \"Topic10\", \"Topic10\", \"Topic10\"], \"logprob\": [30.0, 29.0, 28.0, 27.0, 26.0, 25.0, 24.0, 23.0, 22.0, 21.0, 20.0, 19.0, 18.0, 17.0, 16.0, 15.0, 14.0, 13.0, 12.0, 11.0, 10.0, 9.0, 8.0, 7.0, 6.0, 5.0, 4.0, 3.0, 2.0, 1.0, -2.4533, -2.6562, -2.9601, -3.5819, -4.2317, -4.2928, -4.6346, -4.6346, -2.6019, -2.8358, -5.2501, -5.3201, -5.3201, -5.3201, -5.3201, -5.3201, -5.4768, -5.4768, -5.4768, -5.5658, -5.663, -5.3201, -5.7706, -5.7706, -5.7706, -2.5894, -2.7129, -2.4934, -5.2252, -6.4081, -4.6346, -1.9029, -3.4581, -4.6538, -4.3389, -4.8066, -5.3483, -3.8518, -4.0486, -4.0487, -4.0915, -4.1239, -4.1239, -3.4993, -4.2053, -4.2053, -4.2939, -4.2939, -4.294, -4.294, -4.294, -4.294, -4.2947, -4.3912, -4.3914, -4.3914, -4.3916, -4.3921, -4.1961, -2.8147, -4.1204, -4.3379, -4.7026, -3.5641, -5.5083, -4.5761, -5.8795, -3.7897, -3.8883, -3.3004, -3.5807, -3.4875, -3.9148, -3.8379, -4.1339, -4.0984, -4.0778, -4.0597, -4.2365, -2.9318, -2.9645, -3.0894, -3.0994, -3.0994, -3.1238, -3.1238, -3.1238, -3.1238, -3.1238, -3.1238, -3.8118, -3.8118, -3.391, -4.5025, -4.5447, -4.5453, -4.7205, -2.6562, -4.695, -5.6598, -3.0507, -3.6936, -6.0336, -4.6055, -4.7205, -6.6354, -6.6357, -6.6362, -6.6375, -2.3981, -3.756, -5.3038, -6.0331, -2.6723, -2.9561, -3.3168, -3.4036, -4.3364, -4.3364, -4.3364, -4.0432, -4.684, -3.9444, -3.9273, -3.6635, -3.4781, -5.3565, -5.717, -5.7171, -5.7171, -5.7171, -5.4054, -3.9494, -3.561, -5.7171, -3.409, -3.6188, -5.8675, -6.3194, -6.3194, -6.3194, -6.3194, -6.3195, -4.9072, -5.2648, -3.2567, -4.7935, -3.0429, -3.4911, -3.8156, -2.016, -4.0969, -3.709, -4.0772, -3.6553, -4.6853, -4.8926, -4.8454, -3.5152, -3.5432, -3.6885, -3.6885, -3.6885, -3.6885, -3.7699, -3.7699, -3.7699, -3.7699, -4.0636, -4.7997, -4.7997, -4.7997, -4.7997, -4.7997, -4.7997, -4.7997, -3.6896, -5.0708, -5.0708, -5.0708, -2.8106, -3.3744, -3.3814, -3.7041, -2.5424, -3.8655, -5.4441, -5.4441, -3.2919, -3.7708, -3.4787, -3.7596, -3.3443, -3.8985, -3.8272, -4.2205, -4.3085, -3.0672, -3.0672, -3.0672, -3.269, -3.7527, -3.7527, -3.7527, -3.7527, -3.7527, -3.7527, -3.7527, -3.7527, -3.7527, -3.7527, -3.7527, -3.7527, -3.7527, -3.7528, -3.828, -3.9981, -3.6827, -3.058, -3.6827, -3.7527, -3.7527, -3.7527, -6.1881, -6.1889, -6.1889, -6.1889, -2.5936, -3.7443, -3.7527, -3.0176, -3.0287, -3.3089, -3.7071, -3.859, -3.3261, -4.1739, -3.2321, -4.3843, -4.3843, -4.3843, -4.3843, -4.3843, -4.3843, -4.3843, -4.3843, -4.3843, -4.3843, -4.7305, -5.1156, -4.5346, -3.2709, -5.4305, -3.9749, -4.3941, -6.3623, -6.3623, -6.3623, -6.3646, -3.2134, -5.2278, -3.4543, -2.4589, -3.9537, -2.4661, -4.0769, -2.5738, -4.2065, -3.6779, -4.354, -2.4244, -2.9641, -3.1093, -3.1093, -3.1093, -3.1093, -1.9482, -3.8325, -4.2207, -4.8649, -3.0618, -5.4673, -5.4673, -3.1093, -2.8946, -2.9724, -7.2133, -7.2133, -7.2133, -7.2133, -7.2133, -7.2133, -7.2133, -7.2146, -7.2146, -5.4572, -7.2179, -7.2179, -7.2179, -7.2179, -5.2762, -3.0422, -5.3802, -7.2123, -2.6017, -3.1011, -3.1711, -3.1711, -3.1711, -3.1711, -3.1711, -3.5139, -3.514, -3.6215, -3.6215, -3.6215, -3.6215, -3.6215, -5.002, -3.1841, -5.6043, -5.6045, -5.6051, -5.6051, -5.6056, -5.6056, -5.6073, -5.0021, -3.5991, -3.1897, -5.6043, -5.0086, -5.6043, -3.1435, -3.6802, -3.4768, -4.9824, -4.874, -5.5555, -5.6043, -3.0459, -3.0461, -3.4213, -3.4213, -3.4213, -3.4213, -2.0502, -3.9501, -3.5061, -4.8016, -3.4638, -2.5767, -4.8313, -4.8314, -5.4039, -5.4039, -5.4039, -5.4039, -5.4041, -5.4041, -5.4041, -4.8015, -4.8922, -5.2761, -4.9235, -4.0082, -6.2556, -4.1107, -7.1545, -7.1545, -5.3889, -2.8306, -3.4229, -4.2765, -4.4572, -5.3867, -5.3867], \"loglift\": [30.0, 29.0, 28.0, 27.0, 26.0, 25.0, 24.0, 23.0, 22.0, 21.0, 20.0, 19.0, 18.0, 17.0, 16.0, 15.0, 14.0, 13.0, 12.0, 11.0, 10.0, 9.0, 8.0, 7.0, 6.0, 5.0, 4.0, 3.0, 2.0, 1.0, 1.3813, 1.3779, 1.3728, 1.3548, 1.32, 1.3153, 1.2852, 1.2852, 1.2466, 1.2179, 1.201, 1.1884, 1.1884, 1.1884, 1.1884, 1.1884, 1.1574, 1.1573, 1.1573, 1.1377, 1.1149, 1.1091, 1.0878, 1.0878, 1.0878, 1.0349, 0.9833, 0.9578, 0.935, 0.7315, 0.7195, 0.6734, 0.3712, 0.4611, 0.2011, 0.385, -0.9082, 1.8165, 1.8006, 1.8005, 1.7967, 1.7936, 1.7936, 1.7896, 1.7856, 1.7856, 1.7762, 1.7762, 1.7762, 1.7762, 1.7762, 1.7761, 1.7761, 1.765, 1.7649, 1.7649, 1.7648, 1.7646, 1.7087, 1.7079, 1.6717, 1.6598, 1.5778, 1.5537, 1.5428, 1.5025, 1.4189, 1.3252, 1.2851, 0.9345, 1.0328, 0.3418, 0.9848, 0.702, 1.2117, 1.0161, 0.7146, 0.5195, 0.7374, 2.1267, 2.1253, 2.1194, 2.119, 2.119, 2.1177, 2.1177, 2.1177, 2.1177, 2.1177, 2.1177, 2.0685, 2.0685, 2.0049, 1.9768, 1.9692, 1.9689, 1.9349, 1.9211, 1.793, 1.6523, 1.65, 1.6398, 1.4841, 1.2521, 1.1815, 1.1409, 1.1406, 1.1402, 1.139, 0.1782, -0.0598, -0.186, 0.2473, 2.2296, 2.2197, 2.1996, 2.1929, 2.0899, 2.0899, 2.0899, 2.0743, 2.0244, 1.9316, 1.7901, 1.7812, 1.7227, 1.7216, 1.6949, 1.6949, 1.6949, 1.6948, 1.6796, 1.5602, 1.5424, 1.5092, 1.4906, 1.4384, 1.426, 1.3872, 1.3872, 1.3872, 1.3872, 1.3871, 1.3622, 1.3653, 1.2833, 1.3119, 1.192, 1.0882, 1.1015, 0.5604, 0.877, 0.3447, 0.5363, 0.1932, 0.4324, 0.0001, -0.3229, 2.2976, 2.2952, 2.2815, 2.2815, 2.2815, 2.2815, 2.273, 2.273, 2.273, 2.2729, 2.2365, 2.0943, 2.0943, 2.0943, 2.0943, 2.0943, 2.0943, 2.0943, 2.0785, 2.0181, 2.0181, 2.0181, 1.9817, 1.9672, 1.9371, 1.9228, 1.8976, 1.8954, 1.8872, 1.8872, 1.6252, 1.6514, 1.4952, 1.586, 1.2349, 1.4802, 1.2762, 0.9666, -0.0736, 2.3632, 2.3632, 2.3632, 2.3498, 2.3055, 2.3055, 2.3055, 2.3055, 2.3055, 2.3055, 2.3055, 2.3055, 2.3055, 2.3055, 2.3055, 2.3055, 2.3055, 2.3055, 2.2967, 2.2746, 2.2449, 2.0479, 1.97, 1.7381, 1.6694, 1.6014, 1.5273, 1.5268, 1.5268, 1.5267, 1.2356, 1.313, 0.6873, -0.4412, 2.3854, 2.3561, 2.3215, 2.3105, 2.2712, 2.2641, 2.2351, 2.2214, 2.2214, 2.2214, 2.2214, 2.2214, 2.2214, 2.2214, 2.2214, 2.2214, 2.2214, 2.1436, 2.0295, 1.9797, 1.8435, 1.6221, 1.5498, 1.4955, 1.4157, 1.4157, 1.4157, 1.4133, 1.4001, 1.3509, 1.2463, 1.1654, 1.2471, 0.9851, 1.0964, 0.0025, 0.8507, 0.0183, 0.2252, 3.0277, 2.9848, 2.9693, 2.9693, 2.9693, 2.9693, 2.9445, 2.8543, 2.7594, 2.5323, 2.4629, 2.2294, 2.2294, 1.4681, 0.9347, 0.7238, 0.6527, 0.6527, 0.6527, 0.6527, 0.6527, 0.6527, 0.6527, 0.6515, 0.6515, 0.6482, 0.648, 0.648, 0.648, 0.648, 0.6287, -0.4659, -0.1794, 0.566, 3.1209, 3.0688, 3.0595, 3.0595, 3.0595, 3.0595, 3.0595, 3.0049, 3.0048, 2.9844, 2.9844, 2.9844, 2.9844, 2.9844, 2.5182, 2.3255, 2.1737, 2.1736, 2.173, 2.173, 2.1726, 2.1726, 2.171, 2.1629, 2.0277, 1.9162, 1.9158, 1.793, 1.1191, 1.0914, 0.7599, -0.0256, -0.2818, -2.2976, -0.2666, 0.5132, 3.3026, 3.3024, 3.2339, 3.2339, 3.2339, 3.2339, 3.1369, 3.0927, 2.8433, 2.747, 2.6416, 2.6149, 2.4021, 2.4021, 2.3924, 2.3924, 2.3924, 2.3924, 2.3922, 2.3922, 2.3922, 2.3635, 2.0968, 1.7811, 1.5908, 1.4591, 1.0379, 0.9927, 0.7116, 0.7116, 0.6897, 0.6206, 0.2733, -0.6523, -1.8809, 0.4709, 0.5152]}, \"token.table\": {\"Topic\": [1, 4, 1, 2, 10, 1, 2, 1, 5, 5, 5, 6, 3, 2, 7, 8, 2, 4, 7, 8, 1, 1, 4, 10, 5, 10, 1, 4, 2, 1, 5, 6, 9, 5, 6, 7, 9, 7, 3, 2, 9, 2, 4, 5, 5, 2, 5, 3, 4, 5, 9, 2, 8, 8, 10, 2, 5, 2, 5, 4, 2, 7, 8, 7, 2, 3, 4, 4, 9, 1, 1, 1, 6, 7, 5, 2, 1, 2, 4, 5, 9, 2, 5, 8, 6, 6, 6, 6, 4, 2, 7, 1, 4, 1, 5, 7, 3, 2, 4, 5, 7, 7, 2, 8, 4, 5, 6, 2, 10, 2, 4, 7, 5, 5, 1, 7, 4, 9, 4, 1, 1, 6, 3, 2, 5, 2, 3, 3, 1, 2, 4, 7, 6, 7, 1, 4, 2, 6, 2, 8, 10, 2, 3, 3, 8, 1, 6, 8, 3, 5, 9, 10, 3, 1, 5, 3, 2, 5, 2, 5, 7, 1, 9, 1, 1, 9, 10, 4, 6, 7, 2, 3, 4, 5, 2, 2, 3, 1, 1, 6, 8, 3, 1, 4, 3, 2, 3, 4, 7, 9, 2, 5, 4, 6, 9, 2, 5, 7, 7, 1, 6, 2, 5, 2, 2, 7, 2, 3, 4, 7, 9, 7, 10, 2, 4, 7, 4, 7, 2, 2, 5, 1, 2, 3, 4, 6, 7, 8, 9, 10, 2, 2, 6, 5, 3, 6, 1, 2, 4, 2, 10, 7, 5, 10, 4, 9, 2, 5, 2, 10, 7, 1, 10, 2, 1, 2, 2, 7, 8, 6, 5, 1, 3, 7, 8, 10, 3, 2, 9, 7, 2, 4, 5, 4, 5, 3, 5, 2, 4, 5, 7, 4, 8, 1, 2, 3, 2, 9, 3, 1, 2, 7, 9, 9, 1, 7, 10, 9, 10, 4, 8, 10, 1, 4, 5, 10, 5, 1, 1, 1, 6, 1, 2, 7, 9, 10, 5, 2, 4, 7, 7, 10, 10, 7, 2, 1, 3, 6, 6, 2, 4, 9, 1, 5, 2, 4, 9, 9, 2, 4, 2, 1, 2, 8, 7, 2, 5, 6, 1, 2, 6, 8, 10, 4, 6, 2, 7, 1, 3, 6, 9, 6, 3, 1, 4, 6, 3], \"Freq\": [0.6302606081486528, 0.9375544801938653, 0.34742737085833053, 0.13897094834333223, 0.41691284502999665, 0.5491123570427773, 0.18303745234759244, 0.8635751783973404, 0.762528163330476, 0.9079710113852807, 0.8138487476303982, 0.8264863522112798, 0.5791644461783731, 0.9116193244320666, 0.38779942802731465, 0.581699142040972, 0.07012479908059535, 0.5609983926447628, 0.2804991963223814, 0.07012479908059535, 0.9484453123508737, 0.8706211647996331, 0.12696558653327983, 0.900868188827368, 0.4633132304794469, 0.8838095779676997, 0.969232308245577, 0.8769491170980567, 0.9190341569457534, 0.09831407225661112, 0.6226557909585371, 0.16385678709435186, 0.09831407225661112, 0.8138469501897009, 0.8264859935465585, 0.802275106568768, 0.7855492800281065, 0.7249885990969908, 0.7113374828356825, 0.8953789082346895, 0.857481205836528, 0.3353430522455188, 0.22356203483034587, 0.3912335609531053, 0.5903585377110449, 0.3262768373561351, 0.6525536747122702, 0.9495486785763789, 0.458315617644408, 0.6442580498861024, 0.3221290249430512, 0.8616014660189815, 0.843426040976893, 0.8434286724040869, 0.733736758456663, 0.3683222138247817, 0.6138703563746362, 0.3155312665861316, 0.6310625331722632, 0.5685261875722943, 0.5563153908475363, 0.27815769542376817, 0.9015957533920907, 0.8573303796885599, 0.7099343464874555, 0.06453948604431413, 0.12907897208862826, 0.6399698414159627, 0.7855492800281065, 0.8820772155468232, 0.7779329410424234, 0.33057949024282796, 0.6611589804856559, 0.8573303796885599, 0.5903585377110449, 0.836366685305003, 0.053385452987845264, 0.37369817091491686, 0.34700544442099424, 0.0800781794817679, 0.13346363246961318, 0.24731688956501233, 0.741950668695037, 0.8434286726119385, 0.9704895590753956, 0.8264862762026786, 0.8264860014476265, 0.8264861167545586, 0.46147371166515105, 0.3859466419427141, 0.5145955225902854, 0.8462463939249386, 0.15588749361775184, 0.8820770708069087, 0.9053063878362638, 0.8924262194709188, 0.9189908468688692, 0.3351100297888753, 0.08377750744721882, 0.4188875372360941, 0.16755501489443764, 0.8573303796885599, 0.9114933426169841, 0.630587274237423, 0.9554181941507356, 0.43749550044005037, 0.43749550044005037, 0.5353644943566829, 0.5353644943566829, 0.8185877366783983, 0.07118154231986072, 0.07118154231986072, 0.9079705810367877, 0.7625293159159477, 0.8964692397596553, 0.9237107229413588, 0.6399686916098006, 0.7855492810554586, 0.6399762929543219, 0.7358504600662082, 0.14505057684545797, 0.8703034610727479, 0.9413393526314413, 0.3228993710291571, 0.6457987420583142, 0.4003669978968341, 0.5605137970555678, 0.9495490733687956, 0.03897724199922603, 0.42874966199148634, 0.19488620999613016, 0.3507951779930343, 0.8264861817241899, 0.8573303796885599, 0.4083080504918683, 0.4083080504918683, 0.37488352168190586, 0.4686044021023823, 0.8507716757676067, 0.14179527929460112, 0.900868188827368, 0.8369193314050555, 0.7555214669467747, 0.789498087137314, 0.1879757350326938, 0.48738579039322716, 0.8833095252123677, 0.8434286730683453, 0.968480585801283, 0.9079707345749225, 0.857481205836528, 0.8838157519357256, 0.9684806140133249, 0.7779326491286673, 0.7625303137048164, 0.7823313674257315, 0.8363710872481527, 0.9287348159618816, 0.9272084639081317, 0.7625307017734828, 0.7474982481108766, 0.9826277186737833, 0.7131523569024064, 0.9837211943706815, 0.7779331424901086, 0.857481205836528, 0.8848097600564904, 0.4252425990241965, 0.3037447135887118, 0.18224682815322707, 0.5409931243383119, 0.40574484325373394, 0.6399663213644958, 0.7625294716304583, 0.9116183554044582, 0.5655128709196905, 0.42413465318976784, 0.7779330054238217, 0.4904923762721529, 0.40874364689346077, 0.9297167899503431, 0.9278229941386503, 0.3526816330622776, 0.5878027217704628, 0.9495486143207603, 0.8256236691970987, 0.20640591729927468, 0.6887888711239691, 0.13775777422479385, 0.7855492800281065, 0.48632128772445093, 0.48632128772445093, 0.9554181941507356, 0.9586374325345671, 0.9452837762968113, 0.8922746123500074, 0.9079703359500313, 0.8573303796885599, 0.8573303796885599, 0.6789933577336267, 0.8193024740100331, 0.6748080418747556, 0.1687020104686889, 0.836371030082706, 0.4468071181438427, 0.4468071181438427, 0.44884868160107017, 0.5953835101299767, 0.04252739358071263, 0.29769175506498835, 0.04252739358071263, 0.5216181698215367, 0.2608090849107684, 0.17899135490907886, 0.626469742181776, 0.17899135490907886, 0.9575754294358408, 0.8573303796885599, 0.911935316044409, 0.7600677895950214, 0.12667796493250358, 0.48795261274319685, 0.015248519148224901, 0.13723667233402412, 0.18298222977869882, 0.055911236876824644, 0.08640827517327444, 0.030497038296449803, 0.005082839716074967, 0.005082839716074967, 0.8363677363127594, 0.9761758923078735, 0.9704897029302958, 0.8421189784717014, 0.9495486522043343, 0.8264860403383295, 0.28970987894317307, 0.28970987894317307, 0.3621373486789663, 0.41927822769831885, 0.41927822769831885, 0.49012204686238925, 0.20751229364589774, 0.6917076454863258, 0.9881331350782862, 0.7859812311211112, 0.9387933185349118, 0.8138487382908184, 0.5353600006918976, 0.5353600006918976, 0.8573303796885599, 0.22116395776788284, 0.44232791553576567, 0.8363675664259858, 0.7185954624108486, 0.6429826246546736, 0.5585506392884289, 0.4189129794663216, 0.8890184678014533, 0.8264860014435429, 0.46331321153249144, 0.6697467234485951, 0.10902853637535269, 0.09345303117887373, 0.09345303117887373, 0.046726515589436864, 0.9010032112160312, 0.6951793843576565, 0.34758969217882824, 0.8573303796885599, 0.2112160092834999, 0.31682401392524984, 0.47523602088787475, 0.6333585432326767, 0.7625320163452644, 0.8523337185177552, 0.08523337185177551, 0.2636532187538682, 0.30131796429013513, 0.30131796429013513, 0.11299423660880067, 0.10306295652872532, 0.8760351304941653, 0.9715223720121786, 0.9272174771057394, 0.9495488426271538, 0.911678706732014, 0.7855492800281065, 0.9731748346037181, 0.136453515824229, 0.545814063296916, 0.272907031648458, 0.857481205836528, 0.857481205836528, 0.6957494592548502, 0.27540082762171153, 0.014494780401142713, 0.49995873872571117, 0.49995873872571117, 0.34654194789136816, 0.17327097394568408, 0.5198129218370522, 0.0636216704309306, 0.5089733634474448, 0.31810835215465305, 0.0636216704309306, 0.46331306903246405, 0.8635755721650332, 0.7345708833103057, 0.882077114886222, 0.8264859937163501, 0.6461188955506978, 0.02438184511512067, 0.23162752859364635, 0.03657276767268101, 0.060954612787801676, 0.8138488134768126, 0.415100520350992, 0.466988085394866, 0.103775130087748, 0.8238442051246095, 0.0915382450138455, 0.900868188827368, 0.9548742365415681, 0.8363697562358112, 0.25405980839019277, 0.7621794251705782, 0.8264861490053222, 0.9704900299780042, 0.9387678392725607, 0.47750088944505026, 0.3820007115560402, 0.7358504600662082, 0.7625301979909375, 0.8616029956170358, 0.9614826921081965, 0.9241121972249143, 0.7859451066292666, 0.2928444199950428, 0.2928444199950428, 0.5712872795705914, 0.38615349042963343, 0.5792302356444502, 0.8310636052860494, 0.8573303796885599, 0.7778650227863452, 0.15557300455726905, 0.8264858619861379, 0.35585370315685083, 0.2135122218941105, 0.3024756476833232, 0.12454879610489779, 0.900868188827368, 0.9554181941507356, 0.8264901837778742, 0.10425842859317665, 0.8340674287454132, 0.7779326405261675, 0.9278230873941788, 0.7015529280435154, 0.2551101556521874, 0.8264857967145204, 0.7821192437243779, 0.7358504600662082, 0.5315699785354598, 0.8264860145179375, 0.9495488629396578], \"Term\": [\"accord\", \"accordance\", \"account\", \"account\", \"account\", \"accumulate\", \"accumulate\", \"accumulation\", \"advance\", \"advanceand\", \"advanceunless\", \"agreement\", \"amount\", \"another\", \"app\", \"app\", \"application\", \"application\", \"application\", \"application\", \"applications\", \"apply\", \"apply\", \"appx\", \"arise\", \"aug\", \"august\", \"back\", \"baht\", \"bank\", \"bank\", \"bank\", \"bank\", \"benefit\", \"better\", \"bring\", \"browser\", \"buy\", \"calculate\", \"call\", \"campaignthe\", \"cancel\", \"cancel\", \"cancel\", \"canceledthe\", \"cannot\", \"cannot\", \"car\", \"card\", \"case\", \"case\", \"cash\", \"categories\", \"category\", \"cause\", \"center\", \"center\", \"change\", \"change\", \"channel\", \"check\", \"check\", \"chill\", \"choose\", \"code\", \"code\", \"code\", \"collection\", \"comment\", \"commercial\", \"common\", \"company\", \"company\", \"compensation\", \"complete\", \"comply\", \"condition\", \"condition\", \"condition\", \"condition\", \"condition\", \"contact\", \"contact\", \"continue\", \"cookie\", \"cookies\", \"copyright\", \"create\", \"credit\", \"customer\", \"customer\", \"customers\", \"customers\", \"customersand\", \"damage\", \"date\", \"day\", \"days\", \"days\", \"days\", \"days\", \"deal\", \"decision\", \"dee\", \"delete\", \"detail\", \"detail\", \"directly\", \"directly\", \"discount\", \"discount\", \"discount\", \"dispute\", \"distribution\", \"download\", \"easy\", \"eligible\", \"email\", \"end\", \"enter\", \"esb\", \"esb\", \"eveandboy\", \"event\", \"event\", \"every\", \"every\", \"everyday\", \"exchange\", \"exchange\", \"exchange\", \"exchange\", \"experience\", \"feature\", \"first\", \"first\", \"follow\", \"follow\", \"food\", \"food\", \"free\", \"friday\", \"full\", \"gallery\", \"gallery\", \"goods\", \"great\", \"happiness\", \"hi\", \"hold\", \"holidaysor\", \"hrs\", \"hythak\", \"image\", \"import\", \"include\", \"incorrector\", \"inform\", \"information\", \"involve\", \"item\", \"july\", \"jun\", \"june\", \"larger\", \"last\", \"lifetime\", \"limit\", \"limit\", \"limit\", \"line\", \"line\", \"list\", \"lose\", \"make\", \"man\", \"man\", \"manage\", \"management\", \"management\", \"mart\", \"maximum\", \"meet\", \"meet\", \"mid\", \"minimum\", \"minimum\", \"must\", \"must\", \"name\", \"necessity\", \"necessity\", \"never\", \"new\", \"next\", \"normal\", \"notify\", \"number\", \"october\", \"online\", \"operation\", \"order\", \"order\", \"orreturn\", \"page\", \"page\", \"participate\", \"pay\", \"pay\", \"pay\", \"pay\", \"payment\", \"payment\", \"per\", \"per\", \"per\", \"period\", \"periodfrom\", \"person\", \"please\", \"please\", \"point\", \"point\", \"point\", \"point\", \"point\", \"point\", \"point\", \"point\", \"point\", \"pointsin\", \"pointx\", \"policy\", \"possible\", \"premium\", \"privacy\", \"privilege\", \"privilege\", \"privilege\", \"problems\", \"problems\", \"process\", \"products\", \"products\", \"promotion\", \"promotional\", \"promotions\", \"promotionwhich\", \"provider\", \"provider\", \"pull\", \"qr\", \"qr\", \"qualifications\", \"question\", \"rat\", \"rate\", \"rate\", \"rd\", \"read\", \"reason\", \"receive\", \"receive\", \"receive\", \"receive\", \"receive\", \"reconcile\", \"refund\", \"refund\", \"remain\", \"reserve\", \"reserve\", \"reserve\", \"respectively\", \"responsible\", \"return\", \"return\", \"right\", \"right\", \"right\", \"right\", \"robinhood\", \"robinhood\", \"round\", \"rule\", \"sale\", \"sales\", \"save\", \"scan\", \"scb\", \"scb\", \"scb\", \"schedule\", \"scheduleon\", \"score\", \"score\", \"score\", \"sep\", \"sep\", \"september\", \"september\", \"september\", \"service\", \"service\", \"service\", \"service\", \"servicesin\", \"set\", \"shop\", \"siam\", \"similar\", \"special\", \"special\", \"special\", \"special\", \"special\", \"specifications\", \"specify\", \"specify\", \"specify\", \"spend\", \"spend\", \"spendor\", \"store\", \"suspend\", \"system\", \"system\", \"tech\", \"technology\", \"tel\", \"term\", \"term\", \"th\", \"therefore\", \"thingsand\", \"throughout\", \"time\", \"today\", \"total\", \"total\", \"transaction\", \"transfer\", \"transfer\", \"travel\", \"unable\", \"unless\", \"unless\", \"us\", \"use\", \"use\", \"use\", \"use\", \"useget\", \"user\", \"value\", \"via\", \"via\", \"view\", \"wash\", \"website\", \"website\", \"websiteplease\", \"wednesday\", \"week\", \"within\", \"world\", \"year\"]}, \"R\": 30, \"lambda.step\": 0.01, \"plot.opts\": {\"xlab\": \"PC1\", \"ylab\": \"PC2\"}, \"topic.order\": [1, 3, 2, 5, 10, 9, 6, 7, 8, 4]};\n",
       "\n",
       "function LDAvis_load_lib(url, callback){\n",
       "  var s = document.createElement('script');\n",
       "  s.src = url;\n",
       "  s.async = true;\n",
       "  s.onreadystatechange = s.onload = callback;\n",
       "  s.onerror = function(){console.warn(\"failed to load library \" + url);};\n",
       "  document.getElementsByTagName(\"head\")[0].appendChild(s);\n",
       "}\n",
       "\n",
       "if(typeof(LDAvis) !== \"undefined\"){\n",
       "   // already loaded: just create the visualization\n",
       "   !function(LDAvis){\n",
       "       new LDAvis(\"#\" + \"ldavis_el997011207286832984431263\", ldavis_el997011207286832984431263_data);\n",
       "   }(LDAvis);\n",
       "}else if(typeof define === \"function\" && define.amd){\n",
       "   // require.js is available: use it to load d3/LDAvis\n",
       "   require.config({paths: {d3: \"https://d3js.org/d3.v5\"}});\n",
       "   require([\"d3\"], function(d3){\n",
       "      window.d3 = d3;\n",
       "      LDAvis_load_lib(\"https://cdn.jsdelivr.net/gh/bmabey/pyLDAvis@3.4.0/pyLDAvis/js/ldavis.v3.0.0.js\", function(){\n",
       "        new LDAvis(\"#\" + \"ldavis_el997011207286832984431263\", ldavis_el997011207286832984431263_data);\n",
       "      });\n",
       "    });\n",
       "}else{\n",
       "    // require.js not available: dynamically load d3 & LDAvis\n",
       "    LDAvis_load_lib(\"https://d3js.org/d3.v5.js\", function(){\n",
       "         LDAvis_load_lib(\"https://cdn.jsdelivr.net/gh/bmabey/pyLDAvis@3.4.0/pyLDAvis/js/ldavis.v3.0.0.js\", function(){\n",
       "                 new LDAvis(\"#\" + \"ldavis_el997011207286832984431263\", ldavis_el997011207286832984431263_data);\n",
       "            })\n",
       "         });\n",
       "}\n",
       "</script>"
      ],
      "text/plain": [
       "PreparedData(topic_coordinates=              x         y  topics  cluster       Freq\n",
       "topic                                                \n",
       "0     -0.240995  0.122344       1        1  24.804117\n",
       "2      0.161659  0.111441       2        1  15.054724\n",
       "1     -0.160022 -0.223341       3        1  11.417325\n",
       "4     -0.002594  0.128302       4        1  10.357153\n",
       "9      0.287387  0.002685       5        1   9.180922\n",
       "8      0.033690 -0.182296       6        1   8.844756\n",
       "5     -0.131510  0.152089       7        1   8.638766\n",
       "6     -0.064550 -0.114218       8        1   4.546301\n",
       "7      0.127443 -0.042826       9        1   4.047838\n",
       "3     -0.010508  0.045822      10        1   3.108097, topic_info=        Term        Freq       Total Category  logprob  loglift\n",
       "23   special   82.000000   82.000000  Default  30.0000  30.0000\n",
       "70     score   68.000000   68.000000  Default  29.0000  29.0000\n",
       "232     june   55.000000   55.000000  Default  28.0000  28.0000\n",
       "42     point  196.000000  196.000000  Default  27.0000  27.0000\n",
       "50       use   56.000000   56.000000  Default  26.0000  26.0000\n",
       "..       ...         ...         ...      ...      ...      ...\n",
       "69   receive    2.622566   64.203375  Topic10  -3.4229   0.2733\n",
       "70     score    1.116896   68.990352  Topic10  -4.2765  -0.6523\n",
       "42     point    0.932262  196.740416  Topic10  -4.4572  -1.8809\n",
       "215     line    0.368023    7.393809  Topic10  -5.3867   0.4709\n",
       "216      man    0.368023    7.073225  Topic10  -5.3867   0.5152\n",
       "\n",
       "[407 rows x 6 columns], token_table=      Topic      Freq        Term\n",
       "term                             \n",
       "227       1  0.630261      accord\n",
       "116       4  0.937554  accordance\n",
       "107       1  0.347427     account\n",
       "107       2  0.138971     account\n",
       "107      10  0.416913     account\n",
       "...     ...       ...         ...\n",
       "272       3  0.782119   wednesday\n",
       "311       1  0.735850        week\n",
       "131       4  0.531570      within\n",
       "52        6  0.826486       world\n",
       "224       3  0.949549        year\n",
       "\n",
       "[367 rows x 3 columns], R=30, lambda_step=0.01, plot_opts={'xlab': 'PC1', 'ylab': 'PC2'}, topic_order=[1, 3, 2, 5, 10, 9, 6, 7, 8, 4])"
      ]
     },
     "execution_count": 38,
     "metadata": {},
     "output_type": "execute_result"
    }
   ],
   "source": [
    "corpus_topic(preprocess_text(pointx_corpus))"
   ]
  },
  {
   "cell_type": "code",
   "execution_count": 39,
   "metadata": {},
   "outputs": [
    {
     "data": {
      "text/plain": [
       "[('consumer_demands', 0.9919575452804565),\n",
       " ('institutions_reinvent', 0.9919145107269287),\n",
       " ('stay_ahead', 0.991886556148529),\n",
       " ('cooperative_education', 0.991872251033783),\n",
       " ('trirat_suwanprateeb', 0.9917877316474915),\n",
       " ('focused_subsidiary', 0.9917343854904175),\n",
       " ('scbx', 0.9917099475860596),\n",
       " ('southeast_asias', 0.991675615310669),\n",
       " ('technological_capabilities', 0.9916498064994812),\n",
       " ('facebook_linkedin', 0.991629958152771)]"
      ]
     },
     "execution_count": 39,
     "metadata": {},
     "output_type": "execute_result"
    }
   ],
   "source": [
    "TechXmodel.wv.most_similar('techx',topn=10)"
   ]
  },
  {
   "cell_type": "code",
   "execution_count": null,
   "metadata": {},
   "outputs": [],
   "source": []
  }
 ],
 "metadata": {
  "kernelspec": {
   "display_name": "base",
   "language": "python",
   "name": "python3"
  },
  "language_info": {
   "codemirror_mode": {
    "name": "ipython",
    "version": 3
   },
   "file_extension": ".py",
   "mimetype": "text/x-python",
   "name": "python",
   "nbconvert_exporter": "python",
   "pygments_lexer": "ipython3",
   "version": "3.10.9"
  },
  "orig_nbformat": 4
 },
 "nbformat": 4,
 "nbformat_minor": 2
}

{
 "cells": [
  {
   "cell_type": "code",
   "execution_count": 49,
   "metadata": {},
   "outputs": [],
   "source": [
    "import gensim\n",
    "import gensim.corpora as corpora\n",
    "from gensim.utils import simple_preprocess\n",
    "from gensim.models import Word2Vec, CoherenceModel\n",
    "from gensim.models.keyedvectors import KeyedVectors\n",
    "import mlflow, os, nltk, random, re\n",
    "import matplotlib.pyplot as plt\n",
    "from sklearn.manifold import TSNE\n",
    "import numpy as np\n",
    "from nltk.tokenize import sent_tokenize, word_tokenize\n",
    "from collections import Counter\n",
    "import pyLDAvis\n",
    "import pyLDAvis.gensim\n",
    "import nltk\n",
    "from nltk import pos_tag\n",
    "from nltk.corpus import wordnet, stopwords, words\n",
    "from nltk.stem import WordNetLemmatizer\n",
    "from pprint import pprint"
   ]
  },
  {
   "cell_type": "code",
   "execution_count": 50,
   "metadata": {},
   "outputs": [
    {
     "name": "stderr",
     "output_type": "stream",
     "text": [
      "[nltk_data] Downloading package words to\n",
      "[nltk_data]     /Users/thanawatthongpia/nltk_data...\n",
      "[nltk_data]   Package words is already up-to-date!\n",
      "[nltk_data] Downloading package punkt to\n",
      "[nltk_data]     /Users/thanawatthongpia/nltk_data...\n",
      "[nltk_data]   Package punkt is already up-to-date!\n",
      "[nltk_data] Downloading package wordnet to\n",
      "[nltk_data]     /Users/thanawatthongpia/nltk_data...\n",
      "[nltk_data]   Package wordnet is already up-to-date!\n"
     ]
    }
   ],
   "source": [
    "nltk.download('words')\n",
    "nltk.download('punkt')\n",
    "nltk.download('wordnet')\n",
    "\n",
    "stop_words = stopwords.words('english')\n",
    "vocabulary = words.words()"
   ]
  },
  {
   "cell_type": "code",
   "execution_count": 51,
   "metadata": {},
   "outputs": [],
   "source": [
    "# Convert GloVe vectors to word2vec format\n",
    "# from gensim.scripts.glove2word2vec import glove2word2vec\n",
    "\n",
    "# glove_file = \"src/glove.42B.300d.txt\"\n",
    "# temp_word2vec_file = \"src/w2v.42B.300d.txt\"\n",
    "# glove2word2vec(glove_file, temp_word2vec_file)"
   ]
  },
  {
   "cell_type": "code",
   "execution_count": 52,
   "metadata": {},
   "outputs": [],
   "source": [
    "def preprocess_text(sentences):\n",
    "\n",
    "    lemmatizer = WordNetLemmatizer()\n",
    "    lemmatized_sentences = []\n",
    "    bigram = gensim.models.Phrases(sentences, min_count=5, threshold=100)\n",
    "    bigram_mod = gensim.models.phrases.Phraser(bigram)\n",
    "    \n",
    "    data_words_nostops = [[word for word in doc if word not in stop_words] for doc in sentences]\n",
    "    # data_words_bigrams = [bigram_mod[doc] for doc in data_words_nostops]\n",
    "\n",
    "    for sentence in data_words_nostops:\n",
    "        lemmatized_tokens = [lemmatizer.lemmatize(token, wordnet.VERB) for token in sentence]\n",
    "        lemmatized_sentences.append(lemmatized_tokens)\n",
    "    return lemmatized_sentences"
   ]
  },
  {
   "cell_type": "code",
   "execution_count": 53,
   "metadata": {},
   "outputs": [],
   "source": [
    "def import_text_to_list_of_lists(file_path, delimiter='\\t'):\n",
    "    result = []\n",
    "    with open(file_path, 'r') as file:\n",
    "        for line in file:\n",
    "            line = line.strip()  # Remove leading/trailing whitespace and newlines\n",
    "            sublist = line.split(delimiter)\n",
    "            result.append(sublist)\n",
    "    return result"
   ]
  },
  {
   "cell_type": "code",
   "execution_count": 54,
   "metadata": {},
   "outputs": [],
   "source": [
    "def CreateW2V_Model(w2v_file_name, pre_train_file, vectorsize=300, window=5, min_count=1, workers=4):\n",
    "\n",
    "    folder_path = 'src'\n",
    "    pre_train_file_path = os.path.join(folder_path, pre_train_file)\n",
    "    w2v_file_path = os.path.join(folder_path, w2v_file_name)\n",
    "    RUN_NAME = \"Create Word2Vec Model\"\n",
    "\n",
    "    if mlflow.active_run():\n",
    "        mlflow.end_run()\n",
    "    \n",
    "    with mlflow.start_run(run_name=RUN_NAME):\n",
    "        # Check exist model\n",
    "        if os.path.isfile(pre_train_file_path):\n",
    "            # Load word vectors\n",
    "            GloVe_vectors = KeyedVectors.load(pre_train_file_path)\n",
    "        else:\n",
    "            GloVe_vectors = KeyedVectors.load_word2vec_format(w2v_file_path, binary=False)\n",
    "\n",
    "        # Initialize a Gensim Word2Vec model\n",
    "        model = Word2Vec(vector_size=vectorsize, window=window, min_count=min_count, workers=workers)\n",
    "        # Set the vocabulary and vectors of the model\n",
    "        model.build_vocab_from_freq(GloVe_vectors.key_to_index)\n",
    "        model.wv.key_to_index = GloVe_vectors.key_to_index\n",
    "        model.wv.vectors = GloVe_vectors.vectors\n",
    "        model.wv.index_to_key = GloVe_vectors.index_to_key\n",
    "        \n",
    "        if not os.path.isfile(pre_train_file_path):\n",
    "            model.wv.save(pre_train_file_path) \n",
    "\n",
    "        # Log parameters\n",
    "        mlflow.log_param(\"vectorsize\", vectorsize)\n",
    "        mlflow.log_param(\"window\", window)\n",
    "        mlflow.log_param(\"min_count\", min_count)\n",
    "        mlflow.log_param(\"workers\", workers)\n",
    "\n",
    "        # Log model artifact\n",
    "        mlflow.log_artifact(pre_train_file_path)\n",
    "        \n",
    "        return model"
   ]
  },
  {
   "cell_type": "code",
   "execution_count": 55,
   "metadata": {},
   "outputs": [],
   "source": [
    "def test_Accuracy(model , test_file_path):\n",
    "    with open(test_file_path, 'r') as file:\n",
    "        lines = file.readlines()\n",
    "    total_questions = 0\n",
    "    correct_predictions = 0\n",
    "    random_amount = 1000\n",
    "    random.seed(42)\n",
    "    for line in random.sample(lines, random_amount):\n",
    "        if line.startswith(':'):\n",
    "            continue  # Skip comment lines and category headers\n",
    "        question, expected_answer = [word.lower() for word in line.split()[:2]]\n",
    "        choices = [word.lower() for word in line.split()[2:]]\n",
    "        try:\n",
    "            predicted_answer = model.wv.most_similar(positive=[question, choices[1]], negative=[expected_answer])[0][0]\n",
    "            if predicted_answer == choices[0]:\n",
    "                correct_predictions += 1\n",
    "        except KeyError:\n",
    "            continue  # Skip questions with out-of-vocabulary words\n",
    "\n",
    "        total_questions += 1\n",
    "\n",
    "    accuracy = correct_predictions / total_questions * 100\n",
    "    return accuracy"
   ]
  },
  {
   "cell_type": "code",
   "execution_count": 56,
   "metadata": {},
   "outputs": [],
   "source": [
    "def train_with_corpus(model, RUN_NAME, new_corpus, epochs):\n",
    "    \n",
    "    if mlflow.active_run():\n",
    "        mlflow.end_run()\n",
    "        \n",
    "    with mlflow.start_run(run_name=RUN_NAME):\n",
    "        # Update the vocabulary with new words\n",
    "        model.build_vocab(new_corpus, update=True)\n",
    "        model.train(new_corpus, total_examples=len(new_corpus), epochs=epochs)\n",
    "\n",
    "        # Log parameters\n",
    "        mlflow.log_param(\"epochs\", epochs)\n",
    "        # Log model artifact\n",
    "        mlflow.sklearn.log_model(model, \"word2vec_model\")\n",
    "        # accuracy = test_Accuracy(model,'src/questions-words.txt' )\n",
    "        # mlflow.log_metric(\"accuracy\", accuracy)\n",
    "        return model"
   ]
  },
  {
   "cell_type": "code",
   "execution_count": 57,
   "metadata": {},
   "outputs": [],
   "source": [
    "def plot_vec(model):\n",
    "    \n",
    "    vocabulary = words.words()\n",
    "    all_words = []\n",
    "    vectors = []\n",
    "    vocabs = list(set(vocabulary) & set(model.wv.key_to_index.keys()))\n",
    "    random.seed(42)\n",
    "    random_amount = 100\n",
    "    for word in random.sample(vocabs, random_amount):\n",
    "        all_words.append(word)\n",
    "        vectors.append(model.wv[word])\n",
    "        \n",
    "    tsne = TSNE(n_components=2, random_state=42)\n",
    "    vectors_tsne = tsne.fit_transform(np.array(vectors))\n",
    "\n",
    "    #########   PLOT CHART    #######\n",
    "    plt.figure(figsize=(10, 10))\n",
    "    for i, word in enumerate(all_words):\n",
    "        x, y = vectors_tsne[i]\n",
    "        plt.scatter(x, y)\n",
    "        plt.annotate(word, (x, y), alpha=0.5, fontsize=8)\n",
    "\n",
    "    plt.title(\"t-SNE Visualization of Word2Vec Embeddings\")\n",
    "    plt.show()"
   ]
  },
  {
   "cell_type": "code",
   "execution_count": 58,
   "metadata": {},
   "outputs": [],
   "source": [
    "def corpus_topic(corpus,num_topics=10):\n",
    "\n",
    "    data_lemmatized = preprocess_text(corpus)\n",
    "    id2word = corpora.Dictionary(data_lemmatized)  \n",
    "\n",
    "    # Term Document Frequency \n",
    "    LDA_corpus = [id2word.doc2bow(text) for text in data_lemmatized]\n",
    "    lda_model = gensim.models.ldamodel.LdaModel(corpus=LDA_corpus,\n",
    "                                           id2word=id2word,\n",
    "                                           num_topics=num_topics, \n",
    "                                           random_state=100,\n",
    "                                           update_every=1,\n",
    "                                           chunksize=100,\n",
    "                                           passes=10,\n",
    "                                           alpha='auto',\n",
    "                                           per_word_topics=True)\n",
    "    \n",
    "    # Compute Perplexity\n",
    "    print('\\nPerplexity: ', lda_model.log_perplexity(LDA_corpus))  \n",
    "    # a measure of how good the model is. lower the better.\n",
    "\n",
    "    # Compute Coherence Score\n",
    "    coherence_model_lda = CoherenceModel(model=lda_model, texts=data_lemmatized, dictionary=id2word, coherence='c_v')\n",
    "    coherence_lda = coherence_model_lda.get_coherence()\n",
    "    print('Coherence Score: ', coherence_lda)\n",
    "    pyLDAvis.enable_notebook()\n",
    "    vis = pyLDAvis.gensim.prepare(lda_model, LDA_corpus, id2word)\n",
    "    return vis"
   ]
  },
  {
   "cell_type": "code",
   "execution_count": 59,
   "metadata": {},
   "outputs": [],
   "source": [
    "model = CreateW2V_Model(\"w2v.42B.300d.txt\",'GloVe.wordvectors')"
   ]
  },
  {
   "cell_type": "code",
   "execution_count": 60,
   "metadata": {},
   "outputs": [
    {
     "data": {
      "text/plain": [
       "[('iphone', 0.7339416146278381),\n",
       " ('ipad', 0.7129027247428894),\n",
       " ('apples', 0.6433200836181641),\n",
       " ('blackberry', 0.6380701661109924),\n",
       " ('ipod', 0.6341225504875183)]"
      ]
     },
     "execution_count": 60,
     "metadata": {},
     "output_type": "execute_result"
    }
   ],
   "source": [
    "model.wv.most_similar(\"apple\", topn=5)"
   ]
  },
  {
   "cell_type": "code",
   "execution_count": 61,
   "metadata": {},
   "outputs": [],
   "source": [
    "# for time in range(5):\n",
    "#     model = train_with_corpus(model,new_corpus,1000)\n",
    "#     i+=1\n",
    "#     model.wv.most_similar(\"apple\", topn=5)"
   ]
  },
  {
   "cell_type": "code",
   "execution_count": 62,
   "metadata": {},
   "outputs": [],
   "source": [
    "# plot_vec(model)"
   ]
  },
  {
   "cell_type": "code",
   "execution_count": 63,
   "metadata": {},
   "outputs": [],
   "source": [
    "# test_Accuracy(model,'src/questions-words.txt' )"
   ]
  },
  {
   "cell_type": "code",
   "execution_count": 64,
   "metadata": {},
   "outputs": [],
   "source": [
    "# scb_corpus = import_text_to_list_of_lists('src/Corpus_SCB_tip4u.txt', delimiter='\\t')\n",
    "techx_corpus = import_text_to_list_of_lists('src/Corpus_TechX_(norm).txt', delimiter='\\t')\n",
    "pointx_corpus = import_text_to_list_of_lists('src/Corpus_PointX.txt', delimiter='\\t')"
   ]
  },
  {
   "cell_type": "code",
   "execution_count": 65,
   "metadata": {},
   "outputs": [],
   "source": [
    "def word_similar(model,key,n):\n",
    "    try:\n",
    "        for k, vec_score in model.wv.most_similar(key,topn=n):\n",
    "            print(f\"{k:{10}} {vec_score}\")\n",
    "    except KeyError:\n",
    "        print(f\"{key} not found.\")"
   ]
  },
  {
   "cell_type": "code",
   "execution_count": 66,
   "metadata": {},
   "outputs": [
    {
     "name": "stdout",
     "output_type": "stream",
     "text": [
      "aic        0.3304489850997925\n",
      "gsc        0.32839545607566833\n",
      "m&i        0.3262021243572235\n",
      "laurentian 0.32590141892433167\n",
      "iob        0.3192133605480194\n"
     ]
    }
   ],
   "source": [
    "key = 'scb'\n",
    "word_similar(model,key,5)"
   ]
  },
  {
   "cell_type": "code",
   "execution_count": 67,
   "metadata": {},
   "outputs": [
    {
     "name": "stderr",
     "output_type": "stream",
     "text": [
      "2023/07/25 16:09:50 WARNING mlflow.sklearn: Model was missing function: predict. Not logging python_function flavor!\n",
      "/Users/thanawatthongpia/anaconda3/lib/python3.10/site-packages/_distutils_hack/__init__.py:18: UserWarning: Distutils was imported before Setuptools, but importing Setuptools also replaces the `distutils` module in `sys.modules`. This may lead to undesirable behaviors or errors. To avoid these issues, avoid using distutils directly, ensure that setuptools is installed in the traditional way (e.g. not an editable install), and/or make sure that setuptools is always imported before distutils.\n",
      "  warnings.warn(\n",
      "/Users/thanawatthongpia/anaconda3/lib/python3.10/site-packages/_distutils_hack/__init__.py:33: UserWarning: Setuptools is replacing distutils.\n",
      "  warnings.warn(\"Setuptools is replacing distutils.\")\n",
      "/Users/thanawatthongpia/anaconda3/lib/python3.10/importlib/__init__.py:126: DeprecationWarning: The distutils package is deprecated and slated for removal in Python 3.12. Use setuptools or check PEP 632 for potential alternatives\n",
      "  return _bootstrap._gcd_import(name[level:], package, level)\n"
     ]
    }
   ],
   "source": [
    "# don't know why preprocess techx corpus first then kernal will crashed\n",
    "corpus = [techx_corpus]\n",
    "train_datasets = [preprocess_text(dataset) for dataset in corpus]\n",
    "\n",
    "for i,dataset in enumerate(train_datasets):\n",
    "    runname = f\"train round {i+1}\"\n",
    "    TechXmodel = train_with_corpus(model,runname,dataset,epochs=100)"
   ]
  },
  {
   "cell_type": "code",
   "execution_count": 68,
   "metadata": {},
   "outputs": [
    {
     "name": "stdout",
     "output_type": "stream",
     "text": [
      "cardx      0.9925256967544556\n",
      "techxs     0.9922922849655151\n",
      "scbtechx   0.9922853112220764\n",
      "scbx       0.992121696472168\n",
      "thaicharoen 0.9920690655708313\n"
     ]
    }
   ],
   "source": [
    "word_similar(model,key,5)"
   ]
  },
  {
   "cell_type": "code",
   "execution_count": 69,
   "metadata": {},
   "outputs": [
    {
     "name": "stdout",
     "output_type": "stream",
     "text": [
      "\n",
      "Perplexity:  -6.551750502379153\n",
      "Coherence Score:  0.5097149008739016\n"
     ]
    },
    {
     "data": {
      "text/html": [
       "\n",
       "<link rel=\"stylesheet\" type=\"text/css\" href=\"https://cdn.jsdelivr.net/gh/bmabey/pyLDAvis@3.4.0/pyLDAvis/js/ldavis.v1.0.0.css\">\n",
       "\n",
       "\n",
       "<div id=\"ldavis_el4397109944460968395539546\" style=\"background-color:white;\"></div>\n",
       "<script type=\"text/javascript\">\n",
       "\n",
       "var ldavis_el4397109944460968395539546_data = {\"mdsDat\": {\"x\": [-0.31181359978391726, -0.044818882847196415, -0.2880210072098638, 0.01442666662182058, 0.12078264068858385, 0.1436938747831203, 0.1326663978536849, 0.10469939171836387, 0.02977749520828549, 0.09860702296711836], \"y\": [-0.11060559316257651, 0.2928823567544979, 0.06604251007859302, -0.07774692427966605, 0.17175634683218735, -0.06586939658857409, 0.13760031312252252, -0.13173140967413174, -0.15804610813929698, -0.12428209494355545], \"topics\": [1, 2, 3, 4, 5, 6, 7, 8, 9, 10], \"cluster\": [1, 1, 1, 1, 1, 1, 1, 1, 1, 1], \"Freq\": [20.6176145344698, 20.393748085010717, 14.553184890577917, 9.558940100521845, 8.442187176863596, 7.779774732292329, 7.6314056237324, 4.355406885193804, 3.917432984443748, 2.750304986893849]}, \"tinfo\": {\"Term\": [\"scb\", \"pointx\", \"point\", \"use\", \"techx\", \"customers\", \"reward\", \"company\", \"application\", \"data\", \"digital\", \"service\", \"group\", \"credit\", \"technology\", \"scan\", \"receive\", \"get\", \"scbx\", \"may\", \"new\", \"thailand\", \"experience\", \"world\", \"platform\", \"deal\", \"engineer\", \"cash\", \"shop\", \"redemption\", \"technology\", \"experience\", \"cash\", \"shop\", \"pay\", \"baht\", \"campaign\", \"spend\", \"store\", \"app\", \"every\", \"one\", \"enjoy\", \"redeem\", \"discount\", \"mall\", \"month\", \"robinhood\", \"purchase\", \"per\", \"wallet\", \"rate\", \"let\", \"launch\", \"food\", \"day\", \"retail\", \"november\", \"see\", \"earn\", \"customers\", \"pointx\", \"point\", \"use\", \"special\", \"reward\", \"products\", \"new\", \"scb\", \"techx\", \"scbx\", \"platform\", \"website\", \"like\", \"develop\", \"chief\", \"lead\", \"co\", \"platforms\", \"sapient\", \"ltd\", \"create\", \"industry\", \"expand\", \"focus\", \"asia\", \"innovations\", \"fintech\", \"solutions\", \"southeast\", \"businesses\", \"change\", \"thailands\", \"link\", \"innovative\", \"contain\", \"consult\", \"technological\", \"group\", \"digital\", \"publicis\", \"suwanprateeb\", \"business\", \"company\", \"partner\", \"new\", \"service\", \"work\", \"mr\", \"offer\", \"bank\", \"provide\", \"transformation\", \"market\", \"application\", \"world\", \"redemption\", \"accumulation\", \"download\", \"unlimited\", \"agreement\", \"loan\", \"enter\", \"anddigital\", \"reach\", \"call\", \"june\", \"april\", \"february\", \"center\", \"card\", \"interview\", \"available\", \"giveaway\", \"program\", \"websites\", \"july\", \"cardx\", \"bonus\", \"march\", \"ability\", \"unlock\", \"topups\", \"total\", \"transfer\", \"promotion\", \"reward\", \"point\", \"pointx\", \"joint\", \"new\", \"offer\", \"venture\", \"information\", \"transformation\", \"credit\", \"business\", \"data\", \"personal\", \"end\", \"right\", \"without\", \"instead\", \"place\", \"collect\", \"give\", \"agree\", \"tax\", \"notice\", \"laws\", \"bind\", \"best\", \"part\", \"legal\", \"privacy\", \"disclose\", \"mean\", \"accord\", \"ways\", \"consent\", \"namely\", \"condition\", \"comply\", \"subject\", \"prescribe\", \"reason\", \"read\", \"purpose\", \"code\", \"use\", \"company\", \"provide\", \"limit\", \"information\", \"lend\", \"cloud\", \"users\", \"mambu\", \"access\", \"management\", \"opportunities\", \"security\", \"aws\", \"seminar\", \"third\", \"department\", \"future\", \"party\", \"web\", \"risk\", \"prepare\", \"individuals\", \"amazon\", \"life\", \"addition\", \"agility\", \"obtain\", \"sector\", \"career\", \"responsible\", \"collaborate\", \"lenders\", \"monix\", \"ms\", \"include\", \"financial\", \"service\", \"information\", \"digital\", \"microfinance\", \"market\", \"help\", \"company\", \"partner\", \"get\", \"say\", \"officer\", \"shall\", \"back\", \"capabilities\", \"knowledge\", \"director\", \"systems\", \"event\", \"growth\", \"drive\", \"learn\", \"add\", \"liable\", \"damage\", \"value\", \"well\", \"goal\", \"find\", \"establish\", \"share\", \"nera\", \"platt\", \"product\", \"person\", \"result\", \"forward\", \"advantage\", \"employees\", \"development\", \"also\", \"time\", \"allow\", \"detail\", \"need\", \"process\", \"company\", \"thailand\", \"term\", \"customer\", \"join\", \"continue\", \"finance\", \"level\", \"infrastructure\", \"open\", \"first\", \"support\", \"period\", \"baac\", \"largest\", \"institutions\", \"years\", \"age\", \"commercial\", \"segment\", \"competition\", \"depth\", \"demand\", \"meet\", \"address\", \"efficient\", \"collateral\", \"baacs\", \"agricultural\", \"aim\", \"hope\", \"credit\", \"system\", \"bank\", \"mr\", \"cardholders\", \"financial\", \"grow\", \"service\", \"executive\", \"scan\", \"qr\", \"extra\", \"feature\", \"manage\", \"build\", \"among\", \"operate\", \"user\", \"asean\", \"anywhere\", \"president\", \"vice\", \"speak\", \"even\", \"edge\", \"scale\", \"gain\", \"innovation\", \"enable\", \"expert\", \"click\", \"leverage\", \"mobile\", \"real\", \"region\", \"computer\", \"jonathan\", \"chance\", \"successful\", \"worth\", \"need\", \"sharp\", \"make\", \"development\", \"payment\", \"receive\", \"deal\", \"step\", \"professional\", \"halloween\", \"prior\", \"design\", \"respect\", \"employment\", \"warranty\", \"contract\", \"keen\", \"expectations\", \"representation\", \"appear\", \"exclusive\", \"double\", \"spooktacular\", \"fundamental\", \"vital\", \"anyone\", \"private\", \"entitle\", \"dispute\", \"additionally\", \"kind\", \"suitability\", \"jurisdiction\", \"therein\", \"accuracies\", \"apply\", \"visit\", \"make\", \"may\", \"round\", \"customers\", \"october\", \"relate\", \"information\", \"engineer\", \"software\", \"internship\", \"analyst\", \"virtual\", \"linkedin\", \"team\", \"qa\", \"months\", \"cooperative\", \"miss\", \"today\", \"recruitment\", \"selection\", \"hr\", \"science\", \"track\", \"dont\", \"start\", \"junior\", \"middle\", \"bts\", \"roles\", \"feedback\", \"home\", \"space\", \"timeline\", \"intern\", \"periodsummer\", \"guess\", \"opportunity\", \"apply\", \"follow\"], \"Freq\": [585.0, 699.0, 575.0, 382.0, 326.0, 250.0, 360.0, 444.0, 182.0, 143.0, 264.0, 249.0, 252.0, 152.0, 186.0, 86.0, 83.0, 106.0, 170.0, 92.0, 323.0, 98.0, 164.0, 132.0, 161.0, 72.0, 64.0, 152.0, 151.0, 121.0, 185.434130353788, 163.8446233282392, 151.94174809461217, 150.44536579678422, 127.67955390138613, 116.23391330507751, 93.6650383349592, 93.41557171441573, 90.68282471636326, 84.51545731707404, 80.26371564609943, 78.65517772538512, 76.53233322428618, 75.33075214598817, 68.38714919962348, 65.76537694987749, 59.74198837029163, 59.179771236604466, 47.73818955338659, 47.302902705933676, 46.72471904943894, 43.16970161923647, 41.839517806752745, 41.225454786570204, 41.05173165855435, 39.210652070867795, 34.89453076553166, 34.72712943584795, 33.367124420893056, 32.747211952210314, 186.3580685948233, 345.63186146329235, 256.95362901684575, 174.84398121240255, 77.42751304997216, 127.1879695448938, 49.84864860249686, 45.27399540455193, 584.7433102330141, 325.530984865685, 170.106350025385, 160.52087559094906, 125.77548250055688, 66.88084594137837, 130.2016848052179, 63.10628661212094, 62.212318896626776, 58.39742100591359, 56.65240471775362, 53.196001191320676, 52.411015501793166, 49.39328907748901, 48.98494331389321, 35.79171561372263, 34.01019089014411, 31.467076842682417, 30.74163738922707, 28.34319344991423, 27.89652469473475, 27.70172068152008, 27.280298161368865, 26.55494563275975, 26.455147760078074, 26.422980134168377, 26.413929084554194, 26.389709649272074, 25.665785947822943, 25.15784332525239, 226.08522300489255, 216.81996883837917, 85.39944013766811, 35.07499580890519, 120.0846975328746, 190.99301064363002, 48.43230773835084, 137.0380088590031, 99.07383217496609, 39.24873576328355, 53.30973148701289, 63.56944935687344, 48.33366433628322, 45.93238719026342, 45.48562879383626, 38.825069495538905, 181.32728565010262, 131.5591860643904, 120.53725138459333, 113.81739975449366, 104.84628477781655, 92.79999476409945, 82.9158070797412, 80.68361034255072, 66.08031665092773, 59.87352662169215, 59.87352662169215, 55.961277808205715, 53.81874608563525, 47.824123454795355, 47.26892767117052, 41.57250479515285, 41.140381300057626, 41.03030051377602, 39.39729077955027, 36.85073535546664, 36.015530246308636, 35.800908768258225, 34.33662573332675, 26.4538252992645, 21.560972003206484, 20.88910275959885, 15.34201237517757, 14.780271409914368, 13.166417453846588, 12.591959277228865, 73.16672171419472, 37.17094816602271, 232.84008467110374, 317.85559144809883, 352.8039498427832, 56.587742701297856, 140.1883659425092, 78.72482831874065, 51.71053658610314, 65.6105833189755, 48.84331863070522, 50.501039745214094, 48.70945692088162, 142.73143481319883, 78.42381340137909, 62.55287708779298, 53.17991261865309, 48.083134771212166, 46.25332593739039, 42.74500866034255, 28.85270641330972, 28.133028799707876, 27.644050159217795, 26.245203997141285, 26.167287453593296, 24.456174153069743, 23.05987699615996, 21.88706724130083, 19.505049924039486, 19.349873823290178, 18.093417992790013, 17.979278074120444, 17.769545368781163, 17.653675131419494, 17.446006330863064, 16.902300473049575, 16.60219012847461, 16.533451022110324, 15.411572987870297, 15.198571902779275, 15.048567659665954, 15.034024833984452, 14.094530538559573, 37.31810790599394, 79.0761040781906, 202.34209785932384, 181.37451611414963, 34.36003706595113, 24.006214899362647, 26.862068340406832, 43.66828219077267, 39.88647927887478, 35.105987115762986, 33.86943203341743, 33.092166461327444, 32.831464682789594, 31.46944907631544, 30.67703450464616, 28.304898179490536, 25.731439386351102, 23.22796600263981, 22.305064479576526, 22.29103771140906, 21.25677215016773, 19.57229830309407, 19.315462488077124, 18.00266426303007, 16.839188035617607, 16.673260836321248, 15.876876848936787, 15.218619532597584, 14.441412433486967, 14.266191403911302, 13.73244667474663, 13.234661703416439, 13.160812579428143, 12.971502935264521, 11.541492249621676, 11.541450643847892, 11.541450643847892, 37.526518827193364, 61.83303917502863, 107.84032150333798, 36.301084855732555, 46.69290499899546, 17.902325754905096, 22.238063441057193, 15.575499241881891, 18.98087110425757, 15.364555719830356, 105.77012711092007, 74.49242449431242, 65.12923102364837, 51.82643620977116, 50.97299021655017, 46.50670934423701, 37.03924440223537, 34.860863483006796, 34.61621764180441, 29.521449968040386, 28.647554646474507, 26.7582497601031, 26.310354133678945, 22.49421765693888, 21.95160062556137, 21.94716548188466, 20.661705407096807, 20.29724643921495, 19.109742937267992, 18.711715734745194, 18.228164869155595, 17.590364265983652, 17.187278098173547, 17.187278098173547, 16.816895933736536, 15.84426063544668, 15.588674082342735, 14.565005616812124, 14.363548541534447, 14.323691314609878, 58.54908606512339, 40.024216301487286, 32.00592004837009, 37.66993841303936, 18.493378171034447, 19.192410699406523, 17.946694900454276, 20.519111392896612, 97.99420331646866, 66.04309768111163, 60.666748242356064, 39.60429446614781, 37.24437563296052, 36.824993801725235, 36.4428844824579, 33.90953075953037, 31.54512312376725, 27.961263553820796, 27.034295327329644, 26.115818825638872, 24.48993306004156, 22.04691852192475, 21.742913960882376, 21.528280889892525, 21.50609099853602, 19.749938474491554, 18.54253596642549, 17.320329354936792, 16.022926151928164, 15.852438055364404, 15.80108924401465, 15.699352200670702, 14.909093221468552, 14.728526665317082, 14.728162763296668, 14.72794218581502, 13.386200876023098, 13.23291579005565, 101.16380211210398, 45.44061605870614, 51.32144754419706, 48.422514598806565, 23.81508184561504, 37.54815453409079, 21.48523880287467, 35.677994963103465, 20.635247035047986, 85.31435950944706, 45.397868993275125, 42.48641256553595, 41.85792247830178, 35.262436025005684, 30.688650698687752, 27.919762480886156, 23.057348349590104, 21.287952901997546, 20.88924319036526, 20.112105126436187, 18.35785224295619, 18.35785224295619, 18.34708386217857, 15.976105936296324, 15.681519191948196, 15.079087402729812, 14.104851190301963, 14.071302248357686, 13.855322015086259, 13.61195730566858, 12.329130000655791, 12.266436466883802, 10.918278355228908, 10.585412285526271, 10.190324908210085, 9.237659104901589, 8.834123868470884, 8.272826226383039, 8.133100075352345, 18.88860543852306, 30.193342311263912, 13.807214120227687, 23.78992775654432, 15.975319279452533, 11.185650021512192, 82.25396418529685, 71.17639312452044, 34.53228525349999, 34.13259577858876, 16.98312508471953, 17.028257072315967, 14.941962669020405, 12.19402604332691, 12.01059587874119, 11.996827841366116, 11.145018059605421, 11.020545317251553, 10.041854195375931, 8.044705042489948, 8.042904855688462, 7.456340336984727, 7.057852551987647, 6.857909717396183, 6.846449049886665, 6.720180295077518, 6.1650799109041, 5.582667301295849, 4.661422488325381, 4.622582284048453, 4.3319356025326154, 4.307867626790025, 4.258766618641267, 4.251945215146825, 4.24649221451815, 4.0613247392206775, 54.71711300675433, 51.95907237606838, 54.17406396007863, 62.24492023796477, 31.45041136716449, 62.83758138930287, 8.639924546259262, 7.036502336522026, 9.400850984208711, 63.74825452727226, 48.19555192859855, 34.648190472411926, 33.93491385744313, 30.11008915647479, 26.559801351922516, 25.09402102933113, 19.393139008462875, 14.944122903503963, 14.692511216821497, 12.282286985433002, 11.769738202368828, 10.156887787088227, 10.014910475890169, 9.866210194908936, 9.866210194908936, 9.75902513154148, 9.487654097421956, 8.422269266748334, 7.231654470485175, 7.231654470485175, 7.231610510351458, 6.825637942802753, 6.636692159403277, 5.445475109308191, 5.445475109308191, 5.223565819640754, 5.039217899893667, 5.039217899893667, 5.038048560336785, 10.535204301846447, 15.36644644278884, 9.938456476666728], \"Total\": [585.0, 699.0, 575.0, 382.0, 326.0, 250.0, 360.0, 444.0, 182.0, 143.0, 264.0, 249.0, 252.0, 152.0, 186.0, 86.0, 83.0, 106.0, 170.0, 92.0, 323.0, 98.0, 164.0, 132.0, 161.0, 72.0, 64.0, 152.0, 151.0, 121.0, 186.31310710633383, 164.7234612211901, 152.8203431320926, 151.32392927698393, 128.55852147631174, 117.11268628605434, 94.54366454227747, 94.29415609489735, 91.5614208411131, 85.394056526677, 81.14230018159883, 79.53406193921637, 77.41090254394051, 76.20935110282727, 69.2657362311999, 66.64403834430013, 60.620627548344686, 60.058338842702724, 48.61679865636687, 48.18149693405145, 47.635831795467176, 44.04835334586618, 42.71815263660959, 42.104154039708234, 41.930311272171856, 40.0894133860756, 35.77320391865195, 35.60571806379567, 34.246089768687185, 33.62577427954212, 250.34720708246857, 699.2178401880094, 575.5912387417534, 382.99002877803287, 118.38693266979126, 360.81008736902925, 69.80484811828414, 323.18481557988184, 585.6187700493896, 326.4063680617668, 170.98171107083513, 161.39649004096123, 126.65379207491502, 67.75629276580626, 131.9514112124389, 63.982183522909196, 63.08780439123739, 59.272850570440596, 57.527758308747025, 54.07142242991893, 53.28647365856256, 50.26875509118215, 49.860487626363856, 36.66721183279645, 34.885604671819884, 32.34246502872501, 31.61700068449501, 29.219107007435078, 28.771983837869776, 28.577075478335225, 28.155847255245156, 27.430684805503365, 27.330607737992544, 27.298985543731423, 27.290228067975285, 27.266245245465655, 26.541207042822812, 26.033190339965103, 252.12337845599717, 264.30879836809856, 122.86421757864505, 39.38781597516132, 194.81101194385198, 444.1871526741815, 64.59286748780544, 323.18481557988184, 249.77165209860357, 54.662688515389455, 102.52207235576738, 152.6939061781523, 100.4448736936015, 90.09952902879718, 95.1078454845362, 61.85913801453868, 182.20369540751597, 132.43575403274716, 121.41361690081004, 114.693762021804, 105.72280734587069, 93.67634143827752, 83.79246414632878, 81.56111467272723, 66.95671976279522, 60.74987683282346, 60.74987683282346, 56.837658936835695, 54.69523066128036, 48.70052654521944, 48.145431364151214, 42.448893480277725, 42.01679009280755, 41.90728211245981, 40.273736512865035, 37.72711725204709, 36.89231529771247, 36.68280733959276, 35.21305813957134, 27.330166357491304, 22.437386608928094, 21.765531235397255, 16.221093680810963, 15.656669550242318, 14.042762371852012, 13.46833419503976, 84.57109329245672, 45.00012905838952, 360.81008736902925, 575.5912387417534, 699.2178401880094, 77.13098297529969, 323.18481557988184, 152.6939061781523, 80.96882782455114, 138.737004350007, 95.1078454845362, 152.45565730816972, 194.81101194385198, 143.6659249019545, 79.27100462004034, 63.40060499584837, 54.027120077247915, 48.930451235628034, 47.100690794618195, 43.5925158709821, 29.699914142044825, 28.980309094784335, 28.49162602521201, 27.092407584220425, 27.014521793645713, 25.30336146537069, 23.907168697433224, 22.734663899826383, 20.35275693571669, 20.197079196630487, 18.94060754086251, 18.82646168955929, 18.616850659979804, 18.501317135753908, 18.29366851710334, 17.74948631961512, 17.4515423978341, 17.380672893627665, 16.258797235924273, 16.04605033887603, 15.895760518656827, 15.881739188647309, 14.941793891634575, 39.97527057262233, 87.32930823626467, 382.99002877803287, 444.1871526741815, 90.09952902879718, 52.22212903662536, 138.737004350007, 44.56182863495336, 40.779966084772305, 35.99971962993689, 34.762932471031355, 33.985957371219534, 33.72508967157302, 32.362941637535556, 31.570535566303263, 29.19839136329429, 26.62498516014628, 24.12164328822065, 23.198707570882192, 23.18480386423052, 22.150826942622405, 20.465832547987343, 20.20902082267201, 18.896258148109624, 17.73270505886024, 17.566754007586468, 16.77050421008588, 16.113158499788096, 15.334941729247777, 15.160020494014756, 14.625935119284993, 14.128489704186345, 14.054699714823906, 13.865128787526423, 12.435032033154027, 12.435003856287752, 12.435003856287752, 45.01432443723411, 115.53371545412377, 249.77165209860357, 138.737004350007, 264.30879836809856, 28.828659713117936, 61.85913801453868, 32.944662211445916, 444.1871526741815, 64.59286748780544, 106.64325973143018, 75.36568489317185, 66.00243109162133, 52.70361960221987, 51.84604077700995, 47.379827361204775, 37.91239672214315, 35.73406864227221, 35.4895640502017, 30.394628871714826, 29.520732185890857, 27.631364144243882, 27.183602558706262, 23.367263653980466, 22.827129348771557, 22.82315057276836, 21.53474666925672, 21.170283398942644, 19.98400583703931, 19.585754299067244, 19.101317786709664, 18.4637785111367, 18.06036380590843, 18.06036380590843, 17.689987618554085, 16.71737860416719, 16.461976639584893, 15.438233323451316, 15.236596837672929, 15.196726360154422, 75.3001357196359, 54.684368625460465, 42.46275244642656, 53.64023007531134, 23.92481183654665, 52.12545692845587, 32.82911589209797, 444.1871526741815, 98.88190663873993, 66.93246236925066, 61.55415539032161, 40.49185030422889, 38.13186156707074, 37.71244152014634, 37.33042568244344, 34.797106978284056, 32.432680736577936, 28.848619056275922, 27.921727448775975, 27.003270986044292, 25.377365887474223, 22.934424925697563, 22.630275223830655, 22.415630493553238, 22.393593702063228, 20.63732758340389, 19.429850646387624, 18.207678521923683, 16.91038512529625, 16.73979182810321, 16.688507036523966, 16.587022461380045, 15.796402282928389, 15.615826564371437, 15.615489810252146, 15.615308955774099, 14.273547165257003, 14.120392075962306, 152.45565730816972, 61.036104471961, 100.4448736936015, 102.52207235576738, 35.26041256691301, 115.53371545412377, 43.83503983202486, 249.77165209860357, 57.00350310620169, 86.18993634543065, 46.27338593737865, 43.36203870034692, 42.73363830758168, 36.13836017392651, 31.564228797429156, 28.79531178399647, 23.933281026510542, 22.16362532409504, 21.765017174863253, 20.987753931002672, 19.233404696101616, 19.233404696101616, 19.232102020424175, 16.85172046122383, 16.557279727255125, 15.954650423935584, 14.980793607354434, 14.947198770683942, 14.730819429580725, 14.487704085605294, 13.204627903053785, 13.141945183328303, 11.794144292749014, 11.460953158726118, 11.065904812925567, 10.113386012473075, 9.709991241708956, 9.148429553188194, 9.008644539422553, 26.69023224050843, 52.12545692845587, 24.500403946371293, 78.73065752152463, 75.3001357196359, 39.43142153175638, 83.11809619232164, 72.04053816705576, 35.396474375880004, 34.99691151908021, 17.847174100269136, 17.8951013286137, 15.806312664096874, 13.05889169017414, 12.874764314256309, 12.863661680786043, 12.00962845575191, 11.884606427383849, 10.906828419652967, 8.908976730703529, 8.907239835672312, 8.320405367966066, 7.921944382863965, 7.721956059795367, 7.711574909963484, 7.584619437935761, 7.029657933191135, 6.447449008115577, 5.525570819246148, 5.48682401113934, 5.1963987812788375, 5.171973575506461, 5.122890749150875, 5.116621091853086, 5.111667250364182, 4.925761994613626, 70.8602276967767, 70.97999370026525, 78.73065752152463, 92.4988332808963, 67.47830276286669, 250.34720708246857, 20.776883804504287, 21.068987831909702, 138.737004350007, 64.63380806226476, 49.08122686722187, 35.533721868664585, 34.82041137799886, 30.99558651299048, 27.445583004798124, 25.979760623862568, 20.27864719205758, 15.829629469050833, 15.578067997567892, 13.167802595236761, 12.655537946966058, 11.042469392315638, 10.9004418013549, 10.751719902897792, 10.751719902897792, 10.64451954335668, 10.373157471718537, 9.30788830127584, 8.117151808925549, 8.117151808925549, 8.117109415969473, 7.711136067898799, 7.5221897069335375, 6.330974512298354, 6.330974512298354, 6.109075939590735, 5.924726707195599, 5.924726707195599, 5.923656952824428, 24.25616798917104, 70.8602276967767, 54.742120408845835], \"Category\": [\"Default\", \"Default\", \"Default\", \"Default\", \"Default\", \"Default\", \"Default\", \"Default\", \"Default\", \"Default\", \"Default\", \"Default\", \"Default\", \"Default\", \"Default\", \"Default\", \"Default\", \"Default\", \"Default\", \"Default\", \"Default\", \"Default\", \"Default\", \"Default\", \"Default\", \"Default\", \"Default\", \"Default\", \"Default\", \"Default\", \"Topic1\", \"Topic1\", \"Topic1\", \"Topic1\", \"Topic1\", \"Topic1\", \"Topic1\", \"Topic1\", \"Topic1\", \"Topic1\", \"Topic1\", \"Topic1\", \"Topic1\", \"Topic1\", \"Topic1\", \"Topic1\", \"Topic1\", \"Topic1\", \"Topic1\", \"Topic1\", \"Topic1\", \"Topic1\", \"Topic1\", \"Topic1\", \"Topic1\", \"Topic1\", \"Topic1\", \"Topic1\", \"Topic1\", \"Topic1\", \"Topic1\", \"Topic1\", \"Topic1\", \"Topic1\", \"Topic1\", \"Topic1\", \"Topic1\", \"Topic1\", \"Topic2\", \"Topic2\", \"Topic2\", \"Topic2\", \"Topic2\", \"Topic2\", \"Topic2\", \"Topic2\", \"Topic2\", \"Topic2\", \"Topic2\", \"Topic2\", \"Topic2\", \"Topic2\", \"Topic2\", \"Topic2\", \"Topic2\", \"Topic2\", \"Topic2\", \"Topic2\", \"Topic2\", \"Topic2\", \"Topic2\", \"Topic2\", \"Topic2\", \"Topic2\", \"Topic2\", \"Topic2\", \"Topic2\", \"Topic2\", \"Topic2\", \"Topic2\", \"Topic2\", \"Topic2\", \"Topic2\", \"Topic2\", \"Topic2\", \"Topic2\", \"Topic2\", \"Topic2\", \"Topic2\", \"Topic2\", \"Topic2\", \"Topic2\", \"Topic2\", \"Topic2\", \"Topic3\", \"Topic3\", \"Topic3\", \"Topic3\", \"Topic3\", \"Topic3\", \"Topic3\", \"Topic3\", \"Topic3\", \"Topic3\", \"Topic3\", \"Topic3\", \"Topic3\", \"Topic3\", \"Topic3\", \"Topic3\", \"Topic3\", \"Topic3\", \"Topic3\", \"Topic3\", \"Topic3\", \"Topic3\", \"Topic3\", \"Topic3\", \"Topic3\", \"Topic3\", \"Topic3\", \"Topic3\", \"Topic3\", \"Topic3\", \"Topic3\", \"Topic3\", \"Topic3\", \"Topic3\", \"Topic3\", \"Topic3\", \"Topic3\", \"Topic3\", \"Topic3\", \"Topic3\", \"Topic3\", \"Topic3\", \"Topic3\", \"Topic4\", \"Topic4\", \"Topic4\", \"Topic4\", \"Topic4\", \"Topic4\", \"Topic4\", \"Topic4\", \"Topic4\", \"Topic4\", \"Topic4\", \"Topic4\", \"Topic4\", \"Topic4\", \"Topic4\", \"Topic4\", \"Topic4\", \"Topic4\", \"Topic4\", \"Topic4\", \"Topic4\", \"Topic4\", \"Topic4\", \"Topic4\", \"Topic4\", \"Topic4\", \"Topic4\", \"Topic4\", \"Topic4\", \"Topic4\", \"Topic4\", \"Topic4\", \"Topic4\", \"Topic4\", \"Topic4\", \"Topic4\", \"Topic4\", \"Topic5\", \"Topic5\", \"Topic5\", \"Topic5\", \"Topic5\", \"Topic5\", \"Topic5\", \"Topic5\", \"Topic5\", \"Topic5\", \"Topic5\", \"Topic5\", \"Topic5\", \"Topic5\", \"Topic5\", \"Topic5\", \"Topic5\", \"Topic5\", \"Topic5\", \"Topic5\", \"Topic5\", \"Topic5\", \"Topic5\", \"Topic5\", \"Topic5\", \"Topic5\", \"Topic5\", \"Topic5\", \"Topic5\", \"Topic5\", \"Topic5\", \"Topic5\", \"Topic5\", \"Topic5\", \"Topic5\", \"Topic5\", \"Topic5\", \"Topic5\", \"Topic5\", \"Topic5\", \"Topic6\", \"Topic6\", \"Topic6\", \"Topic6\", \"Topic6\", \"Topic6\", \"Topic6\", \"Topic6\", \"Topic6\", \"Topic6\", \"Topic6\", \"Topic6\", \"Topic6\", \"Topic6\", \"Topic6\", \"Topic6\", \"Topic6\", \"Topic6\", \"Topic6\", \"Topic6\", \"Topic6\", \"Topic6\", \"Topic6\", \"Topic6\", \"Topic6\", \"Topic6\", \"Topic6\", \"Topic6\", \"Topic6\", \"Topic6\", \"Topic6\", \"Topic6\", \"Topic6\", \"Topic6\", \"Topic6\", \"Topic6\", \"Topic6\", \"Topic6\", \"Topic7\", \"Topic7\", \"Topic7\", \"Topic7\", \"Topic7\", \"Topic7\", \"Topic7\", \"Topic7\", \"Topic7\", \"Topic7\", \"Topic7\", \"Topic7\", \"Topic7\", \"Topic7\", \"Topic7\", \"Topic7\", \"Topic7\", \"Topic7\", \"Topic7\", \"Topic7\", \"Topic7\", \"Topic7\", \"Topic7\", \"Topic7\", \"Topic7\", \"Topic7\", \"Topic7\", \"Topic7\", \"Topic7\", \"Topic7\", \"Topic7\", \"Topic7\", \"Topic7\", \"Topic7\", \"Topic7\", \"Topic7\", \"Topic7\", \"Topic7\", \"Topic7\", \"Topic8\", \"Topic8\", \"Topic8\", \"Topic8\", \"Topic8\", \"Topic8\", \"Topic8\", \"Topic8\", \"Topic8\", \"Topic8\", \"Topic8\", \"Topic8\", \"Topic8\", \"Topic8\", \"Topic8\", \"Topic8\", \"Topic8\", \"Topic8\", \"Topic8\", \"Topic8\", \"Topic8\", \"Topic8\", \"Topic8\", \"Topic8\", \"Topic8\", \"Topic8\", \"Topic8\", \"Topic8\", \"Topic8\", \"Topic8\", \"Topic8\", \"Topic8\", \"Topic8\", \"Topic8\", \"Topic8\", \"Topic8\", \"Topic9\", \"Topic9\", \"Topic9\", \"Topic9\", \"Topic9\", \"Topic9\", \"Topic9\", \"Topic9\", \"Topic9\", \"Topic9\", \"Topic9\", \"Topic9\", \"Topic9\", \"Topic9\", \"Topic9\", \"Topic9\", \"Topic9\", \"Topic9\", \"Topic9\", \"Topic9\", \"Topic9\", \"Topic9\", \"Topic9\", \"Topic9\", \"Topic9\", \"Topic9\", \"Topic9\", \"Topic9\", \"Topic9\", \"Topic9\", \"Topic9\", \"Topic9\", \"Topic9\", \"Topic9\", \"Topic9\", \"Topic9\", \"Topic9\", \"Topic9\", \"Topic9\", \"Topic10\", \"Topic10\", \"Topic10\", \"Topic10\", \"Topic10\", \"Topic10\", \"Topic10\", \"Topic10\", \"Topic10\", \"Topic10\", \"Topic10\", \"Topic10\", \"Topic10\", \"Topic10\", \"Topic10\", \"Topic10\", \"Topic10\", \"Topic10\", \"Topic10\", \"Topic10\", \"Topic10\", \"Topic10\", \"Topic10\", \"Topic10\", \"Topic10\", \"Topic10\", \"Topic10\", \"Topic10\", \"Topic10\", \"Topic10\", \"Topic10\", \"Topic10\", \"Topic10\"], \"logprob\": [30.0, 29.0, 28.0, 27.0, 26.0, 25.0, 24.0, 23.0, 22.0, 21.0, 20.0, 19.0, 18.0, 17.0, 16.0, 15.0, 14.0, 13.0, 12.0, 11.0, 10.0, 9.0, 8.0, 7.0, 6.0, 5.0, 4.0, 3.0, 2.0, 1.0, -3.4596, -3.5834, -3.6588, -3.6687, -3.8328, -3.9267, -4.1426, -4.1452, -4.1749, -4.2453, -4.297, -4.3172, -4.3446, -4.3604, -4.4571, -4.4962, -4.5922, -4.6017, -4.8165, -4.8257, -4.838, -4.9171, -4.9484, -4.9632, -4.9674, -5.0133, -5.1299, -5.1348, -5.1747, -5.1935, -3.4546, -2.8369, -3.1334, -3.5184, -4.3329, -3.8366, -4.7733, -4.8695, -2.3002, -2.8859, -3.5349, -3.5929, -3.8369, -4.4684, -3.8023, -4.5265, -4.5408, -4.6041, -4.6344, -4.6974, -4.7122, -4.7715, -4.7798, -5.0936, -5.1447, -5.2224, -5.2457, -5.327, -5.3429, -5.3499, -5.3652, -5.3921, -5.3959, -5.3971, -5.3975, -5.3984, -5.4262, -5.4462, -3.2504, -3.2923, -4.224, -5.1139, -3.8832, -3.4191, -4.7912, -3.7511, -4.0755, -5.0014, -4.6952, -4.5192, -4.7932, -4.8442, -4.854, -5.0123, -3.1336, -3.4545, -3.542, -3.5993, -3.6814, -3.8035, -3.9161, -3.9434, -4.1431, -4.2417, -4.2417, -4.3093, -4.3483, -4.4664, -4.4781, -4.6065, -4.617, -4.6196, -4.6602, -4.7271, -4.75, -4.756, -4.7977, -5.0585, -5.2631, -5.2947, -5.6033, -5.6406, -5.7563, -5.8009, -4.0412, -4.7184, -2.8836, -2.5723, -2.468, -4.2981, -3.391, -3.968, -4.3883, -4.1502, -4.4453, -4.4119, -4.4481, -2.9526, -3.5515, -3.7776, -3.9399, -4.0407, -4.0795, -4.1584, -4.5514, -4.5767, -4.5942, -4.6461, -4.6491, -4.7167, -4.7755, -4.8277, -4.9429, -4.9509, -5.0181, -5.0244, -5.0361, -5.0427, -5.0545, -5.0862, -5.1041, -5.1082, -5.1785, -5.1924, -5.2023, -5.2033, -5.2678, -4.2941, -3.5432, -2.6036, -2.713, -4.3767, -4.7353, -4.6229, -4.0128, -4.1033, -4.231, -4.2669, -4.2901, -4.298, -4.3404, -4.3659, -4.4463, -4.5417, -4.644, -4.6846, -4.6852, -4.7327, -4.8153, -4.8285, -4.8989, -4.9657, -4.9756, -5.0245, -5.0669, -5.1193, -5.1315, -5.1696, -5.2065, -5.2121, -5.2266, -5.3434, -5.3434, -5.3434, -4.1643, -3.6649, -3.1087, -4.1975, -3.9458, -4.9044, -4.6876, -5.0437, -4.8459, -5.0573, -3.0464, -3.397, -3.5313, -3.7598, -3.7764, -3.8681, -4.0957, -4.1563, -4.1633, -4.3225, -4.3526, -4.4208, -4.4377, -4.5944, -4.6188, -4.619, -4.6794, -4.6972, -4.7575, -4.7785, -4.8047, -4.8403, -4.8635, -4.8635, -4.8853, -4.9449, -4.9611, -5.029, -5.043, -5.0457, -3.6378, -4.0182, -4.2417, -4.0788, -4.7902, -4.7531, -4.8203, -4.6863, -3.1035, -3.4981, -3.583, -4.0095, -4.0709, -4.0822, -4.0927, -4.1647, -4.237, -4.3576, -4.3913, -4.4259, -4.4901, -4.5952, -4.6091, -4.619, -4.6201, -4.7053, -4.7683, -4.8365, -4.9144, -4.9251, -4.9283, -4.9348, -4.9864, -4.9986, -4.9986, -4.9987, -5.0942, -5.1057, -3.0717, -3.872, -3.7503, -3.8084, -4.5181, -4.0628, -4.621, -4.1139, -4.6614, -2.6812, -3.3121, -3.3784, -3.3933, -3.5647, -3.7037, -3.7982, -3.9896, -4.0694, -4.0883, -4.1262, -4.2175, -4.2175, -4.2181, -4.3565, -4.3751, -4.4142, -4.481, -4.4834, -4.4989, -4.5166, -4.6156, -4.6207, -4.7371, -4.7681, -4.8061, -4.9043, -4.9489, -5.0146, -5.0316, -4.189, -3.7199, -4.5024, -3.9583, -4.3565, -4.7129, -2.6118, -2.7564, -3.4797, -3.4913, -4.1893, -4.1867, -4.3174, -4.5206, -4.5358, -4.5369, -4.6106, -4.6218, -4.7148, -4.9366, -4.9368, -5.0125, -5.0674, -5.0962, -5.0978, -5.1165, -5.2027, -5.3019, -5.4822, -5.4906, -5.5556, -5.5611, -5.5726, -5.5742, -5.5755, -5.6201, -3.0194, -3.0711, -3.0294, -2.8905, -3.5732, -2.881, -4.8652, -5.0705, -4.7808, -2.5129, -2.7926, -3.1226, -3.1434, -3.263, -3.3884, -3.4452, -3.7029, -3.9635, -3.9805, -4.1597, -4.2023, -4.3497, -4.3638, -4.3787, -4.3787, -4.3897, -4.4179, -4.537, -4.6894, -4.6894, -4.6894, -4.7472, -4.7752, -4.9731, -4.9731, -5.0147, -5.0506, -5.0506, -5.0508, -4.3131, -3.9357, -4.3714], \"loglift\": [30.0, 29.0, 28.0, 27.0, 26.0, 25.0, 24.0, 23.0, 22.0, 21.0, 20.0, 19.0, 18.0, 17.0, 16.0, 15.0, 14.0, 13.0, 12.0, 11.0, 10.0, 9.0, 8.0, 7.0, 6.0, 5.0, 4.0, 3.0, 2.0, 1.0, 1.5743, 1.5737, 1.5733, 1.5732, 1.5722, 1.5715, 1.5697, 1.5697, 1.5694, 1.5687, 1.5681, 1.5679, 1.5676, 1.5674, 1.5663, 1.5658, 1.5644, 1.5643, 1.5608, 1.5606, 1.5597, 1.5589, 1.5582, 1.5579, 1.5578, 1.5569, 1.5542, 1.554, 1.553, 1.5525, 1.2838, 0.8744, 0.7725, 0.7949, 1.1544, 0.5363, 1.2423, -0.3865, 1.5884, 1.5873, 1.5848, 1.5845, 1.583, 1.5769, 1.5766, 1.5762, 1.576, 1.5751, 1.5746, 1.5736, 1.5734, 1.5724, 1.5722, 1.5658, 1.5645, 1.5625, 1.5619, 1.5595, 1.559, 1.5588, 1.5584, 1.5575, 1.5574, 1.5573, 1.5573, 1.5573, 1.5564, 1.5557, 1.4809, 1.3919, 1.2262, 1.474, 1.1061, 0.7459, 1.302, 0.732, 0.6653, 1.2587, 0.936, 0.7136, 0.8585, 0.9162, 0.8523, 1.1241, 1.9225, 1.9207, 1.9201, 1.9197, 1.919, 1.918, 1.9168, 1.9165, 1.9142, 1.9128, 1.9128, 1.9118, 1.9112, 1.9092, 1.909, 1.9065, 1.9063, 1.9062, 1.9054, 1.9039, 1.9033, 1.903, 1.9022, 1.8948, 1.8875, 1.8863, 1.8716, 1.8698, 1.8629, 1.8601, 1.7825, 1.7362, 1.4894, 1.3336, 1.2433, 1.6176, 1.0921, 1.2649, 1.479, 1.1785, 1.261, 0.8225, 0.5412, 2.3412, 2.3369, 2.3342, 2.3319, 2.3302, 2.3295, 2.3281, 2.3188, 2.318, 2.3175, 2.3159, 2.3158, 2.3136, 2.3116, 2.3097, 2.3052, 2.3048, 2.3019, 2.3016, 2.3011, 2.3008, 2.3002, 2.2988, 2.2978, 2.2977, 2.2942, 2.2934, 2.2929, 2.2928, 2.2893, 2.2789, 2.2484, 1.7096, 1.452, 1.3837, 1.5705, 0.7058, 2.4517, 2.4498, 2.4468, 2.4459, 2.4453, 2.4451, 2.4439, 2.4432, 2.4409, 2.4378, 2.4342, 2.4326, 2.4326, 2.4307, 2.4273, 2.4267, 2.4235, 2.4202, 2.4197, 2.4172, 2.4148, 2.4119, 2.4112, 2.4089, 2.4066, 2.4062, 2.4053, 2.3974, 2.3974, 2.3974, 2.29, 1.8468, 1.632, 1.1312, 0.7384, 1.9955, 1.4489, 1.7228, -0.6809, 1.0359, 2.5454, 2.542, 2.5403, 2.5369, 2.5367, 2.535, 2.5303, 2.5289, 2.5287, 2.5245, 2.5236, 2.5215, 2.521, 2.5156, 2.5145, 2.5145, 2.5123, 2.5115, 2.5089, 2.508, 2.5069, 2.5052, 2.5041, 2.5041, 2.503, 2.5, 2.4991, 2.4954, 2.4946, 2.4945, 2.302, 2.2415, 2.2709, 2.2002, 2.2961, 1.5545, 1.9497, -0.5212, 2.5639, 2.5595, 2.5584, 2.5507, 2.5493, 2.5491, 2.5488, 2.5471, 2.5452, 2.5417, 2.5406, 2.5395, 2.5373, 2.5334, 2.5329, 2.5325, 2.5325, 2.5289, 2.5262, 2.5229, 2.519, 2.5184, 2.5183, 2.5179, 2.5151, 2.5144, 2.5144, 2.5144, 2.5087, 2.508, 2.1628, 2.2778, 1.9014, 1.8228, 2.1805, 1.449, 1.8598, 0.6269, 1.5568, 3.1235, 3.1147, 3.1134, 3.113, 3.1092, 3.1056, 3.1029, 3.0965, 3.0934, 3.0927, 3.0911, 3.0872, 3.0872, 3.0866, 3.0804, 3.0794, 3.0773, 3.0735, 3.0734, 3.0725, 3.0714, 3.0651, 3.0648, 3.0566, 3.0543, 3.0513, 3.0432, 3.0392, 3.0331, 3.0315, 2.788, 2.5877, 2.5603, 1.937, 1.5833, 1.8738, 3.2293, 3.2277, 3.215, 3.2147, 3.1901, 3.1901, 3.1835, 3.1712, 3.1703, 3.17, 3.165, 3.1643, 3.1571, 3.1377, 3.1377, 3.1301, 3.1242, 3.1211, 3.1207, 3.1187, 3.1085, 3.0957, 3.0697, 3.0683, 3.0578, 3.0569, 3.055, 3.0546, 3.0543, 3.0468, 2.9812, 2.9278, 2.8659, 2.8436, 2.4763, 1.8574, 2.3623, 2.143, 0.548, 3.5797, 3.5752, 3.5682, 3.5677, 3.5645, 3.5607, 3.5588, 3.5488, 3.5359, 3.5349, 3.5238, 3.5209, 3.5099, 3.5087, 3.5075, 3.5075, 3.5066, 3.5042, 3.4935, 3.4779, 3.4779, 3.4779, 3.4715, 3.4682, 3.4428, 3.4428, 3.4369, 3.4316, 3.4316, 3.4315, 2.7595, 2.0649, 1.8872]}, \"token.table\": {\"Topic\": [3, 5, 4, 3, 9, 6, 5, 9, 7, 6, 7, 5, 4, 3, 7, 7, 5, 6, 4, 6, 5, 8, 10, 3, 9, 8, 1, 9, 3, 9, 10, 3, 8, 2, 3, 5, 7, 7, 6, 1, 2, 7, 4, 4, 3, 10, 8, 2, 3, 5, 6, 2, 3, 1, 6, 3, 3, 7, 3, 5, 1, 3, 8, 2, 2, 8, 5, 2, 3, 4, 5, 7, 4, 7, 2, 3, 4, 5, 6, 7, 4, 8, 4, 4, 2, 2, 7, 9, 10, 2, 3, 7, 7, 1, 9, 6, 4, 1, 9, 7, 5, 7, 9, 1, 6, 1, 2, 6, 8, 2, 5, 6, 4, 1, 9, 10, 9, 3, 6, 1, 8, 7, 6, 9, 8, 4, 10, 1, 3, 9, 6, 8, 6, 1, 9, 2, 7, 2, 9, 1, 8, 8, 8, 3, 10, 7, 2, 5, 7, 6, 2, 7, 2, 3, 4, 10, 1, 6, 9, 5, 8, 6, 4, 3, 6, 1, 2, 2, 7, 8, 6, 10, 9, 1, 5, 10, 7, 10, 3, 5, 5, 2, 3, 4, 5, 9, 7, 8, 2, 2, 4, 7, 10, 10, 3, 7, 2, 3, 8, 3, 3, 10, 9, 9, 9, 6, 7, 1, 4, 2, 6, 4, 5, 5, 1, 7, 8, 6, 5, 2, 1, 4, 2, 10, 3, 2, 8, 9, 1, 5, 8, 5, 3, 2, 5, 3, 9, 4, 7, 5, 7, 10, 10, 8, 5, 1, 10, 2, 7, 5, 4, 2, 6, 8, 6, 1, 2, 3, 4, 1, 5, 1, 9, 2, 3, 8, 6, 1, 7, 8, 5, 1, 10, 4, 2, 5, 5, 1, 1, 8, 1, 7, 10, 6, 4, 4, 2, 2, 6, 1, 3, 1, 3, 5, 4, 8, 9, 4, 9, 6, 7, 6, 1, 2, 9, 3, 3, 7, 2, 4, 5, 9, 2, 3, 1, 2, 4, 10, 8, 1, 3, 4, 8, 4, 9, 10, 1, 3, 8, 5, 6, 9, 9, 9, 5, 6, 1, 1, 3, 4, 5, 1, 10, 3, 9, 2, 6, 8, 8, 2, 2, 10, 5, 5, 1, 7, 10, 5, 1, 2, 5, 7, 6, 6, 7, 8, 1, 10, 2, 2, 10, 8, 1, 3, 1, 9, 10, 9, 1, 4, 8, 9, 7, 2, 7, 6, 7, 6, 4, 10, 2, 1, 2, 7, 7, 2, 9, 5, 5, 6, 10, 10, 3, 3, 10, 3, 4, 2, 3, 3, 3, 1, 4, 9, 8, 5, 6, 2, 3, 8, 10, 1, 9, 9, 1, 9, 4, 5, 2, 3, 6, 4, 2, 6, 3, 3, 8, 7], \"Freq\": [0.9247218649470302, 0.9709892718204114, 0.9729037056077965, 0.993951179126271, 0.8120570998708512, 0.9414880717645534, 0.9309161825843931, 0.769763863083579, 0.9646095335828463, 0.9188403518943674, 0.982423825880749, 0.9129477142582361, 0.982744894068981, 0.9905425367972842, 0.960595787280496, 0.910775706240918, 0.2796408587163007, 0.7084235087479617, 0.25601465925093897, 0.7314704550026828, 0.9677371239250173, 0.9723805114540041, 0.9764387798555064, 0.9876563234047859, 0.8535265950382142, 0.9529366537148322, 0.9953854338029497, 0.8981457946109257, 0.993393682796478, 0.776175885792445, 0.21168433248884863, 0.9856156268748144, 0.9648510649581852, 0.9584921858141395, 0.9683730236339468, 0.9589569388127044, 0.9457246314065219, 0.9605846619138354, 0.983681670493437, 0.990499011496188, 0.47787406400071647, 0.5077411930007613, 0.9676852975234882, 0.9620545323072647, 0.9805063478848266, 0.8623759569174108, 0.9821244231547609, 0.6159816059812171, 0.2515258224423303, 0.07699770074765214, 0.05646498054827823, 0.95894823392218, 0.9852622547707921, 0.9942495930858026, 0.9919833527819947, 0.9758003862131867, 0.31196458575535696, 0.6806500052844152, 0.9513297379865124, 0.9201266570019888, 0.9946319768999372, 0.9894250840605235, 0.8744670277547286, 0.9842991595522632, 0.9846491090358378, 0.908772294691076, 0.98087379270618, 0.9785255718564113, 0.09160727551346723, 0.9046218456954889, 0.9376039847314852, 0.9605639469782223, 0.9764337991450962, 0.9691177270492902, 0.4299989291678177, 0.072041705410315, 0.40748589622709425, 0.04277476258737454, 0.047277369175519224, 0.9336720208197037, 0.9225774688214374, 0.8899096691157729, 0.978097919685996, 0.9577741966094616, 0.9796088006868111, 0.953559970063123, 0.9703171699320293, 0.9159317493066692, 0.9628921893486315, 0.9747605627216993, 0.3345234994914619, 0.6624877146791696, 0.9909972708291154, 0.7429681447923183, 0.25165050065546263, 0.9639335257354649, 0.9953647679336004, 0.9728254096515668, 0.9855562132997557, 0.9558063902048514, 0.9483286917075179, 0.9461641400505773, 0.9489879340468592, 0.20898805951577795, 0.7523570142568007, 0.007578547215308078, 0.9852111379900502, 0.7835311242953664, 0.21248301675806547, 0.8210093698726882, 0.17782230591712603, 0.9794574569825549, 0.9561010611984712, 0.9817263729504725, 0.9112739883489993, 0.8676239635364329, 0.8836214522209683, 0.9931631843306427, 0.9771504533417903, 0.9813900410340041, 0.9663423136870859, 0.949583312157789, 0.9212510423763226, 0.932055896876677, 0.9503884062204185, 0.993681369509414, 0.9901938616760104, 0.9946919292962995, 0.9857113704765623, 0.9048838868528244, 0.9423433608608962, 0.9494579521904806, 0.9870164931646175, 0.9859222602878853, 0.8413051636823267, 0.6315401341726204, 0.36839841160069525, 0.9818035841983581, 0.9168568180628057, 0.9956080256216895, 0.9663366891866692, 0.968589145225406, 0.9828322994100992, 0.9762089292442377, 0.930580093393256, 0.9811085813745114, 0.1298322307132606, 0.5366398869481439, 0.32890831780692686, 0.9700928394115952, 0.9582770614062619, 0.9705837199825581, 0.9746140369315351, 0.5845590152702431, 0.23747709995353627, 0.18267469227195096, 0.9778129175780939, 0.9716137647184266, 0.9077263829669713, 0.9488973954160366, 0.9345299299182028, 0.9939681163811932, 0.9661732698716881, 0.9807269331714542, 0.9507603307833555, 0.0991578018393214, 0.8963865286274654, 0.34219200113607173, 0.4790688015905004, 0.1596896005301668, 0.9823604583175028, 0.8440731865163084, 0.9525317512167732, 0.5160168251503188, 0.4856628942591235, 0.7897678296267273, 0.9206543224908328, 0.930083753140259, 0.15550605473954132, 0.8441757257289386, 0.9586805816468401, 0.9827420936431261, 0.4757202327469504, 0.19461282248738881, 0.2594837633165184, 0.0648709408291296, 0.9770927227145202, 0.9366303489225225, 0.9804851607952304, 0.9527219756184687, 0.9766311114327868, 0.97214902525061, 0.8439207826966069, 0.9849798489829671, 0.978350251633473, 0.9878531037595601, 0.25929917172720035, 0.739002639422521, 0.9268803416980222, 0.9655509006129706, 0.9872890075994775, 0.8623714530388432, 0.7817659209451682, 0.9255670406261339, 0.773399156357504, 0.975934079588003, 0.9592566663988789, 0.9737756507667412, 0.9484905803067144, 0.9827572951423162, 0.9564589514524379, 0.9407300835444465, 0.9873921548517273, 0.9650156081629582, 0.9831885839558958, 0.9643608220875676, 0.9131068371235516, 0.9637655118112314, 0.9540559901817088, 0.9888380438932761, 0.5170221991727659, 0.4595752881535697, 0.952416343763012, 0.9837648555426851, 0.9931203162808802, 0.9758574067631921, 0.30483677839777346, 0.6858827513949902, 0.9903361446829968, 0.978053276383771, 0.9684999494042393, 0.9784999927758767, 0.9648282770074423, 0.6304646532713385, 0.35564672748639603, 0.31351746796561314, 0.6702787246161385, 0.9668660037486452, 0.958743641056859, 0.6243786627308741, 0.3468770348504856, 0.8623714530388432, 0.9113137832382758, 0.9326662220643468, 0.9650177948221711, 0.9897621061766518, 0.9475900891633076, 0.5169618481382413, 0.4681918624648223, 0.9650177948221711, 0.9741259318207804, 0.03836896821345997, 0.36450519802786974, 0.5755345232018996, 0.9412877936843369, 0.1392392149342094, 0.4239060543552598, 0.4331886686842071, 0.9624453173224652, 0.9829881800807839, 0.9234816011975223, 0.5294345438662594, 0.43317371770875773, 0.4191391889950696, 0.517374936415789, 0.06549049828047962, 0.984812209564981, 0.9932851167638775, 0.9866591127606065, 0.9610048858124901, 0.9578857307595681, 0.5359461562850216, 0.4534929014719413, 0.9826678549333214, 0.7431161034778643, 0.23222378233683258, 0.9480458699982891, 0.995655507936013, 0.6847331126080595, 0.2789653421736539, 0.9754782020228921, 0.9628463164124524, 0.8439207826966069, 0.9570878532362503, 0.983966336416039, 0.986407853294457, 0.9975433787880975, 0.990826023397008, 0.9412877936843369, 0.4464974146614946, 0.5524754002426275, 0.49483863270274353, 0.5048498189134927, 0.9525695436056855, 0.9436478350560532, 0.9358717442080542, 0.9499806504485974, 0.9503391040211757, 0.9306006131180935, 0.5482937785824636, 0.4264507166752495, 0.9609955849923607, 0.7162826271790624, 0.27218739832804373, 0.9715143000965473, 0.9758129764827257, 0.8222198641250779, 0.1555551094290688, 0.5105465089090278, 0.37736046310667265, 0.07769186005137378, 0.02219767430039251, 0.6918206266653001, 0.3011454492543071, 0.987313054881986, 0.05003093090681243, 0.92557222177603, 0.9369461295939712, 0.97248124571861, 0.9761999424215805, 0.9876563234047859, 0.9369691552122229, 0.9597805564386973, 0.9444809426616451, 0.9865481015140848, 0.905594540923873, 0.984131198004881, 0.9965933236207933, 0.9036766689262922, 0.09492624970673397, 0.5220943733870369, 0.3322418739735689, 0.8979706920132736, 0.9189141226302628, 0.9249575062986595, 0.9719367455258069, 0.978385947190802, 0.35198572447368126, 0.6457690850580137, 0.9809888057001865, 0.9401742007551579, 0.9823781532573754, 0.9077780418297591, 0.5186852449890085, 0.459406931275979, 0.9801850518856318, 0.9818792213577352, 0.9401647545656411, 0.9861940222271235, 0.9989433910232464, 0.9942583855040004, 0.930083753140259, 0.9572037538673567, 0.9819282265546289, 0.9636136628413985, 0.9778767910155016, 0.9173940086315605, 0.9765263658782506, 0.028025598346271, 0.39636203375440415, 0.43239494591389543, 0.14413164863796515, 0.9866495013524607, 0.9748817117332206, 0.40815653578156946, 0.5714191500941972, 0.9912510249812466, 0.9779706634036087, 0.9731689047852972, 0.9798063493665503, 0.7897678296267273, 0.9359351349573903, 0.6504096209230367, 0.33787512775222683, 0.9862753308530073, 0.9065060647580919, 0.8594860338948667, 0.9887990433264684, 0.9938683690581065, 0.93480948166156, 0.8880359264916444, 0.7808091555852533, 0.9669888816704862, 0.8885996629534282, 0.10155424719467751, 0.2457561820133976, 0.7372685460401929, 0.9862054081726902, 0.9596784604386108, 0.96228754228926, 0.9603125730472231, 0.9929521485271329, 0.9987550241002349, 0.9860686080230175, 0.9910812132500445, 0.9513143743180341, 0.7825235493791227, 0.953500544103959, 0.2355005133644262, 0.7536016427661638, 0.818454386464046, 0.9482014948939241, 0.9257437857139721, 0.9652270141015477, 0.939450574473422, 0.8631790977037209, 0.13006808321562918, 0.4731470865599269, 0.5152046053652537, 0.9927800186483249, 0.9580581586565992, 0.4569309560312957, 0.5274288749618384, 0.013055170172322734, 0.9474984210805074, 0.972229794003575, 0.9751681931777665, 0.34581209525068507, 0.6422224626084152, 0.9358717442080542, 0.9678797330525356, 0.2535925837921388, 0.7326007976217342, 0.9229203992738663, 0.9866522369505957, 0.9328603548337981, 0.9292832645407426, 0.9772385244091546, 0.9948379589414243, 0.9813861754562119, 0.9447204660944173, 0.9809842089714771, 0.7134665538637043, 0.27441021302450164, 0.9967096949314804, 0.2622682311986752, 0.711870913253547, 0.981458005668287], \"Term\": [\"ability\", \"access\", \"accord\", \"accumulation\", \"accuracies\", \"add\", \"addition\", \"additionally\", \"address\", \"advantage\", \"age\", \"agility\", \"agree\", \"agreement\", \"agricultural\", \"aim\", \"allow\", \"allow\", \"also\", \"also\", \"amazon\", \"among\", \"analyst\", \"anddigital\", \"anyone\", \"anywhere\", \"app\", \"appear\", \"application\", \"apply\", \"apply\", \"april\", \"asean\", \"asia\", \"available\", \"aws\", \"baac\", \"baacs\", \"back\", \"baht\", \"bank\", \"bank\", \"best\", \"bind\", \"bonus\", \"bts\", \"build\", \"business\", \"business\", \"business\", \"business\", \"businesses\", \"call\", \"campaign\", \"capabilities\", \"card\", \"cardholders\", \"cardholders\", \"cardx\", \"career\", \"cash\", \"center\", \"chance\", \"change\", \"chief\", \"click\", \"cloud\", \"co\", \"code\", \"code\", \"collaborate\", \"collateral\", \"collect\", \"commercial\", \"company\", \"company\", \"company\", \"company\", \"company\", \"competition\", \"comply\", \"computer\", \"condition\", \"consent\", \"consult\", \"contain\", \"continue\", \"contract\", \"cooperative\", \"create\", \"credit\", \"credit\", \"customer\", \"customers\", \"customers\", \"damage\", \"data\", \"day\", \"deal\", \"demand\", \"department\", \"depth\", \"design\", \"detail\", \"detail\", \"develop\", \"develop\", \"development\", \"development\", \"digital\", \"digital\", \"director\", \"disclose\", \"discount\", \"dispute\", \"dont\", \"double\", \"download\", \"drive\", \"earn\", \"edge\", \"efficient\", \"employees\", \"employment\", \"enable\", \"end\", \"engineer\", \"enjoy\", \"enter\", \"entitle\", \"establish\", \"even\", \"event\", \"every\", \"exclusive\", \"executive\", \"executive\", \"expand\", \"expectations\", \"experience\", \"expert\", \"extra\", \"feature\", \"february\", \"feedback\", \"finance\", \"financial\", \"financial\", \"financial\", \"find\", \"fintech\", \"first\", \"focus\", \"follow\", \"follow\", \"follow\", \"food\", \"forward\", \"fundamental\", \"future\", \"gain\", \"get\", \"give\", \"giveaway\", \"goal\", \"group\", \"group\", \"grow\", \"grow\", \"grow\", \"growth\", \"guess\", \"halloween\", \"help\", \"help\", \"home\", \"hope\", \"hr\", \"include\", \"include\", \"individuals\", \"industry\", \"information\", \"information\", \"information\", \"information\", \"infrastructure\", \"innovation\", \"innovations\", \"innovative\", \"instead\", \"institutions\", \"intern\", \"internship\", \"interview\", \"join\", \"joint\", \"joint\", \"jonathan\", \"july\", \"june\", \"junior\", \"jurisdiction\", \"keen\", \"kind\", \"knowledge\", \"largest\", \"launch\", \"laws\", \"lead\", \"learn\", \"legal\", \"lend\", \"lenders\", \"let\", \"level\", \"leverage\", \"liable\", \"life\", \"like\", \"limit\", \"limit\", \"link\", \"linkedin\", \"loan\", \"ltd\", \"make\", \"make\", \"mall\", \"mambu\", \"manage\", \"management\", \"march\", \"market\", \"market\", \"may\", \"may\", \"mean\", \"meet\", \"microfinance\", \"microfinance\", \"middle\", \"miss\", \"mobile\", \"monix\", \"month\", \"months\", \"mr\", \"mr\", \"ms\", \"namely\", \"need\", \"need\", \"need\", \"nera\", \"new\", \"new\", \"new\", \"notice\", \"november\", \"obtain\", \"october\", \"october\", \"offer\", \"offer\", \"offer\", \"officer\", \"one\", \"open\", \"operate\", \"opportunities\", \"opportunity\", \"opportunity\", \"part\", \"partner\", \"partner\", \"party\", \"pay\", \"payment\", \"payment\", \"per\", \"period\", \"periodsummer\", \"person\", \"personal\", \"place\", \"platform\", \"platforms\", \"platt\", \"point\", \"point\", \"pointx\", \"pointx\", \"prepare\", \"prescribe\", \"president\", \"prior\", \"privacy\", \"private\", \"process\", \"process\", \"product\", \"products\", \"products\", \"professional\", \"program\", \"promotion\", \"promotion\", \"provide\", \"provide\", \"provide\", \"provide\", \"publicis\", \"publicis\", \"purchase\", \"purpose\", \"purpose\", \"qa\", \"qr\", \"rate\", \"reach\", \"read\", \"real\", \"reason\", \"receive\", \"recruitment\", \"redeem\", \"redemption\", \"region\", \"relate\", \"relate\", \"relate\", \"representation\", \"respect\", \"responsible\", \"result\", \"retail\", \"reward\", \"reward\", \"right\", \"risk\", \"robinhood\", \"roles\", \"round\", \"round\", \"sapient\", \"say\", \"scale\", \"scan\", \"scb\", \"scbx\", \"science\", \"sector\", \"security\", \"see\", \"segment\", \"selection\", \"seminar\", \"service\", \"service\", \"service\", \"service\", \"shall\", \"share\", \"sharp\", \"sharp\", \"shop\", \"software\", \"solutions\", \"southeast\", \"space\", \"speak\", \"special\", \"special\", \"spend\", \"spooktacular\", \"start\", \"step\", \"store\", \"subject\", \"successful\", \"suitability\", \"support\", \"suwanprateeb\", \"suwanprateeb\", \"system\", \"system\", \"systems\", \"tax\", \"team\", \"technological\", \"technology\", \"techx\", \"term\", \"thailand\", \"thailands\", \"therein\", \"third\", \"time\", \"time\", \"timeline\", \"today\", \"topups\", \"total\", \"track\", \"transfer\", \"transfer\", \"transformation\", \"transformation\", \"unlimited\", \"unlock\", \"use\", \"use\", \"use\", \"user\", \"users\", \"value\", \"venture\", \"venture\", \"vice\", \"virtual\", \"visit\", \"visit\", \"vital\", \"wallet\", \"warranty\", \"ways\", \"web\", \"website\", \"websites\", \"well\", \"without\", \"work\", \"work\", \"world\", \"worth\", \"worth\", \"years\"]}, \"R\": 30, \"lambda.step\": 0.01, \"plot.opts\": {\"xlab\": \"PC1\", \"ylab\": \"PC2\"}, \"topic.order\": [4, 10, 2, 6, 5, 3, 8, 9, 7, 1]};\n",
       "\n",
       "function LDAvis_load_lib(url, callback){\n",
       "  var s = document.createElement('script');\n",
       "  s.src = url;\n",
       "  s.async = true;\n",
       "  s.onreadystatechange = s.onload = callback;\n",
       "  s.onerror = function(){console.warn(\"failed to load library \" + url);};\n",
       "  document.getElementsByTagName(\"head\")[0].appendChild(s);\n",
       "}\n",
       "\n",
       "if(typeof(LDAvis) !== \"undefined\"){\n",
       "   // already loaded: just create the visualization\n",
       "   !function(LDAvis){\n",
       "       new LDAvis(\"#\" + \"ldavis_el4397109944460968395539546\", ldavis_el4397109944460968395539546_data);\n",
       "   }(LDAvis);\n",
       "}else if(typeof define === \"function\" && define.amd){\n",
       "   // require.js is available: use it to load d3/LDAvis\n",
       "   require.config({paths: {d3: \"https://d3js.org/d3.v5\"}});\n",
       "   require([\"d3\"], function(d3){\n",
       "      window.d3 = d3;\n",
       "      LDAvis_load_lib(\"https://cdn.jsdelivr.net/gh/bmabey/pyLDAvis@3.4.0/pyLDAvis/js/ldavis.v3.0.0.js\", function(){\n",
       "        new LDAvis(\"#\" + \"ldavis_el4397109944460968395539546\", ldavis_el4397109944460968395539546_data);\n",
       "      });\n",
       "    });\n",
       "}else{\n",
       "    // require.js not available: dynamically load d3 & LDAvis\n",
       "    LDAvis_load_lib(\"https://d3js.org/d3.v5.js\", function(){\n",
       "         LDAvis_load_lib(\"https://cdn.jsdelivr.net/gh/bmabey/pyLDAvis@3.4.0/pyLDAvis/js/ldavis.v3.0.0.js\", function(){\n",
       "                 new LDAvis(\"#\" + \"ldavis_el4397109944460968395539546\", ldavis_el4397109944460968395539546_data);\n",
       "            })\n",
       "         });\n",
       "}\n",
       "</script>"
      ],
      "text/plain": [
       "PreparedData(topic_coordinates=              x         y  topics  cluster       Freq\n",
       "topic                                                \n",
       "3     -0.311814 -0.110606       1        1  20.617615\n",
       "9     -0.044819  0.292882       2        1  20.393748\n",
       "1     -0.288021  0.066043       3        1  14.553185\n",
       "5      0.014427 -0.077747       4        1   9.558940\n",
       "4      0.120783  0.171756       5        1   8.442187\n",
       "2      0.143694 -0.065869       6        1   7.779775\n",
       "7      0.132666  0.137600       7        1   7.631406\n",
       "8      0.104699 -0.131731       8        1   4.355407\n",
       "6      0.029777 -0.158046       9        1   3.917433\n",
       "0      0.098607 -0.124282      10        1   2.750305, topic_info=              Term        Freq       Total Category  logprob  loglift\n",
       "18             scb  585.000000  585.000000  Default  30.0000  30.0000\n",
       "858         pointx  699.000000  699.000000  Default  29.0000  29.0000\n",
       "1126         point  575.000000  575.000000  Default  28.0000  28.0000\n",
       "21             use  382.000000  382.000000  Default  27.0000  27.0000\n",
       "822          techx  326.000000  326.000000  Default  26.0000  26.0000\n",
       "...            ...         ...         ...      ...      ...      ...\n",
       "1677  periodsummer    5.039218    5.924727  Topic10  -5.0506   3.4316\n",
       "1678         guess    5.038049    5.923657  Topic10  -5.0508   3.4315\n",
       "1594   opportunity   10.535204   24.256168  Topic10  -4.3131   2.7595\n",
       "40           apply   15.366446   70.860228  Topic10  -3.9357   2.0649\n",
       "92          follow    9.938456   54.742120  Topic10  -4.3714   1.8872\n",
       "\n",
       "[419 rows x 6 columns], token_table=      Topic      Freq          Term\n",
       "term                               \n",
       "937       3  0.924722       ability\n",
       "65        5  0.970989        access\n",
       "781       4  0.972904        accord\n",
       "1125      3  0.993951  accumulation\n",
       "2016      9  0.812057    accuracies\n",
       "...     ...       ...           ...\n",
       "608       6  0.274410          work\n",
       "1129      3  0.996710         world\n",
       "1246      3  0.262268         worth\n",
       "1246      8  0.711871         worth\n",
       "1363      7  0.981458         years\n",
       "\n",
       "[438 rows x 3 columns], R=30, lambda_step=0.01, plot_opts={'xlab': 'PC1', 'ylab': 'PC2'}, topic_order=[4, 10, 2, 6, 5, 3, 8, 9, 7, 1])"
      ]
     },
     "execution_count": 69,
     "metadata": {},
     "output_type": "execute_result"
    }
   ],
   "source": [
    "corpus_topic(preprocess_text(techx_corpus))"
   ]
  },
  {
   "cell_type": "code",
   "execution_count": 70,
   "metadata": {},
   "outputs": [
    {
     "name": "stdout",
     "output_type": "stream",
     "text": [
      "\n",
      "Perplexity:  -5.002372597595141\n",
      "Coherence Score:  0.6499014154296792\n"
     ]
    },
    {
     "data": {
      "text/html": [
       "\n",
       "<link rel=\"stylesheet\" type=\"text/css\" href=\"https://cdn.jsdelivr.net/gh/bmabey/pyLDAvis@3.4.0/pyLDAvis/js/ldavis.v1.0.0.css\">\n",
       "\n",
       "\n",
       "<div id=\"ldavis_el439711440786000206843679\" style=\"background-color:white;\"></div>\n",
       "<script type=\"text/javascript\">\n",
       "\n",
       "var ldavis_el439711440786000206843679_data = {\"mdsDat\": {\"x\": [-0.24099544595589822, 0.1616585150277252, -0.16002163876279174, -0.0025936590301248695, 0.28738709019073827, 0.03368999604366269, -0.13151025518459314, -0.06454955189329467, 0.12744297456511708, -0.0105080250005413], \"y\": [0.122343577839307, 0.11144076433177873, -0.22334102951781096, 0.12830155408201188, 0.0026851064660005828, -0.18229594946170438, 0.15208861529533343, -0.11421819287475012, -0.042825994579198785, 0.04582154841903165], \"topics\": [1, 2, 3, 4, 5, 6, 7, 8, 9, 10], \"cluster\": [1, 1, 1, 1, 1, 1, 1, 1, 1, 1], \"Freq\": [24.80411694153575, 15.054724365811806, 11.417325245955231, 10.357152562085545, 9.180921940375647, 8.844756019304281, 8.638765912016403, 4.5463013517454725, 4.047838491699905, 3.108097169469957]}, \"tinfo\": {\"Term\": [\"special\", \"score\", \"june\", \"point\", \"use\", \"robinhood\", \"receive\", \"july\", \"apply\", \"gallery\", \"products\", \"bank\", \"customers\", \"promotion\", \"round\", \"condition\", \"account\", \"cannot\", \"discount\", \"chill\", \"scan\", \"website\", \"eveandboy\", \"period\", \"pay\", \"day\", \"maximum\", \"wash\", \"exchange\", \"next\", \"june\", \"july\", \"round\", \"august\", \"download\", \"applications\", \"set\", \"accumulation\", \"apply\", \"customers\", \"shop\", \"larger\", \"manage\", \"common\", \"image\", \"view\", \"commercial\", \"siam\", \"customersand\", \"accord\", \"online\", \"question\", \"enter\", \"th\", \"week\", \"score\", \"receive\", \"special\", \"accumulate\", \"goods\", \"management\", \"point\", \"use\", \"transfer\", \"privilege\", \"account\", \"bank\", \"call\", \"tel\", \"promotions\", \"pointx\", \"cash\", \"thingsand\", \"baht\", \"information\", \"rule\", \"pointsin\", \"comply\", \"orreturn\", \"qualifications\", \"suspend\", \"incorrector\", \"friday\", \"decision\", \"make\", \"another\", \"sales\", \"person\", \"food\", \"discount\", \"please\", \"unless\", \"minimum\", \"code\", \"normal\", \"order\", \"transaction\", \"transfer\", \"scb\", \"condition\", \"exchange\", \"use\", \"specify\", \"privilege\", \"necessity\", \"customer\", \"cannot\", \"right\", \"cancel\", \"scan\", \"eveandboy\", \"day\", \"maximum\", \"wash\", \"everyday\", \"year\", \"sale\", \"car\", \"premium\", \"mid\", \"hythak\", \"hi\", \"return\", \"full\", \"wednesday\", \"include\", \"reconcile\", \"gallery\", \"system\", \"amount\", \"pay\", \"every\", \"calculate\", \"line\", \"man\", \"facebook\", \"onlythe\", \"inquire\", \"benefitsand\", \"point\", \"receive\", \"code\", \"minimum\", \"promotion\", \"period\", \"throughout\", \"accordance\", \"delete\", \"never\", \"user\", \"back\", \"respectively\", \"must\", \"meet\", \"per\", \"application\", \"card\", \"list\", \"collection\", \"eligible\", \"end\", \"credit\", \"term\", \"service\", \"within\", \"specify\", \"limit\", \"channel\", \"entitle\", \"summary\", \"users\", \"give\", \"purple\", \"first\", \"total\", \"privilege\", \"september\", \"condition\", \"right\", \"reserve\", \"point\", \"cancel\", \"customers\", \"exchange\", \"apply\", \"code\", \"robinhood\", \"discount\", \"damage\", \"inform\", \"advanceand\", \"hold\", \"dispute\", \"notify\", \"promotionwhich\", \"specifications\", \"advanceunless\", \"benefit\", \"possible\", \"responsible\", \"import\", \"advance\", \"involve\", \"lose\", \"therefore\", \"distribution\", \"contact\", \"arise\", \"servicesin\", \"reason\", \"cannot\", \"event\", \"change\", \"case\", \"bank\", \"center\", \"canceledthe\", \"complete\", \"reserve\", \"detail\", \"cancel\", \"necessity\", \"right\", \"days\", \"service\", \"products\", \"condition\", \"technology\", \"policy\", \"cookie\", \"new\", \"agreement\", \"experience\", \"cookies\", \"tech\", \"create\", \"world\", \"privacy\", \"copyright\", \"similar\", \"better\", \"read\", \"us\", \"websiteplease\", \"value\", \"great\", \"operation\", \"esb\", \"website\", \"company\", \"follow\", \"detail\", \"management\", \"highest\", \"message\", \"good\", \"join\", \"use\", \"limit\", \"bank\", \"point\", \"store\", \"date\", \"bring\", \"easy\", \"via\", \"buy\", \"spend\", \"choose\", \"compensation\", \"deal\", \"feature\", \"number\", \"october\", \"periodfrom\", \"pull\", \"remain\", \"unable\", \"item\", \"process\", \"payment\", \"customer\", \"page\", \"app\", \"rate\", \"month\", \"months\", \"receivedwith\", \"drink\", \"exchange\", \"check\", \"pay\", \"score\", \"application\", \"special\", \"scb\", \"point\", \"limit\", \"receive\", \"right\", \"chill\", \"rd\", \"continue\", \"happiness\", \"category\", \"categories\", \"robinhood\", \"mart\", \"travel\", \"dee\", \"app\", \"pro\", \"program\", \"gallery\", \"use\", \"receive\", \"forused\", \"periodand\", \"plane\", \"promote\", \"ticket\", \"book\", \"salesand\", \"deduct\", \"expenditure\", \"september\", \"sunday\", \"mobile\", \"holiday\", \"fee\", \"food\", \"point\", \"application\", \"lifespan\", \"next\", \"time\", \"email\", \"browser\", \"comment\", \"name\", \"save\", \"today\", \"promotional\", \"campaignthe\", \"holidaysor\", \"last\", \"schedule\", \"scheduleon\", \"jun\", \"term\", \"tomorrow\", \"expense\", \"deposit\", \"tie\", \"result\", \"periods\", \"lifespan\", \"sep\", \"case\", \"website\", \"jul\", \"refund\", \"rat\", \"condition\", \"bank\", \"special\", \"pay\", \"point\", \"baht\", \"back\", \"aug\", \"hrs\", \"appx\", \"free\", \"spendor\", \"useget\", \"products\", \"lifetime\", \"qr\", \"cause\", \"september\", \"account\", \"directly\", \"provider\", \"oct\", \"disconnect\", \"stop\", \"shopee\", \"damageif\", \"cardholder\", \"doubtsplease\", \"sep\", \"problems\", \"participate\", \"payment\", \"spend\", \"channel\", \"service\", \"deduct\", \"expenditure\", \"order\", \"special\", \"receive\", \"score\", \"point\", \"line\", \"man\"], \"Freq\": [82.0, 68.0, 55.0, 196.0, 56.0, 19.0, 64.0, 45.0, 55.0, 26.0, 14.0, 30.0, 44.0, 19.0, 33.0, 37.0, 14.0, 21.0, 28.0, 11.0, 16.0, 15.0, 15.0, 14.0, 23.0, 14.0, 14.0, 14.0, 25.0, 8.0, 55.192986371235165, 45.05480506646887, 33.24938040792155, 17.85414350118678, 9.322082847742307, 8.76963588111453, 6.230694510814839, 6.230689729907707, 47.57075266391594, 37.64758787651611, 3.3667434879834586, 3.1392216115924696, 3.1392216115924696, 3.139220117558991, 3.1392192211389034, 3.1392186235255117, 2.683917598178479, 2.683917000565087, 2.683916701758392, 2.4555273895295926, 2.22791049260935, 3.139288544292321, 2.0007713875956377, 2.0007713875956377, 2.0007713875956377, 48.16890629795495, 42.572797128753756, 53.02097245197608, 3.451716642092066, 1.0575970166094535, 6.230687339454141, 95.69351842713739, 20.205923114299363, 6.112001319895674, 8.374929566795295, 5.245951347540398, 3.052016670273182, 8.273011129471698, 6.795020752432551, 6.794321431724512, 6.509286581102887, 6.3021171739647714, 6.301845135307598, 11.768844981627307, 5.8095034073464324, 5.8092814238021795, 5.3165991034422335, 5.3165671842397915, 5.316538529501236, 5.3165356277555595, 5.316502983116699, 5.31636079757855, 5.312443803633469, 4.824000208270487, 4.822998743293881, 4.822989312620432, 4.821991474825922, 4.819712153597022, 5.862791427668099, 23.337723414322017, 6.32394483037991, 5.088175860096509, 3.533221031606411, 11.030901313197258, 1.5784734771982232, 4.009401849740455, 1.0890161751190623, 8.802534012940633, 7.97644111434952, 14.358816946544502, 10.84886247449057, 11.90878964667768, 7.768047170535916, 8.388491902159824, 6.239306712487423, 6.4650530954465655, 6.5995468312436145, 6.719916319960244, 5.630779087638739, 15.74323205755525, 15.236977002848535, 13.447798208236904, 13.313668611003395, 13.313632300283881, 12.993108776538813, 12.99309887361531, 12.993094472315974, 12.993092271666308, 12.993092271666308, 12.99309007101664, 6.5302166259081655, 6.5302166259081655, 9.946244392733872, 3.2730906194604854, 3.137717655164845, 3.135897717889831, 2.631999558976999, 20.738326090364822, 2.699822756485412, 1.02885612252173, 13.978509082698434, 7.3490459075985575, 0.7079619268482937, 2.9526045067597644, 2.6320122127125867, 0.3878413283032821, 0.3877017589751518, 0.38751291572556035, 0.38702708792631085, 26.84484943514149, 6.904656066506736, 1.4688010639070344, 0.7083299167348793, 18.512733125211113, 13.938293870085904, 9.71821773083418, 8.909584415257866, 3.505456315844375, 3.505456315844375, 3.505456315844375, 4.700164053425118, 2.4763198754169764, 5.187858389014024, 5.277321303762437, 6.87101007473968, 8.27013096779775, 1.2640254387318084, 0.8814198463349207, 0.8813570874940966, 0.8813504123489989, 0.8813328199105175, 1.2037121963947337, 5.162166441763241, 7.612072456106357, 0.8813164127781747, 8.862251023755336, 7.18465854858984, 0.758240648929476, 0.48254845375626176, 0.48254845375626176, 0.48254842256399494, 0.48254817302586045, 0.48250746711767184, 1.9808928521165057, 1.3853082086996658, 10.320181567121113, 2.219507205230711, 12.77940583448234, 8.163624598463695, 5.901109745291832, 35.687778152541625, 4.454399933681515, 6.565200092770108, 4.542884658942729, 6.927195082948826, 2.472997275156247, 2.0100397796083644, 2.1071227156006196, 7.0638920563883865, 6.869210533203533, 5.940248842626469, 5.9402121236190055, 5.940209026835244, 5.940186464553549, 5.475886559916252, 5.475885232723211, 5.475878154360327, 5.475668457859873, 4.082035248594075, 1.9552825022502864, 1.955286483829409, 1.9552873686247696, 1.9552789630688443, 1.955275423887402, 1.9552716635071197, 1.9552663547349562, 5.933698702572215, 1.4909289568942556, 1.4909220997302113, 1.4909175651539883, 14.290377647415418, 8.132440832638716, 8.075638740081242, 5.848212429220623, 18.68611355191595, 4.9766500680694135, 1.0264905817830305, 1.0264905817830305, 8.83107171015845, 5.470990102390893, 7.326690877599284, 5.532220595727989, 8.380195035936268, 4.814822323815335, 5.170617119000611, 3.4894024128722037, 3.19528625987415, 10.651133538042448, 10.651117342481294, 10.651115637685383, 8.704811518844513, 5.366443512975231, 5.366441381980342, 5.366438398587498, 5.36643797238852, 5.3664371199905645, 5.366435415194654, 5.366434562796698, 5.366433710398743, 5.36643243180181, 5.366432005602832, 5.3664298746079435, 5.3664298746079435, 5.366426465016121, 5.366386828511192, 4.977250113885333, 4.198981372822369, 5.755812506043952, 10.750421704292195, 5.755560622448114, 5.3664392509854535, 5.366433710398743, 5.36645672514354, 0.46991559202155037, 0.4695614206710574, 0.46955470803715815, 0.46954341376424835, 17.10328826045639, 5.412207906805835, 5.3664903948627805, 11.193291028836285, 10.81132769404139, 8.169893957968759, 5.486497404967782, 4.713082968207858, 8.030275990806414, 3.4399263321131515, 8.821612645688603, 2.787214208857729, 2.787214208857729, 2.787214208857729, 2.787214208857729, 2.787214208857729, 2.787214208857729, 2.787214208857729, 2.787214208857729, 2.787214208857729, 2.787214208857729, 1.9716444289028738, 1.3414073016673151, 2.3981814813139257, 8.485839343850332, 0.9790625651975141, 4.197454750173514, 2.760131278766597, 0.38561731157458695, 0.38561731157458695, 0.38561731157458695, 0.384709055903441, 8.988705463979896, 1.1990980254346173, 7.0640613798217515, 19.11447397232143, 4.287262321645006, 18.977460209102343, 3.790179898700158, 17.03897338230849, 3.329439566381898, 5.648833887860157, 2.8728463539141296, 10.412646685348056, 6.069839636411019, 5.249427302093546, 5.249426425809798, 5.249426425809798, 5.249440008207891, 16.763257273721734, 2.5469428112038837, 1.7276026100520208, 0.9071054405141995, 5.504656335371117, 0.496648710971285, 0.496648710971285, 5.249462353443464, 6.506273195216673, 6.019536567860262, 0.08664663577421809, 0.0866465604685835, 0.08664653993068316, 0.08664661523631775, 0.086646670004052, 0.08664656731455028, 0.0866467042338859, 0.08653375947393599, 0.08653375947393599, 0.5016876163606374, 0.0862476528302321, 0.0862476528302321, 0.0862476528302321, 0.0862476528302321, 0.601209571395006, 5.6134776326096105, 0.5418422237555112, 0.08673614678987727, 7.764877565262959, 4.712453950836698, 4.393861588415651, 4.393861588415651, 4.393861588415651, 4.393861588415651, 4.393861588415651, 3.1186867702950583, 3.1181919241523732, 2.8005397108869197, 2.8005397108869197, 2.8005397108869197, 2.8005397108869197, 2.8005397108869197, 0.7041724977467919, 4.336990756673269, 0.38555238922255247, 0.3855114039857642, 0.3852709052494888, 0.38527014942418214, 0.3850856549049814, 0.38508446021336773, 0.38442579503083724, 0.7040765810772353, 2.8638191610227035, 4.312572235347785, 0.3855576556182373, 0.6995655230697655, 0.38555672912270017, 4.516840509931663, 2.6408023227490194, 3.2363959802474436, 0.7181103552672443, 0.800360679258828, 0.40485536296549807, 0.38555226731524495, 3.8236264142033876, 3.8229021326469015, 2.6267745060314907, 2.6267745060314907, 2.6267745060314907, 2.6267745060314907, 10.34889192771319, 1.5480886245866137, 2.4134109843191145, 0.6606574804811431, 2.5176922520430947, 6.1128560607047655, 0.641311404902987, 0.6412849707229374, 0.3617599912584207, 0.3617583812446216, 0.3617583812446216, 0.36173134798967005, 0.36167320028199723, 0.3616666104580755, 0.3616658616144481, 0.6607353602183996, 0.6034487103906385, 0.41107100714748296, 0.5848509916915915, 1.4607108542967182, 0.1543545221808956, 1.318354931871635, 0.06282266355471698, 0.06282266355471698, 0.3672166650030464, 4.742101994150939, 2.6225663043825778, 1.1168957773051003, 0.9322624650884818, 0.36802294493674, 0.36802264539928903], \"Total\": [82.0, 68.0, 55.0, 196.0, 56.0, 19.0, 64.0, 45.0, 55.0, 26.0, 14.0, 30.0, 44.0, 19.0, 33.0, 37.0, 14.0, 21.0, 28.0, 11.0, 16.0, 15.0, 15.0, 14.0, 23.0, 14.0, 14.0, 14.0, 25.0, 8.0, 55.9101504722436, 45.79557358786383, 33.96730837155269, 18.571399082416153, 10.039385180034635, 9.489213434659778, 6.947857481607149, 6.947860649648424, 55.13304975884297, 44.904179530684736, 4.084017033837028, 3.856372528874671, 3.8563732083402034, 3.856373527492005, 3.8563749745690523, 3.8563750172134452, 3.401062794871331, 3.401063182992755, 3.4010633529512933, 3.173290499425091, 2.9455369146403525, 4.174810664591679, 2.7179435340980147, 2.7179435340980147, 2.7179435340980147, 68.99035185942961, 64.20337493939284, 82.02824644963715, 5.463362755404705, 2.051762730286394, 12.232606030701811, 196.74041596027595, 56.202871636787584, 15.537862919028427, 27.613832255852103, 14.391497099515615, 30.5144516053577, 8.934764853655794, 7.4565826684307925, 7.45638029350726, 7.170838836688142, 6.963776451916828, 6.963764089170916, 13.057186078785, 6.471036701617602, 6.470973798648279, 5.9782315635980625, 5.978239076053847, 5.978208020315537, 5.978232777923574, 5.978217125524885, 5.978207611708715, 5.974291442887081, 5.485503586504016, 5.484751343978421, 5.484745513830535, 5.484388264285457, 5.482845013271218, 7.052420961930255, 28.09717146915444, 7.8940327193669315, 6.427850402746983, 4.844822343683429, 15.494390508678354, 2.241462406660374, 5.927611634394838, 1.7504328133328135, 15.537862919028427, 14.65700599885075, 37.46338914564156, 25.65599690249651, 56.202871636787584, 19.272440307315268, 27.613832255852103, 12.337522850530847, 15.546190452126224, 21.454173874927616, 26.5500267096485, 17.892125570584795, 16.441033441350015, 15.934742298904919, 14.14595155576666, 14.01129319075415, 14.011291782478619, 13.690708952912566, 13.690711986905015, 13.690712279773196, 13.690714645077902, 13.690715025313434, 13.690715571523715, 7.227816332835435, 7.227816543383235, 11.732493720171517, 3.970767385503482, 3.8357322416902613, 3.834692209608733, 3.329621873323932, 26.59917780946765, 3.9360810603468996, 1.7266253248080363, 23.514255537483216, 12.488541828536006, 1.4058024835322755, 7.393809311148631, 7.073225395373976, 1.085440667158938, 1.085368111280964, 1.0852907619489525, 1.0852195998136933, 196.74041596027595, 64.20337493939284, 15.494390508678354, 4.844822343683429, 19.22817819331066, 14.620258174594301, 10.400603237145626, 9.59944215523241, 4.18664834361415, 4.18664834361415, 4.18664834361415, 5.701585077758761, 3.157769041516285, 7.259118446325903, 8.506255270373693, 11.173724010391048, 14.26029041239301, 2.1819025176136746, 1.5625822275582613, 1.562573632825344, 1.5625764402389177, 1.5625578806735183, 2.1669706739993195, 10.47118468367877, 15.717914874392159, 1.8812198588699873, 19.272440307315268, 16.461191837466163, 1.7589339275120708, 1.163713553889715, 1.1637135765596032, 1.1637135680372244, 1.1637136698823554, 1.1636837330269119, 4.898262470188134, 3.4147824978769536, 27.613832255852103, 5.771307087553359, 37.46338914564156, 26.5500267096485, 18.937958413138517, 196.74041596027595, 17.892125570584795, 44.904179530684736, 25.65599690249651, 55.13304975884297, 15.494390508678354, 19.40561446481081, 28.09717146915444, 7.732188896546303, 7.537135336904721, 6.608140485505006, 6.6081425001092935, 6.608143617548443, 6.608145401272449, 6.143647787057592, 6.143647219487475, 6.143647716554211, 6.143661285250921, 4.749922638318044, 2.622840690133628, 2.622846546628206, 2.6228539432099764, 2.6228452118038383, 2.622849443082578, 2.6228469446448988, 2.6228499786891555, 8.08679101341463, 2.1583670273460087, 2.158367779454826, 2.158367115611318, 21.454173874927616, 12.387760271105666, 12.677032115636967, 9.313038465038556, 30.5144516053577, 8.14504226841762, 1.6938858949634723, 1.6938858949634723, 18.937958413138517, 11.428688969305515, 17.892125570584795, 12.337522850530847, 26.5500267096485, 11.936378038341807, 15.717914874392159, 14.456974800342419, 37.46338914564156, 11.334480170032567, 11.334483989666875, 11.334485669768478, 9.388325235959813, 6.049706672859638, 6.049707920789619, 6.0497072292267005, 6.049708160284973, 6.04970839635392, 6.049709144705053, 6.049708955705054, 6.049709240377067, 6.0497092969684365, 6.049709298211276, 6.049709240406958, 6.049710261206938, 6.049710738982087, 6.049678626726182, 5.660529924431514, 4.882201783698039, 6.894147005464414, 15.679501232610777, 9.07497315636957, 10.669980857131561, 11.428688969305515, 12.232606030701811, 1.1535009931791769, 1.153293634064956, 1.1532922261913447, 1.1532897730859824, 56.202871636787584, 16.461191837466163, 30.5144516053577, 196.74041596027595, 11.519841649347025, 8.964326490477674, 6.23227613453493, 5.4129500457443775, 9.591550663995395, 4.137996106058287, 10.924395588409482, 3.4992344504224873, 3.4992344504224873, 3.4992344504224873, 3.4992344504224873, 3.4992344504224873, 3.4992344504224873, 3.4992344504224873, 3.4992344504224873, 3.4992344504224873, 3.4992344504224873, 2.675591554969557, 2.040308136313583, 3.8342222639297012, 15.546190452126224, 2.2381022132195874, 10.31461036533107, 7.161391857139113, 1.083657229459148, 1.083657229459148, 1.083657229459148, 1.083711555162874, 25.65599690249651, 3.595082992316708, 23.514255537483216, 68.99035185942961, 14.26029041239301, 82.02824644963715, 14.65700599885075, 196.74041596027595, 16.461191837466163, 64.20337493939284, 26.5500267096485, 11.091445320562803, 6.7490161535541855, 5.928183570658025, 5.928183567450091, 5.928183572118946, 5.9282020676155325, 19.40561446481081, 3.2267890958065113, 2.4065546695569786, 1.5858233124182728, 10.31461036533107, 1.1753666529081774, 1.1753666529081774, 26.59917780946765, 56.202871636787584, 64.20337493939284, 0.9922750187880864, 0.9922741889719778, 0.9922740904074044, 0.992275359965057, 0.9922760273501581, 0.9922750958671239, 0.9922779959093351, 0.9921793653710439, 0.9921793653710439, 5.771307087553359, 0.9923980925957644, 0.992398216017245, 0.9923984286332551, 0.9923985058349961, 7.052420961930255, 196.74041596027595, 14.26029041239301, 1.0832287012168065, 8.46306707107609, 5.4105984262678, 5.091978436573231, 5.09197844323259, 5.09197844323259, 5.09197844323259, 5.09197844323259, 3.817060472411735, 3.8168850364541753, 3.4986189546548805, 3.4986189546548805, 3.4986189546548805, 3.4986189546548805, 3.4986189546548805, 1.4022249107379001, 10.47118468367877, 1.0835623000751342, 1.0835415253464944, 1.0834348865167853, 1.0834346772437393, 1.0834288811103205, 1.0834288104177323, 1.0832287012168065, 2.0001650587182214, 9.313038465038556, 15.679501232610777, 1.4022589116938557, 2.8769552794607014, 3.11050395968964, 37.46338914564156, 30.5144516053577, 82.02824644963715, 23.514255537483216, 196.74041596027595, 13.057186078785, 5.701585077758761, 4.525861791629268, 4.525830175847437, 3.330120918027982, 3.330120918027982, 3.330120918027982, 3.330120918027982, 14.456974800342419, 2.2603728962848586, 4.521532396564929, 1.3628866054133548, 5.771307087553359, 14.391497099515615, 1.8678862915659793, 1.8679019700904123, 1.0639027263789342, 1.0639011163651353, 1.0639011163651353, 1.0638892441738628, 1.0638926503575417, 1.0638966708961861, 1.0638971014442262, 2.0001650587182214, 2.38505110434574, 2.2279223288190133, 3.8342222639297012, 10.924395588409482, 1.7589339275120708, 15.717914874392159, 0.9921793653710439, 0.9921793653710439, 5.927611634394838, 82.02824644963715, 64.20337493939284, 68.99035185942961, 196.74041596027595, 7.393809311148631, 7.073225395373976], \"Category\": [\"Default\", \"Default\", \"Default\", \"Default\", \"Default\", \"Default\", \"Default\", \"Default\", \"Default\", \"Default\", \"Default\", \"Default\", \"Default\", \"Default\", \"Default\", \"Default\", \"Default\", \"Default\", \"Default\", \"Default\", \"Default\", \"Default\", \"Default\", \"Default\", \"Default\", \"Default\", \"Default\", \"Default\", \"Default\", \"Default\", \"Topic1\", \"Topic1\", \"Topic1\", \"Topic1\", \"Topic1\", \"Topic1\", \"Topic1\", \"Topic1\", \"Topic1\", \"Topic1\", \"Topic1\", \"Topic1\", \"Topic1\", \"Topic1\", \"Topic1\", \"Topic1\", \"Topic1\", \"Topic1\", \"Topic1\", \"Topic1\", \"Topic1\", \"Topic1\", \"Topic1\", \"Topic1\", \"Topic1\", \"Topic1\", \"Topic1\", \"Topic1\", \"Topic1\", \"Topic1\", \"Topic1\", \"Topic1\", \"Topic1\", \"Topic1\", \"Topic1\", \"Topic1\", \"Topic1\", \"Topic2\", \"Topic2\", \"Topic2\", \"Topic2\", \"Topic2\", \"Topic2\", \"Topic2\", \"Topic2\", \"Topic2\", \"Topic2\", \"Topic2\", \"Topic2\", \"Topic2\", \"Topic2\", \"Topic2\", \"Topic2\", \"Topic2\", \"Topic2\", \"Topic2\", \"Topic2\", \"Topic2\", \"Topic2\", \"Topic2\", \"Topic2\", \"Topic2\", \"Topic2\", \"Topic2\", \"Topic2\", \"Topic2\", \"Topic2\", \"Topic2\", \"Topic2\", \"Topic2\", \"Topic2\", \"Topic2\", \"Topic2\", \"Topic2\", \"Topic2\", \"Topic2\", \"Topic2\", \"Topic2\", \"Topic2\", \"Topic3\", \"Topic3\", \"Topic3\", \"Topic3\", \"Topic3\", \"Topic3\", \"Topic3\", \"Topic3\", \"Topic3\", \"Topic3\", \"Topic3\", \"Topic3\", \"Topic3\", \"Topic3\", \"Topic3\", \"Topic3\", \"Topic3\", \"Topic3\", \"Topic3\", \"Topic3\", \"Topic3\", \"Topic3\", \"Topic3\", \"Topic3\", \"Topic3\", \"Topic3\", \"Topic3\", \"Topic3\", \"Topic3\", \"Topic3\", \"Topic3\", \"Topic3\", \"Topic3\", \"Topic3\", \"Topic4\", \"Topic4\", \"Topic4\", \"Topic4\", \"Topic4\", \"Topic4\", \"Topic4\", \"Topic4\", \"Topic4\", \"Topic4\", \"Topic4\", \"Topic4\", \"Topic4\", \"Topic4\", \"Topic4\", \"Topic4\", \"Topic4\", \"Topic4\", \"Topic4\", \"Topic4\", \"Topic4\", \"Topic4\", \"Topic4\", \"Topic4\", \"Topic4\", \"Topic4\", \"Topic4\", \"Topic4\", \"Topic4\", \"Topic4\", \"Topic4\", \"Topic4\", \"Topic4\", \"Topic4\", \"Topic4\", \"Topic4\", \"Topic4\", \"Topic4\", \"Topic4\", \"Topic4\", \"Topic4\", \"Topic4\", \"Topic4\", \"Topic4\", \"Topic4\", \"Topic5\", \"Topic5\", \"Topic5\", \"Topic5\", \"Topic5\", \"Topic5\", \"Topic5\", \"Topic5\", \"Topic5\", \"Topic5\", \"Topic5\", \"Topic5\", \"Topic5\", \"Topic5\", \"Topic5\", \"Topic5\", \"Topic5\", \"Topic5\", \"Topic5\", \"Topic5\", \"Topic5\", \"Topic5\", \"Topic5\", \"Topic5\", \"Topic5\", \"Topic5\", \"Topic5\", \"Topic5\", \"Topic5\", \"Topic5\", \"Topic5\", \"Topic5\", \"Topic5\", \"Topic5\", \"Topic5\", \"Topic5\", \"Topic5\", \"Topic5\", \"Topic5\", \"Topic6\", \"Topic6\", \"Topic6\", \"Topic6\", \"Topic6\", \"Topic6\", \"Topic6\", \"Topic6\", \"Topic6\", \"Topic6\", \"Topic6\", \"Topic6\", \"Topic6\", \"Topic6\", \"Topic6\", \"Topic6\", \"Topic6\", \"Topic6\", \"Topic6\", \"Topic6\", \"Topic6\", \"Topic6\", \"Topic6\", \"Topic6\", \"Topic6\", \"Topic6\", \"Topic6\", \"Topic6\", \"Topic6\", \"Topic6\", \"Topic6\", \"Topic6\", \"Topic6\", \"Topic6\", \"Topic7\", \"Topic7\", \"Topic7\", \"Topic7\", \"Topic7\", \"Topic7\", \"Topic7\", \"Topic7\", \"Topic7\", \"Topic7\", \"Topic7\", \"Topic7\", \"Topic7\", \"Topic7\", \"Topic7\", \"Topic7\", \"Topic7\", \"Topic7\", \"Topic7\", \"Topic7\", \"Topic7\", \"Topic7\", \"Topic7\", \"Topic7\", \"Topic7\", \"Topic7\", \"Topic7\", \"Topic7\", \"Topic7\", \"Topic7\", \"Topic7\", \"Topic7\", \"Topic7\", \"Topic7\", \"Topic7\", \"Topic7\", \"Topic7\", \"Topic7\", \"Topic7\", \"Topic8\", \"Topic8\", \"Topic8\", \"Topic8\", \"Topic8\", \"Topic8\", \"Topic8\", \"Topic8\", \"Topic8\", \"Topic8\", \"Topic8\", \"Topic8\", \"Topic8\", \"Topic8\", \"Topic8\", \"Topic8\", \"Topic8\", \"Topic8\", \"Topic8\", \"Topic8\", \"Topic8\", \"Topic8\", \"Topic8\", \"Topic8\", \"Topic8\", \"Topic8\", \"Topic8\", \"Topic8\", \"Topic8\", \"Topic8\", \"Topic8\", \"Topic8\", \"Topic8\", \"Topic8\", \"Topic9\", \"Topic9\", \"Topic9\", \"Topic9\", \"Topic9\", \"Topic9\", \"Topic9\", \"Topic9\", \"Topic9\", \"Topic9\", \"Topic9\", \"Topic9\", \"Topic9\", \"Topic9\", \"Topic9\", \"Topic9\", \"Topic9\", \"Topic9\", \"Topic9\", \"Topic9\", \"Topic9\", \"Topic9\", \"Topic9\", \"Topic9\", \"Topic9\", \"Topic9\", \"Topic9\", \"Topic9\", \"Topic9\", \"Topic9\", \"Topic9\", \"Topic9\", \"Topic9\", \"Topic9\", \"Topic9\", \"Topic9\", \"Topic10\", \"Topic10\", \"Topic10\", \"Topic10\", \"Topic10\", \"Topic10\", \"Topic10\", \"Topic10\", \"Topic10\", \"Topic10\", \"Topic10\", \"Topic10\", \"Topic10\", \"Topic10\", \"Topic10\", \"Topic10\", \"Topic10\", \"Topic10\", \"Topic10\", \"Topic10\", \"Topic10\", \"Topic10\", \"Topic10\", \"Topic10\", \"Topic10\", \"Topic10\", \"Topic10\", \"Topic10\", \"Topic10\", \"Topic10\", \"Topic10\", \"Topic10\", \"Topic10\", \"Topic10\", \"Topic10\", \"Topic10\", \"Topic10\"], \"logprob\": [30.0, 29.0, 28.0, 27.0, 26.0, 25.0, 24.0, 23.0, 22.0, 21.0, 20.0, 19.0, 18.0, 17.0, 16.0, 15.0, 14.0, 13.0, 12.0, 11.0, 10.0, 9.0, 8.0, 7.0, 6.0, 5.0, 4.0, 3.0, 2.0, 1.0, -2.4533, -2.6562, -2.9601, -3.5819, -4.2317, -4.2928, -4.6346, -4.6346, -2.6019, -2.8358, -5.2501, -5.3201, -5.3201, -5.3201, -5.3201, -5.3201, -5.4768, -5.4768, -5.4768, -5.5658, -5.663, -5.3201, -5.7706, -5.7706, -5.7706, -2.5894, -2.7129, -2.4934, -5.2252, -6.4081, -4.6346, -1.9029, -3.4581, -4.6538, -4.3389, -4.8066, -5.3483, -3.8518, -4.0486, -4.0487, -4.0915, -4.1239, -4.1239, -3.4993, -4.2053, -4.2053, -4.2939, -4.2939, -4.294, -4.294, -4.294, -4.294, -4.2947, -4.3912, -4.3914, -4.3914, -4.3916, -4.3921, -4.1961, -2.8147, -4.1204, -4.3379, -4.7026, -3.5641, -5.5083, -4.5761, -5.8795, -3.7897, -3.8883, -3.3004, -3.5807, -3.4875, -3.9148, -3.8379, -4.1339, -4.0984, -4.0778, -4.0597, -4.2365, -2.9318, -2.9645, -3.0894, -3.0994, -3.0994, -3.1238, -3.1238, -3.1238, -3.1238, -3.1238, -3.1238, -3.8118, -3.8118, -3.391, -4.5025, -4.5447, -4.5453, -4.7205, -2.6562, -4.695, -5.6598, -3.0507, -3.6936, -6.0336, -4.6055, -4.7205, -6.6354, -6.6357, -6.6362, -6.6375, -2.3981, -3.756, -5.3038, -6.0331, -2.6723, -2.9561, -3.3168, -3.4036, -4.3364, -4.3364, -4.3364, -4.0432, -4.684, -3.9444, -3.9273, -3.6635, -3.4781, -5.3565, -5.717, -5.7171, -5.7171, -5.7171, -5.4054, -3.9494, -3.561, -5.7171, -3.409, -3.6188, -5.8675, -6.3194, -6.3194, -6.3194, -6.3194, -6.3195, -4.9072, -5.2648, -3.2567, -4.7935, -3.0429, -3.4911, -3.8156, -2.016, -4.0969, -3.709, -4.0772, -3.6553, -4.6853, -4.8926, -4.8454, -3.5152, -3.5432, -3.6885, -3.6885, -3.6885, -3.6885, -3.7699, -3.7699, -3.7699, -3.7699, -4.0636, -4.7997, -4.7997, -4.7997, -4.7997, -4.7997, -4.7997, -4.7997, -3.6896, -5.0708, -5.0708, -5.0708, -2.8106, -3.3744, -3.3814, -3.7041, -2.5424, -3.8655, -5.4441, -5.4441, -3.2919, -3.7708, -3.4787, -3.7596, -3.3443, -3.8985, -3.8272, -4.2205, -4.3085, -3.0672, -3.0672, -3.0672, -3.269, -3.7527, -3.7527, -3.7527, -3.7527, -3.7527, -3.7527, -3.7527, -3.7527, -3.7527, -3.7527, -3.7527, -3.7527, -3.7527, -3.7528, -3.828, -3.9981, -3.6827, -3.058, -3.6827, -3.7527, -3.7527, -3.7527, -6.1881, -6.1889, -6.1889, -6.1889, -2.5936, -3.7443, -3.7527, -3.0176, -3.0287, -3.3089, -3.7071, -3.859, -3.3261, -4.1739, -3.2321, -4.3843, -4.3843, -4.3843, -4.3843, -4.3843, -4.3843, -4.3843, -4.3843, -4.3843, -4.3843, -4.7305, -5.1156, -4.5346, -3.2709, -5.4305, -3.9749, -4.3941, -6.3623, -6.3623, -6.3623, -6.3646, -3.2134, -5.2278, -3.4543, -2.4589, -3.9537, -2.4661, -4.0769, -2.5738, -4.2065, -3.6779, -4.354, -2.4244, -2.9641, -3.1093, -3.1093, -3.1093, -3.1093, -1.9482, -3.8325, -4.2207, -4.8649, -3.0618, -5.4673, -5.4673, -3.1093, -2.8946, -2.9724, -7.2133, -7.2133, -7.2133, -7.2133, -7.2133, -7.2133, -7.2133, -7.2146, -7.2146, -5.4572, -7.2179, -7.2179, -7.2179, -7.2179, -5.2762, -3.0422, -5.3802, -7.2123, -2.6017, -3.1011, -3.1711, -3.1711, -3.1711, -3.1711, -3.1711, -3.5139, -3.514, -3.6215, -3.6215, -3.6215, -3.6215, -3.6215, -5.002, -3.1841, -5.6043, -5.6045, -5.6051, -5.6051, -5.6056, -5.6056, -5.6073, -5.0021, -3.5991, -3.1897, -5.6043, -5.0086, -5.6043, -3.1435, -3.6802, -3.4768, -4.9824, -4.874, -5.5555, -5.6043, -3.0459, -3.0461, -3.4213, -3.4213, -3.4213, -3.4213, -2.0502, -3.9501, -3.5061, -4.8016, -3.4638, -2.5767, -4.8313, -4.8314, -5.4039, -5.4039, -5.4039, -5.4039, -5.4041, -5.4041, -5.4041, -4.8015, -4.8922, -5.2761, -4.9235, -4.0082, -6.2556, -4.1107, -7.1545, -7.1545, -5.3889, -2.8306, -3.4229, -4.2765, -4.4572, -5.3867, -5.3867], \"loglift\": [30.0, 29.0, 28.0, 27.0, 26.0, 25.0, 24.0, 23.0, 22.0, 21.0, 20.0, 19.0, 18.0, 17.0, 16.0, 15.0, 14.0, 13.0, 12.0, 11.0, 10.0, 9.0, 8.0, 7.0, 6.0, 5.0, 4.0, 3.0, 2.0, 1.0, 1.3813, 1.3779, 1.3728, 1.3548, 1.32, 1.3153, 1.2852, 1.2852, 1.2466, 1.2179, 1.201, 1.1884, 1.1884, 1.1884, 1.1884, 1.1884, 1.1574, 1.1573, 1.1573, 1.1377, 1.1149, 1.1091, 1.0878, 1.0878, 1.0878, 1.0349, 0.9833, 0.9578, 0.935, 0.7315, 0.7195, 0.6734, 0.3712, 0.4611, 0.2011, 0.385, -0.9082, 1.8165, 1.8006, 1.8005, 1.7967, 1.7936, 1.7936, 1.7896, 1.7856, 1.7856, 1.7762, 1.7762, 1.7762, 1.7762, 1.7762, 1.7761, 1.7761, 1.765, 1.7649, 1.7649, 1.7648, 1.7646, 1.7087, 1.7079, 1.6717, 1.6598, 1.5778, 1.5537, 1.5428, 1.5025, 1.4189, 1.3252, 1.2851, 0.9345, 1.0328, 0.3418, 0.9848, 0.702, 1.2117, 1.0161, 0.7146, 0.5195, 0.7374, 2.1267, 2.1253, 2.1194, 2.119, 2.119, 2.1177, 2.1177, 2.1177, 2.1177, 2.1177, 2.1177, 2.0685, 2.0685, 2.0049, 1.9768, 1.9692, 1.9689, 1.9349, 1.9211, 1.793, 1.6523, 1.65, 1.6398, 1.4841, 1.2521, 1.1815, 1.1409, 1.1406, 1.1402, 1.139, 0.1782, -0.0598, -0.186, 0.2473, 2.2296, 2.2197, 2.1996, 2.1929, 2.0899, 2.0899, 2.0899, 2.0743, 2.0244, 1.9316, 1.7901, 1.7812, 1.7227, 1.7216, 1.6949, 1.6949, 1.6949, 1.6948, 1.6796, 1.5602, 1.5424, 1.5092, 1.4906, 1.4384, 1.426, 1.3872, 1.3872, 1.3872, 1.3872, 1.3871, 1.3622, 1.3653, 1.2833, 1.3119, 1.192, 1.0882, 1.1015, 0.5604, 0.877, 0.3447, 0.5363, 0.1932, 0.4324, 0.0001, -0.3229, 2.2976, 2.2952, 2.2815, 2.2815, 2.2815, 2.2815, 2.273, 2.273, 2.273, 2.2729, 2.2365, 2.0943, 2.0943, 2.0943, 2.0943, 2.0943, 2.0943, 2.0943, 2.0785, 2.0181, 2.0181, 2.0181, 1.9817, 1.9672, 1.9371, 1.9228, 1.8976, 1.8954, 1.8872, 1.8872, 1.6252, 1.6514, 1.4952, 1.586, 1.2349, 1.4802, 1.2762, 0.9666, -0.0736, 2.3632, 2.3632, 2.3632, 2.3498, 2.3055, 2.3055, 2.3055, 2.3055, 2.3055, 2.3055, 2.3055, 2.3055, 2.3055, 2.3055, 2.3055, 2.3055, 2.3055, 2.3055, 2.2967, 2.2746, 2.2449, 2.0479, 1.97, 1.7381, 1.6694, 1.6014, 1.5273, 1.5268, 1.5268, 1.5267, 1.2356, 1.313, 0.6873, -0.4412, 2.3854, 2.3561, 2.3215, 2.3105, 2.2712, 2.2641, 2.2351, 2.2214, 2.2214, 2.2214, 2.2214, 2.2214, 2.2214, 2.2214, 2.2214, 2.2214, 2.2214, 2.1436, 2.0295, 1.9797, 1.8435, 1.6221, 1.5498, 1.4955, 1.4157, 1.4157, 1.4157, 1.4133, 1.4001, 1.3509, 1.2463, 1.1654, 1.2471, 0.9851, 1.0964, 0.0025, 0.8507, 0.0183, 0.2252, 3.0277, 2.9848, 2.9693, 2.9693, 2.9693, 2.9693, 2.9445, 2.8543, 2.7594, 2.5323, 2.4629, 2.2294, 2.2294, 1.4681, 0.9347, 0.7238, 0.6527, 0.6527, 0.6527, 0.6527, 0.6527, 0.6527, 0.6527, 0.6515, 0.6515, 0.6482, 0.648, 0.648, 0.648, 0.648, 0.6287, -0.4659, -0.1794, 0.566, 3.1209, 3.0688, 3.0595, 3.0595, 3.0595, 3.0595, 3.0595, 3.0049, 3.0048, 2.9844, 2.9844, 2.9844, 2.9844, 2.9844, 2.5182, 2.3255, 2.1737, 2.1736, 2.173, 2.173, 2.1726, 2.1726, 2.171, 2.1629, 2.0277, 1.9162, 1.9158, 1.793, 1.1191, 1.0914, 0.7599, -0.0256, -0.2818, -2.2976, -0.2666, 0.5132, 3.3026, 3.3024, 3.2339, 3.2339, 3.2339, 3.2339, 3.1369, 3.0927, 2.8433, 2.747, 2.6416, 2.6149, 2.4021, 2.4021, 2.3924, 2.3924, 2.3924, 2.3924, 2.3922, 2.3922, 2.3922, 2.3635, 2.0968, 1.7811, 1.5908, 1.4591, 1.0379, 0.9927, 0.7116, 0.7116, 0.6897, 0.6206, 0.2733, -0.6523, -1.8809, 0.4709, 0.5152]}, \"token.table\": {\"Topic\": [1, 4, 1, 2, 10, 1, 2, 1, 5, 5, 5, 6, 3, 2, 7, 8, 2, 4, 7, 8, 1, 1, 4, 10, 5, 10, 1, 4, 2, 1, 5, 6, 9, 5, 6, 7, 9, 7, 3, 2, 9, 2, 4, 5, 5, 2, 5, 3, 4, 5, 9, 2, 8, 8, 10, 2, 5, 2, 5, 4, 2, 7, 8, 7, 2, 3, 4, 4, 9, 1, 1, 1, 6, 7, 5, 2, 1, 2, 4, 5, 9, 2, 5, 8, 6, 6, 6, 6, 4, 2, 7, 1, 4, 1, 5, 7, 3, 2, 4, 5, 7, 7, 2, 8, 4, 5, 6, 2, 10, 2, 4, 7, 5, 5, 1, 7, 4, 9, 4, 1, 1, 6, 3, 2, 5, 2, 3, 3, 1, 2, 4, 7, 6, 7, 1, 4, 2, 6, 2, 8, 10, 2, 3, 3, 8, 1, 6, 8, 3, 5, 9, 10, 3, 1, 5, 3, 2, 5, 2, 5, 7, 1, 9, 1, 1, 9, 10, 4, 6, 7, 2, 3, 4, 5, 2, 2, 3, 1, 1, 6, 8, 3, 1, 4, 3, 2, 3, 4, 7, 9, 2, 5, 4, 6, 9, 2, 5, 7, 7, 1, 6, 2, 5, 2, 2, 7, 2, 3, 4, 7, 9, 7, 10, 2, 4, 7, 4, 7, 2, 2, 5, 1, 2, 3, 4, 6, 7, 8, 9, 10, 2, 2, 6, 5, 3, 6, 1, 2, 4, 2, 10, 7, 5, 10, 4, 9, 2, 5, 2, 10, 7, 1, 10, 2, 1, 2, 2, 7, 8, 6, 5, 1, 3, 7, 8, 10, 3, 2, 9, 7, 2, 4, 5, 4, 5, 3, 5, 2, 4, 5, 7, 4, 8, 1, 2, 3, 2, 9, 3, 1, 2, 7, 9, 9, 1, 7, 10, 9, 10, 4, 8, 10, 1, 4, 5, 10, 5, 1, 1, 1, 6, 1, 2, 7, 9, 10, 5, 2, 4, 7, 7, 10, 10, 7, 2, 1, 3, 6, 6, 2, 4, 9, 1, 5, 2, 4, 9, 9, 2, 4, 2, 1, 2, 8, 7, 2, 5, 6, 1, 2, 6, 8, 10, 4, 6, 2, 7, 1, 3, 6, 9, 6, 3, 1, 4, 6, 3], \"Freq\": [0.6302606081486528, 0.9375544801938653, 0.34742737085833053, 0.13897094834333223, 0.41691284502999665, 0.5491123570427773, 0.18303745234759244, 0.8635751783973404, 0.762528163330476, 0.9079710113852807, 0.8138487476303982, 0.8264863522112798, 0.5791644461783731, 0.9116193244320666, 0.38779942802731465, 0.581699142040972, 0.07012479908059535, 0.5609983926447628, 0.2804991963223814, 0.07012479908059535, 0.9484453123508737, 0.8706211647996331, 0.12696558653327983, 0.900868188827368, 0.4633132304794469, 0.8838095779676997, 0.969232308245577, 0.8769491170980567, 0.9190341569457534, 0.09831407225661112, 0.6226557909585371, 0.16385678709435186, 0.09831407225661112, 0.8138469501897009, 0.8264859935465585, 0.802275106568768, 0.7855492800281065, 0.7249885990969908, 0.7113374828356825, 0.8953789082346895, 0.857481205836528, 0.3353430522455188, 0.22356203483034587, 0.3912335609531053, 0.5903585377110449, 0.3262768373561351, 0.6525536747122702, 0.9495486785763789, 0.458315617644408, 0.6442580498861024, 0.3221290249430512, 0.8616014660189815, 0.843426040976893, 0.8434286724040869, 0.733736758456663, 0.3683222138247817, 0.6138703563746362, 0.3155312665861316, 0.6310625331722632, 0.5685261875722943, 0.5563153908475363, 0.27815769542376817, 0.9015957533920907, 0.8573303796885599, 0.7099343464874555, 0.06453948604431413, 0.12907897208862826, 0.6399698414159627, 0.7855492800281065, 0.8820772155468232, 0.7779329410424234, 0.33057949024282796, 0.6611589804856559, 0.8573303796885599, 0.5903585377110449, 0.836366685305003, 0.053385452987845264, 0.37369817091491686, 0.34700544442099424, 0.0800781794817679, 0.13346363246961318, 0.24731688956501233, 0.741950668695037, 0.8434286726119385, 0.9704895590753956, 0.8264862762026786, 0.8264860014476265, 0.8264861167545586, 0.46147371166515105, 0.3859466419427141, 0.5145955225902854, 0.8462463939249386, 0.15588749361775184, 0.8820770708069087, 0.9053063878362638, 0.8924262194709188, 0.9189908468688692, 0.3351100297888753, 0.08377750744721882, 0.4188875372360941, 0.16755501489443764, 0.8573303796885599, 0.9114933426169841, 0.630587274237423, 0.9554181941507356, 0.43749550044005037, 0.43749550044005037, 0.5353644943566829, 0.5353644943566829, 0.8185877366783983, 0.07118154231986072, 0.07118154231986072, 0.9079705810367877, 0.7625293159159477, 0.8964692397596553, 0.9237107229413588, 0.6399686916098006, 0.7855492810554586, 0.6399762929543219, 0.7358504600662082, 0.14505057684545797, 0.8703034610727479, 0.9413393526314413, 0.3228993710291571, 0.6457987420583142, 0.4003669978968341, 0.5605137970555678, 0.9495490733687956, 0.03897724199922603, 0.42874966199148634, 0.19488620999613016, 0.3507951779930343, 0.8264861817241899, 0.8573303796885599, 0.4083080504918683, 0.4083080504918683, 0.37488352168190586, 0.4686044021023823, 0.8507716757676067, 0.14179527929460112, 0.900868188827368, 0.8369193314050555, 0.7555214669467747, 0.789498087137314, 0.1879757350326938, 0.48738579039322716, 0.8833095252123677, 0.8434286730683453, 0.968480585801283, 0.9079707345749225, 0.857481205836528, 0.8838157519357256, 0.9684806140133249, 0.7779326491286673, 0.7625303137048164, 0.7823313674257315, 0.8363710872481527, 0.9287348159618816, 0.9272084639081317, 0.7625307017734828, 0.7474982481108766, 0.9826277186737833, 0.7131523569024064, 0.9837211943706815, 0.7779331424901086, 0.857481205836528, 0.8848097600564904, 0.4252425990241965, 0.3037447135887118, 0.18224682815322707, 0.5409931243383119, 0.40574484325373394, 0.6399663213644958, 0.7625294716304583, 0.9116183554044582, 0.5655128709196905, 0.42413465318976784, 0.7779330054238217, 0.4904923762721529, 0.40874364689346077, 0.9297167899503431, 0.9278229941386503, 0.3526816330622776, 0.5878027217704628, 0.9495486143207603, 0.8256236691970987, 0.20640591729927468, 0.6887888711239691, 0.13775777422479385, 0.7855492800281065, 0.48632128772445093, 0.48632128772445093, 0.9554181941507356, 0.9586374325345671, 0.9452837762968113, 0.8922746123500074, 0.9079703359500313, 0.8573303796885599, 0.8573303796885599, 0.6789933577336267, 0.8193024740100331, 0.6748080418747556, 0.1687020104686889, 0.836371030082706, 0.4468071181438427, 0.4468071181438427, 0.44884868160107017, 0.5953835101299767, 0.04252739358071263, 0.29769175506498835, 0.04252739358071263, 0.5216181698215367, 0.2608090849107684, 0.17899135490907886, 0.626469742181776, 0.17899135490907886, 0.9575754294358408, 0.8573303796885599, 0.911935316044409, 0.7600677895950214, 0.12667796493250358, 0.48795261274319685, 0.015248519148224901, 0.13723667233402412, 0.18298222977869882, 0.055911236876824644, 0.08640827517327444, 0.030497038296449803, 0.005082839716074967, 0.005082839716074967, 0.8363677363127594, 0.9761758923078735, 0.9704897029302958, 0.8421189784717014, 0.9495486522043343, 0.8264860403383295, 0.28970987894317307, 0.28970987894317307, 0.3621373486789663, 0.41927822769831885, 0.41927822769831885, 0.49012204686238925, 0.20751229364589774, 0.6917076454863258, 0.9881331350782862, 0.7859812311211112, 0.9387933185349118, 0.8138487382908184, 0.5353600006918976, 0.5353600006918976, 0.8573303796885599, 0.22116395776788284, 0.44232791553576567, 0.8363675664259858, 0.7185954624108486, 0.6429826246546736, 0.5585506392884289, 0.4189129794663216, 0.8890184678014533, 0.8264860014435429, 0.46331321153249144, 0.6697467234485951, 0.10902853637535269, 0.09345303117887373, 0.09345303117887373, 0.046726515589436864, 0.9010032112160312, 0.6951793843576565, 0.34758969217882824, 0.8573303796885599, 0.2112160092834999, 0.31682401392524984, 0.47523602088787475, 0.6333585432326767, 0.7625320163452644, 0.8523337185177552, 0.08523337185177551, 0.2636532187538682, 0.30131796429013513, 0.30131796429013513, 0.11299423660880067, 0.10306295652872532, 0.8760351304941653, 0.9715223720121786, 0.9272174771057394, 0.9495488426271538, 0.911678706732014, 0.7855492800281065, 0.9731748346037181, 0.136453515824229, 0.545814063296916, 0.272907031648458, 0.857481205836528, 0.857481205836528, 0.6957494592548502, 0.27540082762171153, 0.014494780401142713, 0.49995873872571117, 0.49995873872571117, 0.34654194789136816, 0.17327097394568408, 0.5198129218370522, 0.0636216704309306, 0.5089733634474448, 0.31810835215465305, 0.0636216704309306, 0.46331306903246405, 0.8635755721650332, 0.7345708833103057, 0.882077114886222, 0.8264859937163501, 0.6461188955506978, 0.02438184511512067, 0.23162752859364635, 0.03657276767268101, 0.060954612787801676, 0.8138488134768126, 0.415100520350992, 0.466988085394866, 0.103775130087748, 0.8238442051246095, 0.0915382450138455, 0.900868188827368, 0.9548742365415681, 0.8363697562358112, 0.25405980839019277, 0.7621794251705782, 0.8264861490053222, 0.9704900299780042, 0.9387678392725607, 0.47750088944505026, 0.3820007115560402, 0.7358504600662082, 0.7625301979909375, 0.8616029956170358, 0.9614826921081965, 0.9241121972249143, 0.7859451066292666, 0.2928444199950428, 0.2928444199950428, 0.5712872795705914, 0.38615349042963343, 0.5792302356444502, 0.8310636052860494, 0.8573303796885599, 0.7778650227863452, 0.15557300455726905, 0.8264858619861379, 0.35585370315685083, 0.2135122218941105, 0.3024756476833232, 0.12454879610489779, 0.900868188827368, 0.9554181941507356, 0.8264901837778742, 0.10425842859317665, 0.8340674287454132, 0.7779326405261675, 0.9278230873941788, 0.7015529280435154, 0.2551101556521874, 0.8264857967145204, 0.7821192437243779, 0.7358504600662082, 0.5315699785354598, 0.8264860145179375, 0.9495488629396578], \"Term\": [\"accord\", \"accordance\", \"account\", \"account\", \"account\", \"accumulate\", \"accumulate\", \"accumulation\", \"advance\", \"advanceand\", \"advanceunless\", \"agreement\", \"amount\", \"another\", \"app\", \"app\", \"application\", \"application\", \"application\", \"application\", \"applications\", \"apply\", \"apply\", \"appx\", \"arise\", \"aug\", \"august\", \"back\", \"baht\", \"bank\", \"bank\", \"bank\", \"bank\", \"benefit\", \"better\", \"bring\", \"browser\", \"buy\", \"calculate\", \"call\", \"campaignthe\", \"cancel\", \"cancel\", \"cancel\", \"canceledthe\", \"cannot\", \"cannot\", \"car\", \"card\", \"case\", \"case\", \"cash\", \"categories\", \"category\", \"cause\", \"center\", \"center\", \"change\", \"change\", \"channel\", \"check\", \"check\", \"chill\", \"choose\", \"code\", \"code\", \"code\", \"collection\", \"comment\", \"commercial\", \"common\", \"company\", \"company\", \"compensation\", \"complete\", \"comply\", \"condition\", \"condition\", \"condition\", \"condition\", \"condition\", \"contact\", \"contact\", \"continue\", \"cookie\", \"cookies\", \"copyright\", \"create\", \"credit\", \"customer\", \"customer\", \"customers\", \"customers\", \"customersand\", \"damage\", \"date\", \"day\", \"days\", \"days\", \"days\", \"days\", \"deal\", \"decision\", \"dee\", \"delete\", \"detail\", \"detail\", \"directly\", \"directly\", \"discount\", \"discount\", \"discount\", \"dispute\", \"distribution\", \"download\", \"easy\", \"eligible\", \"email\", \"end\", \"enter\", \"esb\", \"esb\", \"eveandboy\", \"event\", \"event\", \"every\", \"every\", \"everyday\", \"exchange\", \"exchange\", \"exchange\", \"exchange\", \"experience\", \"feature\", \"first\", \"first\", \"follow\", \"follow\", \"food\", \"food\", \"free\", \"friday\", \"full\", \"gallery\", \"gallery\", \"goods\", \"great\", \"happiness\", \"hi\", \"hold\", \"holidaysor\", \"hrs\", \"hythak\", \"image\", \"import\", \"include\", \"incorrector\", \"inform\", \"information\", \"involve\", \"item\", \"july\", \"jun\", \"june\", \"larger\", \"last\", \"lifetime\", \"limit\", \"limit\", \"limit\", \"line\", \"line\", \"list\", \"lose\", \"make\", \"man\", \"man\", \"manage\", \"management\", \"management\", \"mart\", \"maximum\", \"meet\", \"meet\", \"mid\", \"minimum\", \"minimum\", \"must\", \"must\", \"name\", \"necessity\", \"necessity\", \"never\", \"new\", \"next\", \"normal\", \"notify\", \"number\", \"october\", \"online\", \"operation\", \"order\", \"order\", \"orreturn\", \"page\", \"page\", \"participate\", \"pay\", \"pay\", \"pay\", \"pay\", \"payment\", \"payment\", \"per\", \"per\", \"per\", \"period\", \"periodfrom\", \"person\", \"please\", \"please\", \"point\", \"point\", \"point\", \"point\", \"point\", \"point\", \"point\", \"point\", \"point\", \"pointsin\", \"pointx\", \"policy\", \"possible\", \"premium\", \"privacy\", \"privilege\", \"privilege\", \"privilege\", \"problems\", \"problems\", \"process\", \"products\", \"products\", \"promotion\", \"promotional\", \"promotions\", \"promotionwhich\", \"provider\", \"provider\", \"pull\", \"qr\", \"qr\", \"qualifications\", \"question\", \"rat\", \"rate\", \"rate\", \"rd\", \"read\", \"reason\", \"receive\", \"receive\", \"receive\", \"receive\", \"receive\", \"reconcile\", \"refund\", \"refund\", \"remain\", \"reserve\", \"reserve\", \"reserve\", \"respectively\", \"responsible\", \"return\", \"return\", \"right\", \"right\", \"right\", \"right\", \"robinhood\", \"robinhood\", \"round\", \"rule\", \"sale\", \"sales\", \"save\", \"scan\", \"scb\", \"scb\", \"scb\", \"schedule\", \"scheduleon\", \"score\", \"score\", \"score\", \"sep\", \"sep\", \"september\", \"september\", \"september\", \"service\", \"service\", \"service\", \"service\", \"servicesin\", \"set\", \"shop\", \"siam\", \"similar\", \"special\", \"special\", \"special\", \"special\", \"special\", \"specifications\", \"specify\", \"specify\", \"specify\", \"spend\", \"spend\", \"spendor\", \"store\", \"suspend\", \"system\", \"system\", \"tech\", \"technology\", \"tel\", \"term\", \"term\", \"th\", \"therefore\", \"thingsand\", \"throughout\", \"time\", \"today\", \"total\", \"total\", \"transaction\", \"transfer\", \"transfer\", \"travel\", \"unable\", \"unless\", \"unless\", \"us\", \"use\", \"use\", \"use\", \"use\", \"useget\", \"user\", \"value\", \"via\", \"via\", \"view\", \"wash\", \"website\", \"website\", \"websiteplease\", \"wednesday\", \"week\", \"within\", \"world\", \"year\"]}, \"R\": 30, \"lambda.step\": 0.01, \"plot.opts\": {\"xlab\": \"PC1\", \"ylab\": \"PC2\"}, \"topic.order\": [1, 3, 2, 5, 10, 9, 6, 7, 8, 4]};\n",
       "\n",
       "function LDAvis_load_lib(url, callback){\n",
       "  var s = document.createElement('script');\n",
       "  s.src = url;\n",
       "  s.async = true;\n",
       "  s.onreadystatechange = s.onload = callback;\n",
       "  s.onerror = function(){console.warn(\"failed to load library \" + url);};\n",
       "  document.getElementsByTagName(\"head\")[0].appendChild(s);\n",
       "}\n",
       "\n",
       "if(typeof(LDAvis) !== \"undefined\"){\n",
       "   // already loaded: just create the visualization\n",
       "   !function(LDAvis){\n",
       "       new LDAvis(\"#\" + \"ldavis_el439711440786000206843679\", ldavis_el439711440786000206843679_data);\n",
       "   }(LDAvis);\n",
       "}else if(typeof define === \"function\" && define.amd){\n",
       "   // require.js is available: use it to load d3/LDAvis\n",
       "   require.config({paths: {d3: \"https://d3js.org/d3.v5\"}});\n",
       "   require([\"d3\"], function(d3){\n",
       "      window.d3 = d3;\n",
       "      LDAvis_load_lib(\"https://cdn.jsdelivr.net/gh/bmabey/pyLDAvis@3.4.0/pyLDAvis/js/ldavis.v3.0.0.js\", function(){\n",
       "        new LDAvis(\"#\" + \"ldavis_el439711440786000206843679\", ldavis_el439711440786000206843679_data);\n",
       "      });\n",
       "    });\n",
       "}else{\n",
       "    // require.js not available: dynamically load d3 & LDAvis\n",
       "    LDAvis_load_lib(\"https://d3js.org/d3.v5.js\", function(){\n",
       "         LDAvis_load_lib(\"https://cdn.jsdelivr.net/gh/bmabey/pyLDAvis@3.4.0/pyLDAvis/js/ldavis.v3.0.0.js\", function(){\n",
       "                 new LDAvis(\"#\" + \"ldavis_el439711440786000206843679\", ldavis_el439711440786000206843679_data);\n",
       "            })\n",
       "         });\n",
       "}\n",
       "</script>"
      ],
      "text/plain": [
       "PreparedData(topic_coordinates=              x         y  topics  cluster       Freq\n",
       "topic                                                \n",
       "0     -0.240995  0.122344       1        1  24.804117\n",
       "2      0.161659  0.111441       2        1  15.054724\n",
       "1     -0.160022 -0.223341       3        1  11.417325\n",
       "4     -0.002594  0.128302       4        1  10.357153\n",
       "9      0.287387  0.002685       5        1   9.180922\n",
       "8      0.033690 -0.182296       6        1   8.844756\n",
       "5     -0.131510  0.152089       7        1   8.638766\n",
       "6     -0.064550 -0.114218       8        1   4.546301\n",
       "7      0.127443 -0.042826       9        1   4.047838\n",
       "3     -0.010508  0.045822      10        1   3.108097, topic_info=        Term        Freq       Total Category  logprob  loglift\n",
       "23   special   82.000000   82.000000  Default  30.0000  30.0000\n",
       "70     score   68.000000   68.000000  Default  29.0000  29.0000\n",
       "232     june   55.000000   55.000000  Default  28.0000  28.0000\n",
       "42     point  196.000000  196.000000  Default  27.0000  27.0000\n",
       "50       use   56.000000   56.000000  Default  26.0000  26.0000\n",
       "..       ...         ...         ...      ...      ...      ...\n",
       "69   receive    2.622566   64.203375  Topic10  -3.4229   0.2733\n",
       "70     score    1.116896   68.990352  Topic10  -4.2765  -0.6523\n",
       "42     point    0.932262  196.740416  Topic10  -4.4572  -1.8809\n",
       "215     line    0.368023    7.393809  Topic10  -5.3867   0.4709\n",
       "216      man    0.368023    7.073225  Topic10  -5.3867   0.5152\n",
       "\n",
       "[407 rows x 6 columns], token_table=      Topic      Freq        Term\n",
       "term                             \n",
       "227       1  0.630261      accord\n",
       "116       4  0.937554  accordance\n",
       "107       1  0.347427     account\n",
       "107       2  0.138971     account\n",
       "107      10  0.416913     account\n",
       "...     ...       ...         ...\n",
       "272       3  0.782119   wednesday\n",
       "311       1  0.735850        week\n",
       "131       4  0.531570      within\n",
       "52        6  0.826486       world\n",
       "224       3  0.949549        year\n",
       "\n",
       "[367 rows x 3 columns], R=30, lambda_step=0.01, plot_opts={'xlab': 'PC1', 'ylab': 'PC2'}, topic_order=[1, 3, 2, 5, 10, 9, 6, 7, 8, 4])"
      ]
     },
     "execution_count": 70,
     "metadata": {},
     "output_type": "execute_result"
    }
   ],
   "source": [
    "corpus_topic(preprocess_text(pointx_corpus))"
   ]
  },
  {
   "cell_type": "code",
   "execution_count": 71,
   "metadata": {},
   "outputs": [
    {
     "data": {
      "text/plain": [
       "[('nigelvaz', 0.9916048049926758),\n",
       " ('scbx', 0.9914949536323547),\n",
       " ('suwanprateeb', 0.9911962747573853),\n",
       " ('anddigital', 0.9911912083625793),\n",
       " ('trirat', 0.9911136627197266),\n",
       " ('ispaving', 0.9910975694656372),\n",
       " ('developand', 0.9910673499107361),\n",
       " ('ofhelping', 0.9910535216331482),\n",
       " ('vatsun', 0.9909147620201111),\n",
       " ('jatupron', 0.9908701181411743)]"
      ]
     },
     "execution_count": 71,
     "metadata": {},
     "output_type": "execute_result"
    }
   ],
   "source": [
    "TechXmodel.wv.most_similar('techx',topn=10)"
   ]
  },
  {
   "cell_type": "code",
   "execution_count": null,
   "metadata": {},
   "outputs": [],
   "source": []
  }
 ],
 "metadata": {
  "kernelspec": {
   "display_name": "base",
   "language": "python",
   "name": "python3"
  },
  "language_info": {
   "codemirror_mode": {
    "name": "ipython",
    "version": 3
   },
   "file_extension": ".py",
   "mimetype": "text/x-python",
   "name": "python",
   "nbconvert_exporter": "python",
   "pygments_lexer": "ipython3",
   "version": "3.10.9"
  },
  "orig_nbformat": 4
 },
 "nbformat": 4,
 "nbformat_minor": 2
}

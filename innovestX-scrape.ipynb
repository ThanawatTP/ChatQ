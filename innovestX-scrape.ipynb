{
 "cells": [
  {
   "cell_type": "code",
   "execution_count": 15,
   "metadata": {},
   "outputs": [],
   "source": [
    "from selenium import webdriver\n",
    "from bs4 import BeautifulSoup\n",
    "from nltk.tokenize import sent_tokenize, word_tokenize\n",
    "from selenium.webdriver.common.by import By\n",
    "# from selenium.webdriver.support.ui import WebDriverWait\n",
    "from selenium.common.exceptions import ElementNotInteractableException, NoSuchElementException, SessionNotCreatedException\n",
    "from selenium.webdriver.support import expected_conditions as EC\n",
    "from time import sleep\n",
    "from tqdm import tqdm\n",
    "# import re, gensim\n",
    "from googletrans import Translator\n",
    "import pandas as pd"
   ]
  },
  {
   "cell_type": "code",
   "execution_count": 2,
   "metadata": {},
   "outputs": [],
   "source": [
    "def get_product_content(page_link,class_name):\n",
    "    driver = webdriver.Safari()\n",
    "    driver.get(page_link)\n",
    "    section_elements = driver.find_elements(By.CLASS_NAME, class_name)\n",
    "    for div in section_elements:\n",
    "        p_tags = div.find_elements(By.TAG_NAME, 'p')\n",
    "        for p in p_tags:\n",
    "            yield p.text\n",
    "    sleep(5)\n",
    "    driver.quit()"
   ]
  },
  {
   "cell_type": "code",
   "execution_count": 3,
   "metadata": {},
   "outputs": [],
   "source": [
    "def get_links_btn(page_link,class_name):\n",
    "    driver = webdriver.Safari()\n",
    "    driver.get(page_link)\n",
    "    div_elements = driver.find_elements(By.CLASS_NAME, class_name)\n",
    "    for div in div_elements:\n",
    "        a_tag = div.find_elements(By.TAG_NAME, 'a')\n",
    "        for a in a_tag:\n",
    "            yield a.get_attribute('href')\n",
    "        # print(a_tag.text, a_tag.get_attribute('href'))\n",
    "    sleep(2)\n",
    "    driver.quit()"
   ]
  },
  {
   "cell_type": "code",
   "execution_count": 17,
   "metadata": {},
   "outputs": [],
   "source": [
    "def get_num_last_page(link,ul_class='pagination_page_number'):\n",
    "    driver = webdriver.Safari()\n",
    "    driver.get(link)\n",
    "\n",
    "    while (True):\n",
    "        try:\n",
    "            # Find the button element by its class\n",
    "            load_more_button = driver.find_element(By.XPATH, '//a[@aria-label=\"Go to next page\"]')\n",
    "            load_more_button.click()\n",
    "            print(\"Clicked 'Load More' button\")\n",
    "            sleep(5)\n",
    "        except :\n",
    "            ul = driver.find_element(By.CLASS_NAME, ul_class)\n",
    "            li_elements = ul.find_elements(By.TAG_NAME, 'li')\n",
    "            last_page = int(li_elements[-1].text.strip())\n",
    "            break\n",
    "\n",
    "    driver.quit()\n",
    "    return last_page"
   ]
  },
  {
   "cell_type": "code",
   "execution_count": 5,
   "metadata": {},
   "outputs": [],
   "source": [
    "def get_links_blogs(link,last_page):\n",
    "    links = []\n",
    "    for num_page in range(last_page):\n",
    "        page_link = f\"{link}/{num_page+1}\"\n",
    "        sleep(5)\n",
    "        for l in get_links_btn(page_link,'blog_card_header'):\n",
    "            links.append(l)\n",
    "    return links"
   ]
  },
  {
   "cell_type": "code",
   "execution_count": 23,
   "metadata": {},
   "outputs": [
    {
     "name": "stdout",
     "output_type": "stream",
     "text": [
      "Num page not found\n"
     ]
    },
    {
     "data": {
      "text/plain": [
       "[]"
      ]
     },
     "execution_count": 23,
     "metadata": {},
     "output_type": "execute_result"
    }
   ],
   "source": [
    "link = 'https://www.innovestx.co.th/products/Intelligent-Portfolios/intelligent-port'\n",
    "l = []\n",
    "last_page = False\n",
    "try:\n",
    "    last_page = get_num_last_page(link)\n",
    "    l += get_links_blogs(link,last_page)\n",
    "except NoSuchElementException:\n",
    "    print('Num page not found')\n",
    "    pass\n",
    "\n",
    "# When have blog links but donot show num pages\n",
    "try:\n",
    "    l += list(get_links_btn(link,'blog_card_header'))\n",
    "except:\n",
    "print('No blog news')\n",
    "    pass\n",
    "l"
   ]
  },
  {
   "cell_type": "code",
   "execution_count": 62,
   "metadata": {},
   "outputs": [
    {
     "data": {
      "text/plain": [
       "['https://www.innovestx.co.th/knowledge-hub/detail/wealthmanagement/chatgpt-for-investment',\n",
       " 'https://www.innovestx.co.th/knowledge-hub/detail/wealthmanagement/ai-for-investment',\n",
       " 'https://www.innovestx.co.th/knowledge-hub/detail/wealthmanagement/why-assetallocation']"
      ]
     },
     "execution_count": 62,
     "metadata": {},
     "output_type": "execute_result"
    }
   ],
   "source": [
    "list(get_links_btn(link,'blog_card_header'))"
   ]
  },
  {
   "cell_type": "code",
   "execution_count": 36,
   "metadata": {},
   "outputs": [
    {
     "data": {
      "text/plain": [
       "['https://www.innovestx.co.th/knowledge-hub/detail/start-investing-the-first-step/fed-raise-interest-rate-impacts',\n",
       " 'https://www.innovestx.co.th/knowledge-hub/detail/start-investing-the-first-step/investing-in-international-stocks',\n",
       " 'https://www.innovestx.co.th/knowledge-hub/detail/start-investing-the-first-step/understand-stock-investment-terms-and-analysis-reading',\n",
       " 'https://www.innovestx.co.th/knowledge-hub/detail/start-investing-the-first-step/offshore-investment-taxes',\n",
       " 'https://www.innovestx.co.th/knowledge-hub/detail/start-investing-the-first-step/hang-seng-index-ultimate-guide',\n",
       " 'https://www.innovestx.co.th/knowledge-hub/detail/start-investing-the-first-step/differences-of-saving-and-investment',\n",
       " 'https://www.innovestx.co.th/knowledge-hub/detail/start-investing-the-first-step/ways-to-grow-your-money',\n",
       " 'https://www.innovestx.co.th/knowledge-hub/detail/start-investing-the-first-step/stock-101-and-how-to-start-investing',\n",
       " 'https://www.innovestx.co.th/knowledge-hub/detail/start-investing-the-first-step/reason-to-invest-offshore']"
      ]
     },
     "execution_count": 36,
     "metadata": {},
     "output_type": "execute_result"
    }
   ],
   "source": [
    "list(get_links_btn(\"https://www.innovestx.co.th/knowledge-hub/start-your-first-investment\",'blog_card_header'))"
   ]
  },
  {
   "cell_type": "code",
   "execution_count": 26,
   "metadata": {},
   "outputs": [
    {
     "name": "stdout",
     "output_type": "stream",
     "text": [
      "https://www.innovestx.co.th/products/bond-market/Offshore-Bonds\n",
      "https://www.innovestx.co.th/products/bond-market/bond\n",
      "https://www.innovestx.co.th/promotions/detail/Bangchak-GreenMiles-Rewards\n",
      "https://www.innovestx.co.th/promotions/detail/PTT-Blue-Card-Rewards\n",
      "https://www.innovestx.co.th/promotions/detail/Bangchak-GreenMiles-Rewards\n",
      "https://www.innovestx.co.th/promotions/detail/PTT-Blue-Card-Rewards\n",
      "https://www.innovestx.co.th/promotions/detail/Bangchak-GreenMiles-Rewards\n",
      "https://www.innovestx.co.th/promotions/detail/PTT-Blue-Card-Rewards\n"
     ]
    }
   ],
   "source": [
    "for link in get_links_btn(\"https://www.innovestx.co.th/products/bond-market/bond\",\"swiper-wrapper\"):\n",
    "    print(link)"
   ]
  },
  {
   "cell_type": "code",
   "execution_count": 23,
   "metadata": {},
   "outputs": [
    {
     "name": "stdout",
     "output_type": "stream",
     "text": [
      "https://www.innovestx.co.th/products/fund/mutual-funds/Fund-trading-period\n",
      "https://www.innovestx.co.th/products/fund/mutual-funds/contact-manual-fund\n"
     ]
    }
   ],
   "source": [
    "for link in get_links_btn(\"https://www.innovestx.co.th/products/fund/mutual-funds\",'invest_guide '):\n",
    "    print(link)"
   ]
  },
  {
   "cell_type": "code",
   "execution_count": 30,
   "metadata": {},
   "outputs": [
    {
     "name": "stdout",
     "output_type": "stream",
     "text": [
      "บริการบริหารพอร์ตอัตโนมัติ ด้วยเทคโนโลยีอัจฉริยะทำงานผสานกับผู้เชี่ยวชาญด้านการลงทุน\n",
      "                    ติดตามสภาวะตลาดและปรับเปลี่ยนการลงทุนตามความเหมาะสม พร้อมแผนและธีมการลงทุน\n",
      "                    ให้เลือกหลากหลาย ช่วยให้พิชิตเป้าหมายการลงทุนตามที่ตั้งไว้\n",
      "                  \n",
      " \n",
      "หลายทางเลือกพอร์ตลงทุน และสามารถสร้างพอร์ตได้ ไม่จำกัดจำนวน\n",
      "                                \n",
      "ให้การลงทุนเป็นเรื่องง่าย พร้อมผู้ช่วยดูแล และปรับพอร์ตให้ตามภาวะตลาดอัตโนมัติ\n",
      "                                \n",
      "เต็มที่กับการลงทุนแบบสบายใจ ไม่ต้องกังวลค่าใช้จ่ายในการบริหารจัดการ*\n",
      "                                \n",
      "ไม่ต้องมีเงินมากก็สัมผัสประสบการณ์ ลงทุนอัจฉริยะให้พอร์ตของคุณเติบโต กับ Innovestx ได้\n",
      "                                \n",
      "* มีค่าธรรมเนียมเรียกเก็บจากกองทุนรวมตามจริง ท่านสามารถศึกษาได้จาก Fund Factsheet จากแต่ละกองทุนรวม\n",
      "Guru Portfolio ลงทุนด้วยมุมมองจากกูรู การลงทุนชั้นนำบนความร่วมมือจาก Innovestx\n",
      "เลือกธีมเมกะเทรนด์ได้ตามใจกับ Thematic Portfolio\n",
      "                            \n",
      "ลงทุนตามเป้าหมายกับ Goal-Based Portfolio และพอร์ตอื่น ๆ ให้เลือกมากมาย\n",
      "                            \n",
      "ทำงานผสานกับผู้เชี่ยวชาญ ด้านการลงทุน\n",
      "                    \n",
      "ด้วยมุมมองการลงทุนที่เหมาะสมของแผนลงทุน และสภาวะตลาด\n",
      "                    \n",
      "โดยไม่ต้องส่งคำสั่ง เมื่อมุมมองการลงทุนเปลี่ยนแปลง\n",
      "                    \n",
      "เพื่อรักษาสัดส่วนพอร์ต ที่เหมาะสม\n",
      "                    \n",
      "ทำงานผสานกับผู้เชี่ยวชาญ ด้านการลงทุน\n",
      "                                \n",
      "ด้วยมุมมองการลงทุน ที่เหมาะสมของแผนลงทุน และสภาวะตลาด\n",
      "                                \n",
      "โดยไม่ต้องส่งคำสั่งเมื่อ มุมมองการลงทุนเปลี่ยนแปลง\n",
      "                                \n",
      "เพื่อรักษาสัดส่วนพอร์ต ที่เหมาะสม\n",
      "                                \n",
      "ลงทุนบนความร่วมมือ กับกูรูชั้นนำ\n",
      " \n",
      "ลงทุนในธีมเมกะเทรนด์ ของโลกที่น่าสนใจ\n",
      " \n",
      "ลงทุนต่อเนื่อง เพื่อพิชิตเป้าหมาย\n",
      " \n",
      "ลงทุนให้เหมาะสมตามเป้าหมาย และความเสี่ยง\n",
      " \n",
      "ดาวน์โหลดแอปพลิเคชัน\n",
      " \n",
      "\n",
      " ลงทุนง่ายแบบอัจฉริยะ\n",
      "                  \n",
      " \n",
      "ดาวน์โหลดแอปพลิเคชัน InnovestX ผ่าน App Store หรือ Play Store เปิดบัญชีง่าย ผ่านออนไลน์ ไม่ต้องส่งเอกสาร\n",
      " \n",
      "1 Guru Portfolio 2 Thematic Portfolio 3 Goal-Based Portfolio 4 Robo Advisor\n",
      "                                \n",
      "ศึกษารายละเอียด และวางแผนพอร์ต การลงทุน\n",
      " \n",
      "ลงทุนตามแผนที่วางไว้ และปล่อยให้เงินทำงานอย่าง เป็นระบบกับ Intelligent Portfolios\n",
      "                                \n",
      "*การลงทุนมีความเสี่ยง ผู้ลงทุนควรศึกษาและทำความเข้าใจลักษณะเงื่อนไขผลตอบแทนและความเสี่ยงก่อนตัดสินใจลงทุน\n",
      "                เป้าหมายผลตอบแทนเป็นเพียงการคาดการณ์มิได้ยืนยัน\n",
      "                และ/หรือสัญญาว่าจะได้รับผลตอบตามที่แสดง ผลตอบแทนในอดีตมิได้ยืนยันถึงผลตอบแทนที่จะได้รับในอนาคต\n",
      "              \n"
     ]
    }
   ],
   "source": [
    "for text in get_product_content(\"https://www.innovestx.co.th/products/Intelligent-Portfolios/intelligent-port\",'container'):\n",
    "    print(text)"
   ]
  },
  {
   "cell_type": "markdown",
   "metadata": {},
   "source": [
    "Footer"
   ]
  },
  {
   "cell_type": "code",
   "execution_count": 32,
   "metadata": {},
   "outputs": [
    {
     "name": "stdout",
     "output_type": "stream",
     "text": [
      "click\n",
      "click\n",
      "click\n",
      "click\n",
      "click\n"
     ]
    }
   ],
   "source": [
    "driver = webdriver.Safari()\n",
    "driver.get(\"https://www.innovestx.co.th\")\n",
    "\n",
    "links = []\n",
    "h3_element = driver.find_elements(By.CSS_SELECTOR, 'h3.head')\n",
    "\n",
    "for h3 in h3_element:\n",
    "    try:\n",
    "        h3.click()\n",
    "        print('click')\n",
    "        div_elements = driver.find_element(By.CLASS_NAME, 'footer_section_one')\n",
    "        a_tag = div_elements.find_elements(By.TAG_NAME, 'a')\n",
    "        for a in a_tag:\n",
    "            links.append(a.get_attribute('href'))\n",
    "        sleep(2)\n",
    "    except:\n",
    "        pass\n",
    "\n",
    "driver.quit()\n",
    "\n",
    "links = list(set(links))\n",
    "links.sort()"
   ]
  },
  {
   "cell_type": "code",
   "execution_count": 34,
   "metadata": {},
   "outputs": [
    {
     "data": {
      "text/plain": [
       "['https://www.innovestx.co.th/Cookies-Notice',\n",
       " 'https://www.innovestx.co.th/Invx-point-promotions',\n",
       " 'https://www.innovestx.co.th/about-us/board-of-directors',\n",
       " 'https://www.innovestx.co.th/about-us/company-profile',\n",
       " 'https://www.innovestx.co.th/about-us/management',\n",
       " 'https://www.innovestx.co.th/about-us/organize-chart',\n",
       " 'https://www.innovestx.co.th/about-us/rewards-innovestx',\n",
       " 'https://www.innovestx.co.th/about-us/risk-committee',\n",
       " 'https://www.innovestx.co.th/academy',\n",
       " 'https://www.innovestx.co.th/caution',\n",
       " 'https://www.innovestx.co.th/contact-us',\n",
       " 'https://www.innovestx.co.th/docs/default-source/default-document-library/anti-corruption-policy-2566.pdf?sfvrsn=1ed63aff_1',\n",
       " 'https://www.innovestx.co.th/faqs',\n",
       " 'https://www.innovestx.co.th/innovestx-documents/announcement',\n",
       " 'https://www.innovestx.co.th/invest-with-innovestx',\n",
       " 'https://www.innovestx.co.th/jobs',\n",
       " 'https://www.innovestx.co.th/knowledge-hub/investment-by-asset',\n",
       " 'https://www.innovestx.co.th/knowledge-hub/start-your-first-investment',\n",
       " 'https://www.innovestx.co.th/news',\n",
       " 'https://www.innovestx.co.th/news/saminar',\n",
       " 'https://www.innovestx.co.th/point-to-invest-promotions',\n",
       " 'https://www.innovestx.co.th/privacy-notice',\n",
       " 'https://www.innovestx.co.th/products/Digital-asset/digital-asset',\n",
       " 'https://www.innovestx.co.th/products/Intelligent-Portfolios/intelligent-port',\n",
       " 'https://www.innovestx.co.th/products/Stock-Borrowing-and-Lending/Stock-Borrowing-and-Lending-detail',\n",
       " 'https://www.innovestx.co.th/products/bond-market/bond',\n",
       " 'https://www.innovestx.co.th/products/derivatives/product-tfex',\n",
       " 'https://www.innovestx.co.th/products/fund/mutual-funds',\n",
       " 'https://www.innovestx.co.th/products/investment-advisor/private-fund',\n",
       " 'https://www.innovestx.co.th/products/product-user-guide/innovestx-app',\n",
       " 'https://www.innovestx.co.th/products/stock/Thai-Stock',\n",
       " 'https://www.innovestx.co.th/promotions',\n",
       " 'https://www.innovestx.co.th/quiz',\n",
       " 'https://www.innovestx.co.th/research/research-blog',\n",
       " 'https://www.innovestx.co.th/security-tips',\n",
       " 'https://www.innovestx.co.th/start-investing',\n",
       " 'https://www.innovestx.co.th/term-of-use',\n",
       " 'https://www.innovestx.co.th/trader-camp',\n",
       " 'tel:029491999']"
      ]
     },
     "execution_count": 34,
     "metadata": {},
     "output_type": "execute_result"
    }
   ],
   "source": [
    "links"
   ]
  },
  {
   "cell_type": "code",
   "execution_count": null,
   "metadata": {},
   "outputs": [],
   "source": []
  }
 ],
 "metadata": {
  "kernelspec": {
   "display_name": "base",
   "language": "python",
   "name": "python3"
  },
  "language_info": {
   "codemirror_mode": {
    "name": "ipython",
    "version": 3
   },
   "file_extension": ".py",
   "mimetype": "text/x-python",
   "name": "python",
   "nbconvert_exporter": "python",
   "pygments_lexer": "ipython3",
   "version": "3.10.9"
  },
  "orig_nbformat": 4
 },
 "nbformat": 4,
 "nbformat_minor": 2
}

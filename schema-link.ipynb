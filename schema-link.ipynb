{
 "cells": [
  {
   "cell_type": "code",
   "execution_count": 25,
   "metadata": {},
   "outputs": [],
   "source": [
    "import sqlite3, os, json\n",
    "from sentence_transformers import SentenceTransformer, util"
   ]
  },
  {
   "cell_type": "code",
   "execution_count": 2,
   "metadata": {},
   "outputs": [],
   "source": [
    "folder_path = \"src/spider/database\"\n",
    "select_db = ['musical',\n",
    "             'farm', \n",
    "             'hospital_1', \n",
    "             'tvshow', \n",
    "             'cinema', \n",
    "             'restaurants', \n",
    "             'company_employee', \n",
    "             'company_1', \n",
    "             'company_offic', \n",
    "             'singer', \n",
    "             'coffee_shop']\n",
    "\n",
    "db = []\n",
    "\n",
    "if os.path.exists(folder_path) and os.path.isdir(folder_path):\n",
    "    files = os.listdir(folder_path)\n",
    "    for file in files:\n",
    "        if file in select_db:\n",
    "            db_path = os.path.join(folder_path, file)\n",
    "            sqlite_db = [os.path.join(db_path, sql) for sql in os.listdir(db_path) if \".sqlite\" in sql]\n",
    "            db.append(*sqlite_db)"
   ]
  },
  {
   "cell_type": "code",
   "execution_count": 3,
   "metadata": {},
   "outputs": [
    {
     "data": {
      "text/plain": [
       "['spider/database/musical/musical.sqlite',\n",
       " 'spider/database/farm/farm.sqlite',\n",
       " 'spider/database/hospital_1/hospital_1.sqlite',\n",
       " 'spider/database/tvshow/tvshow.sqlite',\n",
       " 'spider/database/cinema/cinema.sqlite',\n",
       " 'spider/database/restaurants/restaurants.sqlite',\n",
       " 'spider/database/company_employee/company_employee.sqlite',\n",
       " 'spider/database/company_1/company_1.sqlite',\n",
       " 'spider/database/coffee_shop/coffee_shop.sqlite',\n",
       " 'spider/database/singer/singer.sqlite']"
      ]
     },
     "execution_count": 3,
     "metadata": {},
     "output_type": "execute_result"
    }
   ],
   "source": [
    "# db"
   ]
  },
  {
   "cell_type": "code",
   "execution_count": 4,
   "metadata": {},
   "outputs": [],
   "source": [
    "def get_schema(sqlite_db):\n",
    "    connection = sqlite3.connect(sqlite_db)\n",
    "    cursor = connection.cursor()\n",
    "\n",
    "    cursor.execute(\"SELECT name FROM sqlite_master WHERE type='table';\")\n",
    "    tables = cursor.fetchall()\n",
    "\n",
    "    for table in tables:\n",
    "        table_name = table[0]\n",
    "        print(f\"Table: {table_name}\")\n",
    "\n",
    "        cursor.execute(f\"PRAGMA table_info({table_name});\")\n",
    "        columns = cursor.fetchall()\n",
    "\n",
    "        for column in columns:\n",
    "            column_name = column[1]\n",
    "            print(f\"  Column: {column_name}\")\n",
    "\n",
    "        print()\n",
    "    \n",
    "    cursor.close()\n",
    "    connection.close()"
   ]
  },
  {
   "cell_type": "code",
   "execution_count": 8,
   "metadata": {},
   "outputs": [],
   "source": [
    "# for table in db:\n",
    "#     get_schema(table)\n",
    "#     print('---------------------------------')"
   ]
  },
  {
   "cell_type": "code",
   "execution_count": 55,
   "metadata": {},
   "outputs": [],
   "source": [
    "src_folder = \"src\"\n",
    "schema_description_file = \"mockup_schema_description.json\"\n",
    "with open(os.path.join(src_folder, schema_description_file)) as f:\n",
    "    dbs = json.load(f)\n",
    "model = SentenceTransformer('sentence-transformers/all-MiniLM-L6-v2')"
   ]
  },
  {
   "cell_type": "code",
   "execution_count": 56,
   "metadata": {},
   "outputs": [],
   "source": [
    "# description_emb = []\n",
    "\n",
    "# for db in dbs:\n",
    "#     schema_emb = {}\n",
    "#     table_name = db['table']\n",
    "#     table_description = db['description']\n",
    "#     schema_emb[table_name] = model.encode(table_description).tolist()\n",
    "#     columns = list(db['columns'].keys())\n",
    "#     for col in columns:\n",
    "#         column_description = db['columns'][col]\n",
    "#         schema_emb[col] = model.encode(column_description).tolist()\n",
    "#     description_emb.append(schema_emb)\n",
    "\n",
    "# schema_vector_file = \"mockup_schema_description_vector.json\"\n",
    "# with open(os.path.join(src_folder, schema_vector_file), \"w\") as f:\n",
    "#     json.dump(description_emb,f)"
   ]
  },
  {
   "cell_type": "code",
   "execution_count": 99,
   "metadata": {},
   "outputs": [],
   "source": [
    "schema_vector_file = \"mockup_schema_description_vector.json\"\n",
    "with open(os.path.join(src_folder, schema_vector_file)) as f:\n",
    "    schema_vector = json.load(f)\n",
    "\n",
    "question = \"Count singers play concert\"\n",
    "question_emb = model.encode(question)"
   ]
  },
  {
   "cell_type": "code",
   "execution_count": 116,
   "metadata": {},
   "outputs": [
    {
     "name": "stdout",
     "output_type": "stream",
     "text": [
      "-----  Table - Column  -----\n",
      "musical - Name \n",
      "Description : Name of the musical\n",
      "\n",
      "musical - Year \n",
      "Description : Year the musical was produced\n",
      "\n",
      "musical - Nominee \n",
      "Description : Name of the nominee associated with the musical\n",
      "\n",
      "singer - Name \n",
      "Description : Name of the singer\n",
      "\n",
      "song - Singer_ID \n",
      "Description : Identifier of the singer who performed the song\n",
      "\n"
     ]
    }
   ],
   "source": [
    "# mostsim = None\n",
    "used_schema = {}\n",
    "threshold = 0.4\n",
    "print(\"-----  Table - Column  -----\")\n",
    "for i in range(len(schema_vector)):\n",
    "    table_name = list(schema_vector[i].keys())[0]\n",
    "    table_description_vector = schema_vector[i][table_name]\n",
    "    used_col = []\n",
    "    for col, vec in schema_vector[i].items():\n",
    "        if col == table_name: continue\n",
    "        if util.cos_sim(vec, question_emb) > threshold:\n",
    "            column_description = [dbs[i]['columns'][col] for i in range(len(dbs)) if dbs[i]['table'] == table_name][0]\n",
    "            print(f\"{table_name} - {col} \\nDescription : {column_description}\\n\")\n",
    "            used_col.append(col)\n",
    "    if len(used_col) > 0: used_schema[table_name] = used_col"
   ]
  },
  {
   "cell_type": "code",
   "execution_count": 117,
   "metadata": {},
   "outputs": [
    {
     "data": {
      "text/plain": [
       "{'musical': ['Name', 'Year', 'Nominee'],\n",
       " 'singer': ['Name'],\n",
       " 'song': ['Singer_ID']}"
      ]
     },
     "execution_count": 117,
     "metadata": {},
     "output_type": "execute_result"
    }
   ],
   "source": [
    "used_schema"
   ]
  },
  {
   "cell_type": "code",
   "execution_count": 124,
   "metadata": {},
   "outputs": [],
   "source": [
    "def filter_tables(question, column_threshold = 0.4, table_threshold = 0.3):\n",
    "    question_emb = model.encode(question)\n",
    "    used_schema = {}\n",
    "    for i in range(len(schema_vector)):\n",
    "        table_name = list(schema_vector[i].keys())[0]\n",
    "\n",
    "        table_description_vector = schema_vector[i][table_name]\n",
    "        if util.cos_sim(table_description_vector, question_emb) < table_threshold: continue\n",
    "        \n",
    "        used_col = []\n",
    "        for col, vec in schema_vector[i].items():\n",
    "            if col == table_name: continue\n",
    "            if util.cos_sim(vec, question_emb) > column_threshold:\n",
    "                column_description = [dbs[i]['columns'][col] for i in range(len(dbs)) if dbs[i]['table'] == table_name][0]\n",
    "                print(f\"{table_name} - {col} \\nDescription : {column_description}\\n\")\n",
    "                used_col.append(col)\n",
    "        if len(used_col) > 0: used_schema[table_name] = used_col\n",
    "    return used_schema"
   ]
  },
  {
   "cell_type": "code",
   "execution_count": 125,
   "metadata": {},
   "outputs": [
    {
     "name": "stdout",
     "output_type": "stream",
     "text": [
      "musical - Name \n",
      "Description : Name of the musical\n",
      "\n",
      "musical - Year \n",
      "Description : Year the musical was produced\n",
      "\n",
      "musical - Nominee \n",
      "Description : Name of the nominee associated with the musical\n",
      "\n",
      "singer - Name \n",
      "Description : Name of the singer\n",
      "\n",
      "song - Singer_ID \n",
      "Description : Identifier of the singer who performed the song\n",
      "\n"
     ]
    },
    {
     "data": {
      "text/plain": [
       "{'musical': ['Name', 'Year', 'Nominee'],\n",
       " 'singer': ['Name'],\n",
       " 'song': ['Singer_ID']}"
      ]
     },
     "execution_count": 125,
     "metadata": {},
     "output_type": "execute_result"
    }
   ],
   "source": [
    "filter_tables(question)"
   ]
  },
  {
   "cell_type": "code",
   "execution_count": null,
   "metadata": {},
   "outputs": [],
   "source": []
  }
 ],
 "metadata": {
  "kernelspec": {
   "display_name": "base",
   "language": "python",
   "name": "python3"
  },
  "language_info": {
   "codemirror_mode": {
    "name": "ipython",
    "version": 3
   },
   "file_extension": ".py",
   "mimetype": "text/x-python",
   "name": "python",
   "nbconvert_exporter": "python",
   "pygments_lexer": "ipython3",
   "version": "3.10.9"
  }
 },
 "nbformat": 4,
 "nbformat_minor": 2
}

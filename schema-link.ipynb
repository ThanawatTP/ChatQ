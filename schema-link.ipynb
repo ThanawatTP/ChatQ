{
 "cells": [
  {
   "cell_type": "code",
   "execution_count": 5,
   "metadata": {},
   "outputs": [],
   "source": [
    "import sqlite3\n",
    "import os"
   ]
  },
  {
   "cell_type": "code",
   "execution_count": 16,
   "metadata": {},
   "outputs": [],
   "source": [
    "folder_path = \"spider/database\"\n",
    "select_db = ['musical',\n",
    "             'farm', \n",
    "             'hospital_1', \n",
    "             'tvshow', \n",
    "             'cinema', \n",
    "             'restaurants', \n",
    "             'company_employee', \n",
    "             'company_1', \n",
    "             'company_offic', \n",
    "             'singer', \n",
    "             'coffee_shop']\n",
    "\n",
    "db = []\n",
    "\n",
    "if os.path.exists(folder_path) and os.path.isdir(folder_path):\n",
    "    files = os.listdir(folder_path)\n",
    "    for file in files:\n",
    "        if file in select_db:\n",
    "            db_path = os.path.join(folder_path, file)\n",
    "            sqlite_db = [os.path.join(db_path, sql) for sql in os.listdir(db_path) if \".sqlite\" in sql]\n",
    "            db.append(*sqlite_db)"
   ]
  },
  {
   "cell_type": "code",
   "execution_count": 17,
   "metadata": {},
   "outputs": [
    {
     "data": {
      "text/plain": [
       "['spider/database/musical/musical.sqlite',\n",
       " 'spider/database/farm/farm.sqlite',\n",
       " 'spider/database/hospital_1/hospital_1.sqlite',\n",
       " 'spider/database/tvshow/tvshow.sqlite',\n",
       " 'spider/database/cinema/cinema.sqlite',\n",
       " 'spider/database/restaurants/restaurants.sqlite',\n",
       " 'spider/database/company_employee/company_employee.sqlite',\n",
       " 'spider/database/company_1/company_1.sqlite',\n",
       " 'spider/database/coffee_shop/coffee_shop.sqlite',\n",
       " 'spider/database/singer/singer.sqlite']"
      ]
     },
     "execution_count": 17,
     "metadata": {},
     "output_type": "execute_result"
    }
   ],
   "source": [
    "db"
   ]
  },
  {
   "cell_type": "code",
   "execution_count": 33,
   "metadata": {},
   "outputs": [],
   "source": [
    "def get_schema(sqlite_db):\n",
    "    connection = sqlite3.connect(sqlite_db)\n",
    "    cursor = connection.cursor()\n",
    "\n",
    "    cursor.execute(\"SELECT name FROM sqlite_master WHERE type='table';\")\n",
    "    tables = cursor.fetchall()\n",
    "\n",
    "    for table in tables:\n",
    "        table_name = table[0]\n",
    "        print(f\"Table: {table_name}\")\n",
    "\n",
    "        cursor.execute(f\"PRAGMA table_info({table_name});\")\n",
    "        columns = cursor.fetchall()\n",
    "\n",
    "        for column in columns:\n",
    "            column_name = column[1]\n",
    "            print(f\"  Column: {column_name}\")\n",
    "\n",
    "        print()\n",
    "    \n",
    "    cursor.close()\n",
    "    connection.close()"
   ]
  },
  {
   "cell_type": "code",
   "execution_count": 38,
   "metadata": {},
   "outputs": [],
   "source": [
    "# for table in db:\n",
    "#     get_schema(table)\n",
    "#     print('---------------------------------')"
   ]
  },
  {
   "cell_type": "code",
   "execution_count": null,
   "metadata": {},
   "outputs": [],
   "source": []
  }
 ],
 "metadata": {
  "kernelspec": {
   "display_name": "base",
   "language": "python",
   "name": "python3"
  },
  "language_info": {
   "codemirror_mode": {
    "name": "ipython",
    "version": 3
   },
   "file_extension": ".py",
   "mimetype": "text/x-python",
   "name": "python",
   "nbconvert_exporter": "python",
   "pygments_lexer": "ipython3",
   "version": "3.10.9"
  }
 },
 "nbformat": 4,
 "nbformat_minor": 2
}

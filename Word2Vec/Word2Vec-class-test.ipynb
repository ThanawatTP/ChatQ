{
 "cells": [
  {
   "cell_type": "code",
   "execution_count": 7,
   "metadata": {},
   "outputs": [
    {
     "name": "stderr",
     "output_type": "stream",
     "text": [
      "[nltk_data] Downloading package stopwords to\n",
      "[nltk_data]     /Users/thanawatthongpia/nltk_data...\n",
      "[nltk_data]   Package stopwords is already up-to-date!\n",
      "[nltk_data] Downloading package words to\n",
      "[nltk_data]     /Users/thanawatthongpia/nltk_data...\n",
      "[nltk_data]   Package words is already up-to-date!\n",
      "[nltk_data] Downloading package wordnet to\n",
      "[nltk_data]     /Users/thanawatthongpia/nltk_data...\n",
      "[nltk_data]   Package wordnet is already up-to-date!\n"
     ]
    },
    {
     "name": "stdout",
     "output_type": "stream",
     "text": [
      "loading pre-train model\n"
     ]
    }
   ],
   "source": [
    "from word2vec import word_embedding\n",
    "w2v = word_embedding()\n",
    "w2v.create_model()"
   ]
  },
  {
   "cell_type": "code",
   "execution_count": null,
   "metadata": {},
   "outputs": [
    {
     "data": {
      "text/plain": [
       "[('iphone', 0.7339416146278381),\n",
       " ('ipad', 0.7129027247428894),\n",
       " ('apples', 0.6433200836181641),\n",
       " ('blackberry', 0.6380701661109924),\n",
       " ('ipod', 0.6341225504875183)]"
      ]
     },
     "execution_count": 2,
     "metadata": {},
     "output_type": "execute_result"
    }
   ],
   "source": [
    "w2v.model.wv.most_similar('apple',topn=5)"
   ]
  },
  {
   "cell_type": "code",
   "execution_count": null,
   "metadata": {},
   "outputs": [
    {
     "name": "stdout",
     "output_type": "stream",
     "text": [
      "Updating vocabs\n"
     ]
    }
   ],
   "source": [
    "# w2v.import_corpus('../src/Corpus_PointX.txt')\n",
    "w2v.import_corpus('../src/Corpus_TechX.txt')\n",
    "w2v.train_with_corpus(w2v.corpus,100)"
   ]
  },
  {
   "cell_type": "code",
   "execution_count": null,
   "metadata": {},
   "outputs": [
    {
     "data": {
      "text/plain": [
       "[('pointxs', 0.9943735003471375),\n",
       " ('eveandboy', 0.9941917061805725),\n",
       " ('pointx', 0.9941388964653015),\n",
       " ('hythak', 0.9939576387405396),\n",
       " ('cardx', 0.9939047694206238),\n",
       " ('websiteplease', 0.993812620639801),\n",
       " ('advanceand', 0.9937584400177002),\n",
       " ('anddigital', 0.9937319755554199),\n",
       " ('orreturn', 0.9937204718589783),\n",
       " ('scbx', 0.9937132000923157)]"
      ]
     },
     "execution_count": 6,
     "metadata": {},
     "output_type": "execute_result"
    }
   ],
   "source": [
    "w2v.model.wv.most_similar('point',topn=10)"
   ]
  },
  {
   "cell_type": "code",
   "execution_count": null,
   "metadata": {},
   "outputs": [],
   "source": []
  }
 ],
 "metadata": {
  "kernelspec": {
   "display_name": "base",
   "language": "python",
   "name": "python3"
  },
  "language_info": {
   "codemirror_mode": {
    "name": "ipython",
    "version": 3
   },
   "file_extension": ".py",
   "mimetype": "text/x-python",
   "name": "python",
   "nbconvert_exporter": "python",
   "pygments_lexer": "ipython3",
   "version": "3.10.9"
  },
  "orig_nbformat": 4
 },
 "nbformat": 4,
 "nbformat_minor": 2
}

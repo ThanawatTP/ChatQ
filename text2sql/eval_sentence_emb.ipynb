{
 "cells": [
  {
   "cell_type": "code",
   "execution_count": 37,
   "metadata": {},
   "outputs": [],
   "source": [
    "# import pandas as pd\n",
    "# compare_df = pd.read_csv('smilarity_result.csv')\n",
    "# compare_df[compare_df['Description choose columns'] > 145][['Question','Expect Columns','Description choose columns']]"
   ]
  },
  {
   "cell_type": "code",
   "execution_count": 2,
   "metadata": {},
   "outputs": [],
   "source": [
    "from Description_base_linking import SchemaLinking\n",
    "\n",
    "cat_cols = ['event_name', 'device_category', 'device_mobile_brand_name', 'device_mobile_model_name', 'device_mobile_marketing_name',\n",
    "            'device_mobile_os_hardware_model', 'device_operating_system', 'device_operating_system_version', 'device_language', 'geo_continent',\n",
    "            'geo_country', 'geo_region', 'geo_city', 'geo_sub_continent', 'geo_metro', 'app_info_version', 'app_info_install_source', 'platform',\n",
    "            'firebase_previous_class', 'firebase_screen_class']\n",
    "obj = SchemaLinking()\n",
    "# obj.set_schema()\n",
    "obj.append_description_by_category(cat_cols)"
   ]
  },
  {
   "cell_type": "code",
   "execution_count": 3,
   "metadata": {},
   "outputs": [
    {
     "name": "stdout",
     "output_type": "stream",
     "text": [
      "['The name of the event.settings_change_language, payatmcht_search, screen_view, pointx_mypointx_bottom_bar, pointx_ecatalog, myecoupon_valid_landing, pointx_highlight_landing, app_clear_data, pointx_point_transfer_menu, payatmcht_landing, onboard_lifestyle_landing, pointx_search, mypointx_this_month, onboard_landing, payatmcht_select_product, settings_delivery_addr_btn, virtualmall_detail_conditions_tab, settings_btn, pin_enter_landing, app_remove, mypointx_landing, onboard_highlight_landing, settings_home_landing, settings_myacc_landing, pointx_home_bottom_bar, settings_menu_landing, delivery_addr_landing, pointx_virtualmall_bottom_bar, delivery_addr_item, os_update, pointx_payatmerchant_menu, pointx_view_mypoint, onboard_permission_notification_landing, pointx_payandmerchant_bottom_bar, payatmcht_category, first_open, settings_select_lifestyle, app_update, onboard_permission_notification_allow, pointx_scanner_bottom_bar, payatmcht_confirm, scanToPay_listing_category, settings_security, onboard_highlight_getstart, pointx_dealoftheday_landing, user_engagement, virtualmall_detail_soldout, virtualmall_detail_insufficient_point, payatmcht_detail, session_start, virtualmall_landing, onboard_landing_scb_easy, delivery_addr_add_button, pointx_virtualmall_menu, pointx_more, onboard_succuess, pointx_highlights_viewall, virtualmall_detail, payatmcht_loction, mypointx_myecoupon, settings_myacc']\n"
     ]
    }
   ],
   "source": [
    "print(obj.schema_description_df.loc[obj.schema_description_df['Column'] == 'event_name']['Description'].tolist())"
   ]
  },
  {
   "cell_type": "code",
   "execution_count": 4,
   "metadata": {},
   "outputs": [
    {
     "data": {
      "text/plain": [
       "0.09481267631053925"
      ]
     },
     "execution_count": 4,
     "metadata": {},
     "output_type": "execute_result"
    }
   ],
   "source": [
    "# add event categories to event_name description\n",
    "obj.ques_col_similarity(\"how many user remove app\",\"event_name\")"
   ]
  },
  {
   "cell_type": "code",
   "execution_count": 5,
   "metadata": {},
   "outputs": [
    {
     "data": {
      "text/plain": [
       "-0.021025139838457108"
      ]
     },
     "execution_count": 5,
     "metadata": {},
     "output_type": "execute_result"
    }
   ],
   "source": [
    "# raw event_name description (\"The name of the event\")\n",
    "obj = SchemaLinking()\n",
    "# obj.set_schema()\n",
    "obj.ques_col_similarity(\"how many user remove app\",\"event_name\")"
   ]
  },
  {
   "cell_type": "code",
   "execution_count": 6,
   "metadata": {},
   "outputs": [
    {
     "name": "stdout",
     "output_type": "stream",
     "text": [
      "How many daily active users each day?\n",
      "COL NOT SELECTED:\t ['event_date', 'ga_session_id']\n",
      "0.5\n",
      "\n",
      "How many monthly active users each month?\n",
      "COL NOT SELECTED:\t ['user_pseudo_id', 'engagement_time_msec', 'ga_session_id']\n",
      "0.25\n",
      "\n",
      "What is the average number of daily active users last 7 days?\n",
      "COL NOT SELECTED:\t ['event_date', 'user_pseudo_id', 'ga_session_id']\n",
      "0.25\n",
      "\n",
      "What is the mean number of daily active users from last 30 days?\n",
      "COL NOT SELECTED:\t ['user_pseudo_id', 'ga_session_id']\n",
      "0.5\n",
      "\n",
      "When was the last time each user was active?\n",
      "1.0\n",
      "\n"
     ]
    }
   ],
   "source": [
    "from Description_base_linking import SchemaLinking\n",
    "import pandas as pd\n",
    "import numpy as np\n",
    "from torch.utils.data import DataLoader\n",
    "from sentence_transformers import InputExample, losses\n",
    "# import time\n",
    "\n",
    "obj = SchemaLinking()\n",
    "# obj.set_schema()\n",
    "threshold = 0.2\n",
    "compare_df = pd.read_csv('smilarity_result.csv')\n",
    "questions = compare_df['Question'].to_list()\n",
    "sql_queries = compare_df['SQL'].to_list()\n",
    "train_ques_col = []\n",
    "\n",
    "for i, q in enumerate(questions[:5]):\n",
    "    print(q)\n",
    "    expect_col = obj.columns_from_query(sql_queries[i])\n",
    "    choose_col = obj.get_columns_threshold(q, threshold)\n",
    "\n",
    "    # print(\"EXPECT COLUMNS:\\t\\t\", expect_col)\n",
    "    # print('SELECTED COLUMNS:\\t', choose_col)\n",
    "\n",
    "    expect_col_vec = obj.choose_col_onehot(expect_col)\n",
    "    choose_col_vec = obj.choose_col_onehot(choose_col)\n",
    "    accuracy = obj.accuracy_of_onehot(choose_col_vec, expect_col_vec)\n",
    "\n",
    "    not_selected_col_idx =  (choose_col_vec == 0) & (expect_col_vec ==1 ).astype(int)\n",
    "    not_selected_col = [ obj.schema_columns[idx] for idx in np.where(not_selected_col_idx == 1)[0]]\n",
    "    if len(not_selected_col):\n",
    "        print(\"COL NOT SELECTED:\\t\",not_selected_col)\n",
    "        train_ques_col.append((q, not_selected_col))\n",
    "    print(accuracy)\n",
    "    print()"
   ]
  },
  {
   "cell_type": "code",
   "execution_count": 7,
   "metadata": {},
   "outputs": [],
   "source": [
    "question = \"How many daily active users each day?\""
   ]
  },
  {
   "cell_type": "code",
   "execution_count": 8,
   "metadata": {},
   "outputs": [
    {
     "data": {
      "text/plain": [
       "25"
      ]
     },
     "execution_count": 8,
     "metadata": {},
     "output_type": "execute_result"
    }
   ],
   "source": [
    "len(obj.get_columns_threshold(question))"
   ]
  },
  {
   "cell_type": "code",
   "execution_count": 9,
   "metadata": {},
   "outputs": [
    {
     "data": {
      "text/plain": [
       "0.15984684228897095"
      ]
     },
     "execution_count": 9,
     "metadata": {},
     "output_type": "execute_result"
    }
   ],
   "source": [
    "obj.ques_col_similarity(question, 'event_date')"
   ]
  },
  {
   "cell_type": "code",
   "execution_count": 10,
   "metadata": {},
   "outputs": [
    {
     "data": {
      "text/plain": [
       "[('How many daily active users each day?', ['event_date', 'ga_session_id'])]"
      ]
     },
     "execution_count": 10,
     "metadata": {},
     "output_type": "execute_result"
    }
   ],
   "source": [
    "train_ques_col[:1]"
   ]
  },
  {
   "cell_type": "code",
   "execution_count": 11,
   "metadata": {},
   "outputs": [
    {
     "name": "stdout",
     "output_type": "stream",
     "text": [
      "Fine-tune model done!\n"
     ]
    }
   ],
   "source": [
    "obj.fine_tune_model(train_ques_col, 100)"
   ]
  },
  {
   "cell_type": "code",
   "execution_count": 12,
   "metadata": {},
   "outputs": [
    {
     "data": {
      "text/plain": [
       "26"
      ]
     },
     "execution_count": 12,
     "metadata": {},
     "output_type": "execute_result"
    }
   ],
   "source": [
    "len(obj.get_columns_threshold(question))"
   ]
  },
  {
   "cell_type": "code",
   "execution_count": 13,
   "metadata": {},
   "outputs": [
    {
     "data": {
      "text/plain": [
       "0.1683889627456665"
      ]
     },
     "execution_count": 13,
     "metadata": {},
     "output_type": "execute_result"
    }
   ],
   "source": [
    "obj.ques_col_similarity(question, 'event_date')"
   ]
  },
  {
   "cell_type": "code",
   "execution_count": 14,
   "metadata": {},
   "outputs": [
    {
     "data": {
      "text/html": [
       "<div>\n",
       "<style scoped>\n",
       "    .dataframe tbody tr th:only-of-type {\n",
       "        vertical-align: middle;\n",
       "    }\n",
       "\n",
       "    .dataframe tbody tr th {\n",
       "        vertical-align: top;\n",
       "    }\n",
       "\n",
       "    .dataframe thead th {\n",
       "        text-align: right;\n",
       "    }\n",
       "</style>\n",
       "<table border=\"1\" class=\"dataframe\">\n",
       "  <thead>\n",
       "    <tr style=\"text-align: right;\">\n",
       "      <th></th>\n",
       "      <th>Table_name</th>\n",
       "      <th>Column</th>\n",
       "      <th>Description</th>\n",
       "      <th>Description_vector</th>\n",
       "    </tr>\n",
       "  </thead>\n",
       "  <tbody>\n",
       "    <tr>\n",
       "      <th>0</th>\n",
       "      <td>pointx_fbs_rpt_dly</td>\n",
       "      <td>event_date</td>\n",
       "      <td>The date on which the event was logged (YYYYMM...</td>\n",
       "      <td>[0.05822387, 0.011792056, 0.002836911, -0.0483...</td>\n",
       "    </tr>\n",
       "    <tr>\n",
       "      <th>1</th>\n",
       "      <td>pointx_fbs_rpt_dly</td>\n",
       "      <td>event_month</td>\n",
       "      <td>The year month on which the event was logged (...</td>\n",
       "      <td>[0.04541466, 0.056418423, -0.043949254, 0.0050...</td>\n",
       "    </tr>\n",
       "    <tr>\n",
       "      <th>2</th>\n",
       "      <td>pointx_fbs_rpt_dly</td>\n",
       "      <td>event_bundle_sequence_id</td>\n",
       "      <td>The sequential ID of the bundle in which these...</td>\n",
       "      <td>[-0.11162997, 0.04600868, -0.003680154, 0.0039...</td>\n",
       "    </tr>\n",
       "    <tr>\n",
       "      <th>3</th>\n",
       "      <td>pointx_fbs_rpt_dly</td>\n",
       "      <td>event_timestamp</td>\n",
       "      <td>The time (in microseconds, UTC) at which the e...</td>\n",
       "      <td>[-0.015670119, 0.066508956, -0.019871894, -0.0...</td>\n",
       "    </tr>\n",
       "    <tr>\n",
       "      <th>4</th>\n",
       "      <td>pointx_fbs_rpt_dly</td>\n",
       "      <td>event_name</td>\n",
       "      <td>The name of the event.</td>\n",
       "      <td>[-0.004712278, 0.10794155, -0.009979284, 0.052...</td>\n",
       "    </tr>\n",
       "    <tr>\n",
       "      <th>...</th>\n",
       "      <td>...</td>\n",
       "      <td>...</td>\n",
       "      <td>...</td>\n",
       "      <td>...</td>\n",
       "    </tr>\n",
       "    <tr>\n",
       "      <th>177</th>\n",
       "      <td>pointx_fbs_rpt_dly</td>\n",
       "      <td>update_with_analytics</td>\n",
       "      <td>Update with analytics</td>\n",
       "      <td>[-0.03796504, -0.0016496641, -0.075204395, 0.0...</td>\n",
       "    </tr>\n",
       "    <tr>\n",
       "      <th>178</th>\n",
       "      <td>pointx_fbs_rpt_dly</td>\n",
       "      <td>client_code</td>\n",
       "      <td>Client code</td>\n",
       "      <td>[-0.097830884, 0.030349072, -0.06899895, -0.08...</td>\n",
       "    </tr>\n",
       "    <tr>\n",
       "      <th>179</th>\n",
       "      <td>pointx_fbs_rpt_dly</td>\n",
       "      <td>client_member_id</td>\n",
       "      <td>Client member id</td>\n",
       "      <td>[-0.09346538, 0.04337876, -0.024237148, -0.029...</td>\n",
       "    </tr>\n",
       "    <tr>\n",
       "      <th>180</th>\n",
       "      <td>pointx_fbs_rpt_dly</td>\n",
       "      <td>_dl_load_ts</td>\n",
       "      <td>วันที่โหลดข้อมูล</td>\n",
       "      <td>[-0.041596495, -0.024681728, 0.07789318, -0.00...</td>\n",
       "    </tr>\n",
       "    <tr>\n",
       "      <th>181</th>\n",
       "      <td>pointx_fbs_rpt_dly</td>\n",
       "      <td>_date</td>\n",
       "      <td>วันที่เกิด Transaction</td>\n",
       "      <td>[-0.009161813, 0.037587322, -0.01807829, -0.01...</td>\n",
       "    </tr>\n",
       "  </tbody>\n",
       "</table>\n",
       "<p>182 rows × 4 columns</p>\n",
       "</div>"
      ],
      "text/plain": [
       "             Table_name                    Column  \\\n",
       "0    pointx_fbs_rpt_dly                event_date   \n",
       "1    pointx_fbs_rpt_dly               event_month   \n",
       "2    pointx_fbs_rpt_dly  event_bundle_sequence_id   \n",
       "3    pointx_fbs_rpt_dly           event_timestamp   \n",
       "4    pointx_fbs_rpt_dly                event_name   \n",
       "..                  ...                       ...   \n",
       "177  pointx_fbs_rpt_dly     update_with_analytics   \n",
       "178  pointx_fbs_rpt_dly               client_code   \n",
       "179  pointx_fbs_rpt_dly          client_member_id   \n",
       "180  pointx_fbs_rpt_dly               _dl_load_ts   \n",
       "181  pointx_fbs_rpt_dly                     _date   \n",
       "\n",
       "                                           Description  \\\n",
       "0    The date on which the event was logged (YYYYMM...   \n",
       "1    The year month on which the event was logged (...   \n",
       "2    The sequential ID of the bundle in which these...   \n",
       "3    The time (in microseconds, UTC) at which the e...   \n",
       "4                               The name of the event.   \n",
       "..                                                 ...   \n",
       "177                              Update with analytics   \n",
       "178                                        Client code   \n",
       "179                                   Client member id   \n",
       "180                                   วันที่โหลดข้อมูล   \n",
       "181                             วันที่เกิด Transaction   \n",
       "\n",
       "                                    Description_vector  \n",
       "0    [0.05822387, 0.011792056, 0.002836911, -0.0483...  \n",
       "1    [0.04541466, 0.056418423, -0.043949254, 0.0050...  \n",
       "2    [-0.11162997, 0.04600868, -0.003680154, 0.0039...  \n",
       "3    [-0.015670119, 0.066508956, -0.019871894, -0.0...  \n",
       "4    [-0.004712278, 0.10794155, -0.009979284, 0.052...  \n",
       "..                                                 ...  \n",
       "177  [-0.03796504, -0.0016496641, -0.075204395, 0.0...  \n",
       "178  [-0.097830884, 0.030349072, -0.06899895, -0.08...  \n",
       "179  [-0.09346538, 0.04337876, -0.024237148, -0.029...  \n",
       "180  [-0.041596495, -0.024681728, 0.07789318, -0.00...  \n",
       "181  [-0.009161813, 0.037587322, -0.01807829, -0.01...  \n",
       "\n",
       "[182 rows x 4 columns]"
      ]
     },
     "execution_count": 14,
     "metadata": {},
     "output_type": "execute_result"
    }
   ],
   "source": [
    "obj.schema_description_df"
   ]
  },
  {
   "cell_type": "code",
   "execution_count": 15,
   "metadata": {},
   "outputs": [],
   "source": [
    "temp_data = {\n",
    "                'Column' : ['a','b','c','d','e'],\n",
    "                'Description' : ['AAA', 'BBB', 'CCC', 'DDD', 'EEE']\n",
    "}\n",
    "schema_temp_df = pd.DataFrame(temp_data)\n",
    "schema_temp_df.to_csv('src/schema_temp.csv', index=False)"
   ]
  },
  {
   "cell_type": "code",
   "execution_count": 16,
   "metadata": {},
   "outputs": [],
   "source": [
    "obj.set_schema(\"temp\",'src/schema_temp.csv')"
   ]
  },
  {
   "cell_type": "code",
   "execution_count": 17,
   "metadata": {},
   "outputs": [
    {
     "data": {
      "text/html": [
       "<div>\n",
       "<style scoped>\n",
       "    .dataframe tbody tr th:only-of-type {\n",
       "        vertical-align: middle;\n",
       "    }\n",
       "\n",
       "    .dataframe tbody tr th {\n",
       "        vertical-align: top;\n",
       "    }\n",
       "\n",
       "    .dataframe thead th {\n",
       "        text-align: right;\n",
       "    }\n",
       "</style>\n",
       "<table border=\"1\" class=\"dataframe\">\n",
       "  <thead>\n",
       "    <tr style=\"text-align: right;\">\n",
       "      <th></th>\n",
       "      <th>Table_name</th>\n",
       "      <th>Column</th>\n",
       "      <th>Description</th>\n",
       "      <th>Description_vector</th>\n",
       "    </tr>\n",
       "  </thead>\n",
       "  <tbody>\n",
       "    <tr>\n",
       "      <th>0</th>\n",
       "      <td>pointx_fbs_rpt_dly</td>\n",
       "      <td>event_date</td>\n",
       "      <td>The date on which the event was logged (YYYYMM...</td>\n",
       "      <td>[0.05822387, 0.011792056, 0.002836911, -0.0483...</td>\n",
       "    </tr>\n",
       "    <tr>\n",
       "      <th>1</th>\n",
       "      <td>pointx_fbs_rpt_dly</td>\n",
       "      <td>event_month</td>\n",
       "      <td>The year month on which the event was logged (...</td>\n",
       "      <td>[0.04541466, 0.056418423, -0.043949254, 0.0050...</td>\n",
       "    </tr>\n",
       "    <tr>\n",
       "      <th>2</th>\n",
       "      <td>pointx_fbs_rpt_dly</td>\n",
       "      <td>event_bundle_sequence_id</td>\n",
       "      <td>The sequential ID of the bundle in which these...</td>\n",
       "      <td>[-0.11162997, 0.04600868, -0.003680154, 0.0039...</td>\n",
       "    </tr>\n",
       "    <tr>\n",
       "      <th>3</th>\n",
       "      <td>pointx_fbs_rpt_dly</td>\n",
       "      <td>event_timestamp</td>\n",
       "      <td>The time (in microseconds, UTC) at which the e...</td>\n",
       "      <td>[-0.015670119, 0.066508956, -0.019871894, -0.0...</td>\n",
       "    </tr>\n",
       "    <tr>\n",
       "      <th>4</th>\n",
       "      <td>pointx_fbs_rpt_dly</td>\n",
       "      <td>event_name</td>\n",
       "      <td>The name of the event.</td>\n",
       "      <td>[-0.004712278, 0.10794155, -0.009979284, 0.052...</td>\n",
       "    </tr>\n",
       "    <tr>\n",
       "      <th>...</th>\n",
       "      <td>...</td>\n",
       "      <td>...</td>\n",
       "      <td>...</td>\n",
       "      <td>...</td>\n",
       "    </tr>\n",
       "    <tr>\n",
       "      <th>182</th>\n",
       "      <td>temp</td>\n",
       "      <td>a</td>\n",
       "      <td>AAA</td>\n",
       "      <td>[-0.038816746, 0.07266189, 0.02039344, 0.01641...</td>\n",
       "    </tr>\n",
       "    <tr>\n",
       "      <th>183</th>\n",
       "      <td>temp</td>\n",
       "      <td>b</td>\n",
       "      <td>BBB</td>\n",
       "      <td>[0.012744771, -0.038333405, -0.07893924, 0.037...</td>\n",
       "    </tr>\n",
       "    <tr>\n",
       "      <th>184</th>\n",
       "      <td>temp</td>\n",
       "      <td>c</td>\n",
       "      <td>CCC</td>\n",
       "      <td>[-0.10249788, -0.059087247, -0.0851878, 0.0901...</td>\n",
       "    </tr>\n",
       "    <tr>\n",
       "      <th>185</th>\n",
       "      <td>temp</td>\n",
       "      <td>d</td>\n",
       "      <td>DDD</td>\n",
       "      <td>[-0.093442746, -0.02905863, 0.06113966, -0.092...</td>\n",
       "    </tr>\n",
       "    <tr>\n",
       "      <th>186</th>\n",
       "      <td>temp</td>\n",
       "      <td>e</td>\n",
       "      <td>EEE</td>\n",
       "      <td>[-0.07586623, 0.050287712, 0.07654897, -0.0358...</td>\n",
       "    </tr>\n",
       "  </tbody>\n",
       "</table>\n",
       "<p>187 rows × 4 columns</p>\n",
       "</div>"
      ],
      "text/plain": [
       "             Table_name                    Column  \\\n",
       "0    pointx_fbs_rpt_dly                event_date   \n",
       "1    pointx_fbs_rpt_dly               event_month   \n",
       "2    pointx_fbs_rpt_dly  event_bundle_sequence_id   \n",
       "3    pointx_fbs_rpt_dly           event_timestamp   \n",
       "4    pointx_fbs_rpt_dly                event_name   \n",
       "..                  ...                       ...   \n",
       "182                temp                         a   \n",
       "183                temp                         b   \n",
       "184                temp                         c   \n",
       "185                temp                         d   \n",
       "186                temp                         e   \n",
       "\n",
       "                                           Description  \\\n",
       "0    The date on which the event was logged (YYYYMM...   \n",
       "1    The year month on which the event was logged (...   \n",
       "2    The sequential ID of the bundle in which these...   \n",
       "3    The time (in microseconds, UTC) at which the e...   \n",
       "4                               The name of the event.   \n",
       "..                                                 ...   \n",
       "182                                                AAA   \n",
       "183                                                BBB   \n",
       "184                                                CCC   \n",
       "185                                                DDD   \n",
       "186                                                EEE   \n",
       "\n",
       "                                    Description_vector  \n",
       "0    [0.05822387, 0.011792056, 0.002836911, -0.0483...  \n",
       "1    [0.04541466, 0.056418423, -0.043949254, 0.0050...  \n",
       "2    [-0.11162997, 0.04600868, -0.003680154, 0.0039...  \n",
       "3    [-0.015670119, 0.066508956, -0.019871894, -0.0...  \n",
       "4    [-0.004712278, 0.10794155, -0.009979284, 0.052...  \n",
       "..                                                 ...  \n",
       "182  [-0.038816746, 0.07266189, 0.02039344, 0.01641...  \n",
       "183  [0.012744771, -0.038333405, -0.07893924, 0.037...  \n",
       "184  [-0.10249788, -0.059087247, -0.0851878, 0.0901...  \n",
       "185  [-0.093442746, -0.02905863, 0.06113966, -0.092...  \n",
       "186  [-0.07586623, 0.050287712, 0.07654897, -0.0358...  \n",
       "\n",
       "[187 rows x 4 columns]"
      ]
     },
     "execution_count": 17,
     "metadata": {},
     "output_type": "execute_result"
    }
   ],
   "source": [
    "obj.schema_description_df"
   ]
  },
  {
   "cell_type": "code",
   "execution_count": 15,
   "metadata": {},
   "outputs": [],
   "source": [
    "###TEST###"
   ]
  },
  {
   "cell_type": "code",
   "execution_count": 31,
   "metadata": {},
   "outputs": [],
   "source": [
    "val = (\"how many event occure\",'event_name')"
   ]
  },
  {
   "cell_type": "code",
   "execution_count": 32,
   "metadata": {},
   "outputs": [
    {
     "data": {
      "text/plain": [
       "0.6420384645462036"
      ]
     },
     "execution_count": 32,
     "metadata": {},
     "output_type": "execute_result"
    }
   ],
   "source": [
    "obj.ques_col_similarity(\"how many event occure\",'event_name')"
   ]
  },
  {
   "cell_type": "code",
   "execution_count": 33,
   "metadata": {},
   "outputs": [
    {
     "data": {
      "text/plain": [
       "0.6420384645462036"
      ]
     },
     "execution_count": 33,
     "metadata": {},
     "output_type": "execute_result"
    }
   ],
   "source": [
    "obj.ques_col_similarity(*val)"
   ]
  },
  {
   "cell_type": "code",
   "execution_count": null,
   "metadata": {},
   "outputs": [],
   "source": []
  }
 ],
 "metadata": {
  "kernelspec": {
   "display_name": "base",
   "language": "python",
   "name": "python3"
  },
  "language_info": {
   "codemirror_mode": {
    "name": "ipython",
    "version": 3
   },
   "file_extension": ".py",
   "mimetype": "text/x-python",
   "name": "python",
   "nbconvert_exporter": "python",
   "pygments_lexer": "ipython3",
   "version": "3.10.9"
  },
  "orig_nbformat": 4
 },
 "nbformat": 4,
 "nbformat_minor": 2
}

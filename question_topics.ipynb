{
 "cells": [
  {
   "cell_type": "code",
   "execution_count": 2,
   "metadata": {},
   "outputs": [],
   "source": [
    "import pandas as pd\n",
    "from sklearn.feature_extraction.text import TfidfVectorizer, CountVectorizer\n",
    "from sklearn.decomposition import LatentDirichletAllocation\n",
    "from sentence_transformers import SentenceTransformer, util\n",
    "import json, os, math\n",
    "import numpy as np\n",
    "import warnings\n",
    "warnings.filterwarnings('ignore')"
   ]
  },
  {
   "cell_type": "code",
   "execution_count": 3,
   "metadata": {},
   "outputs": [
    {
     "name": "stdout",
     "output_type": "stream",
     "text": [
      "(19, 3)\n"
     ]
    },
    {
     "data": {
      "text/html": [
       "<div>\n",
       "<style scoped>\n",
       "    .dataframe tbody tr th:only-of-type {\n",
       "        vertical-align: middle;\n",
       "    }\n",
       "\n",
       "    .dataframe tbody tr th {\n",
       "        vertical-align: top;\n",
       "    }\n",
       "\n",
       "    .dataframe thead th {\n",
       "        text-align: right;\n",
       "    }\n",
       "</style>\n",
       "<table border=\"1\" class=\"dataframe\">\n",
       "  <thead>\n",
       "    <tr style=\"text-align: right;\">\n",
       "      <th></th>\n",
       "      <th>Table</th>\n",
       "      <th>Column</th>\n",
       "      <th>Description</th>\n",
       "    </tr>\n",
       "  </thead>\n",
       "  <tbody>\n",
       "    <tr>\n",
       "      <th>0</th>\n",
       "      <td>happy_hour</td>\n",
       "      <td>HH_ID</td>\n",
       "      <td>Unique identifier for the happy hour event</td>\n",
       "    </tr>\n",
       "    <tr>\n",
       "      <th>1</th>\n",
       "      <td>happy_hour</td>\n",
       "      <td>Shop_ID</td>\n",
       "      <td>Identifier of the shop hosting the happy hour</td>\n",
       "    </tr>\n",
       "    <tr>\n",
       "      <th>2</th>\n",
       "      <td>happy_hour</td>\n",
       "      <td>Month</td>\n",
       "      <td>Month in which the happy hour takes place</td>\n",
       "    </tr>\n",
       "    <tr>\n",
       "      <th>3</th>\n",
       "      <td>happy_hour</td>\n",
       "      <td>Num_of_staff_in_charge</td>\n",
       "      <td>Number of staff members in charge during the h...</td>\n",
       "    </tr>\n",
       "    <tr>\n",
       "      <th>4</th>\n",
       "      <td>member</td>\n",
       "      <td>Member_ID</td>\n",
       "      <td>Unique identifier for the member</td>\n",
       "    </tr>\n",
       "    <tr>\n",
       "      <th>5</th>\n",
       "      <td>member</td>\n",
       "      <td>Name</td>\n",
       "      <td>Name of the member</td>\n",
       "    </tr>\n",
       "    <tr>\n",
       "      <th>6</th>\n",
       "      <td>member</td>\n",
       "      <td>Membership_card</td>\n",
       "      <td>Details of the membership card</td>\n",
       "    </tr>\n",
       "    <tr>\n",
       "      <th>7</th>\n",
       "      <td>member</td>\n",
       "      <td>Age</td>\n",
       "      <td>Age of the member</td>\n",
       "    </tr>\n",
       "    <tr>\n",
       "      <th>8</th>\n",
       "      <td>member</td>\n",
       "      <td>Time_of_purchase</td>\n",
       "      <td>Date and time of purchase</td>\n",
       "    </tr>\n",
       "    <tr>\n",
       "      <th>9</th>\n",
       "      <td>member</td>\n",
       "      <td>Level_of_membership</td>\n",
       "      <td>Level or type of membership</td>\n",
       "    </tr>\n",
       "    <tr>\n",
       "      <th>10</th>\n",
       "      <td>member</td>\n",
       "      <td>Address</td>\n",
       "      <td>Address of the member</td>\n",
       "    </tr>\n",
       "    <tr>\n",
       "      <th>11</th>\n",
       "      <td>shop</td>\n",
       "      <td>Shop_ID</td>\n",
       "      <td>Unique identifier for the shop</td>\n",
       "    </tr>\n",
       "    <tr>\n",
       "      <th>12</th>\n",
       "      <td>shop</td>\n",
       "      <td>Address</td>\n",
       "      <td>Address of the shop</td>\n",
       "    </tr>\n",
       "    <tr>\n",
       "      <th>13</th>\n",
       "      <td>shop</td>\n",
       "      <td>Num_of_staff</td>\n",
       "      <td>Number of staff members working at the shop</td>\n",
       "    </tr>\n",
       "    <tr>\n",
       "      <th>14</th>\n",
       "      <td>shop</td>\n",
       "      <td>Score</td>\n",
       "      <td>Score or rating of the shop</td>\n",
       "    </tr>\n",
       "    <tr>\n",
       "      <th>15</th>\n",
       "      <td>shop</td>\n",
       "      <td>Open_Year</td>\n",
       "      <td>Year when the shop opened</td>\n",
       "    </tr>\n",
       "    <tr>\n",
       "      <th>16</th>\n",
       "      <td>happy_hour_member</td>\n",
       "      <td>HH_ID</td>\n",
       "      <td>Identifier of the happy hour event</td>\n",
       "    </tr>\n",
       "    <tr>\n",
       "      <th>17</th>\n",
       "      <td>happy_hour_member</td>\n",
       "      <td>Member_ID</td>\n",
       "      <td>Identifier of the member participating in the ...</td>\n",
       "    </tr>\n",
       "    <tr>\n",
       "      <th>18</th>\n",
       "      <td>happy_hour_member</td>\n",
       "      <td>Total_amount</td>\n",
       "      <td>Total amount spent by the member during the ha...</td>\n",
       "    </tr>\n",
       "  </tbody>\n",
       "</table>\n",
       "</div>"
      ],
      "text/plain": [
       "                Table                  Column  \\\n",
       "0          happy_hour                   HH_ID   \n",
       "1          happy_hour                 Shop_ID   \n",
       "2          happy_hour                   Month   \n",
       "3          happy_hour  Num_of_staff_in_charge   \n",
       "4              member               Member_ID   \n",
       "5              member                    Name   \n",
       "6              member         Membership_card   \n",
       "7              member                     Age   \n",
       "8              member        Time_of_purchase   \n",
       "9              member     Level_of_membership   \n",
       "10             member                 Address   \n",
       "11               shop                 Shop_ID   \n",
       "12               shop                 Address   \n",
       "13               shop            Num_of_staff   \n",
       "14               shop                   Score   \n",
       "15               shop               Open_Year   \n",
       "16  happy_hour_member                   HH_ID   \n",
       "17  happy_hour_member               Member_ID   \n",
       "18  happy_hour_member            Total_amount   \n",
       "\n",
       "                                          Description  \n",
       "0          Unique identifier for the happy hour event  \n",
       "1       Identifier of the shop hosting the happy hour  \n",
       "2           Month in which the happy hour takes place  \n",
       "3   Number of staff members in charge during the h...  \n",
       "4                    Unique identifier for the member  \n",
       "5                                  Name of the member  \n",
       "6                      Details of the membership card  \n",
       "7                                   Age of the member  \n",
       "8                           Date and time of purchase  \n",
       "9                         Level or type of membership  \n",
       "10                              Address of the member  \n",
       "11                     Unique identifier for the shop  \n",
       "12                                Address of the shop  \n",
       "13        Number of staff members working at the shop  \n",
       "14                        Score or rating of the shop  \n",
       "15                          Year when the shop opened  \n",
       "16                 Identifier of the happy hour event  \n",
       "17  Identifier of the member participating in the ...  \n",
       "18  Total amount spent by the member during the ha...  "
      ]
     },
     "execution_count": 3,
     "metadata": {},
     "output_type": "execute_result"
    }
   ],
   "source": [
    "schema_root_path = \"filtering_schema/src/schemas/coffeeshop-descriptions\"\n",
    "column_names = ['Table', 'Column', 'Description']\n",
    "full_df = pd.DataFrame(columns=column_names)\n",
    "\n",
    "for file in os.listdir(schema_root_path):\n",
    "    schema_file_path = os.path.join(schema_root_path, file)\n",
    "    with open(schema_file_path, 'r') as f:\n",
    "        schema = json.load(f)\n",
    "\n",
    "    temp_df = pd.DataFrame(schema['columns'].items() ,columns=['Column', 'Description'])\n",
    "    temp_df['Table'] = schema['table']\n",
    "    temp_df = temp_df[column_names]\n",
    "    full_df = pd.concat([full_df, temp_df], ignore_index=True)\n",
    "\n",
    "print(full_df.shape)\n",
    "full_df"
   ]
  },
  {
   "cell_type": "code",
   "execution_count": 4,
   "metadata": {},
   "outputs": [
    {
     "data": {
      "text/plain": [
       "{'event_detail': 'This class contains columns related to event details, such as happy hour event identifiers, the shop hosting the event, the month in which the event takes place, and the number of staff members in charge during the event.',\n",
       " 'member_information': 'This class contains columns related to member information, such as member identifiers, member names, membership card details, age of the member, time of purchase, level or type of membership, and address of the member.',\n",
       " 'shop_information': 'This class contains columns related to shop information, such as shop identifiers, shop addresses, the number of staff members working at the shop, the score or rating of the shop, and the year when the shop opened.'}"
      ]
     },
     "execution_count": 4,
     "metadata": {},
     "output_type": "execute_result"
    }
   ],
   "source": [
    "schema_classes_file_path = \"src/spider/cofee_shop/coffee_shop_class.json\"\n",
    "\n",
    "with open(schema_classes_file_path, 'r') as f:\n",
    "    schema_classes = json.load(f)\n",
    "schema_classes"
   ]
  },
  {
   "cell_type": "code",
   "execution_count": 5,
   "metadata": {},
   "outputs": [],
   "source": [
    "sentenceemb_model = SentenceTransformer(\"filtering_schema/models/all-MiniLM-L6-v2\")\n",
    "for topic, info in schema_classes.items():\n",
    "    schema_classes[topic] = sentenceemb_model.encode(info)"
   ]
  },
  {
   "cell_type": "code",
   "execution_count": 23,
   "metadata": {},
   "outputs": [],
   "source": [
    "def most_relate_topic(text:str, topic_threshold_score:float=0.2, \n",
    "                      topic_select:bool=False, top_n:int=10, base_n:int=1):\n",
    "    text_vec = sentenceemb_model.encode(text)\n",
    "    topic_scores = [float(util.cos_sim(info, text_vec)) for info in schema_classes.values()]\n",
    "    if topic_select:\n",
    "        probs = (topic_scores / np.sum(topic_scores)) * top_n\n",
    "        topic_selected = { key: max(base_n, math.ceil(score)) for key, score in zip(schema_classes.keys(), probs)}\n",
    "        return topic_selected\n",
    "    related_topic_indices = np.where(np.array(topic_scores) >= topic_threshold_score)[0]\n",
    "    related_topics = [list(schema_classes.keys())[i] for i in related_topic_indices]\n",
    "    return related_topics"
   ]
  },
  {
   "cell_type": "code",
   "execution_count": 24,
   "metadata": {},
   "outputs": [
    {
     "data": {
      "text/html": [
       "<div>\n",
       "<style scoped>\n",
       "    .dataframe tbody tr th:only-of-type {\n",
       "        vertical-align: middle;\n",
       "    }\n",
       "\n",
       "    .dataframe tbody tr th {\n",
       "        vertical-align: top;\n",
       "    }\n",
       "\n",
       "    .dataframe thead th {\n",
       "        text-align: right;\n",
       "    }\n",
       "</style>\n",
       "<table border=\"1\" class=\"dataframe\">\n",
       "  <thead>\n",
       "    <tr style=\"text-align: right;\">\n",
       "      <th></th>\n",
       "      <th>Table</th>\n",
       "      <th>Column</th>\n",
       "      <th>Description</th>\n",
       "      <th>Vector</th>\n",
       "      <th>Topic</th>\n",
       "    </tr>\n",
       "  </thead>\n",
       "  <tbody>\n",
       "    <tr>\n",
       "      <th>0</th>\n",
       "      <td>happy_hour</td>\n",
       "      <td>HH_ID</td>\n",
       "      <td>Unique identifier for the happy hour event</td>\n",
       "      <td>[-0.03035756, 0.11128711, 0.009328192, 0.03674...</td>\n",
       "      <td>[event_detail]</td>\n",
       "    </tr>\n",
       "    <tr>\n",
       "      <th>1</th>\n",
       "      <td>happy_hour</td>\n",
       "      <td>Shop_ID</td>\n",
       "      <td>Identifier of the shop hosting the happy hour</td>\n",
       "      <td>[-0.020781243, 0.10354371, -0.022293467, 0.040...</td>\n",
       "      <td>[event_detail, shop_information]</td>\n",
       "    </tr>\n",
       "    <tr>\n",
       "      <th>2</th>\n",
       "      <td>happy_hour</td>\n",
       "      <td>Month</td>\n",
       "      <td>Month in which the happy hour takes place</td>\n",
       "      <td>[0.053571712, 0.09682498, -0.03012198, 0.02736...</td>\n",
       "      <td>[event_detail]</td>\n",
       "    </tr>\n",
       "    <tr>\n",
       "      <th>3</th>\n",
       "      <td>happy_hour</td>\n",
       "      <td>Num_of_staff_in_charge</td>\n",
       "      <td>Number of staff members in charge during the h...</td>\n",
       "      <td>[0.048624337, 0.03614841, -0.005396093, 0.0233...</td>\n",
       "      <td>[event_detail]</td>\n",
       "    </tr>\n",
       "    <tr>\n",
       "      <th>4</th>\n",
       "      <td>member</td>\n",
       "      <td>Member_ID</td>\n",
       "      <td>Unique identifier for the member</td>\n",
       "      <td>[-0.070519626, 0.01890726, -0.03272294, -0.004...</td>\n",
       "      <td>[event_detail, member_information, shop_inform...</td>\n",
       "    </tr>\n",
       "  </tbody>\n",
       "</table>\n",
       "</div>"
      ],
      "text/plain": [
       "        Table                  Column  \\\n",
       "0  happy_hour                   HH_ID   \n",
       "1  happy_hour                 Shop_ID   \n",
       "2  happy_hour                   Month   \n",
       "3  happy_hour  Num_of_staff_in_charge   \n",
       "4      member               Member_ID   \n",
       "\n",
       "                                         Description  \\\n",
       "0         Unique identifier for the happy hour event   \n",
       "1      Identifier of the shop hosting the happy hour   \n",
       "2          Month in which the happy hour takes place   \n",
       "3  Number of staff members in charge during the h...   \n",
       "4                   Unique identifier for the member   \n",
       "\n",
       "                                              Vector  \\\n",
       "0  [-0.03035756, 0.11128711, 0.009328192, 0.03674...   \n",
       "1  [-0.020781243, 0.10354371, -0.022293467, 0.040...   \n",
       "2  [0.053571712, 0.09682498, -0.03012198, 0.02736...   \n",
       "3  [0.048624337, 0.03614841, -0.005396093, 0.0233...   \n",
       "4  [-0.070519626, 0.01890726, -0.03272294, -0.004...   \n",
       "\n",
       "                                               Topic  \n",
       "0                                     [event_detail]  \n",
       "1                   [event_detail, shop_information]  \n",
       "2                                     [event_detail]  \n",
       "3                                     [event_detail]  \n",
       "4  [event_detail, member_information, shop_inform...  "
      ]
     },
     "execution_count": 24,
     "metadata": {},
     "output_type": "execute_result"
    }
   ],
   "source": [
    "full_df['Vector'] = full_df['Description'].apply(lambda x: sentenceemb_model.encode(x))\n",
    "full_df['Topic'] = full_df['Description'].apply(most_relate_topic, args=(0.2,))\n",
    "full_df.head()"
   ]
  },
  {
   "cell_type": "code",
   "execution_count": 8,
   "metadata": {},
   "outputs": [
    {
     "data": {
      "text/html": [
       "<div>\n",
       "<style scoped>\n",
       "    .dataframe tbody tr th:only-of-type {\n",
       "        vertical-align: middle;\n",
       "    }\n",
       "\n",
       "    .dataframe tbody tr th {\n",
       "        vertical-align: top;\n",
       "    }\n",
       "\n",
       "    .dataframe thead th {\n",
       "        text-align: right;\n",
       "    }\n",
       "</style>\n",
       "<table border=\"1\" class=\"dataframe\">\n",
       "  <thead>\n",
       "    <tr style=\"text-align: right;\">\n",
       "      <th></th>\n",
       "      <th>Table</th>\n",
       "      <th>Column</th>\n",
       "      <th>Description</th>\n",
       "      <th>Vector</th>\n",
       "      <th>Topic</th>\n",
       "    </tr>\n",
       "  </thead>\n",
       "  <tbody>\n",
       "    <tr>\n",
       "      <th>0</th>\n",
       "      <td>happy_hour</td>\n",
       "      <td>HH_ID</td>\n",
       "      <td>Unique identifier for the happy hour event</td>\n",
       "      <td>[-0.03035756, 0.11128711, 0.009328192, 0.03674...</td>\n",
       "      <td>event_detail</td>\n",
       "    </tr>\n",
       "    <tr>\n",
       "      <th>1</th>\n",
       "      <td>happy_hour</td>\n",
       "      <td>Shop_ID</td>\n",
       "      <td>Identifier of the shop hosting the happy hour</td>\n",
       "      <td>[-0.020781243, 0.10354371, -0.022293467, 0.040...</td>\n",
       "      <td>event_detail</td>\n",
       "    </tr>\n",
       "    <tr>\n",
       "      <th>1</th>\n",
       "      <td>happy_hour</td>\n",
       "      <td>Shop_ID</td>\n",
       "      <td>Identifier of the shop hosting the happy hour</td>\n",
       "      <td>[-0.020781243, 0.10354371, -0.022293467, 0.040...</td>\n",
       "      <td>shop_information</td>\n",
       "    </tr>\n",
       "    <tr>\n",
       "      <th>2</th>\n",
       "      <td>happy_hour</td>\n",
       "      <td>Month</td>\n",
       "      <td>Month in which the happy hour takes place</td>\n",
       "      <td>[0.053571712, 0.09682498, -0.03012198, 0.02736...</td>\n",
       "      <td>event_detail</td>\n",
       "    </tr>\n",
       "    <tr>\n",
       "      <th>3</th>\n",
       "      <td>happy_hour</td>\n",
       "      <td>Num_of_staff_in_charge</td>\n",
       "      <td>Number of staff members in charge during the h...</td>\n",
       "      <td>[0.048624337, 0.03614841, -0.005396093, 0.0233...</td>\n",
       "      <td>event_detail</td>\n",
       "    </tr>\n",
       "  </tbody>\n",
       "</table>\n",
       "</div>"
      ],
      "text/plain": [
       "        Table                  Column  \\\n",
       "0  happy_hour                   HH_ID   \n",
       "1  happy_hour                 Shop_ID   \n",
       "1  happy_hour                 Shop_ID   \n",
       "2  happy_hour                   Month   \n",
       "3  happy_hour  Num_of_staff_in_charge   \n",
       "\n",
       "                                         Description  \\\n",
       "0         Unique identifier for the happy hour event   \n",
       "1      Identifier of the shop hosting the happy hour   \n",
       "1      Identifier of the shop hosting the happy hour   \n",
       "2          Month in which the happy hour takes place   \n",
       "3  Number of staff members in charge during the h...   \n",
       "\n",
       "                                              Vector             Topic  \n",
       "0  [-0.03035756, 0.11128711, 0.009328192, 0.03674...      event_detail  \n",
       "1  [-0.020781243, 0.10354371, -0.022293467, 0.040...      event_detail  \n",
       "1  [-0.020781243, 0.10354371, -0.022293467, 0.040...  shop_information  \n",
       "2  [0.053571712, 0.09682498, -0.03012198, 0.02736...      event_detail  \n",
       "3  [0.048624337, 0.03614841, -0.005396093, 0.0233...      event_detail  "
      ]
     },
     "execution_count": 8,
     "metadata": {},
     "output_type": "execute_result"
    }
   ],
   "source": [
    "expanded_df = full_df.explode('Topic')\n",
    "expanded_df.head()"
   ]
  },
  {
   "cell_type": "code",
   "execution_count": 9,
   "metadata": {},
   "outputs": [
    {
     "data": {
      "text/plain": [
       "Index([1, 8, 11, 12, 13, 14, 15], dtype='int64')"
      ]
     },
     "execution_count": 9,
     "metadata": {},
     "output_type": "execute_result"
    }
   ],
   "source": [
    "expanded_df[expanded_df['Topic'] == 'shop_information'].index"
   ]
  },
  {
   "cell_type": "code",
   "execution_count": 32,
   "metadata": {},
   "outputs": [
    {
     "data": {
      "text/plain": [
       "array(['happy_hour', 'member', 'shop', 'happy_hour_member'], dtype=object)"
      ]
     },
     "execution_count": 32,
     "metadata": {},
     "output_type": "execute_result"
    }
   ],
   "source": [
    "full_df['Table'].unique()"
   ]
  },
  {
   "cell_type": "code",
   "execution_count": 58,
   "metadata": {},
   "outputs": [
    {
     "data": {
      "text/plain": [
       "{'happy_hour': {'Shop_ID': 0.716,\n",
       "  'Month': 0.543,\n",
       "  'Num_of_staff_in_charge': 0.746},\n",
       " 'member': {'Member_ID': 0.162, 'Level_of_membership': 0.259},\n",
       " 'shop': {'Shop_ID': 0.333, 'Num_of_staff': 0.57, 'Score': 0.4},\n",
       " 'happy_hour_member': {'Member_ID': 0.579, 'Total_amount': 0.695}}"
      ]
     },
     "execution_count": 58,
     "metadata": {},
     "output_type": "execute_result"
    }
   ],
   "source": [
    "question = 'How many member paying each shop that has most happy hour'\n",
    "def selected_columns(question, max_n=10) -> list:\n",
    "    _df = expanded_df[['Table', 'Column', 'Vector', 'Topic']]\n",
    "    _df['Score'] = _df['Vector'].apply(lambda x: float(util.cos_sim(x, sentenceemb_model.encode(question))))\n",
    "    topic_selected = most_relate_topic(question, top_n=max_n, base_n=2, topic_select=True)\n",
    "    used_schema = {table : dict() for table in full_df['Table'].unique()}\n",
    "    used_cols = []\n",
    "    for topic, num in topic_selected.items():\n",
    "        selected_col_index = _df[_df['Topic'] == topic]['Score'].sort_values(ascending=False).head(num).index\n",
    "        used_cols.extend(_df.loc[selected_col_index, 'Column'].to_list())\n",
    "    used_cols = list(set(used_cols))\n",
    "    for i, row in _df[_df['Column'].isin(used_cols)].iterrows():\n",
    "        used_schema[row['Table']][row['Column']] = round(row['Score'],3)\n",
    "        \n",
    "    return used_schema\n",
    "\n",
    "selected_columns(question)"
   ]
  },
  {
   "cell_type": "code",
   "execution_count": 29,
   "metadata": {},
   "outputs": [],
   "source": [
    "from filtering_schema.Description_base_linking import SchemaLinking\n",
    "from transformers import AutoTokenizer, AutoModelForCausalLM\n",
    "\n",
    "base_dir = \"filtering_schema\"\n",
    "os.environ['nsql_model_path'] = os.path.join(base_dir, 'models', 'nsql-350M')\n",
    "os.environ['sentence_emb_model_path'] = os.path.join(base_dir, 'models', 'all-MiniLM-L6-v2')\n",
    "os.environ['schema_description_folder_path'] = os.path.join(base_dir, 'src', 'schemas', 'coffeeshop-descriptions')\n",
    "os.environ['schema_data_types_folder_path'] = os.path.join(base_dir, 'src', 'schemas', 'coffeeshop-datatypes')\n",
    "os.environ['column_threshold'] = '0.2'\n",
    "os.environ['table_threshold'] = '0.2'\n",
    "os.environ['max_select_column'] = '10'\n",
    "os.environ['filter_table'] = 'False'\n",
    "os.environ['verbose'] = 'False'\n",
    "\n",
    "\n",
    "schema_link = SchemaLinking()\n",
    "schema_link.selected_domain(schema_description_folder_path=os.environ.get('schema_description_folder_path'),\n",
    "                            schema_data_types_folder_path=os.environ.get('schema_data_types_folder_path'))\n",
    "\n",
    "tokenizer = AutoTokenizer.from_pretrained(os.environ.get('nsql_model_path'))\n",
    "model = AutoModelForCausalLM.from_pretrained(os.environ.get('nsql_model_path'))\n",
    "verbose = bool(os.environ.get('verbose').lower() == 'true')"
   ]
  },
  {
   "cell_type": "code",
   "execution_count": 59,
   "metadata": {},
   "outputs": [
    {
     "name": "stdout",
     "output_type": "stream",
     "text": [
      "Table string match  ----> member\n",
      "Table string match  ----> shop\n"
     ]
    },
    {
     "data": {
      "text/plain": [
       "{'happy_hour': {'HH_ID': 0.489,\n",
       "  'Shop_ID': 0.716,\n",
       "  'Month': 0.543,\n",
       "  'Num_of_staff_in_charge': 0.746},\n",
       " 'happy_hour_member': {'HH_ID': 0.486,\n",
       "  'Member_ID': 0.579,\n",
       "  'Total_amount': 0.695},\n",
       " 'member': {},\n",
       " 'shop': {'Shop_ID': 0.333,\n",
       "  'Num_of_staff': 0.57,\n",
       "  'Score': 0.4,\n",
       "  'Open_Year': 0.312}}"
      ]
     },
     "execution_count": 59,
     "metadata": {},
     "output_type": "execute_result"
    }
   ],
   "source": [
    "schema_link.filter_schema(question)"
   ]
  },
  {
   "cell_type": "code",
   "execution_count": 60,
   "metadata": {},
   "outputs": [
    {
     "data": {
      "text/plain": [
       "{'happy_hour': {'Shop_ID': 0.716,\n",
       "  'Month': 0.543,\n",
       "  'Num_of_staff_in_charge': 0.746},\n",
       " 'member': {'Member_ID': 0.162, 'Level_of_membership': 0.259},\n",
       " 'shop': {'Shop_ID': 0.333, 'Num_of_staff': 0.57, 'Score': 0.4},\n",
       " 'happy_hour_member': {'Member_ID': 0.579, 'Total_amount': 0.695}}"
      ]
     },
     "execution_count": 60,
     "metadata": {},
     "output_type": "execute_result"
    }
   ],
   "source": [
    "selected_columns(question)"
   ]
  },
  {
   "cell_type": "code",
   "execution_count": 34,
   "metadata": {},
   "outputs": [
    {
     "name": "stdout",
     "output_type": "stream",
     "text": [
      "Category: 0\n",
      "                 Column                  Description\n",
      "8      Time_of_purchase    Date and time of purchase\n",
      "9   Level_of_membership  Level or type of membership\n",
      "10              Address        Address of the member\n",
      "Category: 1\n",
      "             Column                                        Description\n",
      "0             HH_ID         Unique identifier for the happy hour event\n",
      "1           Shop_ID      Identifier of the shop hosting the happy hour\n",
      "2             Month          Month in which the happy hour takes place\n",
      "4         Member_ID                   Unique identifier for the member\n",
      "5              Name                                 Name of the member\n",
      "6   Membership_card                     Details of the membership card\n",
      "7               Age                                  Age of the member\n",
      "11          Shop_ID                     Unique identifier for the shop\n",
      "16            HH_ID                 Identifier of the happy hour event\n",
      "17        Member_ID  Identifier of the member participating in the ...\n",
      "18     Total_amount  Total amount spent by the member during the ha...\n",
      "Category: 2\n",
      "                    Column                                        Description\n",
      "3   Num_of_staff_in_charge  Number of staff members in charge during the h...\n",
      "12                 Address                                Address of the shop\n",
      "13            Num_of_staff        Number of staff members working at the shop\n",
      "14                   Score                        Score or rating of the shop\n",
      "15               Open_Year                          Year when the shop opened\n"
     ]
    }
   ],
   "source": [
    "\n",
    "# TF-IDF Vectorization\n",
    "# tfidf_vectorizer = TfidfVectorizer(stop_words='english')\n",
    "# tfidf_matrix = tfidf_vectorizer.fit_transform(full_df['Description'])\n",
    "\n",
    "vectorizer = CountVectorizer(max_features=1000, stop_words='english')\n",
    "dtm = vectorizer.fit_transform(full_df['Description'])\n",
    "\n",
    "# Apply Latent Dirichlet Allocation (LDA)\n",
    "n_topics = 3  # You can adjust the number of topics based on your needs\n",
    "lda = LatentDirichletAllocation(n_components=n_topics, random_state=42)\n",
    "# topics = lda.fit_transform(tfidf_matrix)\n",
    "topics = lda.fit_transform(dtm)\n",
    "\n",
    "# Assign the most probable topic to each column\n",
    "full_df['Topic'] = topics.argmax(axis=1)\n",
    "\n",
    "grouped = full_df.groupby('Topic')\n",
    "for group_name, group_data in grouped:\n",
    "    print(f\"Category: {group_name}\")\n",
    "    print(group_data[['Column', 'Description']])"
   ]
  },
  {
   "cell_type": "code",
   "execution_count": null,
   "metadata": {},
   "outputs": [],
   "source": []
  }
 ],
 "metadata": {
  "kernelspec": {
   "display_name": "base",
   "language": "python",
   "name": "python3"
  },
  "language_info": {
   "codemirror_mode": {
    "name": "ipython",
    "version": 3
   },
   "file_extension": ".py",
   "mimetype": "text/x-python",
   "name": "python",
   "nbconvert_exporter": "python",
   "pygments_lexer": "ipython3",
   "version": "3.10.9"
  }
 },
 "nbformat": 4,
 "nbformat_minor": 2
}
